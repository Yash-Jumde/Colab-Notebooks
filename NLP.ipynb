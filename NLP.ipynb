{
  "cells": [
    {
      "cell_type": "markdown",
      "metadata": {
        "id": "view-in-github",
        "colab_type": "text"
      },
      "source": [
        "<a href=\"https://colab.research.google.com/github/Yash-Jumde/Colab-Notebooks/blob/main/NLP.ipynb\" target=\"_parent\"><img src=\"https://colab.research.google.com/assets/colab-badge.svg\" alt=\"Open In Colab\"/></a>"
      ]
    },
    {
      "cell_type": "code",
      "execution_count": null,
      "metadata": {
        "colab": {
          "base_uri": "https://localhost:8080/"
        },
        "id": "Dp9BK95jinCO",
        "outputId": "1a744167-970c-43cf-b3b1-e26a1fe6cb34"
      },
      "outputs": [
        {
          "name": "stdout",
          "output_type": "stream",
          "text": [
            "/bin/bash: line 1: nvidia-smi: command not found\n"
          ]
        }
      ],
      "source": [
        "!nvidia-smi -L"
      ]
    },
    {
      "cell_type": "code",
      "execution_count": null,
      "metadata": {
        "id": "bzjK1mPXvyLx"
      },
      "outputs": [],
      "source": [
        "import tensorflow as tf\n",
        "\n",
        "# Impotant functions for this notebook\n",
        "\n",
        "import datetime\n",
        "\n",
        "def create_tensorboard_callback(dir_name, experiment_name):\n",
        "  log_dir = dir_name + \"/\" + experiment_name + \"/\" + datetime.datetime.now().strftime(\"%Y%m%d-%H%M%S\")\n",
        "  tensorboard_callback = tf.keras.callbacks.TensorBoard(\n",
        "      log_dir=log_dir\n",
        "  )\n",
        "  print(f\"Saving TensorBoard log files to: {log_dir}\")\n",
        "  return tensorboard_callback\n",
        "\n",
        "\n",
        "# Plot the validation and training data separately\n",
        "import matplotlib.pyplot as plt\n",
        "\n",
        "\n",
        "def plot_loss_curves(history):\n",
        "  loss = history.history['loss']\n",
        "  val_loss = history.history['val_loss']\n",
        "\n",
        "  accuracy = history.history['accuracy']\n",
        "  val_accuracy = history.history['val_accuracy']\n",
        "\n",
        "  epochs = range(len(history.history['loss']))\n",
        "\n",
        "  # Plot loss\n",
        "  plt.plot(epochs, loss, label='training_loss')\n",
        "  plt.plot(epochs, val_loss, label='val_loss')\n",
        "  plt.title('Loss')\n",
        "  plt.xlabel('Epochs')\n",
        "  plt.legend()\n",
        "\n",
        "  # Plot accuracy\n",
        "  plt.figure()\n",
        "  plt.plot(epochs, accuracy, label='training_accuracy')\n",
        "  plt.plot(epochs, val_accuracy, label='val_accuracy')\n",
        "  plt.title('Accuracy')\n",
        "  plt.xlabel('Epochs')\n",
        "  plt.legend();\n",
        "\n",
        "\n",
        "def compare_historys(original_history, new_history, initial_epochs=5):\n",
        "    # Get original history measurements\n",
        "    acc = original_history.history[\"accuracy\"]\n",
        "    loss = original_history.history[\"loss\"]\n",
        "\n",
        "    val_acc = original_history.history[\"val_accuracy\"]\n",
        "    val_loss = original_history.history[\"val_loss\"]\n",
        "\n",
        "    # Combine original history with new history\n",
        "    total_acc = acc + new_history.history[\"accuracy\"]\n",
        "    total_loss = loss + new_history.history[\"loss\"]\n",
        "\n",
        "    total_val_acc = val_acc + new_history.history[\"val_accuracy\"]\n",
        "    total_val_loss = val_loss + new_history.history[\"val_loss\"]\n",
        "\n",
        "    # Make plots\n",
        "    plt.figure(figsize=(8, 8))\n",
        "    plt.subplot(2, 1, 1)\n",
        "    plt.plot(total_acc, label='Training Accuracy')\n",
        "    plt.plot(total_val_acc, label='Validation Accuracy')\n",
        "    plt.plot([initial_epochs-1, initial_epochs-1],\n",
        "              plt.ylim(), label='Start Fine Tuning')\n",
        "    plt.legend(loc='lower right')\n",
        "    plt.title('Training and Validation Accuracy')\n",
        "\n",
        "    plt.subplot(2, 1, 2)\n",
        "    plt.plot(total_loss, label='Training Loss')\n",
        "    plt.plot(total_val_loss, label='Validation Loss')\n",
        "    plt.plot([initial_epochs-1, initial_epochs-1],\n",
        "              plt.ylim(), label='Start Fine Tuning')\n",
        "    plt.legend(loc='upper right')\n",
        "    plt.title('Training and Validation Loss')\n",
        "    plt.xlabel('epoch')\n",
        "    plt.show()\n",
        "\n",
        "\n",
        "import zipfile\n",
        "\n",
        "def unzip_data(filename):\n",
        "  \"\"\"\n",
        "  Unzips filename into the current working directory.\n",
        "\n",
        "  Args:\n",
        "    filename (str): a filepath to a target zip folder to be unzipped.\n",
        "  \"\"\"\n",
        "  zip_ref = zipfile.ZipFile(filename, \"r\")\n",
        "  zip_ref.extractall()\n",
        "  zip_ref.close()\n"
      ]
    },
    {
      "cell_type": "markdown",
      "metadata": {
        "id": "Q6iBKZgsKfBY"
      },
      "source": [
        "Downloading a test-dataset"
      ]
    },
    {
      "cell_type": "code",
      "execution_count": null,
      "metadata": {
        "colab": {
          "base_uri": "https://localhost:8080/"
        },
        "id": "xtOC-MmHKcDr",
        "outputId": "dde4f20e-3edd-4a86-849f-36471e7c00f7"
      },
      "outputs": [
        {
          "name": "stdout",
          "output_type": "stream",
          "text": [
            "--2024-05-31 16:22:38--  https://storage.googleapis.com/ztm_tf_course/nlp_getting_started.zip\n",
            "Resolving storage.googleapis.com (storage.googleapis.com)... 74.125.199.207, 74.125.20.207, 74.125.197.207, ...\n",
            "Connecting to storage.googleapis.com (storage.googleapis.com)|74.125.199.207|:443... connected.\n",
            "HTTP request sent, awaiting response... 200 OK\n",
            "Length: 607343 (593K) [application/zip]\n",
            "Saving to: ‘nlp_getting_started.zip’\n",
            "\n",
            "\rnlp_getting_started   0%[                    ]       0  --.-KB/s               \rnlp_getting_started 100%[===================>] 593.11K  --.-KB/s    in 0.006s  \n",
            "\n",
            "2024-05-31 16:22:39 (95.4 MB/s) - ‘nlp_getting_started.zip’ saved [607343/607343]\n",
            "\n"
          ]
        }
      ],
      "source": [
        "!wget \"https://storage.googleapis.com/ztm_tf_course/nlp_getting_started.zip\"\n",
        "\n",
        "# Unzip data\n",
        "unzip_data(\"nlp_getting_started.zip\")"
      ]
    },
    {
      "cell_type": "code",
      "execution_count": null,
      "metadata": {
        "colab": {
          "base_uri": "https://localhost:8080/",
          "height": 206
        },
        "id": "PswG5I92Kytg",
        "outputId": "e6ec9a3a-f5ea-463f-b498-a2615f64523b"
      },
      "outputs": [
        {
          "data": {
            "application/vnd.google.colaboratory.intrinsic+json": {
              "summary": "{\n  \"name\": \"train_df\",\n  \"rows\": 7613,\n  \"fields\": [\n    {\n      \"column\": \"id\",\n      \"properties\": {\n        \"dtype\": \"number\",\n        \"std\": 3137,\n        \"min\": 1,\n        \"max\": 10873,\n        \"num_unique_values\": 7613,\n        \"samples\": [\n          3796,\n          3185,\n          7769\n        ],\n        \"semantic_type\": \"\",\n        \"description\": \"\"\n      }\n    },\n    {\n      \"column\": \"keyword\",\n      \"properties\": {\n        \"dtype\": \"category\",\n        \"num_unique_values\": 221,\n        \"samples\": [\n          \"injury\",\n          \"nuclear%20reactor\",\n          \"engulfed\"\n        ],\n        \"semantic_type\": \"\",\n        \"description\": \"\"\n      }\n    },\n    {\n      \"column\": \"location\",\n      \"properties\": {\n        \"dtype\": \"category\",\n        \"num_unique_values\": 3341,\n        \"samples\": [\n          \"Oklahoma\",\n          \"Starling City\",\n          \"Trinidad and Tobago\"\n        ],\n        \"semantic_type\": \"\",\n        \"description\": \"\"\n      }\n    },\n    {\n      \"column\": \"text\",\n      \"properties\": {\n        \"dtype\": \"string\",\n        \"num_unique_values\": 7503,\n        \"samples\": [\n          \"Three Homes Demolished in Unrecognized Arab Village - International Middle East Media Center http://t.co/ik8m4Yi9T4\",\n          \"Reid Lake fire prompts campground evacuation order http://t.co/jBODKM6rBU\",\n          \"FAAN orders evacuation of abandoned aircraft at MMA http://t.co/dEvYbnVXGQ via @todayng\"\n        ],\n        \"semantic_type\": \"\",\n        \"description\": \"\"\n      }\n    },\n    {\n      \"column\": \"target\",\n      \"properties\": {\n        \"dtype\": \"number\",\n        \"std\": 0,\n        \"min\": 0,\n        \"max\": 1,\n        \"num_unique_values\": 2,\n        \"samples\": [\n          0,\n          1\n        ],\n        \"semantic_type\": \"\",\n        \"description\": \"\"\n      }\n    }\n  ]\n}",
              "type": "dataframe",
              "variable_name": "train_df"
            },
            "text/html": [
              "\n",
              "  <div id=\"df-1cd352df-62ae-4604-b2e4-580aeee1eaab\" class=\"colab-df-container\">\n",
              "    <div>\n",
              "<style scoped>\n",
              "    .dataframe tbody tr th:only-of-type {\n",
              "        vertical-align: middle;\n",
              "    }\n",
              "\n",
              "    .dataframe tbody tr th {\n",
              "        vertical-align: top;\n",
              "    }\n",
              "\n",
              "    .dataframe thead th {\n",
              "        text-align: right;\n",
              "    }\n",
              "</style>\n",
              "<table border=\"1\" class=\"dataframe\">\n",
              "  <thead>\n",
              "    <tr style=\"text-align: right;\">\n",
              "      <th></th>\n",
              "      <th>id</th>\n",
              "      <th>keyword</th>\n",
              "      <th>location</th>\n",
              "      <th>text</th>\n",
              "      <th>target</th>\n",
              "    </tr>\n",
              "  </thead>\n",
              "  <tbody>\n",
              "    <tr>\n",
              "      <th>0</th>\n",
              "      <td>1</td>\n",
              "      <td>NaN</td>\n",
              "      <td>NaN</td>\n",
              "      <td>Our Deeds are the Reason of this #earthquake M...</td>\n",
              "      <td>1</td>\n",
              "    </tr>\n",
              "    <tr>\n",
              "      <th>1</th>\n",
              "      <td>4</td>\n",
              "      <td>NaN</td>\n",
              "      <td>NaN</td>\n",
              "      <td>Forest fire near La Ronge Sask. Canada</td>\n",
              "      <td>1</td>\n",
              "    </tr>\n",
              "    <tr>\n",
              "      <th>2</th>\n",
              "      <td>5</td>\n",
              "      <td>NaN</td>\n",
              "      <td>NaN</td>\n",
              "      <td>All residents asked to 'shelter in place' are ...</td>\n",
              "      <td>1</td>\n",
              "    </tr>\n",
              "    <tr>\n",
              "      <th>3</th>\n",
              "      <td>6</td>\n",
              "      <td>NaN</td>\n",
              "      <td>NaN</td>\n",
              "      <td>13,000 people receive #wildfires evacuation or...</td>\n",
              "      <td>1</td>\n",
              "    </tr>\n",
              "    <tr>\n",
              "      <th>4</th>\n",
              "      <td>7</td>\n",
              "      <td>NaN</td>\n",
              "      <td>NaN</td>\n",
              "      <td>Just got sent this photo from Ruby #Alaska as ...</td>\n",
              "      <td>1</td>\n",
              "    </tr>\n",
              "  </tbody>\n",
              "</table>\n",
              "</div>\n",
              "    <div class=\"colab-df-buttons\">\n",
              "\n",
              "  <div class=\"colab-df-container\">\n",
              "    <button class=\"colab-df-convert\" onclick=\"convertToInteractive('df-1cd352df-62ae-4604-b2e4-580aeee1eaab')\"\n",
              "            title=\"Convert this dataframe to an interactive table.\"\n",
              "            style=\"display:none;\">\n",
              "\n",
              "  <svg xmlns=\"http://www.w3.org/2000/svg\" height=\"24px\" viewBox=\"0 -960 960 960\">\n",
              "    <path d=\"M120-120v-720h720v720H120Zm60-500h600v-160H180v160Zm220 220h160v-160H400v160Zm0 220h160v-160H400v160ZM180-400h160v-160H180v160Zm440 0h160v-160H620v160ZM180-180h160v-160H180v160Zm440 0h160v-160H620v160Z\"/>\n",
              "  </svg>\n",
              "    </button>\n",
              "\n",
              "  <style>\n",
              "    .colab-df-container {\n",
              "      display:flex;\n",
              "      gap: 12px;\n",
              "    }\n",
              "\n",
              "    .colab-df-convert {\n",
              "      background-color: #E8F0FE;\n",
              "      border: none;\n",
              "      border-radius: 50%;\n",
              "      cursor: pointer;\n",
              "      display: none;\n",
              "      fill: #1967D2;\n",
              "      height: 32px;\n",
              "      padding: 0 0 0 0;\n",
              "      width: 32px;\n",
              "    }\n",
              "\n",
              "    .colab-df-convert:hover {\n",
              "      background-color: #E2EBFA;\n",
              "      box-shadow: 0px 1px 2px rgba(60, 64, 67, 0.3), 0px 1px 3px 1px rgba(60, 64, 67, 0.15);\n",
              "      fill: #174EA6;\n",
              "    }\n",
              "\n",
              "    .colab-df-buttons div {\n",
              "      margin-bottom: 4px;\n",
              "    }\n",
              "\n",
              "    [theme=dark] .colab-df-convert {\n",
              "      background-color: #3B4455;\n",
              "      fill: #D2E3FC;\n",
              "    }\n",
              "\n",
              "    [theme=dark] .colab-df-convert:hover {\n",
              "      background-color: #434B5C;\n",
              "      box-shadow: 0px 1px 3px 1px rgba(0, 0, 0, 0.15);\n",
              "      filter: drop-shadow(0px 1px 2px rgba(0, 0, 0, 0.3));\n",
              "      fill: #FFFFFF;\n",
              "    }\n",
              "  </style>\n",
              "\n",
              "    <script>\n",
              "      const buttonEl =\n",
              "        document.querySelector('#df-1cd352df-62ae-4604-b2e4-580aeee1eaab button.colab-df-convert');\n",
              "      buttonEl.style.display =\n",
              "        google.colab.kernel.accessAllowed ? 'block' : 'none';\n",
              "\n",
              "      async function convertToInteractive(key) {\n",
              "        const element = document.querySelector('#df-1cd352df-62ae-4604-b2e4-580aeee1eaab');\n",
              "        const dataTable =\n",
              "          await google.colab.kernel.invokeFunction('convertToInteractive',\n",
              "                                                    [key], {});\n",
              "        if (!dataTable) return;\n",
              "\n",
              "        const docLinkHtml = 'Like what you see? Visit the ' +\n",
              "          '<a target=\"_blank\" href=https://colab.research.google.com/notebooks/data_table.ipynb>data table notebook</a>'\n",
              "          + ' to learn more about interactive tables.';\n",
              "        element.innerHTML = '';\n",
              "        dataTable['output_type'] = 'display_data';\n",
              "        await google.colab.output.renderOutput(dataTable, element);\n",
              "        const docLink = document.createElement('div');\n",
              "        docLink.innerHTML = docLinkHtml;\n",
              "        element.appendChild(docLink);\n",
              "      }\n",
              "    </script>\n",
              "  </div>\n",
              "\n",
              "\n",
              "<div id=\"df-3fe2e590-7ad9-41cd-bf37-8d235bfd82c4\">\n",
              "  <button class=\"colab-df-quickchart\" onclick=\"quickchart('df-3fe2e590-7ad9-41cd-bf37-8d235bfd82c4')\"\n",
              "            title=\"Suggest charts\"\n",
              "            style=\"display:none;\">\n",
              "\n",
              "<svg xmlns=\"http://www.w3.org/2000/svg\" height=\"24px\"viewBox=\"0 0 24 24\"\n",
              "     width=\"24px\">\n",
              "    <g>\n",
              "        <path d=\"M19 3H5c-1.1 0-2 .9-2 2v14c0 1.1.9 2 2 2h14c1.1 0 2-.9 2-2V5c0-1.1-.9-2-2-2zM9 17H7v-7h2v7zm4 0h-2V7h2v10zm4 0h-2v-4h2v4z\"/>\n",
              "    </g>\n",
              "</svg>\n",
              "  </button>\n",
              "\n",
              "<style>\n",
              "  .colab-df-quickchart {\n",
              "      --bg-color: #E8F0FE;\n",
              "      --fill-color: #1967D2;\n",
              "      --hover-bg-color: #E2EBFA;\n",
              "      --hover-fill-color: #174EA6;\n",
              "      --disabled-fill-color: #AAA;\n",
              "      --disabled-bg-color: #DDD;\n",
              "  }\n",
              "\n",
              "  [theme=dark] .colab-df-quickchart {\n",
              "      --bg-color: #3B4455;\n",
              "      --fill-color: #D2E3FC;\n",
              "      --hover-bg-color: #434B5C;\n",
              "      --hover-fill-color: #FFFFFF;\n",
              "      --disabled-bg-color: #3B4455;\n",
              "      --disabled-fill-color: #666;\n",
              "  }\n",
              "\n",
              "  .colab-df-quickchart {\n",
              "    background-color: var(--bg-color);\n",
              "    border: none;\n",
              "    border-radius: 50%;\n",
              "    cursor: pointer;\n",
              "    display: none;\n",
              "    fill: var(--fill-color);\n",
              "    height: 32px;\n",
              "    padding: 0;\n",
              "    width: 32px;\n",
              "  }\n",
              "\n",
              "  .colab-df-quickchart:hover {\n",
              "    background-color: var(--hover-bg-color);\n",
              "    box-shadow: 0 1px 2px rgba(60, 64, 67, 0.3), 0 1px 3px 1px rgba(60, 64, 67, 0.15);\n",
              "    fill: var(--button-hover-fill-color);\n",
              "  }\n",
              "\n",
              "  .colab-df-quickchart-complete:disabled,\n",
              "  .colab-df-quickchart-complete:disabled:hover {\n",
              "    background-color: var(--disabled-bg-color);\n",
              "    fill: var(--disabled-fill-color);\n",
              "    box-shadow: none;\n",
              "  }\n",
              "\n",
              "  .colab-df-spinner {\n",
              "    border: 2px solid var(--fill-color);\n",
              "    border-color: transparent;\n",
              "    border-bottom-color: var(--fill-color);\n",
              "    animation:\n",
              "      spin 1s steps(1) infinite;\n",
              "  }\n",
              "\n",
              "  @keyframes spin {\n",
              "    0% {\n",
              "      border-color: transparent;\n",
              "      border-bottom-color: var(--fill-color);\n",
              "      border-left-color: var(--fill-color);\n",
              "    }\n",
              "    20% {\n",
              "      border-color: transparent;\n",
              "      border-left-color: var(--fill-color);\n",
              "      border-top-color: var(--fill-color);\n",
              "    }\n",
              "    30% {\n",
              "      border-color: transparent;\n",
              "      border-left-color: var(--fill-color);\n",
              "      border-top-color: var(--fill-color);\n",
              "      border-right-color: var(--fill-color);\n",
              "    }\n",
              "    40% {\n",
              "      border-color: transparent;\n",
              "      border-right-color: var(--fill-color);\n",
              "      border-top-color: var(--fill-color);\n",
              "    }\n",
              "    60% {\n",
              "      border-color: transparent;\n",
              "      border-right-color: var(--fill-color);\n",
              "    }\n",
              "    80% {\n",
              "      border-color: transparent;\n",
              "      border-right-color: var(--fill-color);\n",
              "      border-bottom-color: var(--fill-color);\n",
              "    }\n",
              "    90% {\n",
              "      border-color: transparent;\n",
              "      border-bottom-color: var(--fill-color);\n",
              "    }\n",
              "  }\n",
              "</style>\n",
              "\n",
              "  <script>\n",
              "    async function quickchart(key) {\n",
              "      const quickchartButtonEl =\n",
              "        document.querySelector('#' + key + ' button');\n",
              "      quickchartButtonEl.disabled = true;  // To prevent multiple clicks.\n",
              "      quickchartButtonEl.classList.add('colab-df-spinner');\n",
              "      try {\n",
              "        const charts = await google.colab.kernel.invokeFunction(\n",
              "            'suggestCharts', [key], {});\n",
              "      } catch (error) {\n",
              "        console.error('Error during call to suggestCharts:', error);\n",
              "      }\n",
              "      quickchartButtonEl.classList.remove('colab-df-spinner');\n",
              "      quickchartButtonEl.classList.add('colab-df-quickchart-complete');\n",
              "    }\n",
              "    (() => {\n",
              "      let quickchartButtonEl =\n",
              "        document.querySelector('#df-3fe2e590-7ad9-41cd-bf37-8d235bfd82c4 button');\n",
              "      quickchartButtonEl.style.display =\n",
              "        google.colab.kernel.accessAllowed ? 'block' : 'none';\n",
              "    })();\n",
              "  </script>\n",
              "</div>\n",
              "\n",
              "    </div>\n",
              "  </div>\n"
            ],
            "text/plain": [
              "   id keyword location                                               text  \\\n",
              "0   1     NaN      NaN  Our Deeds are the Reason of this #earthquake M...   \n",
              "1   4     NaN      NaN             Forest fire near La Ronge Sask. Canada   \n",
              "2   5     NaN      NaN  All residents asked to 'shelter in place' are ...   \n",
              "3   6     NaN      NaN  13,000 people receive #wildfires evacuation or...   \n",
              "4   7     NaN      NaN  Just got sent this photo from Ruby #Alaska as ...   \n",
              "\n",
              "   target  \n",
              "0       1  \n",
              "1       1  \n",
              "2       1  \n",
              "3       1  \n",
              "4       1  "
            ]
          },
          "execution_count": 4,
          "metadata": {},
          "output_type": "execute_result"
        }
      ],
      "source": [
        "import pandas as pd\n",
        "train_df = pd.read_csv(\"train.csv\")\n",
        "test_df = pd.read_csv(\"test.csv\")\n",
        "train_df.head()"
      ]
    },
    {
      "cell_type": "code",
      "execution_count": null,
      "metadata": {
        "colab": {
          "base_uri": "https://localhost:8080/",
          "height": 293
        },
        "id": "6qCc5A23Lmkg",
        "outputId": "ed367126-9eb9-423a-a247-40cc663c4888"
      },
      "outputs": [
        {
          "data": {
            "application/vnd.google.colaboratory.intrinsic+json": {
              "summary": "{\n  \"name\": \"train_df_shuffled\",\n  \"rows\": 7613,\n  \"fields\": [\n    {\n      \"column\": \"id\",\n      \"properties\": {\n        \"dtype\": \"number\",\n        \"std\": 3137,\n        \"min\": 1,\n        \"max\": 10873,\n        \"num_unique_values\": 7613,\n        \"samples\": [\n          7061,\n          843,\n          10603\n        ],\n        \"semantic_type\": \"\",\n        \"description\": \"\"\n      }\n    },\n    {\n      \"column\": \"keyword\",\n      \"properties\": {\n        \"dtype\": \"category\",\n        \"num_unique_values\": 221,\n        \"samples\": [\n          \"blazing\",\n          \"emergency\",\n          \"rescue\"\n        ],\n        \"semantic_type\": \"\",\n        \"description\": \"\"\n      }\n    },\n    {\n      \"column\": \"location\",\n      \"properties\": {\n        \"dtype\": \"category\",\n        \"num_unique_values\": 3341,\n        \"samples\": [\n          \"617-BTOWN-BEATDOWN\",\n          \"Newcastle Upon Tyne, England\",\n          \"Federal Capital Territory\"\n        ],\n        \"semantic_type\": \"\",\n        \"description\": \"\"\n      }\n    },\n    {\n      \"column\": \"text\",\n      \"properties\": {\n        \"dtype\": \"string\",\n        \"num_unique_values\": 7503,\n        \"samples\": [\n          \"This week first responders and DART members are participating in a four day intensive Technical Large Animal... http://t.co/tL93AOd3ER\",\n          \"My mom is watching a show about bridges breaking/falling and the people on them drowning in their cars aka one of my biggest fears ????\",\n          \"@NickLee8  i went to school in a bombed out East End of London3 families to one house no bathroom outside loo &amp; poor so whats yr point\"\n        ],\n        \"semantic_type\": \"\",\n        \"description\": \"\"\n      }\n    },\n    {\n      \"column\": \"target\",\n      \"properties\": {\n        \"dtype\": \"number\",\n        \"std\": 0,\n        \"min\": 0,\n        \"max\": 1,\n        \"num_unique_values\": 2,\n        \"samples\": [\n          0,\n          1\n        ],\n        \"semantic_type\": \"\",\n        \"description\": \"\"\n      }\n    }\n  ]\n}",
              "type": "dataframe",
              "variable_name": "train_df_shuffled"
            },
            "text/html": [
              "\n",
              "  <div id=\"df-d63996d1-082c-4b0a-b061-3e609f9d4e47\" class=\"colab-df-container\">\n",
              "    <div>\n",
              "<style scoped>\n",
              "    .dataframe tbody tr th:only-of-type {\n",
              "        vertical-align: middle;\n",
              "    }\n",
              "\n",
              "    .dataframe tbody tr th {\n",
              "        vertical-align: top;\n",
              "    }\n",
              "\n",
              "    .dataframe thead th {\n",
              "        text-align: right;\n",
              "    }\n",
              "</style>\n",
              "<table border=\"1\" class=\"dataframe\">\n",
              "  <thead>\n",
              "    <tr style=\"text-align: right;\">\n",
              "      <th></th>\n",
              "      <th>id</th>\n",
              "      <th>keyword</th>\n",
              "      <th>location</th>\n",
              "      <th>text</th>\n",
              "      <th>target</th>\n",
              "    </tr>\n",
              "  </thead>\n",
              "  <tbody>\n",
              "    <tr>\n",
              "      <th>2644</th>\n",
              "      <td>3796</td>\n",
              "      <td>destruction</td>\n",
              "      <td>NaN</td>\n",
              "      <td>So you have a new weapon that can cause un-ima...</td>\n",
              "      <td>1</td>\n",
              "    </tr>\n",
              "    <tr>\n",
              "      <th>2227</th>\n",
              "      <td>3185</td>\n",
              "      <td>deluge</td>\n",
              "      <td>NaN</td>\n",
              "      <td>The f$&amp;amp;@ing things I do for #GISHWHES Just...</td>\n",
              "      <td>0</td>\n",
              "    </tr>\n",
              "    <tr>\n",
              "      <th>5448</th>\n",
              "      <td>7769</td>\n",
              "      <td>police</td>\n",
              "      <td>UK</td>\n",
              "      <td>DT @georgegalloway: RT @Galloway4Mayor: ÛÏThe...</td>\n",
              "      <td>1</td>\n",
              "    </tr>\n",
              "    <tr>\n",
              "      <th>132</th>\n",
              "      <td>191</td>\n",
              "      <td>aftershock</td>\n",
              "      <td>NaN</td>\n",
              "      <td>Aftershock back to school kick off was great. ...</td>\n",
              "      <td>0</td>\n",
              "    </tr>\n",
              "    <tr>\n",
              "      <th>6845</th>\n",
              "      <td>9810</td>\n",
              "      <td>trauma</td>\n",
              "      <td>Montgomery County, MD</td>\n",
              "      <td>in response to trauma Children of Addicts deve...</td>\n",
              "      <td>0</td>\n",
              "    </tr>\n",
              "  </tbody>\n",
              "</table>\n",
              "</div>\n",
              "    <div class=\"colab-df-buttons\">\n",
              "\n",
              "  <div class=\"colab-df-container\">\n",
              "    <button class=\"colab-df-convert\" onclick=\"convertToInteractive('df-d63996d1-082c-4b0a-b061-3e609f9d4e47')\"\n",
              "            title=\"Convert this dataframe to an interactive table.\"\n",
              "            style=\"display:none;\">\n",
              "\n",
              "  <svg xmlns=\"http://www.w3.org/2000/svg\" height=\"24px\" viewBox=\"0 -960 960 960\">\n",
              "    <path d=\"M120-120v-720h720v720H120Zm60-500h600v-160H180v160Zm220 220h160v-160H400v160Zm0 220h160v-160H400v160ZM180-400h160v-160H180v160Zm440 0h160v-160H620v160ZM180-180h160v-160H180v160Zm440 0h160v-160H620v160Z\"/>\n",
              "  </svg>\n",
              "    </button>\n",
              "\n",
              "  <style>\n",
              "    .colab-df-container {\n",
              "      display:flex;\n",
              "      gap: 12px;\n",
              "    }\n",
              "\n",
              "    .colab-df-convert {\n",
              "      background-color: #E8F0FE;\n",
              "      border: none;\n",
              "      border-radius: 50%;\n",
              "      cursor: pointer;\n",
              "      display: none;\n",
              "      fill: #1967D2;\n",
              "      height: 32px;\n",
              "      padding: 0 0 0 0;\n",
              "      width: 32px;\n",
              "    }\n",
              "\n",
              "    .colab-df-convert:hover {\n",
              "      background-color: #E2EBFA;\n",
              "      box-shadow: 0px 1px 2px rgba(60, 64, 67, 0.3), 0px 1px 3px 1px rgba(60, 64, 67, 0.15);\n",
              "      fill: #174EA6;\n",
              "    }\n",
              "\n",
              "    .colab-df-buttons div {\n",
              "      margin-bottom: 4px;\n",
              "    }\n",
              "\n",
              "    [theme=dark] .colab-df-convert {\n",
              "      background-color: #3B4455;\n",
              "      fill: #D2E3FC;\n",
              "    }\n",
              "\n",
              "    [theme=dark] .colab-df-convert:hover {\n",
              "      background-color: #434B5C;\n",
              "      box-shadow: 0px 1px 3px 1px rgba(0, 0, 0, 0.15);\n",
              "      filter: drop-shadow(0px 1px 2px rgba(0, 0, 0, 0.3));\n",
              "      fill: #FFFFFF;\n",
              "    }\n",
              "  </style>\n",
              "\n",
              "    <script>\n",
              "      const buttonEl =\n",
              "        document.querySelector('#df-d63996d1-082c-4b0a-b061-3e609f9d4e47 button.colab-df-convert');\n",
              "      buttonEl.style.display =\n",
              "        google.colab.kernel.accessAllowed ? 'block' : 'none';\n",
              "\n",
              "      async function convertToInteractive(key) {\n",
              "        const element = document.querySelector('#df-d63996d1-082c-4b0a-b061-3e609f9d4e47');\n",
              "        const dataTable =\n",
              "          await google.colab.kernel.invokeFunction('convertToInteractive',\n",
              "                                                    [key], {});\n",
              "        if (!dataTable) return;\n",
              "\n",
              "        const docLinkHtml = 'Like what you see? Visit the ' +\n",
              "          '<a target=\"_blank\" href=https://colab.research.google.com/notebooks/data_table.ipynb>data table notebook</a>'\n",
              "          + ' to learn more about interactive tables.';\n",
              "        element.innerHTML = '';\n",
              "        dataTable['output_type'] = 'display_data';\n",
              "        await google.colab.output.renderOutput(dataTable, element);\n",
              "        const docLink = document.createElement('div');\n",
              "        docLink.innerHTML = docLinkHtml;\n",
              "        element.appendChild(docLink);\n",
              "      }\n",
              "    </script>\n",
              "  </div>\n",
              "\n",
              "\n",
              "<div id=\"df-4336e8df-8543-41ea-abaf-3683f90be5ca\">\n",
              "  <button class=\"colab-df-quickchart\" onclick=\"quickchart('df-4336e8df-8543-41ea-abaf-3683f90be5ca')\"\n",
              "            title=\"Suggest charts\"\n",
              "            style=\"display:none;\">\n",
              "\n",
              "<svg xmlns=\"http://www.w3.org/2000/svg\" height=\"24px\"viewBox=\"0 0 24 24\"\n",
              "     width=\"24px\">\n",
              "    <g>\n",
              "        <path d=\"M19 3H5c-1.1 0-2 .9-2 2v14c0 1.1.9 2 2 2h14c1.1 0 2-.9 2-2V5c0-1.1-.9-2-2-2zM9 17H7v-7h2v7zm4 0h-2V7h2v10zm4 0h-2v-4h2v4z\"/>\n",
              "    </g>\n",
              "</svg>\n",
              "  </button>\n",
              "\n",
              "<style>\n",
              "  .colab-df-quickchart {\n",
              "      --bg-color: #E8F0FE;\n",
              "      --fill-color: #1967D2;\n",
              "      --hover-bg-color: #E2EBFA;\n",
              "      --hover-fill-color: #174EA6;\n",
              "      --disabled-fill-color: #AAA;\n",
              "      --disabled-bg-color: #DDD;\n",
              "  }\n",
              "\n",
              "  [theme=dark] .colab-df-quickchart {\n",
              "      --bg-color: #3B4455;\n",
              "      --fill-color: #D2E3FC;\n",
              "      --hover-bg-color: #434B5C;\n",
              "      --hover-fill-color: #FFFFFF;\n",
              "      --disabled-bg-color: #3B4455;\n",
              "      --disabled-fill-color: #666;\n",
              "  }\n",
              "\n",
              "  .colab-df-quickchart {\n",
              "    background-color: var(--bg-color);\n",
              "    border: none;\n",
              "    border-radius: 50%;\n",
              "    cursor: pointer;\n",
              "    display: none;\n",
              "    fill: var(--fill-color);\n",
              "    height: 32px;\n",
              "    padding: 0;\n",
              "    width: 32px;\n",
              "  }\n",
              "\n",
              "  .colab-df-quickchart:hover {\n",
              "    background-color: var(--hover-bg-color);\n",
              "    box-shadow: 0 1px 2px rgba(60, 64, 67, 0.3), 0 1px 3px 1px rgba(60, 64, 67, 0.15);\n",
              "    fill: var(--button-hover-fill-color);\n",
              "  }\n",
              "\n",
              "  .colab-df-quickchart-complete:disabled,\n",
              "  .colab-df-quickchart-complete:disabled:hover {\n",
              "    background-color: var(--disabled-bg-color);\n",
              "    fill: var(--disabled-fill-color);\n",
              "    box-shadow: none;\n",
              "  }\n",
              "\n",
              "  .colab-df-spinner {\n",
              "    border: 2px solid var(--fill-color);\n",
              "    border-color: transparent;\n",
              "    border-bottom-color: var(--fill-color);\n",
              "    animation:\n",
              "      spin 1s steps(1) infinite;\n",
              "  }\n",
              "\n",
              "  @keyframes spin {\n",
              "    0% {\n",
              "      border-color: transparent;\n",
              "      border-bottom-color: var(--fill-color);\n",
              "      border-left-color: var(--fill-color);\n",
              "    }\n",
              "    20% {\n",
              "      border-color: transparent;\n",
              "      border-left-color: var(--fill-color);\n",
              "      border-top-color: var(--fill-color);\n",
              "    }\n",
              "    30% {\n",
              "      border-color: transparent;\n",
              "      border-left-color: var(--fill-color);\n",
              "      border-top-color: var(--fill-color);\n",
              "      border-right-color: var(--fill-color);\n",
              "    }\n",
              "    40% {\n",
              "      border-color: transparent;\n",
              "      border-right-color: var(--fill-color);\n",
              "      border-top-color: var(--fill-color);\n",
              "    }\n",
              "    60% {\n",
              "      border-color: transparent;\n",
              "      border-right-color: var(--fill-color);\n",
              "    }\n",
              "    80% {\n",
              "      border-color: transparent;\n",
              "      border-right-color: var(--fill-color);\n",
              "      border-bottom-color: var(--fill-color);\n",
              "    }\n",
              "    90% {\n",
              "      border-color: transparent;\n",
              "      border-bottom-color: var(--fill-color);\n",
              "    }\n",
              "  }\n",
              "</style>\n",
              "\n",
              "  <script>\n",
              "    async function quickchart(key) {\n",
              "      const quickchartButtonEl =\n",
              "        document.querySelector('#' + key + ' button');\n",
              "      quickchartButtonEl.disabled = true;  // To prevent multiple clicks.\n",
              "      quickchartButtonEl.classList.add('colab-df-spinner');\n",
              "      try {\n",
              "        const charts = await google.colab.kernel.invokeFunction(\n",
              "            'suggestCharts', [key], {});\n",
              "      } catch (error) {\n",
              "        console.error('Error during call to suggestCharts:', error);\n",
              "      }\n",
              "      quickchartButtonEl.classList.remove('colab-df-spinner');\n",
              "      quickchartButtonEl.classList.add('colab-df-quickchart-complete');\n",
              "    }\n",
              "    (() => {\n",
              "      let quickchartButtonEl =\n",
              "        document.querySelector('#df-4336e8df-8543-41ea-abaf-3683f90be5ca button');\n",
              "      quickchartButtonEl.style.display =\n",
              "        google.colab.kernel.accessAllowed ? 'block' : 'none';\n",
              "    })();\n",
              "  </script>\n",
              "</div>\n",
              "\n",
              "    </div>\n",
              "  </div>\n"
            ],
            "text/plain": [
              "        id      keyword               location  \\\n",
              "2644  3796  destruction                    NaN   \n",
              "2227  3185       deluge                    NaN   \n",
              "5448  7769       police                     UK   \n",
              "132    191   aftershock                    NaN   \n",
              "6845  9810       trauma  Montgomery County, MD   \n",
              "\n",
              "                                                   text  target  \n",
              "2644  So you have a new weapon that can cause un-ima...       1  \n",
              "2227  The f$&amp;@ing things I do for #GISHWHES Just...       0  \n",
              "5448  DT @georgegalloway: RT @Galloway4Mayor: ÛÏThe...       1  \n",
              "132   Aftershock back to school kick off was great. ...       0  \n",
              "6845  in response to trauma Children of Addicts deve...       0  "
            ]
          },
          "execution_count": 5,
          "metadata": {},
          "output_type": "execute_result"
        }
      ],
      "source": [
        "# Shuffling the dataframe\n",
        "train_df_shuffled = train_df.sample(frac=1, random_state=42)\n",
        "train_df_shuffled.head()"
      ]
    },
    {
      "cell_type": "code",
      "execution_count": null,
      "metadata": {
        "colab": {
          "base_uri": "https://localhost:8080/",
          "height": 206
        },
        "id": "xxh1Ouc8MXwE",
        "outputId": "b6fb1c0a-4777-4ed0-ba11-e45b5c0b2592"
      },
      "outputs": [
        {
          "data": {
            "application/vnd.google.colaboratory.intrinsic+json": {
              "summary": "{\n  \"name\": \"test_df\",\n  \"rows\": 3263,\n  \"fields\": [\n    {\n      \"column\": \"id\",\n      \"properties\": {\n        \"dtype\": \"number\",\n        \"std\": 3146,\n        \"min\": 0,\n        \"max\": 10875,\n        \"num_unique_values\": 3263,\n        \"samples\": [\n          8051,\n          425,\n          1330\n        ],\n        \"semantic_type\": \"\",\n        \"description\": \"\"\n      }\n    },\n    {\n      \"column\": \"keyword\",\n      \"properties\": {\n        \"dtype\": \"category\",\n        \"num_unique_values\": 221,\n        \"samples\": [\n          \"injury\",\n          \"nuclear%20reactor\",\n          \"engulfed\"\n        ],\n        \"semantic_type\": \"\",\n        \"description\": \"\"\n      }\n    },\n    {\n      \"column\": \"location\",\n      \"properties\": {\n        \"dtype\": \"category\",\n        \"num_unique_values\": 1602,\n        \"samples\": [\n          \"UAE\",\n          \"Tokio / Tokyo\",\n          \"Texas\"\n        ],\n        \"semantic_type\": \"\",\n        \"description\": \"\"\n      }\n    },\n    {\n      \"column\": \"text\",\n      \"properties\": {\n        \"dtype\": \"string\",\n        \"num_unique_values\": 3243,\n        \"samples\": [\n          \"Latest: USA: Huge sinkhole swallows up Brooklyn intersection http://t.co/vspKHg3nZy\",\n          \"I liked a @YouTube video http://t.co/a5YTAw9Vih S.O.S. Rona Guide - The Red Whirlwind\",\n          \"HitchBot travels Europe and greeted with open arms. Gets destroyed after two weeks in america. There's a lesson to be learned here.\"\n        ],\n        \"semantic_type\": \"\",\n        \"description\": \"\"\n      }\n    }\n  ]\n}",
              "type": "dataframe",
              "variable_name": "test_df"
            },
            "text/html": [
              "\n",
              "  <div id=\"df-1bd24e72-8bae-4e21-9c18-ed9843c2c953\" class=\"colab-df-container\">\n",
              "    <div>\n",
              "<style scoped>\n",
              "    .dataframe tbody tr th:only-of-type {\n",
              "        vertical-align: middle;\n",
              "    }\n",
              "\n",
              "    .dataframe tbody tr th {\n",
              "        vertical-align: top;\n",
              "    }\n",
              "\n",
              "    .dataframe thead th {\n",
              "        text-align: right;\n",
              "    }\n",
              "</style>\n",
              "<table border=\"1\" class=\"dataframe\">\n",
              "  <thead>\n",
              "    <tr style=\"text-align: right;\">\n",
              "      <th></th>\n",
              "      <th>id</th>\n",
              "      <th>keyword</th>\n",
              "      <th>location</th>\n",
              "      <th>text</th>\n",
              "    </tr>\n",
              "  </thead>\n",
              "  <tbody>\n",
              "    <tr>\n",
              "      <th>0</th>\n",
              "      <td>0</td>\n",
              "      <td>NaN</td>\n",
              "      <td>NaN</td>\n",
              "      <td>Just happened a terrible car crash</td>\n",
              "    </tr>\n",
              "    <tr>\n",
              "      <th>1</th>\n",
              "      <td>2</td>\n",
              "      <td>NaN</td>\n",
              "      <td>NaN</td>\n",
              "      <td>Heard about #earthquake is different cities, s...</td>\n",
              "    </tr>\n",
              "    <tr>\n",
              "      <th>2</th>\n",
              "      <td>3</td>\n",
              "      <td>NaN</td>\n",
              "      <td>NaN</td>\n",
              "      <td>there is a forest fire at spot pond, geese are...</td>\n",
              "    </tr>\n",
              "    <tr>\n",
              "      <th>3</th>\n",
              "      <td>9</td>\n",
              "      <td>NaN</td>\n",
              "      <td>NaN</td>\n",
              "      <td>Apocalypse lighting. #Spokane #wildfires</td>\n",
              "    </tr>\n",
              "    <tr>\n",
              "      <th>4</th>\n",
              "      <td>11</td>\n",
              "      <td>NaN</td>\n",
              "      <td>NaN</td>\n",
              "      <td>Typhoon Soudelor kills 28 in China and Taiwan</td>\n",
              "    </tr>\n",
              "  </tbody>\n",
              "</table>\n",
              "</div>\n",
              "    <div class=\"colab-df-buttons\">\n",
              "\n",
              "  <div class=\"colab-df-container\">\n",
              "    <button class=\"colab-df-convert\" onclick=\"convertToInteractive('df-1bd24e72-8bae-4e21-9c18-ed9843c2c953')\"\n",
              "            title=\"Convert this dataframe to an interactive table.\"\n",
              "            style=\"display:none;\">\n",
              "\n",
              "  <svg xmlns=\"http://www.w3.org/2000/svg\" height=\"24px\" viewBox=\"0 -960 960 960\">\n",
              "    <path d=\"M120-120v-720h720v720H120Zm60-500h600v-160H180v160Zm220 220h160v-160H400v160Zm0 220h160v-160H400v160ZM180-400h160v-160H180v160Zm440 0h160v-160H620v160ZM180-180h160v-160H180v160Zm440 0h160v-160H620v160Z\"/>\n",
              "  </svg>\n",
              "    </button>\n",
              "\n",
              "  <style>\n",
              "    .colab-df-container {\n",
              "      display:flex;\n",
              "      gap: 12px;\n",
              "    }\n",
              "\n",
              "    .colab-df-convert {\n",
              "      background-color: #E8F0FE;\n",
              "      border: none;\n",
              "      border-radius: 50%;\n",
              "      cursor: pointer;\n",
              "      display: none;\n",
              "      fill: #1967D2;\n",
              "      height: 32px;\n",
              "      padding: 0 0 0 0;\n",
              "      width: 32px;\n",
              "    }\n",
              "\n",
              "    .colab-df-convert:hover {\n",
              "      background-color: #E2EBFA;\n",
              "      box-shadow: 0px 1px 2px rgba(60, 64, 67, 0.3), 0px 1px 3px 1px rgba(60, 64, 67, 0.15);\n",
              "      fill: #174EA6;\n",
              "    }\n",
              "\n",
              "    .colab-df-buttons div {\n",
              "      margin-bottom: 4px;\n",
              "    }\n",
              "\n",
              "    [theme=dark] .colab-df-convert {\n",
              "      background-color: #3B4455;\n",
              "      fill: #D2E3FC;\n",
              "    }\n",
              "\n",
              "    [theme=dark] .colab-df-convert:hover {\n",
              "      background-color: #434B5C;\n",
              "      box-shadow: 0px 1px 3px 1px rgba(0, 0, 0, 0.15);\n",
              "      filter: drop-shadow(0px 1px 2px rgba(0, 0, 0, 0.3));\n",
              "      fill: #FFFFFF;\n",
              "    }\n",
              "  </style>\n",
              "\n",
              "    <script>\n",
              "      const buttonEl =\n",
              "        document.querySelector('#df-1bd24e72-8bae-4e21-9c18-ed9843c2c953 button.colab-df-convert');\n",
              "      buttonEl.style.display =\n",
              "        google.colab.kernel.accessAllowed ? 'block' : 'none';\n",
              "\n",
              "      async function convertToInteractive(key) {\n",
              "        const element = document.querySelector('#df-1bd24e72-8bae-4e21-9c18-ed9843c2c953');\n",
              "        const dataTable =\n",
              "          await google.colab.kernel.invokeFunction('convertToInteractive',\n",
              "                                                    [key], {});\n",
              "        if (!dataTable) return;\n",
              "\n",
              "        const docLinkHtml = 'Like what you see? Visit the ' +\n",
              "          '<a target=\"_blank\" href=https://colab.research.google.com/notebooks/data_table.ipynb>data table notebook</a>'\n",
              "          + ' to learn more about interactive tables.';\n",
              "        element.innerHTML = '';\n",
              "        dataTable['output_type'] = 'display_data';\n",
              "        await google.colab.output.renderOutput(dataTable, element);\n",
              "        const docLink = document.createElement('div');\n",
              "        docLink.innerHTML = docLinkHtml;\n",
              "        element.appendChild(docLink);\n",
              "      }\n",
              "    </script>\n",
              "  </div>\n",
              "\n",
              "\n",
              "<div id=\"df-c3c2c010-ac50-456f-9327-129c96a1f32a\">\n",
              "  <button class=\"colab-df-quickchart\" onclick=\"quickchart('df-c3c2c010-ac50-456f-9327-129c96a1f32a')\"\n",
              "            title=\"Suggest charts\"\n",
              "            style=\"display:none;\">\n",
              "\n",
              "<svg xmlns=\"http://www.w3.org/2000/svg\" height=\"24px\"viewBox=\"0 0 24 24\"\n",
              "     width=\"24px\">\n",
              "    <g>\n",
              "        <path d=\"M19 3H5c-1.1 0-2 .9-2 2v14c0 1.1.9 2 2 2h14c1.1 0 2-.9 2-2V5c0-1.1-.9-2-2-2zM9 17H7v-7h2v7zm4 0h-2V7h2v10zm4 0h-2v-4h2v4z\"/>\n",
              "    </g>\n",
              "</svg>\n",
              "  </button>\n",
              "\n",
              "<style>\n",
              "  .colab-df-quickchart {\n",
              "      --bg-color: #E8F0FE;\n",
              "      --fill-color: #1967D2;\n",
              "      --hover-bg-color: #E2EBFA;\n",
              "      --hover-fill-color: #174EA6;\n",
              "      --disabled-fill-color: #AAA;\n",
              "      --disabled-bg-color: #DDD;\n",
              "  }\n",
              "\n",
              "  [theme=dark] .colab-df-quickchart {\n",
              "      --bg-color: #3B4455;\n",
              "      --fill-color: #D2E3FC;\n",
              "      --hover-bg-color: #434B5C;\n",
              "      --hover-fill-color: #FFFFFF;\n",
              "      --disabled-bg-color: #3B4455;\n",
              "      --disabled-fill-color: #666;\n",
              "  }\n",
              "\n",
              "  .colab-df-quickchart {\n",
              "    background-color: var(--bg-color);\n",
              "    border: none;\n",
              "    border-radius: 50%;\n",
              "    cursor: pointer;\n",
              "    display: none;\n",
              "    fill: var(--fill-color);\n",
              "    height: 32px;\n",
              "    padding: 0;\n",
              "    width: 32px;\n",
              "  }\n",
              "\n",
              "  .colab-df-quickchart:hover {\n",
              "    background-color: var(--hover-bg-color);\n",
              "    box-shadow: 0 1px 2px rgba(60, 64, 67, 0.3), 0 1px 3px 1px rgba(60, 64, 67, 0.15);\n",
              "    fill: var(--button-hover-fill-color);\n",
              "  }\n",
              "\n",
              "  .colab-df-quickchart-complete:disabled,\n",
              "  .colab-df-quickchart-complete:disabled:hover {\n",
              "    background-color: var(--disabled-bg-color);\n",
              "    fill: var(--disabled-fill-color);\n",
              "    box-shadow: none;\n",
              "  }\n",
              "\n",
              "  .colab-df-spinner {\n",
              "    border: 2px solid var(--fill-color);\n",
              "    border-color: transparent;\n",
              "    border-bottom-color: var(--fill-color);\n",
              "    animation:\n",
              "      spin 1s steps(1) infinite;\n",
              "  }\n",
              "\n",
              "  @keyframes spin {\n",
              "    0% {\n",
              "      border-color: transparent;\n",
              "      border-bottom-color: var(--fill-color);\n",
              "      border-left-color: var(--fill-color);\n",
              "    }\n",
              "    20% {\n",
              "      border-color: transparent;\n",
              "      border-left-color: var(--fill-color);\n",
              "      border-top-color: var(--fill-color);\n",
              "    }\n",
              "    30% {\n",
              "      border-color: transparent;\n",
              "      border-left-color: var(--fill-color);\n",
              "      border-top-color: var(--fill-color);\n",
              "      border-right-color: var(--fill-color);\n",
              "    }\n",
              "    40% {\n",
              "      border-color: transparent;\n",
              "      border-right-color: var(--fill-color);\n",
              "      border-top-color: var(--fill-color);\n",
              "    }\n",
              "    60% {\n",
              "      border-color: transparent;\n",
              "      border-right-color: var(--fill-color);\n",
              "    }\n",
              "    80% {\n",
              "      border-color: transparent;\n",
              "      border-right-color: var(--fill-color);\n",
              "      border-bottom-color: var(--fill-color);\n",
              "    }\n",
              "    90% {\n",
              "      border-color: transparent;\n",
              "      border-bottom-color: var(--fill-color);\n",
              "    }\n",
              "  }\n",
              "</style>\n",
              "\n",
              "  <script>\n",
              "    async function quickchart(key) {\n",
              "      const quickchartButtonEl =\n",
              "        document.querySelector('#' + key + ' button');\n",
              "      quickchartButtonEl.disabled = true;  // To prevent multiple clicks.\n",
              "      quickchartButtonEl.classList.add('colab-df-spinner');\n",
              "      try {\n",
              "        const charts = await google.colab.kernel.invokeFunction(\n",
              "            'suggestCharts', [key], {});\n",
              "      } catch (error) {\n",
              "        console.error('Error during call to suggestCharts:', error);\n",
              "      }\n",
              "      quickchartButtonEl.classList.remove('colab-df-spinner');\n",
              "      quickchartButtonEl.classList.add('colab-df-quickchart-complete');\n",
              "    }\n",
              "    (() => {\n",
              "      let quickchartButtonEl =\n",
              "        document.querySelector('#df-c3c2c010-ac50-456f-9327-129c96a1f32a button');\n",
              "      quickchartButtonEl.style.display =\n",
              "        google.colab.kernel.accessAllowed ? 'block' : 'none';\n",
              "    })();\n",
              "  </script>\n",
              "</div>\n",
              "\n",
              "    </div>\n",
              "  </div>\n"
            ],
            "text/plain": [
              "   id keyword location                                               text\n",
              "0   0     NaN      NaN                 Just happened a terrible car crash\n",
              "1   2     NaN      NaN  Heard about #earthquake is different cities, s...\n",
              "2   3     NaN      NaN  there is a forest fire at spot pond, geese are...\n",
              "3   9     NaN      NaN           Apocalypse lighting. #Spokane #wildfires\n",
              "4  11     NaN      NaN      Typhoon Soudelor kills 28 in China and Taiwan"
            ]
          },
          "execution_count": 6,
          "metadata": {},
          "output_type": "execute_result"
        }
      ],
      "source": [
        "test_df.head()"
      ]
    },
    {
      "cell_type": "markdown",
      "metadata": {
        "id": "hsV0lOlyNSFL"
      },
      "source": [
        "The test data doesn't have a target"
      ]
    },
    {
      "cell_type": "code",
      "execution_count": null,
      "metadata": {
        "colab": {
          "base_uri": "https://localhost:8080/"
        },
        "id": "nAZ8VuUsNIu2",
        "outputId": "63b8e3af-f00e-4727-ba48-404fd94886e3"
      },
      "outputs": [
        {
          "data": {
            "text/plain": [
              "target\n",
              "0    4342\n",
              "1    3271\n",
              "Name: count, dtype: int64"
            ]
          },
          "execution_count": 7,
          "metadata": {},
          "output_type": "execute_result"
        }
      ],
      "source": [
        "train_df.target.value_counts()"
      ]
    },
    {
      "cell_type": "code",
      "execution_count": null,
      "metadata": {
        "colab": {
          "base_uri": "https://localhost:8080/"
        },
        "id": "oZIDrwIMNyjF",
        "outputId": "06a5f487-b679-4af2-d8d1-75a19fff05bf"
      },
      "outputs": [
        {
          "name": "stdout",
          "output_type": "stream",
          "text": [
            "Training samples: 7613\n",
            "Test samples: 3263\n",
            "Total samples: 10876\n"
          ]
        }
      ],
      "source": [
        "# Total samples\n",
        "print(f\"Training samples: {len(train_df)}\")\n",
        "print(f\"Test samples: {len(test_df)}\")\n",
        "print(f\"Total samples: {len(train_df) + len(test_df)}\")"
      ]
    },
    {
      "cell_type": "code",
      "execution_count": null,
      "metadata": {
        "colab": {
          "base_uri": "https://localhost:8080/"
        },
        "id": "E2JAfuxJOKRK",
        "outputId": "dd091e5c-5ddd-4d23-c362-9003bfa5abea"
      },
      "outputs": [
        {
          "name": "stdout",
          "output_type": "stream",
          "text": [
            "Target: 1 real disaster\n",
            "Text:\n",
            "The Opposite of Love is Fear HereÛªs Why\n",
            "http://t.co/r5bXZzhXkm\n",
            "\n",
            "-------------------------------------------------\n",
            "\n",
            "Target: 0 not a real disaster\n",
            "Text:\n",
            "U.S National Park Services Tonto National Forest: Stop the Annihilation of the Salt River Wild Horse... http://t.co/6LoJOoROuk via @Change\n",
            "\n",
            "-------------------------------------------------\n",
            "\n",
            "Target: 0 not a real disaster\n",
            "Text:\n",
            "ESN :  Cilla Black died of stroke after fall in Spain: Sir Cliff revealed he was due to visit her in Spain nextÛ_ http://t.co/F7a66dIiYK\n",
            "\n",
            "-------------------------------------------------\n",
            "\n",
            "Target: 0 not a real disaster\n",
            "Text:\n",
            "Texas Seeks Comment on Rules for Changes to Windstorm Insurer http://t.co/XQIadG9H2w http://t.co/yPEElMjdZY\n",
            "\n",
            "-------------------------------------------------\n",
            "\n",
            "Target: 0 not a real disaster\n",
            "Text:\n",
            "@ArianaGrande @justinbieber I'M SCREAMING OMG #IDOLS #22DAYS #WDYM\n",
            "\n",
            "-------------------------------------------------\n",
            "\n"
          ]
        }
      ],
      "source": [
        "# A random training example\n",
        "import random\n",
        "random_index = random.randint(0, len(train_df)-5)\n",
        "for row in train_df_shuffled[[\"text\", \"target\"]][random_index:random_index+5].itertuples():\n",
        "  _, text, target = row\n",
        "  print(f\"Target: {target}\", \"real disaster\" if target > 0 else \"not a real disaster\")\n",
        "  print(f\"Text:\\n{text}\\n\")\n",
        "  print(\"-------------------------------------------------\\n\")"
      ]
    },
    {
      "cell_type": "markdown",
      "metadata": {
        "id": "A-IH1qcCPJxA"
      },
      "source": [
        "Splitting the data into training and validation sets"
      ]
    },
    {
      "cell_type": "code",
      "execution_count": null,
      "metadata": {
        "id": "WfIuT6M2PNpo"
      },
      "outputs": [],
      "source": [
        "from sklearn.model_selection import train_test_split\n",
        "\n",
        "train_sentences, val_sentences, train_labels, val_labels = train_test_split(\n",
        "    train_df_shuffled[\"text\"].to_numpy(),\n",
        "    train_df_shuffled[\"target\"].to_numpy(),\n",
        "    test_size = 0.1,\n",
        "    random_state = 42\n",
        ")"
      ]
    },
    {
      "cell_type": "code",
      "execution_count": null,
      "metadata": {
        "colab": {
          "base_uri": "https://localhost:8080/"
        },
        "id": "OxjMElHT5K8E",
        "outputId": "73fe483f-2bba-4d04-b8f7-a8aa39cb05cf"
      },
      "outputs": [
        {
          "data": {
            "text/plain": [
              "(6851, 6851, 762, 762)"
            ]
          },
          "execution_count": 11,
          "metadata": {},
          "output_type": "execute_result"
        }
      ],
      "source": [
        "len(train_sentences), len(train_labels), len(val_sentences), len(val_labels)"
      ]
    },
    {
      "cell_type": "code",
      "execution_count": null,
      "metadata": {
        "colab": {
          "base_uri": "https://localhost:8080/"
        },
        "id": "o1wjowVH5V_E",
        "outputId": "5f966b1b-a00d-46f1-a9aa-a0826ca35c07"
      },
      "outputs": [
        {
          "data": {
            "text/plain": [
              "(array(['@mogacola @zamtriossu i screamed after hitting tweet',\n",
              "        'Imagine getting flattened by Kurt Zouma',\n",
              "        '@Gurmeetramrahim #MSGDoing111WelfareWorks Green S welfare force ke appx 65000 members har time disaster victim ki help ke liye tyar hai....',\n",
              "        \"@shakjn @C7 @Magnums im shaking in fear he's gonna hack the planet\",\n",
              "        'Somehow find you and I collide http://t.co/Ee8RpOahPk',\n",
              "        '@EvaHanderek @MarleyKnysh great times until the bus driver held us hostage in the mall parking lot lmfao',\n",
              "        'destroy the free fandom honestly',\n",
              "        'Weapons stolen from National Guard Armory in New Albany still missing #Gunsense http://t.co/lKNU8902JE',\n",
              "        '@wfaaweather Pete when will the heat wave pass? Is it really going to be mid month? Frisco Boy Scouts have a canoe trip in Okla.',\n",
              "        'Patient-reported outcomes in long-term survivors of metastatic colorectal cancer - British Journal of Surgery http://t.co/5Yl4DC1Tqt'],\n",
              "       dtype=object),\n",
              " array([0, 0, 1, 0, 0, 1, 1, 0, 1, 1]))"
            ]
          },
          "execution_count": 12,
          "metadata": {},
          "output_type": "execute_result"
        }
      ],
      "source": [
        "train_sentences[:10], train_labels[:10]"
      ]
    },
    {
      "cell_type": "markdown",
      "metadata": {
        "id": "dxr0V97M5eLo"
      },
      "source": [
        "Converting the text into numbers"
      ]
    },
    {
      "cell_type": "code",
      "execution_count": null,
      "metadata": {
        "id": "PqOOEU4W5hUN"
      },
      "outputs": [],
      "source": [
        "import tensorflow as tf\n",
        "from tensorflow.keras.layers import TextVectorization\n",
        "\n",
        "# Default variables\n",
        "text_vector = TextVectorization(max_tokens=None,\n",
        "                                standardize=\"lower_and_strip_punctuation\",\n",
        "                                split=\"whitespace\",\n",
        "                                ngrams=None,\n",
        "                                output_mode=\"int\",\n",
        "                                output_sequence_length=None)"
      ]
    },
    {
      "cell_type": "code",
      "execution_count": null,
      "metadata": {
        "id": "aMGvhuXxbxkI"
      },
      "outputs": [],
      "source": [
        "# Average number of tokens in training tweets\n",
        "max_length = round(sum([len(i.split()) for i in train_sentences])/len(train_sentences))"
      ]
    },
    {
      "cell_type": "code",
      "execution_count": null,
      "metadata": {
        "id": "HZiC8oLUcakZ"
      },
      "outputs": [],
      "source": [
        "max_vocab_length = 10000\n",
        "\n",
        "# Using the obtained values for text_vector\n",
        "text_vector = TextVectorization(max_tokens=max_vocab_length,\n",
        "                                output_mode='int',\n",
        "                                output_sequence_length=max_length)"
      ]
    },
    {
      "cell_type": "code",
      "execution_count": null,
      "metadata": {
        "id": "xnshNbhSc3cu"
      },
      "outputs": [],
      "source": [
        "# Fitting the text vector\n",
        "text_vector.adapt(train_sentences)"
      ]
    },
    {
      "cell_type": "code",
      "execution_count": null,
      "metadata": {
        "colab": {
          "base_uri": "https://localhost:8080/"
        },
        "id": "WKGD8qY1dNLM",
        "outputId": "2b5314c5-132d-4731-8bd2-49454c199bd9"
      },
      "outputs": [
        {
          "data": {
            "text/plain": [
              "<tf.Tensor: shape=(1, 15), dtype=int64, numpy=\n",
              "array([[264,   3, 232,   4,  13, 698,   0,   0,   0,   0,   0,   0,   0,\n",
              "          0,   0]])>"
            ]
          },
          "execution_count": 17,
          "metadata": {},
          "output_type": "execute_result"
        }
      ],
      "source": [
        "# sample sentence and it's vectorization\n",
        "sample_sentence = \"There's a flood in my street!!\"\n",
        "text_vector([sample_sentence])"
      ]
    },
    {
      "cell_type": "markdown",
      "metadata": {
        "id": "_oOf1_SxdjzU"
      },
      "source": [
        "There are 0's at the end as we have set the output_sequence_length to 15, it always returns a sequence with a length of 15."
      ]
    },
    {
      "cell_type": "code",
      "execution_count": null,
      "metadata": {
        "colab": {
          "base_uri": "https://localhost:8080/"
        },
        "id": "rqJ23jWcddhX",
        "outputId": "a0da4161-2797-432b-ff11-0d2d913badd5"
      },
      "outputs": [
        {
          "name": "stdout",
          "output_type": "stream",
          "text": [
            "original text:\n",
            "And you wonder why he's injured every year https://t.co/XYiwR9JETl      \n",
            "Vectorized version: [[  7  12 914  91 277 243 197 183   1   0   0   0   0   0   0]]\n"
          ]
        }
      ],
      "source": [
        "random_sentence = random.choice(train_sentences)\n",
        "print(f\"original text:\\n{random_sentence}\\\n",
        "      \\nVectorized version: {text_vector([random_sentence])}\")"
      ]
    },
    {
      "cell_type": "code",
      "execution_count": null,
      "metadata": {
        "colab": {
          "base_uri": "https://localhost:8080/"
        },
        "id": "JNvKPmcIePZ_",
        "outputId": "87e52c07-fa16-4c5e-8f4b-89877b7594bc"
      },
      "outputs": [
        {
          "name": "stdout",
          "output_type": "stream",
          "text": [
            "Number of words in vocab 10000\n",
            "Top 5 words: ['', '[UNK]', 'the', 'a', 'in']\n",
            "bottom 5 words: ['pages', 'paeds', 'pads', 'padres', 'paddytomlinson1']\n"
          ]
        }
      ],
      "source": [
        "# Getting the unique words in the vocabulary\n",
        "\n",
        "words_in_vocab = text_vector.get_vocabulary()\n",
        "top_5_words = words_in_vocab[:5]\n",
        "bottom_5_words = words_in_vocab[-5:]\n",
        "\n",
        "print(f\"Number of words in vocab {len(words_in_vocab)}\")\n",
        "print(f\"Top 5 words: {top_5_words}\")\n",
        "print(f\"bottom 5 words: {bottom_5_words}\")"
      ]
    },
    {
      "cell_type": "markdown",
      "metadata": {
        "id": "S0NuoiWxe-0b"
      },
      "source": [
        "Creating an embedding."
      ]
    },
    {
      "cell_type": "code",
      "execution_count": null,
      "metadata": {
        "colab": {
          "base_uri": "https://localhost:8080/"
        },
        "id": "bEICKu1xe-Qx",
        "outputId": "f113ba3f-193c-4b6c-9999-49d0aa492f96"
      },
      "outputs": [
        {
          "data": {
            "text/plain": [
              "<keras.src.layers.core.embedding.Embedding at 0x79ef0753aaa0>"
            ]
          },
          "execution_count": 20,
          "metadata": {},
          "output_type": "execute_result"
        }
      ],
      "source": [
        "tf.random.set_seed(42)\n",
        "from tensorflow.keras import layers\n",
        "\n",
        "embedding = layers.Embedding(input_dim=max_vocab_length,\n",
        "                             output_dim=128,\n",
        "                             embeddings_initializer=\"uniform\",\n",
        "                             input_length=max_length,\n",
        "                             name='embedding')\n",
        "\n",
        "embedding"
      ]
    },
    {
      "cell_type": "code",
      "execution_count": null,
      "metadata": {
        "colab": {
          "base_uri": "https://localhost:8080/"
        },
        "id": "hASdunVmgZNH",
        "outputId": "d734685a-3143-405d-ead5-4fa551e962da"
      },
      "outputs": [
        {
          "name": "stdout",
          "output_type": "stream",
          "text": [
            "Original text\n",
            "11-Year-Old Boy Charged With Manslaughter of Toddler: Report: An 11-year-old boy has been charged with manslaughter over the fatal sh...\n",
            "Embedded version: [[[-0.03606399  0.03726501 -0.04126992 ... -0.02396358 -0.01014094\n",
            "   -0.0210322 ]\n",
            "  [ 0.04261191  0.02363369 -0.00240725 ...  0.0016214  -0.03384399\n",
            "    0.01010474]\n",
            "  [ 0.03238045 -0.03783341 -0.03077282 ...  0.02339644 -0.00627013\n",
            "   -0.03527824]\n",
            "  ...\n",
            "  [ 0.04363662 -0.01847632  0.04629991 ... -0.0256001   0.02222707\n",
            "    0.02165016]\n",
            "  [ 0.03238045 -0.03783341 -0.03077282 ...  0.02339644 -0.00627013\n",
            "   -0.03527824]\n",
            "  [ 0.02413063 -0.04286787  0.02837601 ...  0.03486643 -0.03888754\n",
            "    0.02304674]]]\n"
          ]
        }
      ],
      "source": [
        "# For a random sample sentence\n",
        "random_sentence = random.choice(train_sentences)\n",
        "sample_embedded = embedding(text_vector([random_sentence]))\n",
        "print(f\"Original text\\n{random_sentence}\")\n",
        "print(f\"Embedded version: {sample_embedded}\")"
      ]
    },
    {
      "cell_type": "code",
      "execution_count": null,
      "metadata": {
        "colab": {
          "base_uri": "https://localhost:8080/"
        },
        "id": "gUEvbdLWg4Sg",
        "outputId": "67807734-e1f3-4497-bfa5-9c9c36f81a0b"
      },
      "outputs": [
        {
          "data": {
            "text/plain": [
              "<tf.Tensor: shape=(1, 15, 128), dtype=float32, numpy=\n",
              "array([[[-0.03606399,  0.03726501, -0.04126992, ..., -0.02396358,\n",
              "         -0.01014094, -0.0210322 ],\n",
              "        [ 0.04261191,  0.02363369, -0.00240725, ...,  0.0016214 ,\n",
              "         -0.03384399,  0.01010474],\n",
              "        [ 0.03238045, -0.03783341, -0.03077282, ...,  0.02339644,\n",
              "         -0.00627013, -0.03527824],\n",
              "        ...,\n",
              "        [ 0.04363662, -0.01847632,  0.04629991, ..., -0.0256001 ,\n",
              "          0.02222707,  0.02165016],\n",
              "        [ 0.03238045, -0.03783341, -0.03077282, ...,  0.02339644,\n",
              "         -0.00627013, -0.03527824],\n",
              "        [ 0.02413063, -0.04286787,  0.02837601, ...,  0.03486643,\n",
              "         -0.03888754,  0.02304674]]], dtype=float32)>"
            ]
          },
          "execution_count": 22,
          "metadata": {},
          "output_type": "execute_result"
        }
      ],
      "source": [
        "sample_embedded"
      ]
    },
    {
      "cell_type": "markdown",
      "metadata": {
        "id": "oihdwJbuh1Uj"
      },
      "source": [
        "Modelling a text dataset"
      ]
    },
    {
      "cell_type": "markdown",
      "metadata": {
        "id": "R5oWXUpUirlg"
      },
      "source": [
        "Model 0 : getting a baseline (Naive Bayes)\n",
        "\n",
        "Here we are creating a Scikit-Learn pipeline using the TF-IDF (term frequency - inverse document frequency) to convert our words to numbers and then model them with the **Multinomial Naive Bayes algorithm**."
      ]
    },
    {
      "cell_type": "code",
      "execution_count": null,
      "metadata": {
        "colab": {
          "base_uri": "https://localhost:8080/",
          "height": 125
        },
        "id": "BRe2z9t2hw1z",
        "outputId": "fb6b3285-2e0e-4df4-c98c-bac9c09354bb"
      },
      "outputs": [
        {
          "data": {
            "text/html": [
              "<style>#sk-container-id-1 {color: black;background-color: white;}#sk-container-id-1 pre{padding: 0;}#sk-container-id-1 div.sk-toggleable {background-color: white;}#sk-container-id-1 label.sk-toggleable__label {cursor: pointer;display: block;width: 100%;margin-bottom: 0;padding: 0.3em;box-sizing: border-box;text-align: center;}#sk-container-id-1 label.sk-toggleable__label-arrow:before {content: \"▸\";float: left;margin-right: 0.25em;color: #696969;}#sk-container-id-1 label.sk-toggleable__label-arrow:hover:before {color: black;}#sk-container-id-1 div.sk-estimator:hover label.sk-toggleable__label-arrow:before {color: black;}#sk-container-id-1 div.sk-toggleable__content {max-height: 0;max-width: 0;overflow: hidden;text-align: left;background-color: #f0f8ff;}#sk-container-id-1 div.sk-toggleable__content pre {margin: 0.2em;color: black;border-radius: 0.25em;background-color: #f0f8ff;}#sk-container-id-1 input.sk-toggleable__control:checked~div.sk-toggleable__content {max-height: 200px;max-width: 100%;overflow: auto;}#sk-container-id-1 input.sk-toggleable__control:checked~label.sk-toggleable__label-arrow:before {content: \"▾\";}#sk-container-id-1 div.sk-estimator input.sk-toggleable__control:checked~label.sk-toggleable__label {background-color: #d4ebff;}#sk-container-id-1 div.sk-label input.sk-toggleable__control:checked~label.sk-toggleable__label {background-color: #d4ebff;}#sk-container-id-1 input.sk-hidden--visually {border: 0;clip: rect(1px 1px 1px 1px);clip: rect(1px, 1px, 1px, 1px);height: 1px;margin: -1px;overflow: hidden;padding: 0;position: absolute;width: 1px;}#sk-container-id-1 div.sk-estimator {font-family: monospace;background-color: #f0f8ff;border: 1px dotted black;border-radius: 0.25em;box-sizing: border-box;margin-bottom: 0.5em;}#sk-container-id-1 div.sk-estimator:hover {background-color: #d4ebff;}#sk-container-id-1 div.sk-parallel-item::after {content: \"\";width: 100%;border-bottom: 1px solid gray;flex-grow: 1;}#sk-container-id-1 div.sk-label:hover label.sk-toggleable__label {background-color: #d4ebff;}#sk-container-id-1 div.sk-serial::before {content: \"\";position: absolute;border-left: 1px solid gray;box-sizing: border-box;top: 0;bottom: 0;left: 50%;z-index: 0;}#sk-container-id-1 div.sk-serial {display: flex;flex-direction: column;align-items: center;background-color: white;padding-right: 0.2em;padding-left: 0.2em;position: relative;}#sk-container-id-1 div.sk-item {position: relative;z-index: 1;}#sk-container-id-1 div.sk-parallel {display: flex;align-items: stretch;justify-content: center;background-color: white;position: relative;}#sk-container-id-1 div.sk-item::before, #sk-container-id-1 div.sk-parallel-item::before {content: \"\";position: absolute;border-left: 1px solid gray;box-sizing: border-box;top: 0;bottom: 0;left: 50%;z-index: -1;}#sk-container-id-1 div.sk-parallel-item {display: flex;flex-direction: column;z-index: 1;position: relative;background-color: white;}#sk-container-id-1 div.sk-parallel-item:first-child::after {align-self: flex-end;width: 50%;}#sk-container-id-1 div.sk-parallel-item:last-child::after {align-self: flex-start;width: 50%;}#sk-container-id-1 div.sk-parallel-item:only-child::after {width: 0;}#sk-container-id-1 div.sk-dashed-wrapped {border: 1px dashed gray;margin: 0 0.4em 0.5em 0.4em;box-sizing: border-box;padding-bottom: 0.4em;background-color: white;}#sk-container-id-1 div.sk-label label {font-family: monospace;font-weight: bold;display: inline-block;line-height: 1.2em;}#sk-container-id-1 div.sk-label-container {text-align: center;}#sk-container-id-1 div.sk-container {/* jupyter's `normalize.less` sets `[hidden] { display: none; }` but bootstrap.min.css set `[hidden] { display: none !important; }` so we also need the `!important` here to be able to override the default hidden behavior on the sphinx rendered scikit-learn.org. See: https://github.com/scikit-learn/scikit-learn/issues/21755 */display: inline-block !important;position: relative;}#sk-container-id-1 div.sk-text-repr-fallback {display: none;}</style><div id=\"sk-container-id-1\" class=\"sk-top-container\"><div class=\"sk-text-repr-fallback\"><pre>Pipeline(steps=[(&#x27;tfidf&#x27;, TfidfVectorizer()), (&#x27;clf&#x27;, MultinomialNB())])</pre><b>In a Jupyter environment, please rerun this cell to show the HTML representation or trust the notebook. <br />On GitHub, the HTML representation is unable to render, please try loading this page with nbviewer.org.</b></div><div class=\"sk-container\" hidden><div class=\"sk-item sk-dashed-wrapped\"><div class=\"sk-label-container\"><div class=\"sk-label sk-toggleable\"><input class=\"sk-toggleable__control sk-hidden--visually\" id=\"sk-estimator-id-1\" type=\"checkbox\" ><label for=\"sk-estimator-id-1\" class=\"sk-toggleable__label sk-toggleable__label-arrow\">Pipeline</label><div class=\"sk-toggleable__content\"><pre>Pipeline(steps=[(&#x27;tfidf&#x27;, TfidfVectorizer()), (&#x27;clf&#x27;, MultinomialNB())])</pre></div></div></div><div class=\"sk-serial\"><div class=\"sk-item\"><div class=\"sk-estimator sk-toggleable\"><input class=\"sk-toggleable__control sk-hidden--visually\" id=\"sk-estimator-id-2\" type=\"checkbox\" ><label for=\"sk-estimator-id-2\" class=\"sk-toggleable__label sk-toggleable__label-arrow\">TfidfVectorizer</label><div class=\"sk-toggleable__content\"><pre>TfidfVectorizer()</pre></div></div></div><div class=\"sk-item\"><div class=\"sk-estimator sk-toggleable\"><input class=\"sk-toggleable__control sk-hidden--visually\" id=\"sk-estimator-id-3\" type=\"checkbox\" ><label for=\"sk-estimator-id-3\" class=\"sk-toggleable__label sk-toggleable__label-arrow\">MultinomialNB</label><div class=\"sk-toggleable__content\"><pre>MultinomialNB()</pre></div></div></div></div></div></div></div>"
            ],
            "text/plain": [
              "Pipeline(steps=[('tfidf', TfidfVectorizer()), ('clf', MultinomialNB())])"
            ]
          },
          "execution_count": 23,
          "metadata": {},
          "output_type": "execute_result"
        }
      ],
      "source": [
        "from sklearn.feature_extraction.text import TfidfVectorizer\n",
        "from sklearn.naive_bayes import MultinomialNB\n",
        "from sklearn.pipeline import Pipeline\n",
        "\n",
        "model_0 = Pipeline([\n",
        "    (\"tfidf\", TfidfVectorizer()),\n",
        "    (\"clf\", MultinomialNB())\n",
        "])\n",
        "\n",
        "model_0.fit(train_sentences, train_labels)"
      ]
    },
    {
      "cell_type": "code",
      "execution_count": null,
      "metadata": {
        "colab": {
          "base_uri": "https://localhost:8080/"
        },
        "id": "4cQXpx2WDnBN",
        "outputId": "2d92c2be-f67c-4341-8f82-fc30d04a694c"
      },
      "outputs": [
        {
          "name": "stdout",
          "output_type": "stream",
          "text": [
            "Baseline model accuracy: 79.27%\n"
          ]
        }
      ],
      "source": [
        "baseline_score = model_0.score(val_sentences, val_labels)\n",
        "print(f\"Baseline model accuracy: {baseline_score*100:.2f}%\")"
      ]
    },
    {
      "cell_type": "code",
      "execution_count": null,
      "metadata": {
        "colab": {
          "base_uri": "https://localhost:8080/"
        },
        "id": "-jxeca-AD3U4",
        "outputId": "b95aa70e-f6b6-4132-da76-08d428f8ad45"
      },
      "outputs": [
        {
          "data": {
            "text/plain": [
              "array([1, 1, 1, 0, 0, 1, 1, 1, 1, 0, 0, 1, 0, 0, 0, 0, 0, 0, 0, 1])"
            ]
          },
          "execution_count": 25,
          "metadata": {},
          "output_type": "execute_result"
        }
      ],
      "source": [
        "# Predictions\n",
        "baseline_predictions = model_0.predict(val_sentences)\n",
        "baseline_predictions[:20]"
      ]
    },
    {
      "cell_type": "code",
      "execution_count": null,
      "metadata": {
        "id": "png3M69USKol"
      },
      "outputs": [],
      "source": [
        "# Function to evaluate: accuraacy, precision, recall, f1-score\n",
        "\n",
        "from sklearn.metrics import accuracy_score, precision_recall_fscore_support\n",
        "\n",
        "def calculate_results(y_true, y_pred):\n",
        "  # Accuracy\n",
        "  model_accuracy = accuracy_score(y_true, y_pred) * 100\n",
        "  model_precision, model_recall, model_f1, _ = precision_recall_fscore_support(y_true, y_pred, average=\"weighted\")\n",
        "  model_results = {\"accuracy\": model_accuracy,\n",
        "                   \"precision\": model_precision,\n",
        "                   \"recall\": model_recall,\n",
        "                   \"f1\": model_f1}\n",
        "\n",
        "  return model_results"
      ]
    },
    {
      "cell_type": "code",
      "execution_count": null,
      "metadata": {
        "colab": {
          "base_uri": "https://localhost:8080/"
        },
        "id": "UGak-chHTZ-a",
        "outputId": "386aed75-591b-4b45-9f54-2204e450a05e"
      },
      "outputs": [
        {
          "data": {
            "text/plain": [
              "{'accuracy': 79.26509186351706,\n",
              " 'precision': 0.8111390004213173,\n",
              " 'recall': 0.7926509186351706,\n",
              " 'f1': 0.7862189758049549}"
            ]
          },
          "execution_count": 27,
          "metadata": {},
          "output_type": "execute_result"
        }
      ],
      "source": [
        "baseline_results = calculate_results(y_true=val_labels,\n",
        "                                     y_pred=baseline_predictions)\n",
        "baseline_results"
      ]
    },
    {
      "cell_type": "markdown",
      "metadata": {
        "id": "uBJUsliTTpV8"
      },
      "source": [
        "Model 1: Dense Model\n",
        "\n",
        "Here we will take the text and labels as input, tokenize the text, create an embedding, find the average of the embedding and then pass it through a fully connected layer with one output unit and a sigmoid activation function."
      ]
    },
    {
      "cell_type": "code",
      "execution_count": null,
      "metadata": {
        "id": "fNpbG4zTTo4j"
      },
      "outputs": [],
      "source": [
        "# For tensorboard callback\n",
        "SAVE_DIR = \"model_logs\""
      ]
    },
    {
      "cell_type": "code",
      "execution_count": null,
      "metadata": {
        "id": "-99tc50GUdfQ"
      },
      "outputs": [],
      "source": [
        "# model build\n",
        "from tensorflow.keras import layers\n",
        "inputs = layers.Input(shape=(1,), dtype=\"string\")\n",
        "x = text_vector(inputs)\n",
        "x = embedding(x)\n",
        "x = layers.GlobalAveragePooling1D()(x)\n",
        "outputs = layers.Dense(1, activation='sigmoid')(x)\n",
        "model_1 = tf.keras.Model(inputs, outputs, name=\"model_1_dense\")"
      ]
    },
    {
      "cell_type": "code",
      "execution_count": null,
      "metadata": {
        "id": "BYSZ9YFLVJKQ"
      },
      "outputs": [],
      "source": [
        "# Compile the model\n",
        "model_1.compile(loss=\"binary_crossentropy\",\n",
        "                optimizer=tf.keras.optimizers.Adam(),\n",
        "                metrics=['accuracy'])"
      ]
    },
    {
      "cell_type": "code",
      "execution_count": null,
      "metadata": {
        "colab": {
          "base_uri": "https://localhost:8080/"
        },
        "id": "FuxI-QdbVVAd",
        "outputId": "859104f4-bb00-41d2-8512-53b9a3c4621f"
      },
      "outputs": [
        {
          "name": "stdout",
          "output_type": "stream",
          "text": [
            "Model: \"model_1_dense\"\n",
            "_________________________________________________________________\n",
            " Layer (type)                Output Shape              Param #   \n",
            "=================================================================\n",
            " input_1 (InputLayer)        [(None, 1)]               0         \n",
            "                                                                 \n",
            " text_vectorization_1 (Text  (None, 15)                0         \n",
            " Vectorization)                                                  \n",
            "                                                                 \n",
            " embedding (Embedding)       (None, 15, 128)           1280000   \n",
            "                                                                 \n",
            " global_average_pooling1d (  (None, 128)               0         \n",
            " GlobalAveragePooling1D)                                         \n",
            "                                                                 \n",
            " dense (Dense)               (None, 1)                 129       \n",
            "                                                                 \n",
            "=================================================================\n",
            "Total params: 1280129 (4.88 MB)\n",
            "Trainable params: 1280129 (4.88 MB)\n",
            "Non-trainable params: 0 (0.00 Byte)\n",
            "_________________________________________________________________\n"
          ]
        }
      ],
      "source": [
        "model_1.summary()"
      ]
    },
    {
      "cell_type": "code",
      "execution_count": null,
      "metadata": {
        "colab": {
          "base_uri": "https://localhost:8080/"
        },
        "id": "Tho2HYClVW6K",
        "outputId": "1bcfe51d-6c01-4e8d-ee22-1d63664245ad"
      },
      "outputs": [
        {
          "name": "stdout",
          "output_type": "stream",
          "text": [
            "Saving TensorBoard log files to: model_logs/simple_dense_model/20240531-162243\n",
            "Epoch 1/5\n",
            "215/215 [==============================] - 10s 38ms/step - loss: 0.6102 - accuracy: 0.6923 - val_loss: 0.5363 - val_accuracy: 0.7546\n",
            "Epoch 2/5\n",
            "215/215 [==============================] - 9s 41ms/step - loss: 0.4416 - accuracy: 0.8186 - val_loss: 0.4691 - val_accuracy: 0.7861\n",
            "Epoch 3/5\n",
            "215/215 [==============================] - 9s 43ms/step - loss: 0.3467 - accuracy: 0.8616 - val_loss: 0.4589 - val_accuracy: 0.7913\n",
            "Epoch 4/5\n",
            "215/215 [==============================] - 8s 37ms/step - loss: 0.2852 - accuracy: 0.8920 - val_loss: 0.4639 - val_accuracy: 0.7913\n",
            "Epoch 5/5\n",
            "215/215 [==============================] - 7s 33ms/step - loss: 0.2383 - accuracy: 0.9120 - val_loss: 0.4765 - val_accuracy: 0.7861\n"
          ]
        }
      ],
      "source": [
        "# fit the model\n",
        "model_1_history = model_1.fit(train_sentences,\n",
        "                              train_labels,\n",
        "                              epochs=5,\n",
        "                              validation_data=(val_sentences, val_labels),\n",
        "                              callbacks=[create_tensorboard_callback(dir_name=SAVE_DIR,\n",
        "                                                                     experiment_name=\"simple_dense_model\")])\n"
      ]
    },
    {
      "cell_type": "code",
      "execution_count": null,
      "metadata": {
        "colab": {
          "base_uri": "https://localhost:8080/"
        },
        "id": "Rz77kTlkWNfA",
        "outputId": "f167e8f1-5b9a-487e-946e-38260106ae71"
      },
      "outputs": [
        {
          "name": "stdout",
          "output_type": "stream",
          "text": [
            "24/24 [==============================] - 0s 8ms/step - loss: 0.4765 - accuracy: 0.7861\n"
          ]
        },
        {
          "data": {
            "text/plain": [
              "[0.47648879885673523, 0.7860892415046692]"
            ]
          },
          "execution_count": 33,
          "metadata": {},
          "output_type": "execute_result"
        }
      ],
      "source": [
        "model_1.evaluate(val_sentences, val_labels)"
      ]
    },
    {
      "cell_type": "code",
      "execution_count": null,
      "metadata": {
        "colab": {
          "base_uri": "https://localhost:8080/"
        },
        "id": "NgtnceoBWUVE",
        "outputId": "3bb10776-c4ee-48d0-9ca9-df6c342eca20"
      },
      "outputs": [
        {
          "data": {
            "text/plain": [
              "[<tf.Variable 'embedding/embeddings:0' shape=(10000, 128) dtype=float32, numpy=\n",
              " array([[-0.02126333, -0.05939592,  0.01058103, ...,  0.0523469 ,\n",
              "         -0.05935701, -0.01589711],\n",
              "        [-0.04461236, -0.01971451,  0.00950363, ..., -0.00860245,\n",
              "          0.03613629,  0.02784519],\n",
              "        [-0.00734588, -0.00890475,  0.00602275, ...,  0.02742474,\n",
              "         -0.03689394, -0.03179537],\n",
              "        ...,\n",
              "        [ 0.01241798, -0.00413041,  0.02427259, ..., -0.0222441 ,\n",
              "          0.02089028,  0.03771528],\n",
              "        [ 0.00446764, -0.01938926, -0.00573905, ...,  0.04745048,\n",
              "         -0.02234251,  0.03179605],\n",
              "        [-0.07668966, -0.02601667, -0.0675623 , ...,  0.02236539,\n",
              "         -0.1050891 ,  0.0875928 ]], dtype=float32)>]"
            ]
          },
          "execution_count": 34,
          "metadata": {},
          "output_type": "execute_result"
        }
      ],
      "source": [
        "embedding.weights"
      ]
    },
    {
      "cell_type": "code",
      "execution_count": null,
      "metadata": {
        "colab": {
          "base_uri": "https://localhost:8080/"
        },
        "id": "m5AfHPrjWWfE",
        "outputId": "3cce2da6-f0c5-4fd8-ff7f-d947f6fc2b80"
      },
      "outputs": [
        {
          "name": "stdout",
          "output_type": "stream",
          "text": [
            "(10000, 128)\n"
          ]
        }
      ],
      "source": [
        "embed_weights = model_1.get_layer(\"embedding\").get_weights()[0]\n",
        "print(embed_weights.shape)"
      ]
    },
    {
      "cell_type": "code",
      "execution_count": null,
      "metadata": {
        "colab": {
          "base_uri": "https://localhost:8080/"
        },
        "id": "ynQcPKYRp3tI",
        "outputId": "08044651-a999-4a2b-e49c-9df4f768ec60"
      },
      "outputs": [
        {
          "name": "stdout",
          "output_type": "stream",
          "text": [
            "24/24 [==============================] - 0s 3ms/step\n"
          ]
        },
        {
          "data": {
            "text/plain": [
              "array([[0.4284711 ],\n",
              "       [0.74536425],\n",
              "       [0.99779433],\n",
              "       [0.11161364],\n",
              "       [0.10884041],\n",
              "       [0.93603384],\n",
              "       [0.9123807 ],\n",
              "       [0.9928988 ],\n",
              "       [0.9690309 ],\n",
              "       [0.26502284]], dtype=float32)"
            ]
          },
          "execution_count": 36,
          "metadata": {},
          "output_type": "execute_result"
        }
      ],
      "source": [
        "# Model 1 Predictions\n",
        "model_1_pred_probs = model_1.predict(val_sentences)\n",
        "model_1_pred_probs[:10]"
      ]
    },
    {
      "cell_type": "code",
      "execution_count": null,
      "metadata": {
        "colab": {
          "base_uri": "https://localhost:8080/"
        },
        "id": "8xQMjZbzqNMU",
        "outputId": "ccdc2aea-adc6-4803-9e65-8cdb35517d38"
      },
      "outputs": [
        {
          "data": {
            "text/plain": [
              "<tf.Tensor: shape=(20,), dtype=float32, numpy=\n",
              "array([0., 1., 1., 0., 0., 1., 1., 1., 1., 0., 0., 1., 0., 0., 0., 0., 0.,\n",
              "       0., 0., 1.], dtype=float32)>"
            ]
          },
          "execution_count": 37,
          "metadata": {},
          "output_type": "execute_result"
        }
      ],
      "source": [
        "# Turning the prediction probabilities into single-dimension tensors\n",
        "# If probability < 0.5 round it 0; if probability > 0.5 round it to 1\n",
        "model_1_predictions = tf.squeeze(tf.round(model_1_pred_probs))\n",
        "model_1_predictions[:20]"
      ]
    },
    {
      "cell_type": "code",
      "execution_count": null,
      "metadata": {
        "colab": {
          "base_uri": "https://localhost:8080/"
        },
        "id": "CRYEXaqhqoFt",
        "outputId": "ee61758e-5bb8-4d24-86ed-a0a8007ff4a6"
      },
      "outputs": [
        {
          "data": {
            "text/plain": [
              "{'accuracy': 78.60892388451444,\n",
              " 'precision': 0.7903277546022673,\n",
              " 'recall': 0.7860892388451444,\n",
              " 'f1': 0.7832971347503846}"
            ]
          },
          "execution_count": 38,
          "metadata": {},
          "output_type": "execute_result"
        }
      ],
      "source": [
        "model_1_results = calculate_results(y_true=val_labels,\n",
        "                               y_pred=model_1_predictions)\n",
        "model_1_results"
      ]
    },
    {
      "cell_type": "code",
      "execution_count": null,
      "metadata": {
        "id": "ACG3dazrq673"
      },
      "outputs": [],
      "source": [
        "# Function to compare baseline results to new model\n",
        "\n",
        "def compare_baseline_to_new_results(baseline_results, new_model_results):\n",
        "  for key, value in baseline_results.items():\n",
        "    print(f\"Baseline {key}: {value:.2f}, new {key}: {new_model_results[key]:.2f}\")\n",
        "    print(f\"Difference: {new_model_results[key]-value:.2f}\")\n"
      ]
    },
    {
      "cell_type": "code",
      "execution_count": null,
      "metadata": {
        "colab": {
          "base_uri": "https://localhost:8080/"
        },
        "id": "FmoepKdZrkjs",
        "outputId": "70b58635-a72c-4c8e-ab86-1f16d5c67257"
      },
      "outputs": [
        {
          "name": "stdout",
          "output_type": "stream",
          "text": [
            "Baseline accuracy: 79.27, new accuracy: 78.61\n",
            "Difference: -0.66\n",
            "Baseline precision: 0.81, new precision: 0.79\n",
            "Difference: -0.02\n",
            "Baseline recall: 0.79, new recall: 0.79\n",
            "Difference: -0.01\n",
            "Baseline f1: 0.79, new f1: 0.78\n",
            "Difference: -0.00\n"
          ]
        }
      ],
      "source": [
        "compare_baseline_to_new_results(baseline_results=baseline_results,\n",
        "                                new_model_results=model_1_results)"
      ]
    },
    {
      "cell_type": "markdown",
      "metadata": {
        "id": "364O00YRsnqG"
      },
      "source": [
        "Recurrent Neural Networks (RNNs)"
      ]
    },
    {
      "cell_type": "markdown",
      "metadata": {
        "id": "G7c3dNXRuVWm"
      },
      "source": [
        "Model 2: **LSTM**"
      ]
    },
    {
      "cell_type": "code",
      "execution_count": null,
      "metadata": {
        "colab": {
          "base_uri": "https://localhost:8080/"
        },
        "id": "cmNoZCnwC3vo",
        "outputId": "fd1fd903-6fe4-482f-f198-efa85acc7eaa"
      },
      "outputs": [
        {
          "name": "stdout",
          "output_type": "stream",
          "text": [
            "(None, 15, 128)\n",
            "(None, 64)\n"
          ]
        }
      ],
      "source": [
        "# New embedding layer\n",
        "tf.random.set_seed(42)\n",
        "from tensorflow.keras import layers\n",
        "model_2_embedding = layers.Embedding(input_dim=max_vocab_length,\n",
        "                                     output_dim=128,\n",
        "                                     embeddings_initializer=\"uniform\",\n",
        "                                     input_length=max_length,\n",
        "                                     name=\"embedding_2\")\n",
        "\n",
        "# Create LSTM model\n",
        "inputs = layers.Input(shape=(1,), dtype=\"string\")\n",
        "x = text_vector(inputs)\n",
        "x = model_2_embedding(x)\n",
        "print(x.shape)\n",
        "x = layers.LSTM(64)(x)\n",
        "print(x.shape)\n",
        "x = layers.Dense(64, activation=\"relu\")(x)\n",
        "outputs = layers.Dense(1, activation=\"sigmoid\")(x)\n",
        "model_2 = tf.keras.Model(inputs, outputs, name=\"model_2_LSTM\")"
      ]
    },
    {
      "cell_type": "code",
      "execution_count": null,
      "metadata": {
        "id": "I0Zvh3T1C5Y9"
      },
      "outputs": [],
      "source": [
        "model_2.compile(loss=\"binary_crossentropy\",\n",
        "                optimizer=tf.keras.optimizers.Adam(),\n",
        "                metrics=[\"accuracy\"])"
      ]
    },
    {
      "cell_type": "code",
      "execution_count": null,
      "metadata": {
        "colab": {
          "base_uri": "https://localhost:8080/"
        },
        "id": "G2TCbupoDKm6",
        "outputId": "bd0835be-777f-4d1b-8fab-792ac8339db3"
      },
      "outputs": [
        {
          "name": "stdout",
          "output_type": "stream",
          "text": [
            "Model: \"model_2_LSTM\"\n",
            "_________________________________________________________________\n",
            " Layer (type)                Output Shape              Param #   \n",
            "=================================================================\n",
            " input_2 (InputLayer)        [(None, 1)]               0         \n",
            "                                                                 \n",
            " text_vectorization_1 (Text  (None, 15)                0         \n",
            " Vectorization)                                                  \n",
            "                                                                 \n",
            " embedding_2 (Embedding)     (None, 15, 128)           1280000   \n",
            "                                                                 \n",
            " lstm (LSTM)                 (None, 64)                49408     \n",
            "                                                                 \n",
            " dense_1 (Dense)             (None, 64)                4160      \n",
            "                                                                 \n",
            " dense_2 (Dense)             (None, 1)                 65        \n",
            "                                                                 \n",
            "=================================================================\n",
            "Total params: 1333633 (5.09 MB)\n",
            "Trainable params: 1333633 (5.09 MB)\n",
            "Non-trainable params: 0 (0.00 Byte)\n",
            "_________________________________________________________________\n"
          ]
        }
      ],
      "source": [
        "model_2.summary()"
      ]
    },
    {
      "cell_type": "code",
      "execution_count": null,
      "metadata": {
        "colab": {
          "base_uri": "https://localhost:8080/"
        },
        "id": "dHHeUhabFfIX",
        "outputId": "e22fc90f-23f2-4781-917c-290e2fb94e57"
      },
      "outputs": [
        {
          "name": "stdout",
          "output_type": "stream",
          "text": [
            "Saving TensorBoard log files to: model_logs/LSTM/20240531-162329\n",
            "Epoch 1/5\n",
            "215/215 [==============================] - 20s 67ms/step - loss: 0.5156 - accuracy: 0.7424 - val_loss: 0.4553 - val_accuracy: 0.7808\n",
            "Epoch 2/5\n",
            "215/215 [==============================] - 11s 52ms/step - loss: 0.3210 - accuracy: 0.8721 - val_loss: 0.5105 - val_accuracy: 0.7795\n",
            "Epoch 3/5\n",
            "215/215 [==============================] - 10s 48ms/step - loss: 0.2217 - accuracy: 0.9130 - val_loss: 0.5736 - val_accuracy: 0.7638\n",
            "Epoch 4/5\n",
            "215/215 [==============================] - 10s 47ms/step - loss: 0.1537 - accuracy: 0.9442 - val_loss: 0.7203 - val_accuracy: 0.7782\n",
            "Epoch 5/5\n",
            "215/215 [==============================] - 10s 46ms/step - loss: 0.1077 - accuracy: 0.9584 - val_loss: 0.8368 - val_accuracy: 0.7730\n"
          ]
        }
      ],
      "source": [
        "# Fit model\n",
        "model_2_history = model_2.fit(train_sentences,\n",
        "                              train_labels,\n",
        "                              epochs=5,\n",
        "                              validation_data=(val_sentences, val_labels),\n",
        "                              callbacks=[create_tensorboard_callback(SAVE_DIR,\n",
        "                                                                     \"LSTM\")])"
      ]
    },
    {
      "cell_type": "code",
      "execution_count": null,
      "metadata": {
        "colab": {
          "base_uri": "https://localhost:8080/"
        },
        "id": "p0et4MmnF9xV",
        "outputId": "4a50ca5a-ab1b-4dc0-be57-0c58f2d105d8"
      },
      "outputs": [
        {
          "name": "stdout",
          "output_type": "stream",
          "text": [
            "24/24 [==============================] - 1s 8ms/step\n"
          ]
        },
        {
          "data": {
            "text/plain": [
              "((762, 1),\n",
              " array([[0.00631997],\n",
              "        [0.72958905],\n",
              "        [0.9986843 ],\n",
              "        [0.03336703],\n",
              "        [0.0010609 ],\n",
              "        [0.9975324 ],\n",
              "        [0.8381414 ],\n",
              "        [0.99937874],\n",
              "        [0.9983522 ],\n",
              "        [0.41596147]], dtype=float32))"
            ]
          },
          "execution_count": 45,
          "metadata": {},
          "output_type": "execute_result"
        }
      ],
      "source": [
        "model_2_prediction_probs = model_2.predict(val_sentences)\n",
        "model_2_prediction_probs.shape, model_2_prediction_probs[:10]"
      ]
    },
    {
      "cell_type": "code",
      "execution_count": null,
      "metadata": {
        "colab": {
          "base_uri": "https://localhost:8080/"
        },
        "id": "G6JjDl_BGL2N",
        "outputId": "d4a81edf-dbe4-4bcb-89f2-954b529f8fdd"
      },
      "outputs": [
        {
          "data": {
            "text/plain": [
              "<tf.Tensor: shape=(10,), dtype=float32, numpy=array([0., 1., 1., 0., 0., 1., 1., 1., 1., 0.], dtype=float32)>"
            ]
          },
          "execution_count": 46,
          "metadata": {},
          "output_type": "execute_result"
        }
      ],
      "source": [
        "# Round out the predictions\n",
        "model_2_predictions = tf.squeeze(tf.round(model_2_prediction_probs))\n",
        "model_2_predictions[:10]"
      ]
    },
    {
      "cell_type": "code",
      "execution_count": null,
      "metadata": {
        "colab": {
          "base_uri": "https://localhost:8080/"
        },
        "id": "QTlIMKtRGeu2",
        "outputId": "c6773167-6c9e-4a69-aea4-2e92102cef8d"
      },
      "outputs": [
        {
          "data": {
            "text/plain": [
              "{'accuracy': 77.29658792650919,\n",
              " 'precision': 0.775649278370019,\n",
              " 'recall': 0.7729658792650919,\n",
              " 'f1': 0.7704381702262061}"
            ]
          },
          "execution_count": 47,
          "metadata": {},
          "output_type": "execute_result"
        }
      ],
      "source": [
        "model_2_results = calculate_results(y_true=val_labels,\n",
        "                                    y_pred=model_2_predictions)\n",
        "model_2_results"
      ]
    },
    {
      "cell_type": "code",
      "execution_count": null,
      "metadata": {
        "colab": {
          "base_uri": "https://localhost:8080/"
        },
        "id": "JE4wBGFfGsAu",
        "outputId": "d6026655-9764-4b99-dd25-59f484675c3a"
      },
      "outputs": [
        {
          "name": "stdout",
          "output_type": "stream",
          "text": [
            "Baseline accuracy: 79.27, new accuracy: 77.30\n",
            "Difference: -1.97\n",
            "Baseline precision: 0.81, new precision: 0.78\n",
            "Difference: -0.04\n",
            "Baseline recall: 0.79, new recall: 0.77\n",
            "Difference: -0.02\n",
            "Baseline f1: 0.79, new f1: 0.77\n",
            "Difference: -0.02\n"
          ]
        }
      ],
      "source": [
        "# Comparing with baseline\n",
        "compare_baseline_to_new_results(baseline_results, model_2_results)"
      ]
    },
    {
      "cell_type": "markdown",
      "metadata": {
        "id": "r5Vdf7VqG68U"
      },
      "source": [
        "Model 3: **GRU**"
      ]
    },
    {
      "cell_type": "code",
      "execution_count": null,
      "metadata": {
        "id": "yf4MX4cxG6Xm"
      },
      "outputs": [],
      "source": [
        "tf.random.set_seed(42)\n",
        "\n",
        "from tensorflow.keras import layers\n",
        "model_3_embedding = layers.Embedding(input_dim=max_vocab_length,\n",
        "                                     output_dim=128,\n",
        "                                     embeddings_initializer=\"uniform\",\n",
        "                                     input_length=max_length,\n",
        "                                     name=\"embedding_3\")\n",
        "\n",
        "inputs = layers.Input(shape=(1,), dtype=\"string\")\n",
        "x = text_vector(inputs)\n",
        "x = model_3_embedding(x)\n",
        "x = layers.GRU(64)(x)\n",
        "# To stack recurent cells: x = layers.GRU(64, return_sequences=True)\n",
        "x = layers.Dense(64, activation=\"relu\")(x)\n",
        "outputs = layers.Dense(1, activation=\"sigmoid\")(x)\n",
        "model_3 = tf.keras.Model(inputs, outputs, name=\"model_3_GRU\")"
      ]
    },
    {
      "cell_type": "code",
      "execution_count": null,
      "metadata": {
        "id": "JctySBnpsUOZ"
      },
      "outputs": [],
      "source": [
        "model_3.compile(loss=\"binary_crossentropy\",\n",
        "                optimizer=tf.keras.optimizers.Adam(),\n",
        "                metrics=[\"accuracy\"])"
      ]
    },
    {
      "cell_type": "code",
      "execution_count": null,
      "metadata": {
        "colab": {
          "base_uri": "https://localhost:8080/"
        },
        "id": "VyQhafNitoXi",
        "outputId": "343443af-eb9c-4a23-e9b9-1f7e0e24ffb8"
      },
      "outputs": [
        {
          "name": "stdout",
          "output_type": "stream",
          "text": [
            "Model: \"model_3_GRU\"\n",
            "_________________________________________________________________\n",
            " Layer (type)                Output Shape              Param #   \n",
            "=================================================================\n",
            " input_3 (InputLayer)        [(None, 1)]               0         \n",
            "                                                                 \n",
            " text_vectorization_1 (Text  (None, 15)                0         \n",
            " Vectorization)                                                  \n",
            "                                                                 \n",
            " embedding_3 (Embedding)     (None, 15, 128)           1280000   \n",
            "                                                                 \n",
            " gru (GRU)                   (None, 64)                37248     \n",
            "                                                                 \n",
            " dense_3 (Dense)             (None, 64)                4160      \n",
            "                                                                 \n",
            " dense_4 (Dense)             (None, 1)                 65        \n",
            "                                                                 \n",
            "=================================================================\n",
            "Total params: 1321473 (5.04 MB)\n",
            "Trainable params: 1321473 (5.04 MB)\n",
            "Non-trainable params: 0 (0.00 Byte)\n",
            "_________________________________________________________________\n"
          ]
        }
      ],
      "source": [
        "model_3.summary()"
      ]
    },
    {
      "cell_type": "code",
      "execution_count": null,
      "metadata": {
        "colab": {
          "base_uri": "https://localhost:8080/"
        },
        "id": "57ttxWAUt17s",
        "outputId": "999f0f82-a303-4c04-812f-8358bc34f316"
      },
      "outputs": [
        {
          "name": "stdout",
          "output_type": "stream",
          "text": [
            "Saving TensorBoard log files to: model_logs/GRU/20240531-162433\n",
            "Epoch 1/5\n",
            "215/215 [==============================] - 16s 48ms/step - loss: 0.5397 - accuracy: 0.7171 - val_loss: 0.4501 - val_accuracy: 0.7848\n",
            "Epoch 2/5\n",
            "215/215 [==============================] - 11s 51ms/step - loss: 0.3263 - accuracy: 0.8653 - val_loss: 0.4904 - val_accuracy: 0.7822\n",
            "Epoch 3/5\n",
            "215/215 [==============================] - 10s 48ms/step - loss: 0.2216 - accuracy: 0.9165 - val_loss: 0.5460 - val_accuracy: 0.7769\n",
            "Epoch 4/5\n",
            "215/215 [==============================] - 9s 42ms/step - loss: 0.1568 - accuracy: 0.9435 - val_loss: 0.6362 - val_accuracy: 0.7782\n",
            "Epoch 5/5\n",
            "215/215 [==============================] - 10s 46ms/step - loss: 0.1148 - accuracy: 0.9602 - val_loss: 0.6180 - val_accuracy: 0.7677\n"
          ]
        }
      ],
      "source": [
        "# Fit the model\n",
        "model_3_history = model_3.fit(train_sentences,\n",
        "                              train_labels,\n",
        "                              epochs=5,\n",
        "                              validation_data=(val_sentences, val_labels),\n",
        "                              callbacks=[create_tensorboard_callback(SAVE_DIR, \"GRU\")])"
      ]
    },
    {
      "cell_type": "code",
      "execution_count": null,
      "metadata": {
        "colab": {
          "base_uri": "https://localhost:8080/"
        },
        "id": "grt9uI8muOSN",
        "outputId": "03c2c680-ecd9-41a5-880d-e3b39f5d8a96"
      },
      "outputs": [
        {
          "name": "stdout",
          "output_type": "stream",
          "text": [
            "24/24 [==============================] - 1s 8ms/step\n"
          ]
        },
        {
          "data": {
            "text/plain": [
              "((762, 1),\n",
              " array([[0.24704391],\n",
              "        [0.9064677 ],\n",
              "        [0.9988725 ],\n",
              "        [0.16311865],\n",
              "        [0.01520122],\n",
              "        [0.99527264],\n",
              "        [0.8129676 ],\n",
              "        [0.9980156 ],\n",
              "        [0.99829376],\n",
              "        [0.52608824]], dtype=float32))"
            ]
          },
          "execution_count": 53,
          "metadata": {},
          "output_type": "execute_result"
        }
      ],
      "source": [
        "model_3_pred_probs = model_3.predict(val_sentences)\n",
        "model_3_pred_probs.shape, model_3_pred_probs[:10]"
      ]
    },
    {
      "cell_type": "code",
      "execution_count": null,
      "metadata": {
        "colab": {
          "base_uri": "https://localhost:8080/"
        },
        "id": "f9uxmfgUuiC4",
        "outputId": "7c3f776c-4bc4-42b5-87d4-db44dde8275c"
      },
      "outputs": [
        {
          "data": {
            "text/plain": [
              "<tf.Tensor: shape=(10,), dtype=float32, numpy=array([0., 1., 1., 0., 0., 1., 1., 1., 1., 1.], dtype=float32)>"
            ]
          },
          "execution_count": 54,
          "metadata": {},
          "output_type": "execute_result"
        }
      ],
      "source": [
        "# Rounding off the probs\n",
        "model_3_preds = tf.squeeze(tf.round(model_3_pred_probs))\n",
        "model_3_preds[:10]"
      ]
    },
    {
      "cell_type": "code",
      "execution_count": null,
      "metadata": {
        "colab": {
          "base_uri": "https://localhost:8080/"
        },
        "id": "IlPJxHDCuv81",
        "outputId": "eb7d352d-28bf-4916-93a3-1ff1b019ae97"
      },
      "outputs": [
        {
          "data": {
            "text/plain": [
              "{'accuracy': 76.77165354330708,\n",
              " 'precision': 0.7674148766835972,\n",
              " 'recall': 0.7677165354330708,\n",
              " 'f1': 0.7669760007914206}"
            ]
          },
          "execution_count": 55,
          "metadata": {},
          "output_type": "execute_result"
        }
      ],
      "source": [
        "model_3_results = calculate_results(val_labels, model_3_preds)\n",
        "model_3_results"
      ]
    },
    {
      "cell_type": "code",
      "execution_count": null,
      "metadata": {
        "colab": {
          "base_uri": "https://localhost:8080/"
        },
        "id": "0mt5Mdygu74-",
        "outputId": "451be4a5-54d7-44e9-ead5-ae99ce372d4a"
      },
      "outputs": [
        {
          "name": "stdout",
          "output_type": "stream",
          "text": [
            "Baseline accuracy: 79.27, new accuracy: 76.77\n",
            "Difference: -2.49\n",
            "Baseline precision: 0.81, new precision: 0.77\n",
            "Difference: -0.04\n",
            "Baseline recall: 0.79, new recall: 0.77\n",
            "Difference: -0.02\n",
            "Baseline f1: 0.79, new f1: 0.77\n",
            "Difference: -0.02\n"
          ]
        }
      ],
      "source": [
        "compare_baseline_to_new_results(baseline_results, model_3_results)"
      ]
    },
    {
      "cell_type": "markdown",
      "metadata": {
        "id": "C_wdjlwwvIGO"
      },
      "source": [
        "Bidirectional RNN model"
      ]
    },
    {
      "cell_type": "markdown",
      "metadata": {
        "id": "fUQjvo_HfpIZ"
      },
      "source": [
        "A Bidirectional RNN will process the sequence from left to right and then again from right to left."
      ]
    },
    {
      "cell_type": "code",
      "execution_count": null,
      "metadata": {
        "id": "UDnyMwmgvEuo"
      },
      "outputs": [],
      "source": [
        "tf.random.set_seed(42)\n",
        "\n",
        "from tensorflow.keras import layers\n",
        "\n",
        "model_4_embedding = layers.Embedding(input_dim=max_vocab_length,\n",
        "                                     output_dim=128,\n",
        "                                     embeddings_initializer=\"uniform\",\n",
        "                                     input_length=max_length,\n",
        "                                     name=\"embedding_4\")\n",
        "\n",
        "# Bidirectional RNN\n",
        "inputs = layers.Input(shape=(1,), dtype=\"string\")\n",
        "x = text_vector(inputs)\n",
        "x = model_4_embedding(x)\n",
        "x = layers.Bidirectional(layers.LSTM(64))(x)\n",
        "outputs = layers.Dense(1, activation=\"sigmoid\")(x)\n",
        "model_4 = tf.keras.Model(inputs, outputs, name=\"model_4_classification\")"
      ]
    },
    {
      "cell_type": "code",
      "execution_count": null,
      "metadata": {
        "id": "iXRsi3H2t0ap"
      },
      "outputs": [],
      "source": [
        "# Compiling\n",
        "model_4.compile(loss=\"binary_crossentropy\",\n",
        "                optimizer=tf.keras.optimizers.Adam(),\n",
        "                metrics=[\"accuracy\"])"
      ]
    },
    {
      "cell_type": "code",
      "execution_count": null,
      "metadata": {
        "colab": {
          "base_uri": "https://localhost:8080/"
        },
        "id": "Dx8Dae4EuDKB",
        "outputId": "2551d01d-4617-43b5-a663-41a028d936f1"
      },
      "outputs": [
        {
          "name": "stdout",
          "output_type": "stream",
          "text": [
            "Model: \"model_4_classification\"\n",
            "_________________________________________________________________\n",
            " Layer (type)                Output Shape              Param #   \n",
            "=================================================================\n",
            " input_4 (InputLayer)        [(None, 1)]               0         \n",
            "                                                                 \n",
            " text_vectorization_1 (Text  (None, 15)                0         \n",
            " Vectorization)                                                  \n",
            "                                                                 \n",
            " embedding_4 (Embedding)     (None, 15, 128)           1280000   \n",
            "                                                                 \n",
            " bidirectional (Bidirection  (None, 128)               98816     \n",
            " al)                                                             \n",
            "                                                                 \n",
            " dense_5 (Dense)             (None, 1)                 129       \n",
            "                                                                 \n",
            "=================================================================\n",
            "Total params: 1378945 (5.26 MB)\n",
            "Trainable params: 1378945 (5.26 MB)\n",
            "Non-trainable params: 0 (0.00 Byte)\n",
            "_________________________________________________________________\n"
          ]
        }
      ],
      "source": [
        "model_4.summary()"
      ]
    },
    {
      "cell_type": "code",
      "execution_count": null,
      "metadata": {
        "colab": {
          "background_save": true,
          "base_uri": "https://localhost:8080/"
        },
        "id": "td6Jk5F4uHxT",
        "outputId": "9de76caa-d0a1-4b3b-d3a7-79a5c6ab9228"
      },
      "outputs": [
        {
          "name": "stdout",
          "output_type": "stream",
          "text": [
            "Saving TensorBoard log files to: model_logs/bidirectionaal_RNN/20240531-162533\n",
            "Epoch 1/5\n",
            "215/215 [==============================] - 24s 70ms/step - loss: 0.5106 - accuracy: 0.7434 - val_loss: 0.4563 - val_accuracy: 0.7887\n",
            "Epoch 2/5\n",
            "215/215 [==============================] - 14s 65ms/step - loss: 0.3135 - accuracy: 0.8729 - val_loss: 0.5199 - val_accuracy: 0.7690\n",
            "Epoch 3/5\n",
            "215/215 [==============================] - 15s 69ms/step - loss: 0.2134 - accuracy: 0.9175 - val_loss: 0.5631 - val_accuracy: 0.7677\n",
            "Epoch 4/5\n",
            "215/215 [==============================] - 14s 66ms/step - loss: 0.1454 - accuracy: 0.9520 - val_loss: 0.6532 - val_accuracy: 0.7703\n",
            "Epoch 5/5\n",
            "215/215 [==============================] - 14s 63ms/step - loss: 0.1044 - accuracy: 0.9647 - val_loss: 0.7132 - val_accuracy: 0.7598\n"
          ]
        }
      ],
      "source": [
        "# Fitting the model\n",
        "modeL_4_history = model_4.fit(train_sentences,\n",
        "                              train_labels,\n",
        "                              epochs=5,\n",
        "                              validation_data=(val_sentences, val_labels),\n",
        "                              callbacks=[create_tensorboard_callback(SAVE_DIR, \"bidirectionaal_RNN\")])\n",
        "# Due to added parameters there will be slight increase in training time"
      ]
    },
    {
      "cell_type": "code",
      "execution_count": null,
      "metadata": {
        "colab": {
          "background_save": true
        },
        "id": "eFPrllnhunI2",
        "outputId": "18dd16a0-8c3c-4037-8dab-fabf8150bca2"
      },
      "outputs": [
        {
          "name": "stdout",
          "output_type": "stream",
          "text": [
            "24/24 [==============================] - 1s 7ms/step\n"
          ]
        },
        {
          "data": {
            "text/plain": [
              "array([[0.02662836],\n",
              "       [0.8923988 ],\n",
              "       [0.9994867 ],\n",
              "       [0.15009446],\n",
              "       [0.00368539],\n",
              "       [0.99849975],\n",
              "       [0.98443735],\n",
              "       [0.99962115],\n",
              "       [0.9996664 ],\n",
              "       [0.2649748 ]], dtype=float32)"
            ]
          },
          "execution_count": 61,
          "metadata": {},
          "output_type": "execute_result"
        }
      ],
      "source": [
        "model_4_pred_probs = model_4.predict(val_sentences)\n",
        "model_4_pred_probs[:10]"
      ]
    },
    {
      "cell_type": "code",
      "execution_count": null,
      "metadata": {
        "colab": {
          "background_save": true
        },
        "id": "GER6uvEpu16C",
        "outputId": "1bbc1421-1a3d-4f3f-8cfa-ac191d32055e"
      },
      "outputs": [
        {
          "data": {
            "text/plain": [
              "<tf.Tensor: shape=(10,), dtype=float32, numpy=array([0., 1., 1., 0., 0., 1., 1., 1., 1., 0.], dtype=float32)>"
            ]
          },
          "execution_count": 62,
          "metadata": {},
          "output_type": "execute_result"
        }
      ],
      "source": [
        "model_4_preds = tf.squeeze(tf.round(model_4_pred_probs))\n",
        "model_4_preds[:10]"
      ]
    },
    {
      "cell_type": "code",
      "execution_count": null,
      "metadata": {
        "colab": {
          "background_save": true
        },
        "id": "eMc6JyGTvBPi",
        "outputId": "b3472c53-5343-46a2-d554-0147c17cbb80"
      },
      "outputs": [
        {
          "data": {
            "text/plain": [
              "{'accuracy': 75.98425196850394,\n",
              " 'precision': 0.7594292639037933,\n",
              " 'recall': 0.7598425196850394,\n",
              " 'f1': 0.759413131725221}"
            ]
          },
          "execution_count": 63,
          "metadata": {},
          "output_type": "execute_result"
        }
      ],
      "source": [
        "model_4_results = calculate_results(val_labels, model_4_preds)\n",
        "model_4_results"
      ]
    },
    {
      "cell_type": "code",
      "execution_count": null,
      "metadata": {
        "colab": {
          "background_save": true
        },
        "id": "ATJ3HEjfvQhI",
        "outputId": "612b8262-2490-410a-f5f3-cc655655199c"
      },
      "outputs": [
        {
          "name": "stdout",
          "output_type": "stream",
          "text": [
            "Baseline accuracy: 79.27, new accuracy: 75.98\n",
            "Difference: -3.28\n",
            "Baseline precision: 0.81, new precision: 0.76\n",
            "Difference: -0.05\n",
            "Baseline recall: 0.79, new recall: 0.76\n",
            "Difference: -0.03\n",
            "Baseline f1: 0.79, new f1: 0.76\n",
            "Difference: -0.03\n"
          ]
        }
      ],
      "source": [
        "compare_baseline_to_new_results(baseline_results, model_4_results)"
      ]
    },
    {
      "cell_type": "markdown",
      "metadata": {
        "id": "dbYfyMOYvr0j"
      },
      "source": [
        "Model 5 : Convolutional Neural Network (1D)"
      ]
    },
    {
      "cell_type": "code",
      "execution_count": null,
      "metadata": {
        "colab": {
          "background_save": true
        },
        "id": "VD9I4t1svo88",
        "outputId": "53311904-16c3-4057-d956-86c64cf67b86"
      },
      "outputs": [
        {
          "data": {
            "text/plain": [
              "(TensorShape([1, 15, 128]), TensorShape([1, 11, 32]), TensorShape([1, 32]))"
            ]
          },
          "execution_count": 65,
          "metadata": {},
          "output_type": "execute_result"
        }
      ],
      "source": [
        "# Testing different output shapes.\n",
        "embedding_test = embedding(text_vector([\"This is a sample sentence\"]))\n",
        "# Conv1D layer\n",
        "# 5 words at a time\n",
        "conv_1d = layers.Conv1D(filters=32, kernel_size=5, activation=\"relu\")\n",
        "conv_1d_output = conv_1d(embedding_test)\n",
        "# Pooling layer\n",
        "max_pool = layers.GlobalMaxPool1D()\n",
        "max_pool_output = max_pool(conv_1d_output)\n",
        "\n",
        "# output shapes\n",
        "embedding_test.shape, conv_1d_output.shape, max_pool_output.shape"
      ]
    },
    {
      "cell_type": "code",
      "execution_count": null,
      "metadata": {
        "colab": {
          "background_save": true
        },
        "id": "B_Vb2GLHyBZc",
        "outputId": "580f3572-2387-4a32-ac5d-c7a57be2e70a"
      },
      "outputs": [
        {
          "data": {
            "text/plain": [
              "(<tf.Tensor: shape=(1, 15, 128), dtype=float32, numpy=\n",
              " array([[[-0.05187386,  0.00576202, -0.00225579, ..., -0.00528893,\n",
              "           0.00366609, -0.02383389],\n",
              "         [-0.08571203, -0.01778687, -0.08587623, ...,  0.06646295,\n",
              "          -0.07034741,  0.0769686 ],\n",
              "         [ 0.02058846, -0.03130295, -0.01406014, ...,  0.0074313 ,\n",
              "          -0.00300904,  0.00159104],\n",
              "         ...,\n",
              "         [-0.02126333, -0.05939592,  0.01058103, ...,  0.0523469 ,\n",
              "          -0.05935701, -0.01589711],\n",
              "         [-0.02126333, -0.05939592,  0.01058103, ...,  0.0523469 ,\n",
              "          -0.05935701, -0.01589711],\n",
              "         [-0.02126333, -0.05939592,  0.01058103, ...,  0.0523469 ,\n",
              "          -0.05935701, -0.01589711]]], dtype=float32)>,\n",
              " <tf.Tensor: shape=(1, 11, 32), dtype=float32, numpy=\n",
              " array([[[0.        , 0.04449339, 0.03706323, 0.        , 0.        ,\n",
              "          0.        , 0.        , 0.03271007, 0.        , 0.        ,\n",
              "          0.        , 0.06825605, 0.        , 0.02615997, 0.        ,\n",
              "          0.        , 0.04053475, 0.06819601, 0.        , 0.        ,\n",
              "          0.0047903 , 0.0534803 , 0.        , 0.        , 0.        ,\n",
              "          0.02159532, 0.07065843, 0.        , 0.04587965, 0.        ,\n",
              "          0.08844805, 0.04776255],\n",
              "         [0.        , 0.        , 0.        , 0.00284759, 0.        ,\n",
              "          0.05891355, 0.0004783 , 0.        , 0.        , 0.0161679 ,\n",
              "          0.00015679, 0.03512274, 0.00523051, 0.04848386, 0.        ,\n",
              "          0.        , 0.01402848, 0.00464669, 0.        , 0.        ,\n",
              "          0.        , 0.        , 0.        , 0.06121969, 0.02082217,\n",
              "          0.04101526, 0.        , 0.        , 0.        , 0.05695481,\n",
              "          0.        , 0.08788084],\n",
              "         [0.        , 0.        , 0.        , 0.        , 0.        ,\n",
              "          0.        , 0.        , 0.        , 0.02954961, 0.05820111,\n",
              "          0.        , 0.0313713 , 0.        , 0.06184255, 0.        ,\n",
              "          0.        , 0.        , 0.        , 0.        , 0.        ,\n",
              "          0.05094605, 0.05554287, 0.        , 0.0776291 , 0.        ,\n",
              "          0.        , 0.        , 0.        , 0.00164475, 0.08063336,\n",
              "          0.        , 0.03587172],\n",
              "         [0.03929362, 0.        , 0.        , 0.        , 0.        ,\n",
              "          0.        , 0.        , 0.        , 0.        , 0.        ,\n",
              "          0.05758773, 0.03397055, 0.00568779, 0.        , 0.        ,\n",
              "          0.        , 0.        , 0.        , 0.        , 0.        ,\n",
              "          0.01818443, 0.        , 0.        , 0.02028269, 0.06609125,\n",
              "          0.03115004, 0.        , 0.        , 0.        , 0.09454894,\n",
              "          0.00125668, 0.04466067],\n",
              "         [0.0467675 , 0.        , 0.        , 0.        , 0.        ,\n",
              "          0.        , 0.        , 0.        , 0.        , 0.        ,\n",
              "          0.        , 0.00931665, 0.        , 0.01713835, 0.00739635,\n",
              "          0.        , 0.        , 0.        , 0.        , 0.        ,\n",
              "          0.        , 0.03463707, 0.        , 0.08493639, 0.06324096,\n",
              "          0.01416427, 0.        , 0.        , 0.        , 0.08264029,\n",
              "          0.        , 0.05560127],\n",
              "         [0.        , 0.        , 0.        , 0.00785858, 0.        ,\n",
              "          0.        , 0.        , 0.        , 0.        , 0.00198291,\n",
              "          0.        , 0.02307473, 0.        , 0.01052326, 0.        ,\n",
              "          0.        , 0.        , 0.        , 0.        , 0.        ,\n",
              "          0.        , 0.00379468, 0.        , 0.05341283, 0.07805179,\n",
              "          0.00024882, 0.        , 0.        , 0.        , 0.08878872,\n",
              "          0.        , 0.03677402],\n",
              "         [0.        , 0.        , 0.        , 0.00785858, 0.        ,\n",
              "          0.        , 0.        , 0.        , 0.        , 0.00198291,\n",
              "          0.        , 0.02307473, 0.        , 0.01052326, 0.        ,\n",
              "          0.        , 0.        , 0.        , 0.        , 0.        ,\n",
              "          0.        , 0.00379468, 0.        , 0.05341283, 0.07805179,\n",
              "          0.00024882, 0.        , 0.        , 0.        , 0.08878872,\n",
              "          0.        , 0.03677402],\n",
              "         [0.        , 0.        , 0.        , 0.00785858, 0.        ,\n",
              "          0.        , 0.        , 0.        , 0.        , 0.00198291,\n",
              "          0.        , 0.02307473, 0.        , 0.01052326, 0.        ,\n",
              "          0.        , 0.        , 0.        , 0.        , 0.        ,\n",
              "          0.        , 0.00379468, 0.        , 0.05341283, 0.07805179,\n",
              "          0.00024882, 0.        , 0.        , 0.        , 0.08878872,\n",
              "          0.        , 0.03677402],\n",
              "         [0.        , 0.        , 0.        , 0.00785858, 0.        ,\n",
              "          0.        , 0.        , 0.        , 0.        , 0.00198291,\n",
              "          0.        , 0.02307473, 0.        , 0.01052326, 0.        ,\n",
              "          0.        , 0.        , 0.        , 0.        , 0.        ,\n",
              "          0.        , 0.00379468, 0.        , 0.05341283, 0.07805179,\n",
              "          0.00024882, 0.        , 0.        , 0.        , 0.08878872,\n",
              "          0.        , 0.03677402],\n",
              "         [0.        , 0.        , 0.        , 0.00785858, 0.        ,\n",
              "          0.        , 0.        , 0.        , 0.        , 0.00198291,\n",
              "          0.        , 0.02307473, 0.        , 0.01052326, 0.        ,\n",
              "          0.        , 0.        , 0.        , 0.        , 0.        ,\n",
              "          0.        , 0.00379468, 0.        , 0.05341283, 0.07805179,\n",
              "          0.00024882, 0.        , 0.        , 0.        , 0.08878872,\n",
              "          0.        , 0.03677402],\n",
              "         [0.        , 0.        , 0.        , 0.00785858, 0.        ,\n",
              "          0.        , 0.        , 0.        , 0.        , 0.00198291,\n",
              "          0.        , 0.02307473, 0.        , 0.01052326, 0.        ,\n",
              "          0.        , 0.        , 0.        , 0.        , 0.        ,\n",
              "          0.        , 0.00379468, 0.        , 0.05341283, 0.07805179,\n",
              "          0.00024882, 0.        , 0.        , 0.        , 0.08878872,\n",
              "          0.        , 0.03677402]]], dtype=float32)>,\n",
              " <tf.Tensor: shape=(1, 32), dtype=float32, numpy=\n",
              " array([[0.0467675 , 0.04449339, 0.03706323, 0.00785858, 0.        ,\n",
              "         0.05891355, 0.0004783 , 0.03271007, 0.02954961, 0.05820111,\n",
              "         0.05758773, 0.06825605, 0.00568779, 0.06184255, 0.00739635,\n",
              "         0.        , 0.04053475, 0.06819601, 0.        , 0.        ,\n",
              "         0.05094605, 0.05554287, 0.        , 0.08493639, 0.07805179,\n",
              "         0.04101526, 0.07065843, 0.        , 0.04587965, 0.09454894,\n",
              "         0.08844805, 0.08788084]], dtype=float32)>)"
            ]
          },
          "execution_count": 66,
          "metadata": {},
          "output_type": "execute_result"
        }
      ],
      "source": [
        "embedding_test[:1], conv_1d_output[:1], max_pool_output[:1]"
      ]
    },
    {
      "cell_type": "code",
      "execution_count": null,
      "metadata": {
        "colab": {
          "background_save": true
        },
        "id": "Bilk4-PeyRJv"
      },
      "outputs": [],
      "source": [
        "# The conv1D model\n",
        "\n",
        "tf.random.set_seed(42)\n",
        "from tensorflow.keras import layers\n",
        "\n",
        "# Embedding text\n",
        "model_5_embedding = layers.Embedding(input_dim=max_vocab_length,\n",
        "                                     output_dim=128,\n",
        "                                     embeddings_initializer=\"uniform\",\n",
        "                                     input_length=max_length,\n",
        "                                     name=\"embedding_5\")\n",
        "\n",
        "# 1D cnn model\n",
        "inputs = layers.Input(shape=(1,), dtype=\"string\")\n",
        "x = text_vector(inputs)\n",
        "x = model_5_embedding(x)\n",
        "x = layers.Conv1D(filters=32, kernel_size=5, activation=\"relu\")(x)\n",
        "x = layers.GlobalMaxPool1D()(x)\n",
        "x = layers.Dense(64, activation=\"relu\")(x)\n",
        "outputs = layers.Dense(1, activation=\"sigmoid\")(x)\n",
        "model_5 = tf.keras.Model(inputs, outputs, name=\"model_5_Conv1D\")"
      ]
    },
    {
      "cell_type": "code",
      "execution_count": null,
      "metadata": {
        "colab": {
          "background_save": true
        },
        "id": "-QSubgyXzndh"
      },
      "outputs": [],
      "source": [
        "model_5.compile(loss=\"binary_crossentropy\",\n",
        "                optimizer=\"Adam\",\n",
        "                metrics=[\"accuracy\"])"
      ]
    },
    {
      "cell_type": "code",
      "execution_count": null,
      "metadata": {
        "colab": {
          "background_save": true
        },
        "id": "nA2LA4POz2qn",
        "outputId": "eb108d6b-b761-409a-82e7-3ae4ebb95720"
      },
      "outputs": [
        {
          "name": "stdout",
          "output_type": "stream",
          "text": [
            "Model: \"model_5_Conv1D\"\n",
            "_________________________________________________________________\n",
            " Layer (type)                Output Shape              Param #   \n",
            "=================================================================\n",
            " input_5 (InputLayer)        [(None, 1)]               0         \n",
            "                                                                 \n",
            " text_vectorization_1 (Text  (None, 15)                0         \n",
            " Vectorization)                                                  \n",
            "                                                                 \n",
            " embedding_5 (Embedding)     (None, 15, 128)           1280000   \n",
            "                                                                 \n",
            " conv1d_1 (Conv1D)           (None, 11, 32)            20512     \n",
            "                                                                 \n",
            " global_max_pooling1d_1 (Gl  (None, 32)                0         \n",
            " obalMaxPooling1D)                                               \n",
            "                                                                 \n",
            " dense_6 (Dense)             (None, 64)                2112      \n",
            "                                                                 \n",
            " dense_7 (Dense)             (None, 1)                 65        \n",
            "                                                                 \n",
            "=================================================================\n",
            "Total params: 1302689 (4.97 MB)\n",
            "Trainable params: 1302689 (4.97 MB)\n",
            "Non-trainable params: 0 (0.00 Byte)\n",
            "_________________________________________________________________\n"
          ]
        }
      ],
      "source": [
        "model_5.summary()"
      ]
    },
    {
      "cell_type": "code",
      "execution_count": null,
      "metadata": {
        "colab": {
          "background_save": true
        },
        "id": "-Qpkk5r2z5K3",
        "outputId": "5113be26-4b3b-4c46-a117-99a92f8f8c4e"
      },
      "outputs": [
        {
          "name": "stdout",
          "output_type": "stream",
          "text": [
            "Saving TensorBoard log files to: model_logs/Conv1D/20240531-162706\n",
            "Epoch 1/5\n",
            "215/215 [==============================] - 6s 23ms/step - loss: 0.5498 - accuracy: 0.7193 - val_loss: 0.4592 - val_accuracy: 0.7782\n",
            "Epoch 2/5\n",
            "215/215 [==============================] - 7s 31ms/step - loss: 0.3125 - accuracy: 0.8765 - val_loss: 0.4909 - val_accuracy: 0.7835\n",
            "Epoch 3/5\n",
            "215/215 [==============================] - 5s 21ms/step - loss: 0.1678 - accuracy: 0.9421 - val_loss: 0.5379 - val_accuracy: 0.7677\n",
            "Epoch 4/5\n",
            "215/215 [==============================] - 4s 20ms/step - loss: 0.1031 - accuracy: 0.9689 - val_loss: 0.6093 - val_accuracy: 0.7703\n",
            "Epoch 5/5\n",
            "215/215 [==============================] - 5s 24ms/step - loss: 0.0756 - accuracy: 0.9772 - val_loss: 0.6204 - val_accuracy: 0.7677\n"
          ]
        }
      ],
      "source": [
        "# Fitting the model\n",
        "model_5_history = model_5.fit(train_sentences,\n",
        "                              train_labels,\n",
        "                              epochs=5,\n",
        "                              validation_data=(val_sentences, val_labels),\n",
        "                              callbacks=[create_tensorboard_callback(SAVE_DIR, \"Conv1D\")])"
      ]
    },
    {
      "cell_type": "code",
      "execution_count": null,
      "metadata": {
        "colab": {
          "background_save": true
        },
        "id": "fk4uLdmH0V1M",
        "outputId": "9e13179c-9258-498c-f43f-0eb040c8dc90"
      },
      "outputs": [
        {
          "name": "stdout",
          "output_type": "stream",
          "text": [
            "24/24 [==============================] - 0s 2ms/step\n"
          ]
        },
        {
          "data": {
            "text/plain": [
              "array([[4.00939733e-01],\n",
              "       [7.60617673e-01],\n",
              "       [9.98884201e-01],\n",
              "       [4.85055633e-02],\n",
              "       [1.64269079e-02],\n",
              "       [9.96455729e-01],\n",
              "       [7.53840029e-01],\n",
              "       [9.94625568e-01],\n",
              "       [9.97494996e-01],\n",
              "       [2.14875460e-01],\n",
              "       [1.94769762e-02],\n",
              "       [2.49207556e-01],\n",
              "       [1.41505580e-02],\n",
              "       [9.77111980e-02],\n",
              "       [1.80472911e-03],\n",
              "       [1.85873732e-02],\n",
              "       [8.15891009e-03],\n",
              "       [4.66666184e-02],\n",
              "       [1.04242109e-01],\n",
              "       [4.91656184e-01],\n",
              "       [6.67426348e-01],\n",
              "       [7.77892442e-03],\n",
              "       [5.88107049e-01],\n",
              "       [1.57173220e-02],\n",
              "       [9.89477575e-01],\n",
              "       [9.99624074e-01],\n",
              "       [6.12458400e-03],\n",
              "       [1.32033257e-02],\n",
              "       [1.55742578e-02],\n",
              "       [2.69270718e-01],\n",
              "       [3.18174422e-01],\n",
              "       [2.80076683e-01],\n",
              "       [6.48682892e-01],\n",
              "       [1.71141803e-01],\n",
              "       [3.91026914e-01],\n",
              "       [7.79359818e-01],\n",
              "       [9.99940336e-01],\n",
              "       [2.43665293e-01],\n",
              "       [8.72942992e-03],\n",
              "       [9.98537719e-01],\n",
              "       [2.17344046e-01],\n",
              "       [4.93862992e-03],\n",
              "       [1.72894403e-01],\n",
              "       [7.77695142e-03],\n",
              "       [5.75712979e-01],\n",
              "       [9.97227907e-01],\n",
              "       [2.20801249e-01],\n",
              "       [9.63912845e-01],\n",
              "       [6.17853031e-02],\n",
              "       [6.79504871e-01],\n",
              "       [5.71770184e-02],\n",
              "       [2.50344723e-01],\n",
              "       [8.07535723e-02],\n",
              "       [7.98710994e-03],\n",
              "       [4.54952754e-02],\n",
              "       [1.07204570e-02],\n",
              "       [1.11855477e-01],\n",
              "       [9.98272359e-01],\n",
              "       [4.66760360e-02],\n",
              "       [2.49736919e-03],\n",
              "       [3.59029956e-02],\n",
              "       [9.99704480e-01],\n",
              "       [9.89943922e-01],\n",
              "       [1.40298009e-01],\n",
              "       [3.41544062e-01],\n",
              "       [9.98787463e-01],\n",
              "       [8.35242927e-01],\n",
              "       [7.91717470e-02],\n",
              "       [1.11639701e-01],\n",
              "       [1.31428659e-01],\n",
              "       [1.54392654e-02],\n",
              "       [4.92607150e-03],\n",
              "       [9.69399512e-01],\n",
              "       [4.96228263e-02],\n",
              "       [2.12043867e-01],\n",
              "       [5.60565829e-01],\n",
              "       [2.00580880e-02],\n",
              "       [8.83323967e-01],\n",
              "       [1.48711964e-01],\n",
              "       [5.93327396e-02],\n",
              "       [1.84313014e-01],\n",
              "       [4.20259349e-02],\n",
              "       [9.99550641e-01],\n",
              "       [4.48402762e-03],\n",
              "       [3.55370998e-01],\n",
              "       [2.13918015e-02],\n",
              "       [1.29735668e-03],\n",
              "       [2.73330919e-02],\n",
              "       [6.13714516e-01],\n",
              "       [9.60239768e-01],\n",
              "       [9.99955297e-01],\n",
              "       [6.47730951e-04],\n",
              "       [2.36672267e-01],\n",
              "       [8.02718289e-03],\n",
              "       [9.98843312e-01],\n",
              "       [4.77274150e-01],\n",
              "       [9.88596618e-01],\n",
              "       [8.97787750e-01],\n",
              "       [9.91300106e-01],\n",
              "       [9.95252788e-01],\n",
              "       [9.99602199e-01],\n",
              "       [2.82352120e-02],\n",
              "       [3.72873968e-03],\n",
              "       [7.50342607e-01],\n",
              "       [8.72146785e-01],\n",
              "       [3.90133746e-02],\n",
              "       [6.00233614e-01],\n",
              "       [9.98691320e-01],\n",
              "       [1.40342675e-02],\n",
              "       [9.74365175e-01],\n",
              "       [8.17103386e-01],\n",
              "       [2.08051745e-02],\n",
              "       [1.31817311e-01],\n",
              "       [6.94308197e-03],\n",
              "       [5.84896561e-03],\n",
              "       [4.87567037e-01],\n",
              "       [1.19185224e-01],\n",
              "       [9.72051620e-01],\n",
              "       [7.45975971e-01],\n",
              "       [2.16813050e-02],\n",
              "       [9.99964774e-01],\n",
              "       [2.29423866e-02],\n",
              "       [5.40144779e-02],\n",
              "       [9.05578077e-01],\n",
              "       [3.13491106e-01],\n",
              "       [8.56569707e-01],\n",
              "       [3.12078357e-01],\n",
              "       [1.04487538e-02],\n",
              "       [6.50311494e-03],\n",
              "       [9.44845140e-01],\n",
              "       [2.54404498e-03],\n",
              "       [9.99964774e-01],\n",
              "       [9.99970675e-01],\n",
              "       [9.99624074e-01],\n",
              "       [9.92711186e-01],\n",
              "       [6.46246672e-01],\n",
              "       [9.99388576e-01],\n",
              "       [3.36452946e-02],\n",
              "       [4.96521108e-02],\n",
              "       [2.12488957e-02],\n",
              "       [9.90769684e-01],\n",
              "       [8.09557378e-01],\n",
              "       [9.77111980e-02],\n",
              "       [9.18569684e-01],\n",
              "       [9.55569893e-02],\n",
              "       [7.66924262e-01],\n",
              "       [2.33929493e-02],\n",
              "       [1.50398677e-03],\n",
              "       [6.42509937e-01],\n",
              "       [9.92682815e-01],\n",
              "       [6.94886863e-01],\n",
              "       [2.81309281e-02],\n",
              "       [2.57795423e-01],\n",
              "       [2.13620551e-02],\n",
              "       [3.30329388e-01],\n",
              "       [9.95293558e-01],\n",
              "       [9.23783541e-01],\n",
              "       [5.74281335e-01],\n",
              "       [9.98957574e-01],\n",
              "       [9.74351133e-04],\n",
              "       [9.75073457e-01],\n",
              "       [3.11748181e-02],\n",
              "       [3.31132412e-02],\n",
              "       [9.94210064e-01],\n",
              "       [7.43339777e-01],\n",
              "       [8.84818360e-02],\n",
              "       [9.98956800e-01],\n",
              "       [1.75278842e-01],\n",
              "       [9.85296428e-01],\n",
              "       [5.54907955e-02],\n",
              "       [9.99390125e-01],\n",
              "       [8.51124346e-01],\n",
              "       [9.90270197e-01],\n",
              "       [5.01667568e-03],\n",
              "       [9.99821544e-01],\n",
              "       [3.07601336e-02],\n",
              "       [3.29761468e-02],\n",
              "       [3.82526964e-01],\n",
              "       [9.06757593e-01],\n",
              "       [9.99192774e-01],\n",
              "       [1.92471836e-02],\n",
              "       [8.70801330e-01],\n",
              "       [8.46819580e-01],\n",
              "       [9.94440913e-01],\n",
              "       [9.88880455e-01],\n",
              "       [1.81746721e-01],\n",
              "       [1.96896726e-03],\n",
              "       [9.99902487e-01],\n",
              "       [1.97529281e-03],\n",
              "       [9.66261979e-03],\n",
              "       [1.80979967e-01],\n",
              "       [9.63018358e-01],\n",
              "       [2.17718189e-03],\n",
              "       [8.47140700e-02],\n",
              "       [5.98879764e-03],\n",
              "       [2.53637154e-02],\n",
              "       [3.62976431e-03],\n",
              "       [3.45013708e-01],\n",
              "       [9.66065586e-01],\n",
              "       [1.04253506e-02],\n",
              "       [1.72586069e-02],\n",
              "       [8.39814723e-01],\n",
              "       [9.92386997e-01],\n",
              "       [2.15252683e-01],\n",
              "       [1.94083061e-02],\n",
              "       [9.99942720e-01],\n",
              "       [6.01888835e-01],\n",
              "       [9.95223582e-01],\n",
              "       [5.82010984e-01],\n",
              "       [9.87834930e-01],\n",
              "       [1.80629238e-01],\n",
              "       [9.99831796e-01],\n",
              "       [6.10212376e-03],\n",
              "       [7.44984895e-02],\n",
              "       [2.01485027e-03],\n",
              "       [3.27947387e-03],\n",
              "       [9.99436021e-01],\n",
              "       [9.93190646e-01],\n",
              "       [9.75308776e-01],\n",
              "       [7.68252015e-02],\n",
              "       [5.18651865e-02],\n",
              "       [1.71071850e-02],\n",
              "       [2.22181734e-02],\n",
              "       [1.47846574e-02],\n",
              "       [9.99588192e-01],\n",
              "       [4.30863835e-02],\n",
              "       [4.28600281e-01],\n",
              "       [9.99458551e-01],\n",
              "       [9.54264045e-01],\n",
              "       [2.28418395e-01],\n",
              "       [1.82254873e-02],\n",
              "       [9.05525237e-02],\n",
              "       [9.63065803e-01],\n",
              "       [2.39637315e-01],\n",
              "       [5.24812222e-01],\n",
              "       [2.11715028e-02],\n",
              "       [6.13335431e-01],\n",
              "       [9.82429013e-02],\n",
              "       [1.76790118e-01],\n",
              "       [3.01125553e-02],\n",
              "       [1.84669763e-01],\n",
              "       [3.48545462e-02],\n",
              "       [9.99996424e-01],\n",
              "       [9.99682546e-01],\n",
              "       [2.27672304e-03],\n",
              "       [1.70413416e-03],\n",
              "       [9.98846471e-01],\n",
              "       [4.76250844e-03],\n",
              "       [4.19230275e-02],\n",
              "       [3.07397664e-01],\n",
              "       [2.43550329e-03],\n",
              "       [7.67337799e-01],\n",
              "       [5.23304858e-04],\n",
              "       [5.03677279e-02],\n",
              "       [9.91853893e-01],\n",
              "       [2.58796923e-02],\n",
              "       [9.95071530e-01],\n",
              "       [9.99897897e-01],\n",
              "       [5.94473705e-02],\n",
              "       [3.05343550e-02],\n",
              "       [1.26551047e-01],\n",
              "       [5.05248504e-03],\n",
              "       [5.50015038e-03],\n",
              "       [9.93358016e-01],\n",
              "       [9.98909950e-01],\n",
              "       [7.17132926e-01],\n",
              "       [9.99947429e-01],\n",
              "       [1.53220799e-02],\n",
              "       [2.81344615e-02],\n",
              "       [8.58004112e-03],\n",
              "       [7.63323233e-02],\n",
              "       [1.37474649e-02],\n",
              "       [9.27725494e-01],\n",
              "       [2.56906021e-02],\n",
              "       [2.94060586e-03],\n",
              "       [9.99661326e-01],\n",
              "       [1.42863579e-02],\n",
              "       [3.63469645e-02],\n",
              "       [9.98788059e-01],\n",
              "       [1.72221772e-02],\n",
              "       [7.39561394e-03],\n",
              "       [5.35830250e-03],\n",
              "       [9.99527216e-01],\n",
              "       [7.67785087e-02],\n",
              "       [9.83082712e-01],\n",
              "       [7.40042150e-01],\n",
              "       [9.02908564e-01],\n",
              "       [1.22659951e-02],\n",
              "       [9.08506215e-01],\n",
              "       [1.82027388e-02],\n",
              "       [6.69267476e-01],\n",
              "       [5.59168398e-01],\n",
              "       [2.44058356e-01],\n",
              "       [3.27403620e-02],\n",
              "       [3.12059410e-02],\n",
              "       [3.87461752e-01],\n",
              "       [1.44397676e-01],\n",
              "       [1.20952353e-02],\n",
              "       [3.53045538e-02],\n",
              "       [8.01311433e-01],\n",
              "       [3.25808972e-02],\n",
              "       [3.86887453e-02],\n",
              "       [4.13689762e-01],\n",
              "       [9.98589694e-01],\n",
              "       [6.63038939e-02],\n",
              "       [5.67050790e-03],\n",
              "       [5.82119167e-01],\n",
              "       [1.19670868e-01],\n",
              "       [1.38400167e-01],\n",
              "       [1.49228156e-03],\n",
              "       [1.89852417e-02],\n",
              "       [9.99799728e-01],\n",
              "       [4.85106945e-01],\n",
              "       [1.66971922e-01],\n",
              "       [9.99942541e-01],\n",
              "       [1.59291141e-02],\n",
              "       [9.92686808e-01],\n",
              "       [1.43806532e-01],\n",
              "       [2.85272244e-02],\n",
              "       [1.06902674e-01],\n",
              "       [3.59042175e-02],\n",
              "       [4.39667404e-02],\n",
              "       [9.97342765e-01],\n",
              "       [2.05218077e-01],\n",
              "       [9.99870658e-01],\n",
              "       [3.16315405e-02],\n",
              "       [2.80527608e-03],\n",
              "       [9.99886811e-01],\n",
              "       [1.43687977e-02],\n",
              "       [9.99330223e-01],\n",
              "       [2.39120740e-02],\n",
              "       [3.35192983e-03],\n",
              "       [9.99927223e-01],\n",
              "       [2.42637284e-02],\n",
              "       [1.07135205e-02],\n",
              "       [9.98771787e-01],\n",
              "       [1.37511885e-03],\n",
              "       [3.17864195e-02],\n",
              "       [8.05902660e-01],\n",
              "       [9.85990405e-01],\n",
              "       [7.58737675e-04],\n",
              "       [8.22325349e-02],\n",
              "       [9.99559164e-01],\n",
              "       [9.95206833e-01],\n",
              "       [8.57525706e-01],\n",
              "       [4.49596167e-01],\n",
              "       [8.83482322e-02],\n",
              "       [5.61470270e-01],\n",
              "       [1.82383675e-02],\n",
              "       [3.85488868e-02],\n",
              "       [1.41812295e-01],\n",
              "       [1.88511804e-01],\n",
              "       [3.08664311e-02],\n",
              "       [1.52617812e-01],\n",
              "       [4.03754443e-01],\n",
              "       [6.86302362e-03],\n",
              "       [9.99681592e-01],\n",
              "       [9.99624074e-01],\n",
              "       [9.98467505e-01],\n",
              "       [8.28399509e-03],\n",
              "       [3.94093804e-03],\n",
              "       [2.14367248e-02],\n",
              "       [1.83596939e-01],\n",
              "       [9.77740586e-01],\n",
              "       [1.69050068e-01],\n",
              "       [2.94249095e-02],\n",
              "       [1.27667107e-03],\n",
              "       [1.64011400e-02],\n",
              "       [9.84969795e-01],\n",
              "       [2.19985750e-02],\n",
              "       [1.46233693e-01],\n",
              "       [2.75239833e-02],\n",
              "       [3.57373536e-01],\n",
              "       [3.48865315e-02],\n",
              "       [1.79644674e-01],\n",
              "       [7.58266076e-02],\n",
              "       [2.34506764e-02],\n",
              "       [1.68353617e-02],\n",
              "       [6.42085597e-02],\n",
              "       [9.99462306e-01],\n",
              "       [9.96315539e-01],\n",
              "       [5.98838985e-01],\n",
              "       [6.85706258e-01],\n",
              "       [3.94334830e-03],\n",
              "       [3.95954512e-02],\n",
              "       [9.99716699e-01],\n",
              "       [5.89975238e-01],\n",
              "       [9.64582339e-02],\n",
              "       [9.99943316e-01],\n",
              "       [6.85277721e-03],\n",
              "       [9.95355964e-01],\n",
              "       [7.01864481e-01],\n",
              "       [2.86687929e-02],\n",
              "       [1.37164935e-01],\n",
              "       [2.39819050e-01],\n",
              "       [9.99737501e-01],\n",
              "       [2.73392592e-02],\n",
              "       [2.46965140e-02],\n",
              "       [4.63529490e-02],\n",
              "       [1.69050068e-01],\n",
              "       [9.99657571e-01],\n",
              "       [1.00325728e-02],\n",
              "       [6.22801259e-02],\n",
              "       [9.84027743e-01],\n",
              "       [7.87119940e-02],\n",
              "       [9.99964774e-01],\n",
              "       [2.15786062e-02],\n",
              "       [7.88531546e-03],\n",
              "       [7.34558329e-03],\n",
              "       [7.98980355e-01],\n",
              "       [9.92436051e-01],\n",
              "       [5.66489697e-02],\n",
              "       [2.39966973e-03],\n",
              "       [3.46037187e-02],\n",
              "       [9.97419953e-01],\n",
              "       [9.34185028e-01],\n",
              "       [3.06938170e-03],\n",
              "       [1.80172578e-01],\n",
              "       [5.11871755e-01],\n",
              "       [1.07787421e-03],\n",
              "       [9.99101281e-01],\n",
              "       [9.15176272e-01],\n",
              "       [9.99902010e-01],\n",
              "       [9.36115324e-01],\n",
              "       [4.20946181e-02],\n",
              "       [8.70317936e-01],\n",
              "       [1.26915406e-02],\n",
              "       [9.93258893e-01],\n",
              "       [9.51086521e-01],\n",
              "       [8.25641274e-01],\n",
              "       [3.12498561e-03],\n",
              "       [2.42874343e-02],\n",
              "       [1.24312304e-02],\n",
              "       [1.26211932e-02],\n",
              "       [5.00762947e-02],\n",
              "       [4.05227989e-02],\n",
              "       [5.70314407e-01],\n",
              "       [4.41285819e-02],\n",
              "       [9.99846697e-01],\n",
              "       [9.98875618e-01],\n",
              "       [6.22501969e-01],\n",
              "       [7.60617673e-01],\n",
              "       [2.41841212e-01],\n",
              "       [1.43884066e-02],\n",
              "       [2.02348694e-01],\n",
              "       [2.60605186e-01],\n",
              "       [7.08443597e-02],\n",
              "       [3.17697227e-02],\n",
              "       [6.60818012e-04],\n",
              "       [3.71462554e-01],\n",
              "       [1.35460927e-03],\n",
              "       [9.99817133e-01],\n",
              "       [9.98607099e-01],\n",
              "       [9.99944329e-01],\n",
              "       [9.94956732e-01],\n",
              "       [9.68046248e-01],\n",
              "       [1.08314291e-01],\n",
              "       [2.97678933e-02],\n",
              "       [2.75624394e-02],\n",
              "       [9.97591019e-01],\n",
              "       [9.99658763e-01],\n",
              "       [5.10218740e-03],\n",
              "       [1.39079168e-02],\n",
              "       [2.75451913e-02],\n",
              "       [9.99598265e-01],\n",
              "       [9.99996841e-01],\n",
              "       [2.01935366e-01],\n",
              "       [6.28089234e-02],\n",
              "       [9.98464227e-01],\n",
              "       [2.96100276e-03],\n",
              "       [2.78576940e-01],\n",
              "       [9.83933508e-01],\n",
              "       [3.41774449e-02],\n",
              "       [1.67451904e-03],\n",
              "       [8.15963566e-01],\n",
              "       [4.14452910e-01],\n",
              "       [1.13791481e-01],\n",
              "       [9.93551493e-01],\n",
              "       [1.73614081e-03],\n",
              "       [9.66743100e-03],\n",
              "       [2.86004297e-03],\n",
              "       [6.02009473e-04],\n",
              "       [8.64992477e-03],\n",
              "       [9.99786079e-01],\n",
              "       [2.61267624e-03],\n",
              "       [2.42256910e-01],\n",
              "       [2.43006572e-01],\n",
              "       [2.11463030e-02],\n",
              "       [5.67530632e-01],\n",
              "       [8.25978164e-03],\n",
              "       [4.56830524e-02],\n",
              "       [9.99376655e-01],\n",
              "       [9.46322978e-01],\n",
              "       [3.58696915e-02],\n",
              "       [2.47673746e-02],\n",
              "       [4.00086761e-01],\n",
              "       [3.67081538e-03],\n",
              "       [7.64711082e-01],\n",
              "       [2.42934711e-02],\n",
              "       [9.14071858e-01],\n",
              "       [9.58454490e-01],\n",
              "       [2.07444996e-01],\n",
              "       [4.75197911e-01],\n",
              "       [3.21203142e-01],\n",
              "       [3.69459414e-03],\n",
              "       [5.86967953e-02],\n",
              "       [7.69320503e-02],\n",
              "       [9.15170610e-01],\n",
              "       [2.38548294e-02],\n",
              "       [3.15873474e-01],\n",
              "       [6.20779395e-01],\n",
              "       [1.44158006e-02],\n",
              "       [9.61813778e-02],\n",
              "       [2.56678969e-01],\n",
              "       [9.57052231e-01],\n",
              "       [1.77327156e-01],\n",
              "       [9.97545123e-01],\n",
              "       [9.99557018e-01],\n",
              "       [4.77274060e-01],\n",
              "       [9.99181271e-01],\n",
              "       [7.12369606e-02],\n",
              "       [9.08221770e-03],\n",
              "       [9.99700189e-01],\n",
              "       [2.14291401e-02],\n",
              "       [2.00027530e-03],\n",
              "       [2.66286042e-02],\n",
              "       [9.82706249e-01],\n",
              "       [4.03134211e-04],\n",
              "       [5.51885784e-01],\n",
              "       [9.74259794e-01],\n",
              "       [9.57162142e-01],\n",
              "       [9.97162461e-01],\n",
              "       [7.13205487e-02],\n",
              "       [1.28843626e-02],\n",
              "       [7.42193341e-01],\n",
              "       [1.14779752e-02],\n",
              "       [2.47406840e-01],\n",
              "       [1.02187164e-01],\n",
              "       [7.43676007e-01],\n",
              "       [7.12584436e-01],\n",
              "       [1.56366397e-02],\n",
              "       [8.50897748e-03],\n",
              "       [5.81575215e-01],\n",
              "       [1.34527255e-02],\n",
              "       [2.93713566e-02],\n",
              "       [5.59793860e-02],\n",
              "       [2.03446671e-01],\n",
              "       [9.97430801e-01],\n",
              "       [9.98528779e-01],\n",
              "       [5.85081279e-01],\n",
              "       [6.13429010e-01],\n",
              "       [9.98402119e-01],\n",
              "       [1.84306133e-04],\n",
              "       [9.99775469e-01],\n",
              "       [3.61571051e-02],\n",
              "       [9.64331627e-01],\n",
              "       [2.00465396e-01],\n",
              "       [9.23290383e-03],\n",
              "       [4.05536667e-02],\n",
              "       [1.76884176e-03],\n",
              "       [7.70832971e-02],\n",
              "       [9.55913216e-03],\n",
              "       [7.30544686e-01],\n",
              "       [1.93922892e-01],\n",
              "       [9.99932051e-01],\n",
              "       [3.84893734e-03],\n",
              "       [8.44822884e-01],\n",
              "       [2.45648965e-01],\n",
              "       [2.10869238e-02],\n",
              "       [1.73443984e-02],\n",
              "       [9.95046139e-01],\n",
              "       [7.79998362e-01],\n",
              "       [6.65422559e-01],\n",
              "       [5.48651218e-02],\n",
              "       [5.62798791e-02],\n",
              "       [4.06614780e-01],\n",
              "       [6.26163110e-02],\n",
              "       [2.65828334e-02],\n",
              "       [9.98402119e-01],\n",
              "       [1.90937612e-03],\n",
              "       [7.54831312e-03],\n",
              "       [4.86256331e-02],\n",
              "       [9.99953806e-01],\n",
              "       [2.33654268e-02],\n",
              "       [2.73756459e-02],\n",
              "       [9.62809026e-01],\n",
              "       [4.65908647e-03],\n",
              "       [4.56345491e-02],\n",
              "       [1.20595366e-01],\n",
              "       [2.16440842e-01],\n",
              "       [5.59227122e-03],\n",
              "       [3.00047994e-01],\n",
              "       [2.91333228e-01],\n",
              "       [1.89591628e-02],\n",
              "       [6.86658993e-02],\n",
              "       [4.03708339e-01],\n",
              "       [1.95982959e-02],\n",
              "       [9.42378581e-01],\n",
              "       [7.66664267e-01],\n",
              "       [2.82323569e-01],\n",
              "       [2.45072087e-03],\n",
              "       [7.54320249e-03],\n",
              "       [9.96740878e-01],\n",
              "       [9.84716952e-01],\n",
              "       [9.99900460e-01],\n",
              "       [5.35985380e-02],\n",
              "       [9.45371091e-01],\n",
              "       [1.38045564e-01],\n",
              "       [5.35891712e-01],\n",
              "       [9.58545327e-01],\n",
              "       [1.16559328e-03],\n",
              "       [9.94265676e-01],\n",
              "       [1.44863799e-01],\n",
              "       [4.32674706e-01],\n",
              "       [9.99025702e-01],\n",
              "       [8.63517728e-03],\n",
              "       [1.30541325e-02],\n",
              "       [5.02923727e-01],\n",
              "       [3.08213732e-03],\n",
              "       [3.43068540e-01],\n",
              "       [9.99942720e-01],\n",
              "       [4.33310084e-02],\n",
              "       [9.95888174e-01],\n",
              "       [1.04115792e-01],\n",
              "       [9.96490061e-01],\n",
              "       [1.79390058e-01],\n",
              "       [8.99460316e-02],\n",
              "       [1.44468702e-03],\n",
              "       [6.14956856e-01],\n",
              "       [1.07445708e-02],\n",
              "       [3.44558433e-02],\n",
              "       [9.77771997e-01],\n",
              "       [9.98259485e-01],\n",
              "       [9.99742985e-01],\n",
              "       [9.35489714e-01],\n",
              "       [4.86829504e-03],\n",
              "       [2.08416328e-01],\n",
              "       [1.93810987e-03],\n",
              "       [2.06158161e-01],\n",
              "       [4.03388560e-01],\n",
              "       [9.97212470e-01],\n",
              "       [2.48324610e-02],\n",
              "       [7.64755487e-01],\n",
              "       [8.25872064e-01],\n",
              "       [1.65393457e-01],\n",
              "       [6.39708102e-01],\n",
              "       [3.15873474e-01],\n",
              "       [7.96800107e-02],\n",
              "       [7.76992500e-01],\n",
              "       [7.38896668e-01],\n",
              "       [9.99727786e-01],\n",
              "       [5.62537648e-03],\n",
              "       [1.59180642e-03],\n",
              "       [6.12388458e-03],\n",
              "       [4.91327703e-01],\n",
              "       [3.72178182e-02],\n",
              "       [4.21223463e-03],\n",
              "       [9.15223718e-01],\n",
              "       [1.80778317e-02],\n",
              "       [1.74423590e-01],\n",
              "       [3.84786397e-01],\n",
              "       [2.65397936e-01],\n",
              "       [9.84495223e-01],\n",
              "       [1.53114730e-02],\n",
              "       [3.86511326e-01],\n",
              "       [1.80818871e-01],\n",
              "       [5.40921325e-03],\n",
              "       [8.76771752e-03],\n",
              "       [9.99905705e-01],\n",
              "       [8.43823433e-01],\n",
              "       [3.85452714e-03],\n",
              "       [7.13626295e-02],\n",
              "       [1.22852465e-02],\n",
              "       [2.11894847e-02],\n",
              "       [9.90189552e-01],\n",
              "       [1.19752251e-01],\n",
              "       [7.81567931e-01],\n",
              "       [1.31386533e-01],\n",
              "       [1.31841511e-01],\n",
              "       [4.32866275e-01],\n",
              "       [1.45501615e-02],\n",
              "       [1.35274772e-02],\n",
              "       [7.89171100e-01],\n",
              "       [4.01441902e-01],\n",
              "       [2.98102707e-01],\n",
              "       [9.91614580e-01],\n",
              "       [1.29664063e-01],\n",
              "       [1.99811712e-01],\n",
              "       [4.03134211e-04],\n",
              "       [1.20439298e-01],\n",
              "       [4.17058349e-01],\n",
              "       [9.99964774e-01],\n",
              "       [8.95250857e-01],\n",
              "       [9.51672159e-03],\n",
              "       [9.99298394e-01],\n",
              "       [9.85004783e-01],\n",
              "       [7.33066678e-01],\n",
              "       [9.85004783e-01],\n",
              "       [9.89125907e-01],\n",
              "       [1.51748036e-03],\n",
              "       [2.91743606e-01],\n",
              "       [1.05011743e-02],\n",
              "       [9.93741810e-01],\n",
              "       [9.60666090e-02],\n",
              "       [3.00474733e-01],\n",
              "       [7.13374605e-03],\n",
              "       [8.99967737e-03],\n",
              "       [1.34700490e-02],\n",
              "       [8.96123704e-03],\n",
              "       [7.55966067e-01],\n",
              "       [1.48131764e-02],\n",
              "       [1.33264652e-02],\n",
              "       [9.42145765e-01],\n",
              "       [1.98903005e-03],\n",
              "       [5.26219001e-03],\n",
              "       [3.69508117e-02],\n",
              "       [5.08501893e-03],\n",
              "       [2.01271120e-02],\n",
              "       [8.09939563e-01],\n",
              "       [9.44565795e-03],\n",
              "       [9.60510075e-01],\n",
              "       [6.61346270e-03],\n",
              "       [5.74751318e-01],\n",
              "       [9.99611020e-01],\n",
              "       [1.31238893e-01],\n",
              "       [9.35203303e-03],\n",
              "       [1.21001573e-02],\n",
              "       [4.43639699e-03],\n",
              "       [9.99608636e-01],\n",
              "       [5.08501893e-03],\n",
              "       [7.60465682e-01],\n",
              "       [9.92934108e-01],\n",
              "       [9.99993742e-01],\n",
              "       [9.99828517e-01],\n",
              "       [9.99958634e-01],\n",
              "       [9.97822583e-01],\n",
              "       [6.31003454e-02],\n",
              "       [4.04080637e-02],\n",
              "       [7.26663589e-01],\n",
              "       [8.28342080e-01],\n",
              "       [9.99901235e-01],\n",
              "       [5.89507706e-02],\n",
              "       [6.00141943e-01],\n",
              "       [8.45798612e-01],\n",
              "       [8.55434239e-01],\n",
              "       [3.36876023e-03],\n",
              "       [4.37687035e-04],\n",
              "       [6.72712410e-03],\n",
              "       [3.41108032e-02],\n",
              "       [2.15149485e-03],\n",
              "       [3.55499447e-03],\n",
              "       [9.50813055e-01],\n",
              "       [9.99240756e-01],\n",
              "       [1.42741157e-03],\n",
              "       [9.68098104e-01],\n",
              "       [9.82195377e-01],\n",
              "       [1.13577517e-02],\n",
              "       [3.43607999e-02],\n",
              "       [2.35185385e-01],\n",
              "       [5.88995755e-01],\n",
              "       [4.54955995e-02],\n",
              "       [8.28242395e-04]], dtype=float32)"
            ]
          },
          "execution_count": 71,
          "metadata": {},
          "output_type": "execute_result"
        }
      ],
      "source": [
        "model_5_pred_probs = model_5.predict(val_sentences)\n",
        "model_5_pred_probs"
      ]
    },
    {
      "cell_type": "code",
      "execution_count": null,
      "metadata": {
        "colab": {
          "background_save": true
        },
        "id": "FGWp8NmL0kX7",
        "outputId": "44c95376-0aff-421e-baf8-6da2a08b8f19"
      },
      "outputs": [
        {
          "data": {
            "text/plain": [
              "<tf.Tensor: shape=(762,), dtype=float32, numpy=\n",
              "array([0., 1., 1., 0., 0., 1., 1., 1., 1., 0., 0., 0., 0., 0., 0., 0., 0.,\n",
              "       0., 0., 0., 1., 0., 1., 0., 1., 1., 0., 0., 0., 0., 0., 0., 1., 0.,\n",
              "       0., 1., 1., 0., 0., 1., 0., 0., 0., 0., 1., 1., 0., 1., 0., 1., 0.,\n",
              "       0., 0., 0., 0., 0., 0., 1., 0., 0., 0., 1., 1., 0., 0., 1., 1., 0.,\n",
              "       0., 0., 0., 0., 1., 0., 0., 1., 0., 1., 0., 0., 0., 0., 1., 0., 0.,\n",
              "       0., 0., 0., 1., 1., 1., 0., 0., 0., 1., 0., 1., 1., 1., 1., 1., 0.,\n",
              "       0., 1., 1., 0., 1., 1., 0., 1., 1., 0., 0., 0., 0., 0., 0., 1., 1.,\n",
              "       0., 1., 0., 0., 1., 0., 1., 0., 0., 0., 1., 0., 1., 1., 1., 1., 1.,\n",
              "       1., 0., 0., 0., 1., 1., 0., 1., 0., 1., 0., 0., 1., 1., 1., 0., 0.,\n",
              "       0., 0., 1., 1., 1., 1., 0., 1., 0., 0., 1., 1., 0., 1., 0., 1., 0.,\n",
              "       1., 1., 1., 0., 1., 0., 0., 0., 1., 1., 0., 1., 1., 1., 1., 0., 0.,\n",
              "       1., 0., 0., 0., 1., 0., 0., 0., 0., 0., 0., 1., 0., 0., 1., 1., 0.,\n",
              "       0., 1., 1., 1., 1., 1., 0., 1., 0., 0., 0., 0., 1., 1., 1., 0., 0.,\n",
              "       0., 0., 0., 1., 0., 0., 1., 1., 0., 0., 0., 1., 0., 1., 0., 1., 0.,\n",
              "       0., 0., 0., 0., 1., 1., 0., 0., 1., 0., 0., 0., 0., 1., 0., 0., 1.,\n",
              "       0., 1., 1., 0., 0., 0., 0., 0., 1., 1., 1., 1., 0., 0., 0., 0., 0.,\n",
              "       1., 0., 0., 1., 0., 0., 1., 0., 0., 0., 1., 0., 1., 1., 1., 0., 1.,\n",
              "       0., 1., 1., 0., 0., 0., 0., 0., 0., 0., 1., 0., 0., 0., 1., 0., 0.,\n",
              "       1., 0., 0., 0., 0., 1., 0., 0., 1., 0., 1., 0., 0., 0., 0., 0., 1.,\n",
              "       0., 1., 0., 0., 1., 0., 1., 0., 0., 1., 0., 0., 1., 0., 0., 1., 1.,\n",
              "       0., 0., 1., 1., 1., 0., 0., 1., 0., 0., 0., 0., 0., 0., 0., 0., 1.,\n",
              "       1., 1., 0., 0., 0., 0., 1., 0., 0., 0., 0., 1., 0., 0., 0., 0., 0.,\n",
              "       0., 0., 0., 0., 0., 1., 1., 1., 1., 0., 0., 1., 1., 0., 1., 0., 1.,\n",
              "       1., 0., 0., 0., 1., 0., 0., 0., 0., 1., 0., 0., 1., 0., 1., 0., 0.,\n",
              "       0., 1., 1., 0., 0., 0., 1., 1., 0., 0., 1., 0., 1., 1., 1., 1., 0.,\n",
              "       1., 0., 1., 1., 1., 0., 0., 0., 0., 0., 0., 1., 0., 1., 1., 1., 1.,\n",
              "       0., 0., 0., 0., 0., 0., 0., 0., 0., 1., 1., 1., 1., 1., 0., 0., 0.,\n",
              "       1., 1., 0., 0., 0., 1., 1., 0., 0., 1., 0., 0., 1., 0., 0., 1., 0.,\n",
              "       0., 1., 0., 0., 0., 0., 0., 1., 0., 0., 0., 0., 1., 0., 0., 1., 1.,\n",
              "       0., 0., 0., 0., 1., 0., 1., 1., 0., 0., 0., 0., 0., 0., 1., 0., 0.,\n",
              "       1., 0., 0., 0., 1., 0., 1., 1., 0., 1., 0., 0., 1., 0., 0., 0., 1.,\n",
              "       0., 1., 1., 1., 1., 0., 0., 1., 0., 0., 0., 1., 1., 0., 0., 1., 0.,\n",
              "       0., 0., 0., 1., 1., 1., 1., 1., 0., 1., 0., 1., 0., 0., 0., 0., 0.,\n",
              "       0., 1., 0., 1., 0., 1., 0., 0., 0., 1., 1., 1., 0., 0., 0., 0., 0.,\n",
              "       1., 0., 0., 0., 1., 0., 0., 1., 0., 0., 0., 0., 0., 0., 0., 0., 0.,\n",
              "       0., 0., 1., 1., 0., 0., 0., 1., 1., 1., 0., 1., 0., 1., 1., 0., 1.,\n",
              "       0., 0., 1., 0., 0., 1., 0., 0., 1., 0., 1., 0., 1., 0., 0., 0., 1.,\n",
              "       0., 0., 1., 1., 1., 1., 0., 0., 0., 0., 0., 1., 0., 1., 1., 0., 1.,\n",
              "       0., 0., 1., 1., 1., 0., 0., 0., 0., 0., 0., 1., 0., 0., 0., 0., 1.,\n",
              "       0., 0., 0., 0., 0., 1., 1., 0., 0., 0., 0., 1., 0., 1., 0., 0., 0.,\n",
              "       0., 0., 1., 0., 0., 1., 0., 0., 0., 0., 0., 1., 1., 0., 1., 1., 1.,\n",
              "       1., 1., 0., 0., 0., 1., 0., 0., 0., 0., 0., 0., 1., 0., 0., 1., 0.,\n",
              "       0., 0., 0., 0., 1., 0., 1., 0., 1., 1., 0., 0., 0., 0., 1., 0., 1.,\n",
              "       1., 1., 1., 1., 1., 0., 0., 1., 1., 1., 0., 1., 1., 1., 0., 0., 0.,\n",
              "       0., 0., 0., 1., 1., 0., 1., 1., 0., 0., 0., 1., 0., 0.],\n",
              "      dtype=float32)>"
            ]
          },
          "execution_count": 72,
          "metadata": {},
          "output_type": "execute_result"
        }
      ],
      "source": [
        "model_5_preds = tf.squeeze(tf.round(model_5_pred_probs))\n",
        "model_5_preds"
      ]
    },
    {
      "cell_type": "code",
      "execution_count": null,
      "metadata": {
        "colab": {
          "background_save": true
        },
        "id": "alhyQduA0vgH",
        "outputId": "021792a0-bcb5-4055-890c-2eb39e584289"
      },
      "outputs": [
        {
          "data": {
            "text/plain": [
              "{'accuracy': 76.77165354330708,\n",
              " 'precision': 0.7705418629507439,\n",
              " 'recall': 0.7677165354330708,\n",
              " 'f1': 0.7649853724238768}"
            ]
          },
          "execution_count": 73,
          "metadata": {},
          "output_type": "execute_result"
        }
      ],
      "source": [
        "model_5_results = calculate_results(val_labels, model_5_preds)\n",
        "model_5_results"
      ]
    },
    {
      "cell_type": "code",
      "execution_count": null,
      "metadata": {
        "colab": {
          "background_save": true
        },
        "id": "_KzOIR0_03LO",
        "outputId": "54f118cf-4e20-4eaa-9b05-0cb476faf582"
      },
      "outputs": [
        {
          "name": "stdout",
          "output_type": "stream",
          "text": [
            "Baseline accuracy: 79.27, new accuracy: 76.77\n",
            "Difference: -2.49\n",
            "Baseline precision: 0.81, new precision: 0.77\n",
            "Difference: -0.04\n",
            "Baseline recall: 0.79, new recall: 0.77\n",
            "Difference: -0.02\n",
            "Baseline f1: 0.79, new f1: 0.76\n",
            "Difference: -0.02\n"
          ]
        }
      ],
      "source": [
        "compare_baseline_to_new_results(baseline_results, model_5_results)"
      ]
    },
    {
      "cell_type": "markdown",
      "metadata": {
        "id": "MLlWWShW1IId"
      },
      "source": [
        "Using Pretrained Embeddings ==> Transfer Learning for NLP"
      ]
    },
    {
      "cell_type": "markdown",
      "metadata": {
        "id": "Fzeyl95x1fqD"
      },
      "source": [
        "Model 6 : Tensorflow Hub Pretrained Sentence Encoder\n",
        "\n",
        "Here we are using the universal sentence encoder, which creates a sentence level embedding as comparto our word level. This encoder outputs a 512 dimensional vector for each sentence."
      ]
    },
    {
      "cell_type": "code",
      "execution_count": null,
      "metadata": {
        "colab": {
          "background_save": true
        },
        "id": "0tNQtbLr1CQZ",
        "outputId": "3a8bf3d3-d6f1-4489-a25b-f6b17db60a79"
      },
      "outputs": [
        {
          "name": "stdout",
          "output_type": "stream",
          "text": [
            "tf.Tensor(\n",
            "[-0.01157025  0.02485911  0.02878051 -0.012715    0.03971541  0.08827761\n",
            "  0.02680988  0.05589838 -0.01068731 -0.00597293  0.00639321 -0.01819516\n",
            "  0.00030816  0.09105889  0.05874645 -0.03180629  0.01512474 -0.05162925\n",
            "  0.00991366 -0.06865345 -0.04209306  0.0267898   0.03011009  0.00321065\n",
            " -0.00337968 -0.04787356  0.0226672  -0.00985927 -0.04063615 -0.01292093\n",
            " -0.04666382  0.05630299 -0.03949255  0.00517682  0.02495827 -0.07014439\n",
            "  0.0287151   0.0494768  -0.00633978 -0.08960193  0.02807119 -0.00808364\n",
            " -0.01360601  0.05998649 -0.10361788 -0.05195372  0.00232958 -0.02332531\n",
            " -0.03758106  0.03327729], shape=(50,), dtype=float32)\n"
          ]
        }
      ],
      "source": [
        "# Loading the Universal sentence encoder.\n",
        "import tensorflow_hub as hub\n",
        "embed = hub.load(\"https://tfhub.dev/google/universal-sentence-encoder/4\")\n",
        "embed_samples = embed([sample_sentence, sample_sentence+sample_sentence])\n",
        "print(embed_samples[0][:50])"
      ]
    },
    {
      "cell_type": "code",
      "execution_count": null,
      "metadata": {
        "colab": {
          "background_save": true
        },
        "id": "_RXcJuIC9lQa",
        "outputId": "274dec78-16cd-4b0b-f95f-0bf176cb94ac"
      },
      "outputs": [
        {
          "data": {
            "text/plain": [
              "TensorShape([512])"
            ]
          },
          "execution_count": 76,
          "metadata": {},
          "output_type": "execute_result"
        }
      ],
      "source": [
        "embed_samples[0].shape"
      ]
    },
    {
      "cell_type": "code",
      "execution_count": null,
      "metadata": {
        "colab": {
          "background_save": true
        },
        "id": "JjjZhJCw_C9D"
      },
      "outputs": [],
      "source": [
        "sentence_encoder_layer = hub.KerasLayer(\"https://tfhub.dev/google/universal-sentence-encoder/4\",\n",
        "                                        input_shape=[],\n",
        "                                        dtype=tf.string,\n",
        "                                        trainable=False,\n",
        "                                        name=\"USE\")\n",
        "# We will use this layer in place of the text_vetor and the embedding layer"
      ]
    },
    {
      "cell_type": "code",
      "execution_count": null,
      "metadata": {
        "colab": {
          "background_save": true
        },
        "id": "GkK1WJtcAWpc"
      },
      "outputs": [],
      "source": [
        "# Creating the model\n",
        "\n",
        "model_6 = tf.keras.Sequential([\n",
        "    sentence_encoder_layer,\n",
        "    layers.Dense(64, activation='relu'),\n",
        "    layers.Dense(1, activation='sigmoid')\n",
        "], name=\"model_6_USE\")\n",
        "\n",
        "# Compile\n",
        "model_6.compile(loss=\"binary_crossentropy\",\n",
        "                optimizer=tf.keras.optimizers.Adam(),\n",
        "                metrics=['accuracy'])"
      ]
    },
    {
      "cell_type": "code",
      "execution_count": null,
      "metadata": {
        "colab": {
          "background_save": true
        },
        "id": "hu5kffw4AY4x",
        "outputId": "55b1d2fb-689c-48b1-c911-f574021d9d2e"
      },
      "outputs": [
        {
          "name": "stdout",
          "output_type": "stream",
          "text": [
            "Model: \"model_6_USE\"\n",
            "_________________________________________________________________\n",
            " Layer (type)                Output Shape              Param #   \n",
            "=================================================================\n",
            " USE (KerasLayer)            (None, 512)               256797824 \n",
            "                                                                 \n",
            " dense_8 (Dense)             (None, 64)                32832     \n",
            "                                                                 \n",
            " dense_9 (Dense)             (None, 1)                 65        \n",
            "                                                                 \n",
            "=================================================================\n",
            "Total params: 256830721 (979.73 MB)\n",
            "Trainable params: 32897 (128.50 KB)\n",
            "Non-trainable params: 256797824 (979.61 MB)\n",
            "_________________________________________________________________\n"
          ]
        }
      ],
      "source": [
        "model_6.summary()"
      ]
    },
    {
      "cell_type": "markdown",
      "metadata": {
        "id": "AlUohChvBKcp"
      },
      "source": [
        "Here as the trainable parameters are only in the output layers, the weights for the USE are frozen. This means we are feature extracting and not fine-tuning the layer to our dataset."
      ]
    },
    {
      "cell_type": "code",
      "execution_count": null,
      "metadata": {
        "id": "HCSuxZqLCov7"
      },
      "outputs": [],
      "source": [
        "# training the model\n",
        "\n",
        "model_6_history = model_6.fit(train_sentences,\n",
        "                              train_labels,\n",
        "                              epochs=5,\n",
        "                              validation_data=(val_sentences, val_labels),\n",
        "                              callbacks=[create_tensorboard_callback(SAVE_DIR,\n",
        "                                                                     \"tf_hub_USE\")])"
      ]
    },
    {
      "cell_type": "code",
      "execution_count": null,
      "metadata": {
        "id": "b4S5pT7RCrUx"
      },
      "outputs": [],
      "source": [
        "model_6_pred_probs = model_6.predict(val_sentences)\n",
        "model_6_pred_probs[:10]"
      ]
    },
    {
      "cell_type": "code",
      "execution_count": null,
      "metadata": {
        "id": "7FZrYxNEC0Hk",
        "colab": {
          "base_uri": "https://localhost:8080/"
        },
        "outputId": "d6583dd7-70e1-437a-ecb8-5d2465f8cbe4"
      },
      "outputs": [
        {
          "output_type": "execute_result",
          "data": {
            "text/plain": [
              "<tf.Tensor: shape=(10,), dtype=float32, numpy=array([0., 1., 1., 0., 1., 1., 1., 1., 1., 0.], dtype=float32)>"
            ]
          },
          "metadata": {},
          "execution_count": 83
        }
      ],
      "source": [
        "model_6_preds = tf.squeeze(tf.round(model_6_pred_probs))\n",
        "model_6_preds[:10]"
      ]
    },
    {
      "cell_type": "code",
      "execution_count": null,
      "metadata": {
        "id": "aLsLQVN-C9Kj",
        "colab": {
          "base_uri": "https://localhost:8080/"
        },
        "outputId": "f8b877bd-dfe8-4c7b-af58-d8512dba0f6b"
      },
      "outputs": [
        {
          "output_type": "execute_result",
          "data": {
            "text/plain": [
              "{'accuracy': 81.23359580052494,\n",
              " 'precision': 0.8155610053499988,\n",
              " 'recall': 0.8123359580052494,\n",
              " 'f1': 0.8104722790014789}"
            ]
          },
          "metadata": {},
          "execution_count": 84
        }
      ],
      "source": [
        "model_6_results = calculate_results(val_labels, model_6_preds)\n",
        "model_6_results"
      ]
    },
    {
      "cell_type": "code",
      "execution_count": null,
      "metadata": {
        "id": "kj0wPcdlDIwB",
        "colab": {
          "base_uri": "https://localhost:8080/"
        },
        "outputId": "c62da8c0-2a34-4e35-f80a-da3c7e0093f9"
      },
      "outputs": [
        {
          "output_type": "stream",
          "name": "stdout",
          "text": [
            "Baseline accuracy: 79.27, new accuracy: 81.23\n",
            "Difference: 1.97\n",
            "Baseline precision: 0.81, new precision: 0.82\n",
            "Difference: 0.00\n",
            "Baseline recall: 0.79, new recall: 0.81\n",
            "Difference: 0.02\n",
            "Baseline f1: 0.79, new f1: 0.81\n",
            "Difference: 0.02\n"
          ]
        }
      ],
      "source": [
        "compare_baseline_to_new_results(baseline_results, model_6_results)"
      ]
    },
    {
      "cell_type": "markdown",
      "metadata": {
        "id": "MaSFRnLok5gg"
      },
      "source": [
        "Model 7 : Train the previous model on 10% of the training data."
      ]
    },
    {
      "cell_type": "code",
      "execution_count": null,
      "metadata": {
        "id": "0KWAG9tMDT5n"
      },
      "outputs": [],
      "source": [
        "# splitting the already split data\n",
        "import numpy as np\n",
        "train_sentences_90, train_sentences_10, train_labels_90, train_labels_10 = train_test_split(\n",
        "    np.array(train_sentences),\n",
        "    train_labels,\n",
        "    test_size=0.1,\n",
        "    random_state=42\n",
        ")"
      ]
    },
    {
      "cell_type": "code",
      "execution_count": null,
      "metadata": {
        "id": "olQYl4Y-lpdT",
        "colab": {
          "base_uri": "https://localhost:8080/"
        },
        "outputId": "80f96eba-02e3-4d67-c588-81c76fc9e32b"
      },
      "outputs": [
        {
          "output_type": "execute_result",
          "data": {
            "text/plain": [
              "(6851, 686)"
            ]
          },
          "metadata": {},
          "execution_count": 94
        }
      ],
      "source": [
        "len(train_sentences), len(train_sentences_10)"
      ]
    },
    {
      "cell_type": "code",
      "execution_count": null,
      "metadata": {
        "id": "ZgHK7TrmlwP7",
        "outputId": "a404151d-cf71-45ee-df64-1c8580f6e6ca",
        "colab": {
          "base_uri": "https://localhost:8080/"
        }
      },
      "outputs": [
        {
          "output_type": "execute_result",
          "data": {
            "text/plain": [
              "0    415\n",
              "1    271\n",
              "Name: count, dtype: int64"
            ]
          },
          "metadata": {},
          "execution_count": 95
        }
      ],
      "source": [
        "# Checking the number of targets in our subset data\n",
        "pd.Series(train_labels_10).value_counts()"
      ]
    },
    {
      "cell_type": "code",
      "execution_count": null,
      "metadata": {
        "id": "KPJO9VFol_a2",
        "colab": {
          "base_uri": "https://localhost:8080/"
        },
        "outputId": "5490f337-5623-4449-e5a0-0411287af53b"
      },
      "outputs": [
        {
          "output_type": "stream",
          "name": "stdout",
          "text": [
            "Model: \"model_6_USE\"\n",
            "_________________________________________________________________\n",
            " Layer (type)                Output Shape              Param #   \n",
            "=================================================================\n",
            " USE (KerasLayer)            (None, 512)               256797824 \n",
            "                                                                 \n",
            " dense_8 (Dense)             (None, 64)                32832     \n",
            "                                                                 \n",
            " dense_9 (Dense)             (None, 1)                 65        \n",
            "                                                                 \n",
            "=================================================================\n",
            "Total params: 256830721 (979.73 MB)\n",
            "Trainable params: 32897 (128.50 KB)\n",
            "Non-trainable params: 256797824 (979.61 MB)\n",
            "_________________________________________________________________\n"
          ]
        }
      ],
      "source": [
        "# We are using the same model as model 6. Thus,\n",
        "model_7 = tf.keras.models.clone_model(model_6)\n",
        "\n",
        "# Compile\n",
        "model_7.compile(loss=\"binary_crossentropy\",\n",
        "                optimizer=tf.keras.optimizers.Adam(),\n",
        "                metrics=['accuracy'])\n",
        "\n",
        "# Summary\n",
        "model_7.summary()"
      ]
    },
    {
      "cell_type": "code",
      "execution_count": null,
      "metadata": {
        "id": "0o0Mzw4CpMG_",
        "colab": {
          "base_uri": "https://localhost:8080/"
        },
        "outputId": "386cbec1-6f2d-46b8-f9e0-51713589d9f1"
      },
      "outputs": [
        {
          "output_type": "stream",
          "name": "stdout",
          "text": [
            "Saving TensorBoard log files to: model_logs/10_percent_USE/20240531-163827\n",
            "Epoch 1/5\n",
            "22/22 [==============================] - 16s 115ms/step - loss: 0.6707 - accuracy: 0.6676 - val_loss: 0.6569 - val_accuracy: 0.6535\n",
            "Epoch 2/5\n",
            "22/22 [==============================] - 2s 87ms/step - loss: 0.6036 - accuracy: 0.7901 - val_loss: 0.6050 - val_accuracy: 0.7257\n",
            "Epoch 3/5\n",
            "22/22 [==============================] - 2s 93ms/step - loss: 0.5272 - accuracy: 0.8207 - val_loss: 0.5506 - val_accuracy: 0.7533\n",
            "Epoch 4/5\n",
            "22/22 [==============================] - 1s 62ms/step - loss: 0.4599 - accuracy: 0.8367 - val_loss: 0.5144 - val_accuracy: 0.7664\n",
            "Epoch 5/5\n",
            "22/22 [==============================] - 1s 56ms/step - loss: 0.4142 - accuracy: 0.8426 - val_loss: 0.4954 - val_accuracy: 0.7756\n"
          ]
        }
      ],
      "source": [
        "model_7_history = model_7.fit(train_sentences_10,\n",
        "                              train_labels_10,\n",
        "                              epochs=5,\n",
        "                              validation_data=(val_sentences, val_labels),\n",
        "                              callbacks=[create_tensorboard_callback(SAVE_DIR, \"10_percent_USE\")])\n"
      ]
    },
    {
      "cell_type": "code",
      "execution_count": null,
      "metadata": {
        "id": "GvV8LWkApoWV"
      },
      "outputs": [],
      "source": [
        "model_7_pred_probs = model_7.predict(val_sentences)\n",
        "model_7_pred_probs[:10]"
      ]
    },
    {
      "cell_type": "code",
      "execution_count": null,
      "metadata": {
        "id": "zOjDQtsfpxTH"
      },
      "outputs": [],
      "source": [
        "model_7_preds = tf.squeeze(tf.round(model_7_pred_probs))\n",
        "model_7_preds[:10]"
      ]
    },
    {
      "cell_type": "code",
      "execution_count": null,
      "metadata": {
        "id": "9yF9mRxAp7cf"
      },
      "outputs": [],
      "source": [
        "model_7_results = calculate_results(val_labels, model_7_preds)\n",
        "model_7_results"
      ]
    },
    {
      "cell_type": "code",
      "execution_count": null,
      "metadata": {
        "id": "aaH60Rc7qD2T"
      },
      "outputs": [],
      "source": [
        "compare_baseline_to_new_results(baseline_results, model_7_results)"
      ]
    },
    {
      "cell_type": "markdown",
      "metadata": {
        "id": "bCQCQ8susPO7"
      },
      "source": [
        "Comparing all the models"
      ]
    },
    {
      "cell_type": "code",
      "execution_count": null,
      "metadata": {
        "id": "I4WXFebOsOs6"
      },
      "outputs": [],
      "source": [
        "all_model_results = pd.DataFrame({\"baseline\": baseline_results,\n",
        "                                  \"simple_dense\": model_1_results,\n",
        "                                  \"lstm\": model_2_results,\n",
        "                                  \"gru\": model_3_results,\n",
        "                                  \"bidirectional\": model_4_results,\n",
        "                                  \"conv1D\": model_5_results,\n",
        "                                  \"USE\": model_6_results,\n",
        "                                  \"USE_10_percent\": model_7_results})\n",
        "\n",
        "all_model_results = all_model_results.transpose()\n",
        "all_model_results"
      ]
    },
    {
      "cell_type": "code",
      "execution_count": null,
      "metadata": {
        "id": "GTm_ZDMvteUI"
      },
      "outputs": [],
      "source": [
        "# Reduce the accuracy to same scale as other metrics\n",
        "all_model_results[\"accuracy\"] = all_model_results[\"accuracy\"]/100"
      ]
    },
    {
      "cell_type": "code",
      "execution_count": null,
      "metadata": {
        "id": "zS9TQDHPt6BF"
      },
      "outputs": [],
      "source": [
        "# Plot and compare all of the models results\n",
        "all_model_results.plot(kind=\"bar\", figsize=(10, 7)).legend(bbox_to_anchor=(1.0,1.0))"
      ]
    },
    {
      "cell_type": "code",
      "execution_count": null,
      "metadata": {
        "id": "opTe-CM6uV_F"
      },
      "outputs": [],
      "source": [
        "# Sort models results by  f1-score\n",
        "all_model_results.sort_values(\"f1\", ascending=False)[\"f1\"].plot(kind=\"bar\", figsize=(10, 7))"
      ]
    },
    {
      "cell_type": "markdown",
      "metadata": {
        "id": "NOhI8bgDdvGB"
      },
      "source": [
        "Combining the models (Model Stacking)\n",
        "\n",
        "Here, the idea is that if several uncorrelated models have the same prediction, then the prediction must be more robust."
      ]
    },
    {
      "cell_type": "markdown",
      "metadata": {
        "id": "ZkqS3GgJeOpy"
      },
      "source": [
        "We can do this by:\n",
        "1. Averaging\n",
        "2. Mode\n",
        "3. Model stacking --> outputs of a model are used as an input for another model."
      ]
    },
    {
      "cell_type": "code",
      "execution_count": null,
      "metadata": {
        "id": "BJH6PkBAeH2_",
        "colab": {
          "base_uri": "https://localhost:8080/"
        },
        "outputId": "b7f30833-8fa2-4319-8ac6-0fd1b50a8333"
      },
      "outputs": [
        {
          "output_type": "execute_result",
          "data": {
            "text/plain": [
              "<tf.Tensor: shape=(20,), dtype=float32, numpy=\n",
              "array([0., 1., 1., 0., 0., 1., 1., 1., 1., 0., 0., 0., 0., 1., 0., 0., 0.,\n",
              "       0., 0., 1.], dtype=float32)>"
            ]
          },
          "metadata": {},
          "execution_count": 111
        }
      ],
      "source": [
        "# Mean pred probs for the three models.\n",
        "baseline_pred_probs = np.max(model_0.predict_proba(val_sentences), axis = 1)\n",
        "combined_pred_probs = baseline_pred_probs + tf.squeeze(model_2_prediction_probs, axis=1) + tf.squeeze(model_6_pred_probs)\n",
        "combined_preds = tf.round(combined_pred_probs/3)\n",
        "combined_preds[:20]"
      ]
    },
    {
      "cell_type": "code",
      "source": [
        "combined_results = calculate_results(val_labels, combined_preds)\n",
        "combined_results"
      ],
      "metadata": {
        "id": "LLwE3fvDh-NJ",
        "colab": {
          "base_uri": "https://localhost:8080/"
        },
        "outputId": "d320c6c6-1348-48d8-d248-24a62aa9cd39"
      },
      "execution_count": null,
      "outputs": [
        {
          "output_type": "execute_result",
          "data": {
            "text/plain": [
              "{'accuracy': 78.60892388451444,\n",
              " 'precision': 0.7860116675698938,\n",
              " 'recall': 0.7860892388451444,\n",
              " 'f1': 0.7853246889177204}"
            ]
          },
          "metadata": {},
          "execution_count": 114
        }
      ]
    },
    {
      "cell_type": "code",
      "source": [
        "# adding it to all model results\n",
        "all_model_results.loc[\"combined_results\"] = combined_results"
      ],
      "metadata": {
        "id": "PYAooof-igt0"
      },
      "execution_count": null,
      "outputs": []
    },
    {
      "cell_type": "code",
      "source": [
        "all_model_results[\"accuracy\"][\"combined_results\"] = all_model_results[\"accuracy\"][\"combined_results\"]/100"
      ],
      "metadata": {
        "id": "GIfY5msCiw-9"
      },
      "execution_count": null,
      "outputs": []
    },
    {
      "cell_type": "code",
      "source": [
        "all_model_results"
      ],
      "metadata": {
        "colab": {
          "base_uri": "https://localhost:8080/",
          "height": 331
        },
        "id": "WQILOGQjjBNw",
        "outputId": "39342616-daef-4ba5-f88f-1afcb137864c"
      },
      "execution_count": null,
      "outputs": [
        {
          "output_type": "execute_result",
          "data": {
            "text/plain": [
              "                  accuracy  precision    recall        f1\n",
              "baseline          0.792651   0.811139  0.792651  0.786219\n",
              "simple_dense      0.786089   0.790328  0.786089  0.783297\n",
              "lstm              0.763780   0.765730  0.763780  0.761364\n",
              "gru               0.770341   0.770121  0.770341  0.769520\n",
              "bidirectional     0.775591   0.776962  0.775591  0.773741\n",
              "conv1D            0.784777   0.789165  0.784777  0.781896\n",
              "USE               0.812336   0.815561  0.812336  0.810472\n",
              "USE_10_percent    0.775591   0.780205  0.775591  0.772357\n",
              "combined_results  0.786089   0.786012  0.786089  0.785325"
            ],
            "text/html": [
              "\n",
              "  <div id=\"df-3062c65a-1851-42f6-a147-4099326aaafa\" class=\"colab-df-container\">\n",
              "    <div>\n",
              "<style scoped>\n",
              "    .dataframe tbody tr th:only-of-type {\n",
              "        vertical-align: middle;\n",
              "    }\n",
              "\n",
              "    .dataframe tbody tr th {\n",
              "        vertical-align: top;\n",
              "    }\n",
              "\n",
              "    .dataframe thead th {\n",
              "        text-align: right;\n",
              "    }\n",
              "</style>\n",
              "<table border=\"1\" class=\"dataframe\">\n",
              "  <thead>\n",
              "    <tr style=\"text-align: right;\">\n",
              "      <th></th>\n",
              "      <th>accuracy</th>\n",
              "      <th>precision</th>\n",
              "      <th>recall</th>\n",
              "      <th>f1</th>\n",
              "    </tr>\n",
              "  </thead>\n",
              "  <tbody>\n",
              "    <tr>\n",
              "      <th>baseline</th>\n",
              "      <td>0.792651</td>\n",
              "      <td>0.811139</td>\n",
              "      <td>0.792651</td>\n",
              "      <td>0.786219</td>\n",
              "    </tr>\n",
              "    <tr>\n",
              "      <th>simple_dense</th>\n",
              "      <td>0.786089</td>\n",
              "      <td>0.790328</td>\n",
              "      <td>0.786089</td>\n",
              "      <td>0.783297</td>\n",
              "    </tr>\n",
              "    <tr>\n",
              "      <th>lstm</th>\n",
              "      <td>0.763780</td>\n",
              "      <td>0.765730</td>\n",
              "      <td>0.763780</td>\n",
              "      <td>0.761364</td>\n",
              "    </tr>\n",
              "    <tr>\n",
              "      <th>gru</th>\n",
              "      <td>0.770341</td>\n",
              "      <td>0.770121</td>\n",
              "      <td>0.770341</td>\n",
              "      <td>0.769520</td>\n",
              "    </tr>\n",
              "    <tr>\n",
              "      <th>bidirectional</th>\n",
              "      <td>0.775591</td>\n",
              "      <td>0.776962</td>\n",
              "      <td>0.775591</td>\n",
              "      <td>0.773741</td>\n",
              "    </tr>\n",
              "    <tr>\n",
              "      <th>conv1D</th>\n",
              "      <td>0.784777</td>\n",
              "      <td>0.789165</td>\n",
              "      <td>0.784777</td>\n",
              "      <td>0.781896</td>\n",
              "    </tr>\n",
              "    <tr>\n",
              "      <th>USE</th>\n",
              "      <td>0.812336</td>\n",
              "      <td>0.815561</td>\n",
              "      <td>0.812336</td>\n",
              "      <td>0.810472</td>\n",
              "    </tr>\n",
              "    <tr>\n",
              "      <th>USE_10_percent</th>\n",
              "      <td>0.775591</td>\n",
              "      <td>0.780205</td>\n",
              "      <td>0.775591</td>\n",
              "      <td>0.772357</td>\n",
              "    </tr>\n",
              "    <tr>\n",
              "      <th>combined_results</th>\n",
              "      <td>0.786089</td>\n",
              "      <td>0.786012</td>\n",
              "      <td>0.786089</td>\n",
              "      <td>0.785325</td>\n",
              "    </tr>\n",
              "  </tbody>\n",
              "</table>\n",
              "</div>\n",
              "    <div class=\"colab-df-buttons\">\n",
              "\n",
              "  <div class=\"colab-df-container\">\n",
              "    <button class=\"colab-df-convert\" onclick=\"convertToInteractive('df-3062c65a-1851-42f6-a147-4099326aaafa')\"\n",
              "            title=\"Convert this dataframe to an interactive table.\"\n",
              "            style=\"display:none;\">\n",
              "\n",
              "  <svg xmlns=\"http://www.w3.org/2000/svg\" height=\"24px\" viewBox=\"0 -960 960 960\">\n",
              "    <path d=\"M120-120v-720h720v720H120Zm60-500h600v-160H180v160Zm220 220h160v-160H400v160Zm0 220h160v-160H400v160ZM180-400h160v-160H180v160Zm440 0h160v-160H620v160ZM180-180h160v-160H180v160Zm440 0h160v-160H620v160Z\"/>\n",
              "  </svg>\n",
              "    </button>\n",
              "\n",
              "  <style>\n",
              "    .colab-df-container {\n",
              "      display:flex;\n",
              "      gap: 12px;\n",
              "    }\n",
              "\n",
              "    .colab-df-convert {\n",
              "      background-color: #E8F0FE;\n",
              "      border: none;\n",
              "      border-radius: 50%;\n",
              "      cursor: pointer;\n",
              "      display: none;\n",
              "      fill: #1967D2;\n",
              "      height: 32px;\n",
              "      padding: 0 0 0 0;\n",
              "      width: 32px;\n",
              "    }\n",
              "\n",
              "    .colab-df-convert:hover {\n",
              "      background-color: #E2EBFA;\n",
              "      box-shadow: 0px 1px 2px rgba(60, 64, 67, 0.3), 0px 1px 3px 1px rgba(60, 64, 67, 0.15);\n",
              "      fill: #174EA6;\n",
              "    }\n",
              "\n",
              "    .colab-df-buttons div {\n",
              "      margin-bottom: 4px;\n",
              "    }\n",
              "\n",
              "    [theme=dark] .colab-df-convert {\n",
              "      background-color: #3B4455;\n",
              "      fill: #D2E3FC;\n",
              "    }\n",
              "\n",
              "    [theme=dark] .colab-df-convert:hover {\n",
              "      background-color: #434B5C;\n",
              "      box-shadow: 0px 1px 3px 1px rgba(0, 0, 0, 0.15);\n",
              "      filter: drop-shadow(0px 1px 2px rgba(0, 0, 0, 0.3));\n",
              "      fill: #FFFFFF;\n",
              "    }\n",
              "  </style>\n",
              "\n",
              "    <script>\n",
              "      const buttonEl =\n",
              "        document.querySelector('#df-3062c65a-1851-42f6-a147-4099326aaafa button.colab-df-convert');\n",
              "      buttonEl.style.display =\n",
              "        google.colab.kernel.accessAllowed ? 'block' : 'none';\n",
              "\n",
              "      async function convertToInteractive(key) {\n",
              "        const element = document.querySelector('#df-3062c65a-1851-42f6-a147-4099326aaafa');\n",
              "        const dataTable =\n",
              "          await google.colab.kernel.invokeFunction('convertToInteractive',\n",
              "                                                    [key], {});\n",
              "        if (!dataTable) return;\n",
              "\n",
              "        const docLinkHtml = 'Like what you see? Visit the ' +\n",
              "          '<a target=\"_blank\" href=https://colab.research.google.com/notebooks/data_table.ipynb>data table notebook</a>'\n",
              "          + ' to learn more about interactive tables.';\n",
              "        element.innerHTML = '';\n",
              "        dataTable['output_type'] = 'display_data';\n",
              "        await google.colab.output.renderOutput(dataTable, element);\n",
              "        const docLink = document.createElement('div');\n",
              "        docLink.innerHTML = docLinkHtml;\n",
              "        element.appendChild(docLink);\n",
              "      }\n",
              "    </script>\n",
              "  </div>\n",
              "\n",
              "\n",
              "<div id=\"df-93df94b8-95bf-4057-aadc-c6b377a34444\">\n",
              "  <button class=\"colab-df-quickchart\" onclick=\"quickchart('df-93df94b8-95bf-4057-aadc-c6b377a34444')\"\n",
              "            title=\"Suggest charts\"\n",
              "            style=\"display:none;\">\n",
              "\n",
              "<svg xmlns=\"http://www.w3.org/2000/svg\" height=\"24px\"viewBox=\"0 0 24 24\"\n",
              "     width=\"24px\">\n",
              "    <g>\n",
              "        <path d=\"M19 3H5c-1.1 0-2 .9-2 2v14c0 1.1.9 2 2 2h14c1.1 0 2-.9 2-2V5c0-1.1-.9-2-2-2zM9 17H7v-7h2v7zm4 0h-2V7h2v10zm4 0h-2v-4h2v4z\"/>\n",
              "    </g>\n",
              "</svg>\n",
              "  </button>\n",
              "\n",
              "<style>\n",
              "  .colab-df-quickchart {\n",
              "      --bg-color: #E8F0FE;\n",
              "      --fill-color: #1967D2;\n",
              "      --hover-bg-color: #E2EBFA;\n",
              "      --hover-fill-color: #174EA6;\n",
              "      --disabled-fill-color: #AAA;\n",
              "      --disabled-bg-color: #DDD;\n",
              "  }\n",
              "\n",
              "  [theme=dark] .colab-df-quickchart {\n",
              "      --bg-color: #3B4455;\n",
              "      --fill-color: #D2E3FC;\n",
              "      --hover-bg-color: #434B5C;\n",
              "      --hover-fill-color: #FFFFFF;\n",
              "      --disabled-bg-color: #3B4455;\n",
              "      --disabled-fill-color: #666;\n",
              "  }\n",
              "\n",
              "  .colab-df-quickchart {\n",
              "    background-color: var(--bg-color);\n",
              "    border: none;\n",
              "    border-radius: 50%;\n",
              "    cursor: pointer;\n",
              "    display: none;\n",
              "    fill: var(--fill-color);\n",
              "    height: 32px;\n",
              "    padding: 0;\n",
              "    width: 32px;\n",
              "  }\n",
              "\n",
              "  .colab-df-quickchart:hover {\n",
              "    background-color: var(--hover-bg-color);\n",
              "    box-shadow: 0 1px 2px rgba(60, 64, 67, 0.3), 0 1px 3px 1px rgba(60, 64, 67, 0.15);\n",
              "    fill: var(--button-hover-fill-color);\n",
              "  }\n",
              "\n",
              "  .colab-df-quickchart-complete:disabled,\n",
              "  .colab-df-quickchart-complete:disabled:hover {\n",
              "    background-color: var(--disabled-bg-color);\n",
              "    fill: var(--disabled-fill-color);\n",
              "    box-shadow: none;\n",
              "  }\n",
              "\n",
              "  .colab-df-spinner {\n",
              "    border: 2px solid var(--fill-color);\n",
              "    border-color: transparent;\n",
              "    border-bottom-color: var(--fill-color);\n",
              "    animation:\n",
              "      spin 1s steps(1) infinite;\n",
              "  }\n",
              "\n",
              "  @keyframes spin {\n",
              "    0% {\n",
              "      border-color: transparent;\n",
              "      border-bottom-color: var(--fill-color);\n",
              "      border-left-color: var(--fill-color);\n",
              "    }\n",
              "    20% {\n",
              "      border-color: transparent;\n",
              "      border-left-color: var(--fill-color);\n",
              "      border-top-color: var(--fill-color);\n",
              "    }\n",
              "    30% {\n",
              "      border-color: transparent;\n",
              "      border-left-color: var(--fill-color);\n",
              "      border-top-color: var(--fill-color);\n",
              "      border-right-color: var(--fill-color);\n",
              "    }\n",
              "    40% {\n",
              "      border-color: transparent;\n",
              "      border-right-color: var(--fill-color);\n",
              "      border-top-color: var(--fill-color);\n",
              "    }\n",
              "    60% {\n",
              "      border-color: transparent;\n",
              "      border-right-color: var(--fill-color);\n",
              "    }\n",
              "    80% {\n",
              "      border-color: transparent;\n",
              "      border-right-color: var(--fill-color);\n",
              "      border-bottom-color: var(--fill-color);\n",
              "    }\n",
              "    90% {\n",
              "      border-color: transparent;\n",
              "      border-bottom-color: var(--fill-color);\n",
              "    }\n",
              "  }\n",
              "</style>\n",
              "\n",
              "  <script>\n",
              "    async function quickchart(key) {\n",
              "      const quickchartButtonEl =\n",
              "        document.querySelector('#' + key + ' button');\n",
              "      quickchartButtonEl.disabled = true;  // To prevent multiple clicks.\n",
              "      quickchartButtonEl.classList.add('colab-df-spinner');\n",
              "      try {\n",
              "        const charts = await google.colab.kernel.invokeFunction(\n",
              "            'suggestCharts', [key], {});\n",
              "      } catch (error) {\n",
              "        console.error('Error during call to suggestCharts:', error);\n",
              "      }\n",
              "      quickchartButtonEl.classList.remove('colab-df-spinner');\n",
              "      quickchartButtonEl.classList.add('colab-df-quickchart-complete');\n",
              "    }\n",
              "    (() => {\n",
              "      let quickchartButtonEl =\n",
              "        document.querySelector('#df-93df94b8-95bf-4057-aadc-c6b377a34444 button');\n",
              "      quickchartButtonEl.style.display =\n",
              "        google.colab.kernel.accessAllowed ? 'block' : 'none';\n",
              "    })();\n",
              "  </script>\n",
              "</div>\n",
              "\n",
              "  <div id=\"id_e2b3ccd2-083c-4f74-a617-bb5d9eede3d4\">\n",
              "    <style>\n",
              "      .colab-df-generate {\n",
              "        background-color: #E8F0FE;\n",
              "        border: none;\n",
              "        border-radius: 50%;\n",
              "        cursor: pointer;\n",
              "        display: none;\n",
              "        fill: #1967D2;\n",
              "        height: 32px;\n",
              "        padding: 0 0 0 0;\n",
              "        width: 32px;\n",
              "      }\n",
              "\n",
              "      .colab-df-generate:hover {\n",
              "        background-color: #E2EBFA;\n",
              "        box-shadow: 0px 1px 2px rgba(60, 64, 67, 0.3), 0px 1px 3px 1px rgba(60, 64, 67, 0.15);\n",
              "        fill: #174EA6;\n",
              "      }\n",
              "\n",
              "      [theme=dark] .colab-df-generate {\n",
              "        background-color: #3B4455;\n",
              "        fill: #D2E3FC;\n",
              "      }\n",
              "\n",
              "      [theme=dark] .colab-df-generate:hover {\n",
              "        background-color: #434B5C;\n",
              "        box-shadow: 0px 1px 3px 1px rgba(0, 0, 0, 0.15);\n",
              "        filter: drop-shadow(0px 1px 2px rgba(0, 0, 0, 0.3));\n",
              "        fill: #FFFFFF;\n",
              "      }\n",
              "    </style>\n",
              "    <button class=\"colab-df-generate\" onclick=\"generateWithVariable('all_model_results')\"\n",
              "            title=\"Generate code using this dataframe.\"\n",
              "            style=\"display:none;\">\n",
              "\n",
              "  <svg xmlns=\"http://www.w3.org/2000/svg\" height=\"24px\"viewBox=\"0 0 24 24\"\n",
              "       width=\"24px\">\n",
              "    <path d=\"M7,19H8.4L18.45,9,17,7.55,7,17.6ZM5,21V16.75L18.45,3.32a2,2,0,0,1,2.83,0l1.4,1.43a1.91,1.91,0,0,1,.58,1.4,1.91,1.91,0,0,1-.58,1.4L9.25,21ZM18.45,9,17,7.55Zm-12,3A5.31,5.31,0,0,0,4.9,8.1,5.31,5.31,0,0,0,1,6.5,5.31,5.31,0,0,0,4.9,4.9,5.31,5.31,0,0,0,6.5,1,5.31,5.31,0,0,0,8.1,4.9,5.31,5.31,0,0,0,12,6.5,5.46,5.46,0,0,0,6.5,12Z\"/>\n",
              "  </svg>\n",
              "    </button>\n",
              "    <script>\n",
              "      (() => {\n",
              "      const buttonEl =\n",
              "        document.querySelector('#id_e2b3ccd2-083c-4f74-a617-bb5d9eede3d4 button.colab-df-generate');\n",
              "      buttonEl.style.display =\n",
              "        google.colab.kernel.accessAllowed ? 'block' : 'none';\n",
              "\n",
              "      buttonEl.onclick = () => {\n",
              "        google.colab.notebook.generateWithVariable('all_model_results');\n",
              "      }\n",
              "      })();\n",
              "    </script>\n",
              "  </div>\n",
              "\n",
              "    </div>\n",
              "  </div>\n"
            ],
            "application/vnd.google.colaboratory.intrinsic+json": {
              "type": "dataframe",
              "variable_name": "all_model_results",
              "summary": "{\n  \"name\": \"all_model_results\",\n  \"rows\": 9,\n  \"fields\": [\n    {\n      \"column\": \"accuracy\",\n      \"properties\": {\n        \"dtype\": \"number\",\n        \"std\": 0.014210241356763603,\n        \"min\": 0.7637795275590551,\n        \"max\": 0.8123359580052494,\n        \"num_unique_values\": 7,\n        \"samples\": [\n          0.7926509186351706,\n          0.7860892388451444,\n          0.784776902887139\n        ],\n        \"semantic_type\": \"\",\n        \"description\": \"\"\n      }\n    },\n    {\n      \"column\": \"precision\",\n      \"properties\": {\n        \"dtype\": \"number\",\n        \"std\": 0.01695168599951169,\n        \"min\": 0.765729922717656,\n        \"max\": 0.8155610053499988,\n        \"num_unique_values\": 9,\n        \"samples\": [\n          0.7802047087708873,\n          0.7903277546022673,\n          0.789165199286798\n        ],\n        \"semantic_type\": \"\",\n        \"description\": \"\"\n      }\n    },\n    {\n      \"column\": \"recall\",\n      \"properties\": {\n        \"dtype\": \"number\",\n        \"std\": 0.014210241356763605,\n        \"min\": 0.7637795275590551,\n        \"max\": 0.8123359580052494,\n        \"num_unique_values\": 7,\n        \"samples\": [\n          0.7926509186351706,\n          0.7860892388451444,\n          0.7847769028871391\n        ],\n        \"semantic_type\": \"\",\n        \"description\": \"\"\n      }\n    },\n    {\n      \"column\": \"f1\",\n      \"properties\": {\n        \"dtype\": \"number\",\n        \"std\": 0.013976829694090457,\n        \"min\": 0.7613639638656104,\n        \"max\": 0.8104722790014789,\n        \"num_unique_values\": 9,\n        \"samples\": [\n          0.7723569237171506,\n          0.7832971347503846,\n          0.7818959205825942\n        ],\n        \"semantic_type\": \"\",\n        \"description\": \"\"\n      }\n    }\n  ]\n}"
            }
          },
          "metadata": {},
          "execution_count": 121
        }
      ]
    },
    {
      "cell_type": "markdown",
      "source": [
        "Finding the most wrong examples"
      ],
      "metadata": {
        "id": "J2ibmNlvjr17"
      }
    },
    {
      "cell_type": "code",
      "source": [
        "validation_df = pd.DataFrame({\"text\": val_sentences,\n",
        "                              \"target\": val_labels,\n",
        "                              \"pred\": model_6_preds,\n",
        "                              \"pred_prob\": tf.squeeze(model_6_pred_probs)})\n",
        "\n",
        "validation_df.head()"
      ],
      "metadata": {
        "colab": {
          "base_uri": "https://localhost:8080/",
          "height": 206
        },
        "id": "pI0Ot6MijwmZ",
        "outputId": "27da8437-86c0-439b-8f06-3ec99d9b3be0"
      },
      "execution_count": null,
      "outputs": [
        {
          "output_type": "execute_result",
          "data": {
            "text/plain": [
              "                                                text  target  pred  pred_prob\n",
              "0  DFR EP016 Monthly Meltdown - On Dnbheaven 2015...       0   0.0   0.159011\n",
              "1  FedEx no longer to transport bioterror germs i...       0   1.0   0.750847\n",
              "2  Gunmen kill four in El Salvador bus attack: Su...       1   1.0   0.991741\n",
              "3  @camilacabello97 Internally and externally scr...       1   0.0   0.210068\n",
              "4  Radiation emergency #preparedness starts with ...       1   1.0   0.702734"
            ],
            "text/html": [
              "\n",
              "  <div id=\"df-7bcc8be9-58c0-4cda-9842-ea55ee4e89c9\" class=\"colab-df-container\">\n",
              "    <div>\n",
              "<style scoped>\n",
              "    .dataframe tbody tr th:only-of-type {\n",
              "        vertical-align: middle;\n",
              "    }\n",
              "\n",
              "    .dataframe tbody tr th {\n",
              "        vertical-align: top;\n",
              "    }\n",
              "\n",
              "    .dataframe thead th {\n",
              "        text-align: right;\n",
              "    }\n",
              "</style>\n",
              "<table border=\"1\" class=\"dataframe\">\n",
              "  <thead>\n",
              "    <tr style=\"text-align: right;\">\n",
              "      <th></th>\n",
              "      <th>text</th>\n",
              "      <th>target</th>\n",
              "      <th>pred</th>\n",
              "      <th>pred_prob</th>\n",
              "    </tr>\n",
              "  </thead>\n",
              "  <tbody>\n",
              "    <tr>\n",
              "      <th>0</th>\n",
              "      <td>DFR EP016 Monthly Meltdown - On Dnbheaven 2015...</td>\n",
              "      <td>0</td>\n",
              "      <td>0.0</td>\n",
              "      <td>0.159011</td>\n",
              "    </tr>\n",
              "    <tr>\n",
              "      <th>1</th>\n",
              "      <td>FedEx no longer to transport bioterror germs i...</td>\n",
              "      <td>0</td>\n",
              "      <td>1.0</td>\n",
              "      <td>0.750847</td>\n",
              "    </tr>\n",
              "    <tr>\n",
              "      <th>2</th>\n",
              "      <td>Gunmen kill four in El Salvador bus attack: Su...</td>\n",
              "      <td>1</td>\n",
              "      <td>1.0</td>\n",
              "      <td>0.991741</td>\n",
              "    </tr>\n",
              "    <tr>\n",
              "      <th>3</th>\n",
              "      <td>@camilacabello97 Internally and externally scr...</td>\n",
              "      <td>1</td>\n",
              "      <td>0.0</td>\n",
              "      <td>0.210068</td>\n",
              "    </tr>\n",
              "    <tr>\n",
              "      <th>4</th>\n",
              "      <td>Radiation emergency #preparedness starts with ...</td>\n",
              "      <td>1</td>\n",
              "      <td>1.0</td>\n",
              "      <td>0.702734</td>\n",
              "    </tr>\n",
              "  </tbody>\n",
              "</table>\n",
              "</div>\n",
              "    <div class=\"colab-df-buttons\">\n",
              "\n",
              "  <div class=\"colab-df-container\">\n",
              "    <button class=\"colab-df-convert\" onclick=\"convertToInteractive('df-7bcc8be9-58c0-4cda-9842-ea55ee4e89c9')\"\n",
              "            title=\"Convert this dataframe to an interactive table.\"\n",
              "            style=\"display:none;\">\n",
              "\n",
              "  <svg xmlns=\"http://www.w3.org/2000/svg\" height=\"24px\" viewBox=\"0 -960 960 960\">\n",
              "    <path d=\"M120-120v-720h720v720H120Zm60-500h600v-160H180v160Zm220 220h160v-160H400v160Zm0 220h160v-160H400v160ZM180-400h160v-160H180v160Zm440 0h160v-160H620v160ZM180-180h160v-160H180v160Zm440 0h160v-160H620v160Z\"/>\n",
              "  </svg>\n",
              "    </button>\n",
              "\n",
              "  <style>\n",
              "    .colab-df-container {\n",
              "      display:flex;\n",
              "      gap: 12px;\n",
              "    }\n",
              "\n",
              "    .colab-df-convert {\n",
              "      background-color: #E8F0FE;\n",
              "      border: none;\n",
              "      border-radius: 50%;\n",
              "      cursor: pointer;\n",
              "      display: none;\n",
              "      fill: #1967D2;\n",
              "      height: 32px;\n",
              "      padding: 0 0 0 0;\n",
              "      width: 32px;\n",
              "    }\n",
              "\n",
              "    .colab-df-convert:hover {\n",
              "      background-color: #E2EBFA;\n",
              "      box-shadow: 0px 1px 2px rgba(60, 64, 67, 0.3), 0px 1px 3px 1px rgba(60, 64, 67, 0.15);\n",
              "      fill: #174EA6;\n",
              "    }\n",
              "\n",
              "    .colab-df-buttons div {\n",
              "      margin-bottom: 4px;\n",
              "    }\n",
              "\n",
              "    [theme=dark] .colab-df-convert {\n",
              "      background-color: #3B4455;\n",
              "      fill: #D2E3FC;\n",
              "    }\n",
              "\n",
              "    [theme=dark] .colab-df-convert:hover {\n",
              "      background-color: #434B5C;\n",
              "      box-shadow: 0px 1px 3px 1px rgba(0, 0, 0, 0.15);\n",
              "      filter: drop-shadow(0px 1px 2px rgba(0, 0, 0, 0.3));\n",
              "      fill: #FFFFFF;\n",
              "    }\n",
              "  </style>\n",
              "\n",
              "    <script>\n",
              "      const buttonEl =\n",
              "        document.querySelector('#df-7bcc8be9-58c0-4cda-9842-ea55ee4e89c9 button.colab-df-convert');\n",
              "      buttonEl.style.display =\n",
              "        google.colab.kernel.accessAllowed ? 'block' : 'none';\n",
              "\n",
              "      async function convertToInteractive(key) {\n",
              "        const element = document.querySelector('#df-7bcc8be9-58c0-4cda-9842-ea55ee4e89c9');\n",
              "        const dataTable =\n",
              "          await google.colab.kernel.invokeFunction('convertToInteractive',\n",
              "                                                    [key], {});\n",
              "        if (!dataTable) return;\n",
              "\n",
              "        const docLinkHtml = 'Like what you see? Visit the ' +\n",
              "          '<a target=\"_blank\" href=https://colab.research.google.com/notebooks/data_table.ipynb>data table notebook</a>'\n",
              "          + ' to learn more about interactive tables.';\n",
              "        element.innerHTML = '';\n",
              "        dataTable['output_type'] = 'display_data';\n",
              "        await google.colab.output.renderOutput(dataTable, element);\n",
              "        const docLink = document.createElement('div');\n",
              "        docLink.innerHTML = docLinkHtml;\n",
              "        element.appendChild(docLink);\n",
              "      }\n",
              "    </script>\n",
              "  </div>\n",
              "\n",
              "\n",
              "<div id=\"df-67711e0d-20dd-4d81-a951-e5d5b2a92303\">\n",
              "  <button class=\"colab-df-quickchart\" onclick=\"quickchart('df-67711e0d-20dd-4d81-a951-e5d5b2a92303')\"\n",
              "            title=\"Suggest charts\"\n",
              "            style=\"display:none;\">\n",
              "\n",
              "<svg xmlns=\"http://www.w3.org/2000/svg\" height=\"24px\"viewBox=\"0 0 24 24\"\n",
              "     width=\"24px\">\n",
              "    <g>\n",
              "        <path d=\"M19 3H5c-1.1 0-2 .9-2 2v14c0 1.1.9 2 2 2h14c1.1 0 2-.9 2-2V5c0-1.1-.9-2-2-2zM9 17H7v-7h2v7zm4 0h-2V7h2v10zm4 0h-2v-4h2v4z\"/>\n",
              "    </g>\n",
              "</svg>\n",
              "  </button>\n",
              "\n",
              "<style>\n",
              "  .colab-df-quickchart {\n",
              "      --bg-color: #E8F0FE;\n",
              "      --fill-color: #1967D2;\n",
              "      --hover-bg-color: #E2EBFA;\n",
              "      --hover-fill-color: #174EA6;\n",
              "      --disabled-fill-color: #AAA;\n",
              "      --disabled-bg-color: #DDD;\n",
              "  }\n",
              "\n",
              "  [theme=dark] .colab-df-quickchart {\n",
              "      --bg-color: #3B4455;\n",
              "      --fill-color: #D2E3FC;\n",
              "      --hover-bg-color: #434B5C;\n",
              "      --hover-fill-color: #FFFFFF;\n",
              "      --disabled-bg-color: #3B4455;\n",
              "      --disabled-fill-color: #666;\n",
              "  }\n",
              "\n",
              "  .colab-df-quickchart {\n",
              "    background-color: var(--bg-color);\n",
              "    border: none;\n",
              "    border-radius: 50%;\n",
              "    cursor: pointer;\n",
              "    display: none;\n",
              "    fill: var(--fill-color);\n",
              "    height: 32px;\n",
              "    padding: 0;\n",
              "    width: 32px;\n",
              "  }\n",
              "\n",
              "  .colab-df-quickchart:hover {\n",
              "    background-color: var(--hover-bg-color);\n",
              "    box-shadow: 0 1px 2px rgba(60, 64, 67, 0.3), 0 1px 3px 1px rgba(60, 64, 67, 0.15);\n",
              "    fill: var(--button-hover-fill-color);\n",
              "  }\n",
              "\n",
              "  .colab-df-quickchart-complete:disabled,\n",
              "  .colab-df-quickchart-complete:disabled:hover {\n",
              "    background-color: var(--disabled-bg-color);\n",
              "    fill: var(--disabled-fill-color);\n",
              "    box-shadow: none;\n",
              "  }\n",
              "\n",
              "  .colab-df-spinner {\n",
              "    border: 2px solid var(--fill-color);\n",
              "    border-color: transparent;\n",
              "    border-bottom-color: var(--fill-color);\n",
              "    animation:\n",
              "      spin 1s steps(1) infinite;\n",
              "  }\n",
              "\n",
              "  @keyframes spin {\n",
              "    0% {\n",
              "      border-color: transparent;\n",
              "      border-bottom-color: var(--fill-color);\n",
              "      border-left-color: var(--fill-color);\n",
              "    }\n",
              "    20% {\n",
              "      border-color: transparent;\n",
              "      border-left-color: var(--fill-color);\n",
              "      border-top-color: var(--fill-color);\n",
              "    }\n",
              "    30% {\n",
              "      border-color: transparent;\n",
              "      border-left-color: var(--fill-color);\n",
              "      border-top-color: var(--fill-color);\n",
              "      border-right-color: var(--fill-color);\n",
              "    }\n",
              "    40% {\n",
              "      border-color: transparent;\n",
              "      border-right-color: var(--fill-color);\n",
              "      border-top-color: var(--fill-color);\n",
              "    }\n",
              "    60% {\n",
              "      border-color: transparent;\n",
              "      border-right-color: var(--fill-color);\n",
              "    }\n",
              "    80% {\n",
              "      border-color: transparent;\n",
              "      border-right-color: var(--fill-color);\n",
              "      border-bottom-color: var(--fill-color);\n",
              "    }\n",
              "    90% {\n",
              "      border-color: transparent;\n",
              "      border-bottom-color: var(--fill-color);\n",
              "    }\n",
              "  }\n",
              "</style>\n",
              "\n",
              "  <script>\n",
              "    async function quickchart(key) {\n",
              "      const quickchartButtonEl =\n",
              "        document.querySelector('#' + key + ' button');\n",
              "      quickchartButtonEl.disabled = true;  // To prevent multiple clicks.\n",
              "      quickchartButtonEl.classList.add('colab-df-spinner');\n",
              "      try {\n",
              "        const charts = await google.colab.kernel.invokeFunction(\n",
              "            'suggestCharts', [key], {});\n",
              "      } catch (error) {\n",
              "        console.error('Error during call to suggestCharts:', error);\n",
              "      }\n",
              "      quickchartButtonEl.classList.remove('colab-df-spinner');\n",
              "      quickchartButtonEl.classList.add('colab-df-quickchart-complete');\n",
              "    }\n",
              "    (() => {\n",
              "      let quickchartButtonEl =\n",
              "        document.querySelector('#df-67711e0d-20dd-4d81-a951-e5d5b2a92303 button');\n",
              "      quickchartButtonEl.style.display =\n",
              "        google.colab.kernel.accessAllowed ? 'block' : 'none';\n",
              "    })();\n",
              "  </script>\n",
              "</div>\n",
              "\n",
              "    </div>\n",
              "  </div>\n"
            ],
            "application/vnd.google.colaboratory.intrinsic+json": {
              "type": "dataframe",
              "variable_name": "validation_df",
              "summary": "{\n  \"name\": \"validation_df\",\n  \"rows\": 762,\n  \"fields\": [\n    {\n      \"column\": \"text\",\n      \"properties\": {\n        \"dtype\": \"string\",\n        \"num_unique_values\": 761,\n        \"samples\": [\n          \"collapsed the moment i got home last night lol\",\n          \"Reality Training: Train falls off elevated tracks during windstorm http://t.co/qzRciNaF5z\",\n          \"Storm headed towards Idaho Falls with blowing dust &amp; winds to 60 mph.  US HWY 20 &amp; I15 look out.  #idwx http://t.co/0cR74m1Uxm\"\n        ],\n        \"semantic_type\": \"\",\n        \"description\": \"\"\n      }\n    },\n    {\n      \"column\": \"target\",\n      \"properties\": {\n        \"dtype\": \"number\",\n        \"std\": 0,\n        \"min\": 0,\n        \"max\": 1,\n        \"num_unique_values\": 2,\n        \"samples\": [\n          1,\n          0\n        ],\n        \"semantic_type\": \"\",\n        \"description\": \"\"\n      }\n    },\n    {\n      \"column\": \"pred\",\n      \"properties\": {\n        \"dtype\": \"float32\",\n        \"num_unique_values\": 2,\n        \"samples\": [\n          1.0,\n          0.0\n        ],\n        \"semantic_type\": \"\",\n        \"description\": \"\"\n      }\n    },\n    {\n      \"column\": \"pred_prob\",\n      \"properties\": {\n        \"dtype\": \"float32\",\n        \"num_unique_values\": 761,\n        \"samples\": [\n          0.1333434134721756,\n          0.6903713941574097\n        ],\n        \"semantic_type\": \"\",\n        \"description\": \"\"\n      }\n    }\n  ]\n}"
            }
          },
          "metadata": {},
          "execution_count": 123
        }
      ]
    },
    {
      "cell_type": "code",
      "source": [
        "# Finding the wrong predictions\n",
        "most_wrong = validation_df[validation_df[\"target\"] != validation_df[\"pred\"]].sort_values(\"pred_prob\", ascending=False)\n",
        "most_wrong[:10]"
      ],
      "metadata": {
        "colab": {
          "base_uri": "https://localhost:8080/",
          "height": 380
        },
        "id": "KPwDxnXQkkFe",
        "outputId": "2968797e-d5ed-44ec-a452-56ea4e938a01"
      },
      "execution_count": null,
      "outputs": [
        {
          "output_type": "execute_result",
          "data": {
            "text/plain": [
              "                                                  text  target  pred  \\\n",
              "31   ? High Skies - Burning Buildings ? http://t.co...       0   1.0   \n",
              "628  @noah_anyname That's where the concentration c...       0   1.0   \n",
              "759  FedEx will no longer transport bioterror patho...       0   1.0   \n",
              "393  @SonofLiberty357 all illuminated by the bright...       0   1.0   \n",
              "49   @madonnamking RSPCA site multiple 7 story high...       0   1.0   \n",
              "109  [55436] 1950 LIONEL TRAINS SMOKE LOCOMOTIVES W...       0   1.0   \n",
              "251  @AshGhebranious civil rights continued in the ...       0   1.0   \n",
              "209  Ashes 2015: AustraliaÛªs collapse at Trent Br...       0   1.0   \n",
              "381                    Deaths 3 http://t.co/nApviyGKYK       0   1.0   \n",
              "698  åÈMGN-AFRICAå¨ pin:263789F4 åÈ Correction: Ten...       0   1.0   \n",
              "\n",
              "     pred_prob  \n",
              "31    0.920183  \n",
              "628   0.876362  \n",
              "759   0.873009  \n",
              "393   0.843644  \n",
              "49    0.827578  \n",
              "109   0.816337  \n",
              "251   0.810571  \n",
              "209   0.810393  \n",
              "381   0.770595  \n",
              "698   0.767385  "
            ],
            "text/html": [
              "\n",
              "  <div id=\"df-04bedfbd-c4fa-464e-b8f9-10a4862eb5d4\" class=\"colab-df-container\">\n",
              "    <div>\n",
              "<style scoped>\n",
              "    .dataframe tbody tr th:only-of-type {\n",
              "        vertical-align: middle;\n",
              "    }\n",
              "\n",
              "    .dataframe tbody tr th {\n",
              "        vertical-align: top;\n",
              "    }\n",
              "\n",
              "    .dataframe thead th {\n",
              "        text-align: right;\n",
              "    }\n",
              "</style>\n",
              "<table border=\"1\" class=\"dataframe\">\n",
              "  <thead>\n",
              "    <tr style=\"text-align: right;\">\n",
              "      <th></th>\n",
              "      <th>text</th>\n",
              "      <th>target</th>\n",
              "      <th>pred</th>\n",
              "      <th>pred_prob</th>\n",
              "    </tr>\n",
              "  </thead>\n",
              "  <tbody>\n",
              "    <tr>\n",
              "      <th>31</th>\n",
              "      <td>? High Skies - Burning Buildings ? http://t.co...</td>\n",
              "      <td>0</td>\n",
              "      <td>1.0</td>\n",
              "      <td>0.920183</td>\n",
              "    </tr>\n",
              "    <tr>\n",
              "      <th>628</th>\n",
              "      <td>@noah_anyname That's where the concentration c...</td>\n",
              "      <td>0</td>\n",
              "      <td>1.0</td>\n",
              "      <td>0.876362</td>\n",
              "    </tr>\n",
              "    <tr>\n",
              "      <th>759</th>\n",
              "      <td>FedEx will no longer transport bioterror patho...</td>\n",
              "      <td>0</td>\n",
              "      <td>1.0</td>\n",
              "      <td>0.873009</td>\n",
              "    </tr>\n",
              "    <tr>\n",
              "      <th>393</th>\n",
              "      <td>@SonofLiberty357 all illuminated by the bright...</td>\n",
              "      <td>0</td>\n",
              "      <td>1.0</td>\n",
              "      <td>0.843644</td>\n",
              "    </tr>\n",
              "    <tr>\n",
              "      <th>49</th>\n",
              "      <td>@madonnamking RSPCA site multiple 7 story high...</td>\n",
              "      <td>0</td>\n",
              "      <td>1.0</td>\n",
              "      <td>0.827578</td>\n",
              "    </tr>\n",
              "    <tr>\n",
              "      <th>109</th>\n",
              "      <td>[55436] 1950 LIONEL TRAINS SMOKE LOCOMOTIVES W...</td>\n",
              "      <td>0</td>\n",
              "      <td>1.0</td>\n",
              "      <td>0.816337</td>\n",
              "    </tr>\n",
              "    <tr>\n",
              "      <th>251</th>\n",
              "      <td>@AshGhebranious civil rights continued in the ...</td>\n",
              "      <td>0</td>\n",
              "      <td>1.0</td>\n",
              "      <td>0.810571</td>\n",
              "    </tr>\n",
              "    <tr>\n",
              "      <th>209</th>\n",
              "      <td>Ashes 2015: AustraliaÛªs collapse at Trent Br...</td>\n",
              "      <td>0</td>\n",
              "      <td>1.0</td>\n",
              "      <td>0.810393</td>\n",
              "    </tr>\n",
              "    <tr>\n",
              "      <th>381</th>\n",
              "      <td>Deaths 3 http://t.co/nApviyGKYK</td>\n",
              "      <td>0</td>\n",
              "      <td>1.0</td>\n",
              "      <td>0.770595</td>\n",
              "    </tr>\n",
              "    <tr>\n",
              "      <th>698</th>\n",
              "      <td>åÈMGN-AFRICAå¨ pin:263789F4 åÈ Correction: Ten...</td>\n",
              "      <td>0</td>\n",
              "      <td>1.0</td>\n",
              "      <td>0.767385</td>\n",
              "    </tr>\n",
              "  </tbody>\n",
              "</table>\n",
              "</div>\n",
              "    <div class=\"colab-df-buttons\">\n",
              "\n",
              "  <div class=\"colab-df-container\">\n",
              "    <button class=\"colab-df-convert\" onclick=\"convertToInteractive('df-04bedfbd-c4fa-464e-b8f9-10a4862eb5d4')\"\n",
              "            title=\"Convert this dataframe to an interactive table.\"\n",
              "            style=\"display:none;\">\n",
              "\n",
              "  <svg xmlns=\"http://www.w3.org/2000/svg\" height=\"24px\" viewBox=\"0 -960 960 960\">\n",
              "    <path d=\"M120-120v-720h720v720H120Zm60-500h600v-160H180v160Zm220 220h160v-160H400v160Zm0 220h160v-160H400v160ZM180-400h160v-160H180v160Zm440 0h160v-160H620v160ZM180-180h160v-160H180v160Zm440 0h160v-160H620v160Z\"/>\n",
              "  </svg>\n",
              "    </button>\n",
              "\n",
              "  <style>\n",
              "    .colab-df-container {\n",
              "      display:flex;\n",
              "      gap: 12px;\n",
              "    }\n",
              "\n",
              "    .colab-df-convert {\n",
              "      background-color: #E8F0FE;\n",
              "      border: none;\n",
              "      border-radius: 50%;\n",
              "      cursor: pointer;\n",
              "      display: none;\n",
              "      fill: #1967D2;\n",
              "      height: 32px;\n",
              "      padding: 0 0 0 0;\n",
              "      width: 32px;\n",
              "    }\n",
              "\n",
              "    .colab-df-convert:hover {\n",
              "      background-color: #E2EBFA;\n",
              "      box-shadow: 0px 1px 2px rgba(60, 64, 67, 0.3), 0px 1px 3px 1px rgba(60, 64, 67, 0.15);\n",
              "      fill: #174EA6;\n",
              "    }\n",
              "\n",
              "    .colab-df-buttons div {\n",
              "      margin-bottom: 4px;\n",
              "    }\n",
              "\n",
              "    [theme=dark] .colab-df-convert {\n",
              "      background-color: #3B4455;\n",
              "      fill: #D2E3FC;\n",
              "    }\n",
              "\n",
              "    [theme=dark] .colab-df-convert:hover {\n",
              "      background-color: #434B5C;\n",
              "      box-shadow: 0px 1px 3px 1px rgba(0, 0, 0, 0.15);\n",
              "      filter: drop-shadow(0px 1px 2px rgba(0, 0, 0, 0.3));\n",
              "      fill: #FFFFFF;\n",
              "    }\n",
              "  </style>\n",
              "\n",
              "    <script>\n",
              "      const buttonEl =\n",
              "        document.querySelector('#df-04bedfbd-c4fa-464e-b8f9-10a4862eb5d4 button.colab-df-convert');\n",
              "      buttonEl.style.display =\n",
              "        google.colab.kernel.accessAllowed ? 'block' : 'none';\n",
              "\n",
              "      async function convertToInteractive(key) {\n",
              "        const element = document.querySelector('#df-04bedfbd-c4fa-464e-b8f9-10a4862eb5d4');\n",
              "        const dataTable =\n",
              "          await google.colab.kernel.invokeFunction('convertToInteractive',\n",
              "                                                    [key], {});\n",
              "        if (!dataTable) return;\n",
              "\n",
              "        const docLinkHtml = 'Like what you see? Visit the ' +\n",
              "          '<a target=\"_blank\" href=https://colab.research.google.com/notebooks/data_table.ipynb>data table notebook</a>'\n",
              "          + ' to learn more about interactive tables.';\n",
              "        element.innerHTML = '';\n",
              "        dataTable['output_type'] = 'display_data';\n",
              "        await google.colab.output.renderOutput(dataTable, element);\n",
              "        const docLink = document.createElement('div');\n",
              "        docLink.innerHTML = docLinkHtml;\n",
              "        element.appendChild(docLink);\n",
              "      }\n",
              "    </script>\n",
              "  </div>\n",
              "\n",
              "\n",
              "<div id=\"df-d8c1dd98-dc9e-435a-ac9d-c2bfa87b7d52\">\n",
              "  <button class=\"colab-df-quickchart\" onclick=\"quickchart('df-d8c1dd98-dc9e-435a-ac9d-c2bfa87b7d52')\"\n",
              "            title=\"Suggest charts\"\n",
              "            style=\"display:none;\">\n",
              "\n",
              "<svg xmlns=\"http://www.w3.org/2000/svg\" height=\"24px\"viewBox=\"0 0 24 24\"\n",
              "     width=\"24px\">\n",
              "    <g>\n",
              "        <path d=\"M19 3H5c-1.1 0-2 .9-2 2v14c0 1.1.9 2 2 2h14c1.1 0 2-.9 2-2V5c0-1.1-.9-2-2-2zM9 17H7v-7h2v7zm4 0h-2V7h2v10zm4 0h-2v-4h2v4z\"/>\n",
              "    </g>\n",
              "</svg>\n",
              "  </button>\n",
              "\n",
              "<style>\n",
              "  .colab-df-quickchart {\n",
              "      --bg-color: #E8F0FE;\n",
              "      --fill-color: #1967D2;\n",
              "      --hover-bg-color: #E2EBFA;\n",
              "      --hover-fill-color: #174EA6;\n",
              "      --disabled-fill-color: #AAA;\n",
              "      --disabled-bg-color: #DDD;\n",
              "  }\n",
              "\n",
              "  [theme=dark] .colab-df-quickchart {\n",
              "      --bg-color: #3B4455;\n",
              "      --fill-color: #D2E3FC;\n",
              "      --hover-bg-color: #434B5C;\n",
              "      --hover-fill-color: #FFFFFF;\n",
              "      --disabled-bg-color: #3B4455;\n",
              "      --disabled-fill-color: #666;\n",
              "  }\n",
              "\n",
              "  .colab-df-quickchart {\n",
              "    background-color: var(--bg-color);\n",
              "    border: none;\n",
              "    border-radius: 50%;\n",
              "    cursor: pointer;\n",
              "    display: none;\n",
              "    fill: var(--fill-color);\n",
              "    height: 32px;\n",
              "    padding: 0;\n",
              "    width: 32px;\n",
              "  }\n",
              "\n",
              "  .colab-df-quickchart:hover {\n",
              "    background-color: var(--hover-bg-color);\n",
              "    box-shadow: 0 1px 2px rgba(60, 64, 67, 0.3), 0 1px 3px 1px rgba(60, 64, 67, 0.15);\n",
              "    fill: var(--button-hover-fill-color);\n",
              "  }\n",
              "\n",
              "  .colab-df-quickchart-complete:disabled,\n",
              "  .colab-df-quickchart-complete:disabled:hover {\n",
              "    background-color: var(--disabled-bg-color);\n",
              "    fill: var(--disabled-fill-color);\n",
              "    box-shadow: none;\n",
              "  }\n",
              "\n",
              "  .colab-df-spinner {\n",
              "    border: 2px solid var(--fill-color);\n",
              "    border-color: transparent;\n",
              "    border-bottom-color: var(--fill-color);\n",
              "    animation:\n",
              "      spin 1s steps(1) infinite;\n",
              "  }\n",
              "\n",
              "  @keyframes spin {\n",
              "    0% {\n",
              "      border-color: transparent;\n",
              "      border-bottom-color: var(--fill-color);\n",
              "      border-left-color: var(--fill-color);\n",
              "    }\n",
              "    20% {\n",
              "      border-color: transparent;\n",
              "      border-left-color: var(--fill-color);\n",
              "      border-top-color: var(--fill-color);\n",
              "    }\n",
              "    30% {\n",
              "      border-color: transparent;\n",
              "      border-left-color: var(--fill-color);\n",
              "      border-top-color: var(--fill-color);\n",
              "      border-right-color: var(--fill-color);\n",
              "    }\n",
              "    40% {\n",
              "      border-color: transparent;\n",
              "      border-right-color: var(--fill-color);\n",
              "      border-top-color: var(--fill-color);\n",
              "    }\n",
              "    60% {\n",
              "      border-color: transparent;\n",
              "      border-right-color: var(--fill-color);\n",
              "    }\n",
              "    80% {\n",
              "      border-color: transparent;\n",
              "      border-right-color: var(--fill-color);\n",
              "      border-bottom-color: var(--fill-color);\n",
              "    }\n",
              "    90% {\n",
              "      border-color: transparent;\n",
              "      border-bottom-color: var(--fill-color);\n",
              "    }\n",
              "  }\n",
              "</style>\n",
              "\n",
              "  <script>\n",
              "    async function quickchart(key) {\n",
              "      const quickchartButtonEl =\n",
              "        document.querySelector('#' + key + ' button');\n",
              "      quickchartButtonEl.disabled = true;  // To prevent multiple clicks.\n",
              "      quickchartButtonEl.classList.add('colab-df-spinner');\n",
              "      try {\n",
              "        const charts = await google.colab.kernel.invokeFunction(\n",
              "            'suggestCharts', [key], {});\n",
              "      } catch (error) {\n",
              "        console.error('Error during call to suggestCharts:', error);\n",
              "      }\n",
              "      quickchartButtonEl.classList.remove('colab-df-spinner');\n",
              "      quickchartButtonEl.classList.add('colab-df-quickchart-complete');\n",
              "    }\n",
              "    (() => {\n",
              "      let quickchartButtonEl =\n",
              "        document.querySelector('#df-d8c1dd98-dc9e-435a-ac9d-c2bfa87b7d52 button');\n",
              "      quickchartButtonEl.style.display =\n",
              "        google.colab.kernel.accessAllowed ? 'block' : 'none';\n",
              "    })();\n",
              "  </script>\n",
              "</div>\n",
              "\n",
              "    </div>\n",
              "  </div>\n"
            ],
            "application/vnd.google.colaboratory.intrinsic+json": {
              "type": "dataframe",
              "summary": "{\n  \"name\": \"most_wrong[:10]\",\n  \"rows\": 10,\n  \"fields\": [\n    {\n      \"column\": \"text\",\n      \"properties\": {\n        \"dtype\": \"string\",\n        \"num_unique_values\": 10,\n        \"samples\": [\n          \"Deaths 3 http://t.co/nApviyGKYK\",\n          \"@noah_anyname That's where the concentration camps and mass murder come in. \\n \\nEVERY. FUCKING. TIME.\",\n          \"[55436] 1950 LIONEL TRAINS SMOKE LOCOMOTIVES WITH MAGNE-TRACTION INSTRUCTIONS http://t.co/xEZBs3sq0y http://t.co/C2x0QoKGlY\"\n        ],\n        \"semantic_type\": \"\",\n        \"description\": \"\"\n      }\n    },\n    {\n      \"column\": \"target\",\n      \"properties\": {\n        \"dtype\": \"number\",\n        \"std\": 0,\n        \"min\": 0,\n        \"max\": 0,\n        \"num_unique_values\": 1,\n        \"samples\": [\n          0\n        ],\n        \"semantic_type\": \"\",\n        \"description\": \"\"\n      }\n    },\n    {\n      \"column\": \"pred\",\n      \"properties\": {\n        \"dtype\": \"float32\",\n        \"num_unique_values\": 1,\n        \"samples\": [\n          1.0\n        ],\n        \"semantic_type\": \"\",\n        \"description\": \"\"\n      }\n    },\n    {\n      \"column\": \"pred_prob\",\n      \"properties\": {\n        \"dtype\": \"float32\",\n        \"num_unique_values\": 10,\n        \"samples\": [\n          0.7705950736999512\n        ],\n        \"semantic_type\": \"\",\n        \"description\": \"\"\n      }\n    }\n  ]\n}"
            }
          },
          "metadata": {},
          "execution_count": 125
        }
      ]
    },
    {
      "cell_type": "code",
      "source": [
        "# Checking for false positives\n",
        "for row in most_wrong[:10].itertuples():\n",
        "  _, text, target, pred, prob = row\n",
        "  print(f\"Target: {target}, Pred: {int(pred)}, Prob: {prob}\")\n",
        "  print(f\"Text:\\n {text}\\n\\n\")"
      ],
      "metadata": {
        "colab": {
          "base_uri": "https://localhost:8080/"
        },
        "id": "uNbQBWLuk94S",
        "outputId": "4ff4b498-3a96-4ea5-ae3e-e7b9c73b0da0"
      },
      "execution_count": null,
      "outputs": [
        {
          "output_type": "stream",
          "name": "stdout",
          "text": [
            "Target: 0, Pred: 1, Prob: 0.9201827049255371\n",
            "Text:\n",
            " ? High Skies - Burning Buildings ? http://t.co/uVq41i3Kx2 #nowplaying\n",
            "\n",
            "\n",
            "Target: 0, Pred: 1, Prob: 0.8763617277145386\n",
            "Text:\n",
            " @noah_anyname That's where the concentration camps and mass murder come in. \n",
            " \n",
            "EVERY. FUCKING. TIME.\n",
            "\n",
            "\n",
            "Target: 0, Pred: 1, Prob: 0.873009443283081\n",
            "Text:\n",
            " FedEx will no longer transport bioterror pathogens in wake of anthrax lab mishaps http://t.co/lHpgxc4b8J\n",
            "\n",
            "\n",
            "Target: 0, Pred: 1, Prob: 0.8436436653137207\n",
            "Text:\n",
            " @SonofLiberty357 all illuminated by the brightly burning buildings all around the town!\n",
            "\n",
            "\n",
            "Target: 0, Pred: 1, Prob: 0.8275781273841858\n",
            "Text:\n",
            " @madonnamking RSPCA site multiple 7 story high rise buildings next to low density character residential in an area that floods\n",
            "\n",
            "\n",
            "Target: 0, Pred: 1, Prob: 0.8163366317749023\n",
            "Text:\n",
            " [55436] 1950 LIONEL TRAINS SMOKE LOCOMOTIVES WITH MAGNE-TRACTION INSTRUCTIONS http://t.co/xEZBs3sq0y http://t.co/C2x0QoKGlY\n",
            "\n",
            "\n",
            "Target: 0, Pred: 1, Prob: 0.8105711936950684\n",
            "Text:\n",
            " @AshGhebranious civil rights continued in the 60s. And what about trans-generational trauma? if anything we should listen to the Americans.\n",
            "\n",
            "\n",
            "Target: 0, Pred: 1, Prob: 0.8103928565979004\n",
            "Text:\n",
            " Ashes 2015: AustraliaÛªs collapse at Trent Bridge among worst in history: England bundled out Australia for 60 ... http://t.co/t5TrhjUAU0\n",
            "\n",
            "\n",
            "Target: 0, Pred: 1, Prob: 0.7705950736999512\n",
            "Text:\n",
            " Deaths 3 http://t.co/nApviyGKYK\n",
            "\n",
            "\n",
            "Target: 0, Pred: 1, Prob: 0.7673847675323486\n",
            "Text:\n",
            " åÈMGN-AFRICAå¨ pin:263789F4 åÈ Correction: Tent Collapse Story: Correction: Tent Collapse story åÈ http://t.co/fDJUYvZMrv @wizkidayo\n",
            "\n",
            "\n"
          ]
        }
      ]
    },
    {
      "cell_type": "code",
      "source": [
        "# Checking false negatives.\n",
        "for row in most_wrong[-10:].itertuples():\n",
        "  _, text, target, pred, prob = row\n",
        "  print(f\"Target: {target}, Pred: {int(pred)}, Prob: {prob}\")\n",
        "  print(f\"Text:\\n {text}\\n\\n\")"
      ],
      "metadata": {
        "colab": {
          "base_uri": "https://localhost:8080/"
        },
        "id": "K_23vLSXlnyn",
        "outputId": "7b585453-60e7-4d3b-f780-3232e53c64ce"
      },
      "execution_count": null,
      "outputs": [
        {
          "output_type": "stream",
          "name": "stdout",
          "text": [
            "Target: 1, Pred: 0, Prob: 0.06213303655385971\n",
            "Text:\n",
            " 'The way you move is like a full on rainstorm and I'm a house of cards'\n",
            "\n",
            "\n",
            "Target: 1, Pred: 0, Prob: 0.06186872348189354\n",
            "Text:\n",
            " Lucas Duda is Ghost Rider. Not the Nic Cage version but an actual 'engulfed in flames' badass. #Mets\n",
            "\n",
            "\n",
            "Target: 1, Pred: 0, Prob: 0.0575287900865078\n",
            "Text:\n",
            " going to redo my nails and watch behind the scenes of desolation of smaug ayyy\n",
            "\n",
            "\n",
            "Target: 1, Pred: 0, Prob: 0.05257507786154747\n",
            "Text:\n",
            " @willienelson We need help! Horses will die!Please RT &amp; sign petition!Take a stand &amp; be a voice for them! #gilbert23 https://t.co/e8dl1lNCVu\n",
            "\n",
            "\n",
            "Target: 1, Pred: 0, Prob: 0.048620495945215225\n",
            "Text:\n",
            " You can never escape me. Bullets don't harm me. Nothing harms me. But I know pain. I know pain. Sometimes I share it. With someone like you.\n",
            "\n",
            "\n",
            "Target: 1, Pred: 0, Prob: 0.04748659208416939\n",
            "Text:\n",
            " Why are you deluged with low self-image? Take the quiz: http://t.co/XsPqdOrIqj http://t.co/CQYvFR4UCy\n",
            "\n",
            "\n",
            "Target: 1, Pred: 0, Prob: 0.04742103070020676\n",
            "Text:\n",
            " I get to smoke my shit in peace\n",
            "\n",
            "\n",
            "Target: 1, Pred: 0, Prob: 0.041959669440984726\n",
            "Text:\n",
            " Reddit Will Now QuarantineÛ_ http://t.co/pkUAMXw6pm #onlinecommunities #reddit #amageddon #freespeech #Business http://t.co/PAWvNJ4sAP\n",
            "\n",
            "\n",
            "Target: 1, Pred: 0, Prob: 0.04098793864250183\n",
            "Text:\n",
            " @SoonerMagic_ I mean I'm a fan but I don't need a girl sounding off like a damn siren\n",
            "\n",
            "\n",
            "Target: 1, Pred: 0, Prob: 0.03590792417526245\n",
            "Text:\n",
            " Ron &amp; Fez - Dave's High School Crush https://t.co/aN3W16c8F6 via @YouTube\n",
            "\n",
            "\n"
          ]
        }
      ]
    },
    {
      "cell_type": "code",
      "source": [
        "# Function for predictions on some tweets found.\n",
        "def predict_on_sentence(model, sentence):\n",
        "  pred_prob = model.predict([sentence])\n",
        "  pred_label = tf.squeeze(tf.round(pred_prob)).numpy()\n",
        "  print(f\"Pred: {pred_label}\", \"real disaster\" if pred_label > 0 else \"not a real disaster\", f\"Prob: {pred_prob[0][0]}\")\n",
        "  print(f\"Text:\\n {sentence}\")"
      ],
      "metadata": {
        "id": "n7vGZMLQmI72"
      },
      "execution_count": null,
      "outputs": []
    },
    {
      "cell_type": "code",
      "source": [
        "tweet_1 = \"Life like an ensemble: take the best choices from others and make your own\"\n",
        "tweet_2 = \"Reports that the smoke in Beirut sky contains nitric acid, which is toxic. Please share and refrain from stepping outside unless urgent. #Lebanon\"\n",
        "tweet_3 = \"#Beirut declared a “devastated city”, two-week state of emergency officially declared. #Lebanon\""
      ],
      "metadata": {
        "id": "cj4K9D8dnCwl"
      },
      "execution_count": null,
      "outputs": []
    },
    {
      "cell_type": "code",
      "source": [
        "predict_on_sentence(model_6, tweet_1)"
      ],
      "metadata": {
        "colab": {
          "base_uri": "https://localhost:8080/"
        },
        "id": "gNWbY2hCnWYe",
        "outputId": "453a0af7-c204-4708-9212-d06ac1dcef86"
      },
      "execution_count": null,
      "outputs": [
        {
          "output_type": "stream",
          "name": "stdout",
          "text": [
            "1/1 [==============================] - 0s 229ms/step\n",
            "Pred: 0.0 not a real disaster Prob: 0.057273052632808685\n",
            "Text:\n",
            " Life like an ensemble: take the best choices from others and make your own\n"
          ]
        }
      ]
    },
    {
      "cell_type": "code",
      "source": [
        "predict_on_sentence(model_6, tweet_2)"
      ],
      "metadata": {
        "colab": {
          "base_uri": "https://localhost:8080/"
        },
        "id": "fPBGliqFnajJ",
        "outputId": "0c12b236-0615-4f45-f8ea-1d23e5375103"
      },
      "execution_count": null,
      "outputs": [
        {
          "output_type": "stream",
          "name": "stdout",
          "text": [
            "1/1 [==============================] - 0s 218ms/step\n",
            "Pred: 1.0 real disaster Prob: 0.9705180525779724\n",
            "Text:\n",
            " Reports that the smoke in Beirut sky contains nitric acid, which is toxic. Please share and refrain from stepping outside unless urgent. #Lebanon\n"
          ]
        }
      ]
    },
    {
      "cell_type": "code",
      "source": [
        "predict_on_sentence(model_6, tweet_3)"
      ],
      "metadata": {
        "colab": {
          "base_uri": "https://localhost:8080/"
        },
        "id": "G3DxPlJPnggy",
        "outputId": "93c8ed17-6bde-414a-fdac-1bb362c22ded"
      },
      "execution_count": null,
      "outputs": [
        {
          "output_type": "stream",
          "name": "stdout",
          "text": [
            "1/1 [==============================] - 0s 123ms/step\n",
            "Pred: 1.0 real disaster Prob: 0.9732449650764465\n",
            "Text:\n",
            " #Beirut declared a “devastated city”, two-week state of emergency officially declared. #Lebanon\n"
          ]
        }
      ]
    },
    {
      "cell_type": "markdown",
      "source": [
        "Speed/score tradeoff"
      ],
      "metadata": {
        "id": "d1Zl8UTTn6PP"
      }
    },
    {
      "cell_type": "code",
      "source": [
        "import time\n",
        "# Function to calculate how much time a model takes to predict\n",
        "def pred_time(model, samples):\n",
        "  start_time = time.perf_counter()\n",
        "  model.predict(samples)\n",
        "  end_time = time.perf_counter()\n",
        "  total_time = end_time - start_time\n",
        "  time_per_pred = total_time/len(samples)\n",
        "  return total_time, time_per_pred"
      ],
      "metadata": {
        "id": "ey63_1QKn3qS"
      },
      "execution_count": null,
      "outputs": []
    },
    {
      "cell_type": "code",
      "source": [
        "# For model 6\n",
        "model_6_pred_time, model_6_time_per_pred = pred_time(model_6, val_sentences)\n",
        "model_6_pred_time, model_6_time_per_pred"
      ],
      "metadata": {
        "colab": {
          "base_uri": "https://localhost:8080/"
        },
        "id": "9h6GM44OofD7",
        "outputId": "37a1b6d1-5aa1-4fa0-fedc-84874f7ee611"
      },
      "execution_count": null,
      "outputs": [
        {
          "output_type": "stream",
          "name": "stdout",
          "text": [
            "24/24 [==============================] - 0s 14ms/step\n"
          ]
        },
        {
          "output_type": "execute_result",
          "data": {
            "text/plain": [
              "(0.7223347069998454, 0.0009479458097110832)"
            ]
          },
          "metadata": {},
          "execution_count": 135
        }
      ]
    },
    {
      "cell_type": "code",
      "source": [
        "# for model 0\n",
        "baseline_pred_time, baseline_time_per_pred = pred_time(model_0, val_sentences)\n",
        "baseline_pred_time, baseline_time_per_pred"
      ],
      "metadata": {
        "colab": {
          "base_uri": "https://localhost:8080/"
        },
        "id": "XUX9qsxVouRS",
        "outputId": "49857aea-d3fb-4314-bb59-d4cb094f14c5"
      },
      "execution_count": null,
      "outputs": [
        {
          "output_type": "execute_result",
          "data": {
            "text/plain": [
              "(0.09248276400012401, 0.00012136845669307612)"
            ]
          },
          "metadata": {},
          "execution_count": 136
        }
      ]
    },
    {
      "cell_type": "code",
      "source": [
        "# comparing the f1 scores for these two models\n",
        "\n",
        "import matplotlib.pyplot as plt\n",
        "\n",
        "plt.figure(figsize=(10,7))\n",
        "plt.scatter(baseline_time_per_pred, baseline_results[\"f1\"], label=\"baseline\")\n",
        "plt.scatter(model_6_time_per_pred, model_6_results[\"f1\"], label=\"model_6_USE\")\n",
        "plt.legend()\n",
        "plt.title(\"F1-score vs Average time taken per prediction\")\n",
        "plt.xlabel(\"Average time per Prediction\")\n",
        "plt.ylabel(\"F1-score\")"
      ],
      "metadata": {
        "colab": {
          "base_uri": "https://localhost:8080/",
          "height": 492
        },
        "id": "iSYeKqi5pBKD",
        "outputId": "f71dab83-5e97-4cc8-cec3-cc7826ac7d06"
      },
      "execution_count": null,
      "outputs": [
        {
          "output_type": "execute_result",
          "data": {
            "text/plain": [
              "Text(0, 0.5, 'F1-score')"
            ]
          },
          "metadata": {},
          "execution_count": 138
        },
        {
          "output_type": "display_data",
          "data": {
            "text/plain": [
              "<Figure size 1000x700 with 1 Axes>"
            ],
            "image/png": "[encoded data removed]"
          },
          "metadata": {}
        }
      ]
    },
    {
      "cell_type": "code",
      "source": [],
      "metadata": {
        "id": "CX6cKUVJp0Ck"
      },
      "execution_count": null,
      "outputs": []
    }
  ],
  "metadata": {
    "colab": {
      "provenance": [],
      "authorship_tag": "ABX9TyPcM+2+rSNJAjhJt1w3uD1f",
      "include_colab_link": true
    },
    "kernelspec": {
      "display_name": "Python 3",
      "name": "python3"
    },
    "language_info": {
      "name": "python"
    }
  },
  "nbformat": 4,
  "nbformat_minor": 0
}