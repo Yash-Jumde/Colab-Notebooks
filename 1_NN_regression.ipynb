{
  "nbformat": 4,
  "nbformat_minor": 0,
  "metadata": {
    "colab": {
      "provenance": [],
      "authorship_tag": "ABX9TyNvd/e7O8VkNyr0iFKDbNky",
      "include_colab_link": true
    },
    "kernelspec": {
      "name": "python3",
      "display_name": "Python 3"
    },
    "language_info": {
      "name": "python"
    }
  },
  "cells": [
    {
      "cell_type": "markdown",
      "metadata": {
        "id": "view-in-github",
        "colab_type": "text"
      },
      "source": [
        "<a href=\"https://colab.research.google.com/github/Yash-Jumde/Colab-Notebooks/blob/main/1_NN_regression.ipynb\" target=\"_parent\"><img src=\"https://colab.research.google.com/assets/colab-badge.svg\" alt=\"Open In Colab\"/></a>"
      ]
    },
    {
      "cell_type": "code",
      "source": [
        "import tensorflow as tf\n",
        "print(tf.__version__)"
      ],
      "metadata": {
        "colab": {
          "base_uri": "https://localhost:8080/"
        },
        "id": "citSSwiVL3uT",
        "outputId": "47f5ab45-c60b-4ed0-99d6-9753833fc948"
      },
      "execution_count": null,
      "outputs": [
        {
          "output_type": "stream",
          "name": "stdout",
          "text": [
            "2.15.0\n"
          ]
        }
      ]
    },
    {
      "cell_type": "code",
      "source": [
        "import numpy as np\n",
        "import matplotlib.pyplot as plt\n",
        "\n",
        "X = np.array([-7.0, -4.0, -1.0, 2.0, 5.0, 8.0, 11.0, 14.0])\n",
        "\n",
        "y = np.array([3.0, 6.0, 9.0, 12.0, 15.0, 18.0, 21.0, 24.0])\n",
        "\n",
        "plt.scatter(X, y)"
      ],
      "metadata": {
        "colab": {
          "base_uri": "https://localhost:8080/",
          "height": 452
        },
        "id": "M0_9W53xL7c4",
        "outputId": "65e4a1c5-6a53-4437-b918-f2827bbc1821"
      },
      "execution_count": null,
      "outputs": [
        {
          "output_type": "execute_result",
          "data": {
            "text/plain": [
              "<matplotlib.collections.PathCollection at 0x798c1330f790>"
            ]
          },
          "metadata": {},
          "execution_count": 2
        },
        {
          "output_type": "display_data",
          "data": {
            "text/plain": [
              "<Figure size 640x480 with 1 Axes>"
            ],
            "image/png": "[encoded data removed]"
          },
          "metadata": {}
        }
      ]
    },
    {
      "cell_type": "code",
      "source": [
        "X = tf.cast(tf.constant(X), dtype=tf.float32)\n",
        "y = tf.cast(tf.constant(y), dtype=tf.float32)\n",
        "X, y"
      ],
      "metadata": {
        "colab": {
          "base_uri": "https://localhost:8080/"
        },
        "id": "5CRAdlBUMnqK",
        "outputId": "37d46d80-cc99-4ae3-bc50-37228aeec41e"
      },
      "execution_count": null,
      "outputs": [
        {
          "output_type": "execute_result",
          "data": {
            "text/plain": [
              "(<tf.Tensor: shape=(8,), dtype=float32, numpy=array([-7., -4., -1.,  2.,  5.,  8., 11., 14.], dtype=float32)>,\n",
              " <tf.Tensor: shape=(8,), dtype=float32, numpy=array([ 3.,  6.,  9., 12., 15., 18., 21., 24.], dtype=float32)>)"
            ]
          },
          "metadata": {},
          "execution_count": 3
        }
      ]
    },
    {
      "cell_type": "code",
      "source": [
        "tf.random.set_seed(10)\n",
        "\n",
        "model = tf.keras.Sequential([\n",
        "    tf.keras.layers.Dense(1)\n",
        "])\n",
        "\n",
        "model.compile(loss=tf.keras.losses.mae,\n",
        "              optimizer=tf.keras.optimizers.SGD(),\n",
        "              metrics=[\"mae\"])\n",
        "\n",
        "model.fit(tf.expand_dims(X, axis = -1), y, epochs=5)"
      ],
      "metadata": {
        "colab": {
          "base_uri": "https://localhost:8080/"
        },
        "id": "0inRi7jlPkzN",
        "outputId": "5854db8e-989e-4271-a4b4-8af4fe762d78"
      },
      "execution_count": null,
      "outputs": [
        {
          "output_type": "stream",
          "name": "stdout",
          "text": [
            "Epoch 1/5\n",
            "1/1 [==============================] - 1s 534ms/step - loss: 10.1056 - mae: 10.1056\n",
            "Epoch 2/5\n",
            "1/1 [==============================] - 0s 13ms/step - loss: 9.9731 - mae: 9.9731\n",
            "Epoch 3/5\n",
            "1/1 [==============================] - 0s 12ms/step - loss: 9.8406 - mae: 9.8406\n",
            "Epoch 4/5\n",
            "1/1 [==============================] - 0s 13ms/step - loss: 9.7081 - mae: 9.7081\n",
            "Epoch 5/5\n",
            "1/1 [==============================] - 0s 14ms/step - loss: 9.5756 - mae: 9.5756\n"
          ]
        },
        {
          "output_type": "execute_result",
          "data": {
            "text/plain": [
              "<keras.src.callbacks.History at 0x798c09f6d990>"
            ]
          },
          "metadata": {},
          "execution_count": 4
        }
      ]
    },
    {
      "cell_type": "code",
      "source": [
        "model.predict([17.0])"
      ],
      "metadata": {
        "colab": {
          "base_uri": "https://localhost:8080/"
        },
        "id": "bomap9rxQKmn",
        "outputId": "ddcd3b28-8f3c-4401-f309-e9484290abd0"
      },
      "execution_count": null,
      "outputs": [
        {
          "output_type": "stream",
          "name": "stdout",
          "text": [
            "1/1 [==============================] - 0s 116ms/step\n"
          ]
        },
        {
          "output_type": "execute_result",
          "data": {
            "text/plain": [
              "array([[19.512175]], dtype=float32)"
            ]
          },
          "metadata": {},
          "execution_count": 5
        }
      ]
    },
    {
      "cell_type": "code",
      "source": [
        "# Model is ready but not really got for predicting some values.\n",
        "# Let's make it better.\n",
        "\n",
        "# 1. Make the model bigger\n",
        "\n",
        "model = tf.keras.Sequential([\n",
        "    tf.keras.layers.Dense(1)\n",
        "])\n",
        "\n",
        "model.compile(loss=tf.keras.losses.mae,\n",
        "              optimizer=tf.keras.optimizers.SGD(),\n",
        "              metrics=['mae'])\n",
        "\n",
        "model.fit(tf.expand_dims(X, axis = -1), y, epochs = 100)"
      ],
      "metadata": {
        "colab": {
          "base_uri": "https://localhost:8080/"
        },
        "id": "udhj7VUlTXYB",
        "outputId": "0a2b41a5-7c2c-437f-9fce-b4a485f3311e"
      },
      "execution_count": null,
      "outputs": [
        {
          "output_type": "stream",
          "name": "stdout",
          "text": [
            "Epoch 1/100\n",
            "1/1 [==============================] - 0s 326ms/step - loss: 12.4115 - mae: 12.4115\n",
            "Epoch 2/100\n",
            "1/1 [==============================] - 0s 11ms/step - loss: 12.2790 - mae: 12.2790\n",
            "Epoch 3/100\n",
            "1/1 [==============================] - 0s 12ms/step - loss: 12.1465 - mae: 12.1465\n",
            "Epoch 4/100\n",
            "1/1 [==============================] - 0s 13ms/step - loss: 12.0140 - mae: 12.0140\n",
            "Epoch 5/100\n",
            "1/1 [==============================] - 0s 10ms/step - loss: 11.8815 - mae: 11.8815\n",
            "Epoch 6/100\n",
            "1/1 [==============================] - 0s 10ms/step - loss: 11.7490 - mae: 11.7490\n",
            "Epoch 7/100\n",
            "1/1 [==============================] - 0s 10ms/step - loss: 11.6165 - mae: 11.6165\n",
            "Epoch 8/100\n",
            "1/1 [==============================] - 0s 10ms/step - loss: 11.4840 - mae: 11.4840\n",
            "Epoch 9/100\n",
            "1/1 [==============================] - 0s 10ms/step - loss: 11.3515 - mae: 11.3515\n",
            "Epoch 10/100\n",
            "1/1 [==============================] - 0s 10ms/step - loss: 11.2190 - mae: 11.2190\n",
            "Epoch 11/100\n",
            "1/1 [==============================] - 0s 10ms/step - loss: 11.0865 - mae: 11.0865\n",
            "Epoch 12/100\n",
            "1/1 [==============================] - 0s 10ms/step - loss: 10.9540 - mae: 10.9540\n",
            "Epoch 13/100\n",
            "1/1 [==============================] - 0s 10ms/step - loss: 10.8215 - mae: 10.8215\n",
            "Epoch 14/100\n",
            "1/1 [==============================] - 0s 10ms/step - loss: 10.6890 - mae: 10.6890\n",
            "Epoch 15/100\n",
            "1/1 [==============================] - 0s 12ms/step - loss: 10.5565 - mae: 10.5565\n",
            "Epoch 16/100\n",
            "1/1 [==============================] - 0s 10ms/step - loss: 10.4240 - mae: 10.4240\n",
            "Epoch 17/100\n",
            "1/1 [==============================] - 0s 11ms/step - loss: 10.2915 - mae: 10.2915\n",
            "Epoch 18/100\n",
            "1/1 [==============================] - 0s 12ms/step - loss: 10.1590 - mae: 10.1590\n",
            "Epoch 19/100\n",
            "1/1 [==============================] - 0s 10ms/step - loss: 10.0265 - mae: 10.0265\n",
            "Epoch 20/100\n",
            "1/1 [==============================] - 0s 12ms/step - loss: 9.8940 - mae: 9.8940\n",
            "Epoch 21/100\n",
            "1/1 [==============================] - 0s 13ms/step - loss: 9.7615 - mae: 9.7615\n",
            "Epoch 22/100\n",
            "1/1 [==============================] - 0s 19ms/step - loss: 9.6290 - mae: 9.6290\n",
            "Epoch 23/100\n",
            "1/1 [==============================] - 0s 10ms/step - loss: 9.4965 - mae: 9.4965\n",
            "Epoch 24/100\n",
            "1/1 [==============================] - 0s 9ms/step - loss: 9.3640 - mae: 9.3640\n",
            "Epoch 25/100\n",
            "1/1 [==============================] - 0s 10ms/step - loss: 9.2315 - mae: 9.2315\n",
            "Epoch 26/100\n",
            "1/1 [==============================] - 0s 11ms/step - loss: 9.0990 - mae: 9.0990\n",
            "Epoch 27/100\n",
            "1/1 [==============================] - 0s 11ms/step - loss: 8.9665 - mae: 8.9665\n",
            "Epoch 28/100\n",
            "1/1 [==============================] - 0s 11ms/step - loss: 8.8340 - mae: 8.8340\n",
            "Epoch 29/100\n",
            "1/1 [==============================] - 0s 11ms/step - loss: 8.7015 - mae: 8.7015\n",
            "Epoch 30/100\n",
            "1/1 [==============================] - 0s 12ms/step - loss: 8.5690 - mae: 8.5690\n",
            "Epoch 31/100\n",
            "1/1 [==============================] - 0s 10ms/step - loss: 8.4365 - mae: 8.4365\n",
            "Epoch 32/100\n",
            "1/1 [==============================] - 0s 10ms/step - loss: 8.3040 - mae: 8.3040\n",
            "Epoch 33/100\n",
            "1/1 [==============================] - 0s 9ms/step - loss: 8.1715 - mae: 8.1715\n",
            "Epoch 34/100\n",
            "1/1 [==============================] - 0s 12ms/step - loss: 8.0390 - mae: 8.0390\n",
            "Epoch 35/100\n",
            "1/1 [==============================] - 0s 10ms/step - loss: 7.9065 - mae: 7.9065\n",
            "Epoch 36/100\n",
            "1/1 [==============================] - 0s 11ms/step - loss: 7.7740 - mae: 7.7740\n",
            "Epoch 37/100\n",
            "1/1 [==============================] - 0s 12ms/step - loss: 7.6415 - mae: 7.6415\n",
            "Epoch 38/100\n",
            "1/1 [==============================] - 0s 11ms/step - loss: 7.5090 - mae: 7.5090\n",
            "Epoch 39/100\n",
            "1/1 [==============================] - 0s 9ms/step - loss: 7.3765 - mae: 7.3765\n",
            "Epoch 40/100\n",
            "1/1 [==============================] - 0s 10ms/step - loss: 7.2440 - mae: 7.2440\n",
            "Epoch 41/100\n",
            "1/1 [==============================] - 0s 12ms/step - loss: 7.2000 - mae: 7.2000\n",
            "Epoch 42/100\n",
            "1/1 [==============================] - 0s 10ms/step - loss: 7.1944 - mae: 7.1944\n",
            "Epoch 43/100\n",
            "1/1 [==============================] - 0s 10ms/step - loss: 7.1887 - mae: 7.1887\n",
            "Epoch 44/100\n",
            "1/1 [==============================] - 0s 10ms/step - loss: 7.1831 - mae: 7.1831\n",
            "Epoch 45/100\n",
            "1/1 [==============================] - 0s 10ms/step - loss: 7.1775 - mae: 7.1775\n",
            "Epoch 46/100\n",
            "1/1 [==============================] - 0s 9ms/step - loss: 7.1719 - mae: 7.1719\n",
            "Epoch 47/100\n",
            "1/1 [==============================] - 0s 10ms/step - loss: 7.1663 - mae: 7.1663\n",
            "Epoch 48/100\n",
            "1/1 [==============================] - 0s 14ms/step - loss: 7.1606 - mae: 7.1606\n",
            "Epoch 49/100\n",
            "1/1 [==============================] - 0s 12ms/step - loss: 7.1550 - mae: 7.1550\n",
            "Epoch 50/100\n",
            "1/1 [==============================] - 0s 10ms/step - loss: 7.1494 - mae: 7.1494\n",
            "Epoch 51/100\n",
            "1/1 [==============================] - 0s 11ms/step - loss: 7.1438 - mae: 7.1438\n",
            "Epoch 52/100\n",
            "1/1 [==============================] - 0s 12ms/step - loss: 7.1381 - mae: 7.1381\n",
            "Epoch 53/100\n",
            "1/1 [==============================] - 0s 16ms/step - loss: 7.1325 - mae: 7.1325\n",
            "Epoch 54/100\n",
            "1/1 [==============================] - 0s 17ms/step - loss: 7.1269 - mae: 7.1269\n",
            "Epoch 55/100\n",
            "1/1 [==============================] - 0s 19ms/step - loss: 7.1213 - mae: 7.1213\n",
            "Epoch 56/100\n",
            "1/1 [==============================] - 0s 12ms/step - loss: 7.1156 - mae: 7.1156\n",
            "Epoch 57/100\n",
            "1/1 [==============================] - 0s 12ms/step - loss: 7.1100 - mae: 7.1100\n",
            "Epoch 58/100\n",
            "1/1 [==============================] - 0s 13ms/step - loss: 7.1044 - mae: 7.1044\n",
            "Epoch 59/100\n",
            "1/1 [==============================] - 0s 13ms/step - loss: 7.0988 - mae: 7.0988\n",
            "Epoch 60/100\n",
            "1/1 [==============================] - 0s 12ms/step - loss: 7.0931 - mae: 7.0931\n",
            "Epoch 61/100\n",
            "1/1 [==============================] - 0s 11ms/step - loss: 7.0875 - mae: 7.0875\n",
            "Epoch 62/100\n",
            "1/1 [==============================] - 0s 12ms/step - loss: 7.0819 - mae: 7.0819\n",
            "Epoch 63/100\n",
            "1/1 [==============================] - 0s 11ms/step - loss: 7.0763 - mae: 7.0763\n",
            "Epoch 64/100\n",
            "1/1 [==============================] - 0s 11ms/step - loss: 7.0706 - mae: 7.0706\n",
            "Epoch 65/100\n",
            "1/1 [==============================] - 0s 12ms/step - loss: 7.0650 - mae: 7.0650\n",
            "Epoch 66/100\n",
            "1/1 [==============================] - 0s 11ms/step - loss: 7.0594 - mae: 7.0594\n",
            "Epoch 67/100\n",
            "1/1 [==============================] - 0s 11ms/step - loss: 7.0538 - mae: 7.0538\n",
            "Epoch 68/100\n",
            "1/1 [==============================] - 0s 12ms/step - loss: 7.0481 - mae: 7.0481\n",
            "Epoch 69/100\n",
            "1/1 [==============================] - 0s 12ms/step - loss: 7.0425 - mae: 7.0425\n",
            "Epoch 70/100\n",
            "1/1 [==============================] - 0s 13ms/step - loss: 7.0369 - mae: 7.0369\n",
            "Epoch 71/100\n",
            "1/1 [==============================] - 0s 11ms/step - loss: 7.0312 - mae: 7.0312\n",
            "Epoch 72/100\n",
            "1/1 [==============================] - 0s 11ms/step - loss: 7.0256 - mae: 7.0256\n",
            "Epoch 73/100\n",
            "1/1 [==============================] - 0s 11ms/step - loss: 7.0200 - mae: 7.0200\n",
            "Epoch 74/100\n",
            "1/1 [==============================] - 0s 12ms/step - loss: 7.0144 - mae: 7.0144\n",
            "Epoch 75/100\n",
            "1/1 [==============================] - 0s 16ms/step - loss: 7.0088 - mae: 7.0088\n",
            "Epoch 76/100\n",
            "1/1 [==============================] - 0s 13ms/step - loss: 7.0031 - mae: 7.0031\n",
            "Epoch 77/100\n",
            "1/1 [==============================] - 0s 11ms/step - loss: 6.9975 - mae: 6.9975\n",
            "Epoch 78/100\n",
            "1/1 [==============================] - 0s 13ms/step - loss: 6.9919 - mae: 6.9919\n",
            "Epoch 79/100\n",
            "1/1 [==============================] - 0s 12ms/step - loss: 6.9863 - mae: 6.9863\n",
            "Epoch 80/100\n",
            "1/1 [==============================] - 0s 15ms/step - loss: 6.9806 - mae: 6.9806\n",
            "Epoch 81/100\n",
            "1/1 [==============================] - 0s 13ms/step - loss: 6.9750 - mae: 6.9750\n",
            "Epoch 82/100\n",
            "1/1 [==============================] - 0s 15ms/step - loss: 6.9694 - mae: 6.9694\n",
            "Epoch 83/100\n",
            "1/1 [==============================] - 0s 12ms/step - loss: 6.9638 - mae: 6.9638\n",
            "Epoch 84/100\n",
            "1/1 [==============================] - 0s 13ms/step - loss: 6.9581 - mae: 6.9581\n",
            "Epoch 85/100\n",
            "1/1 [==============================] - 0s 14ms/step - loss: 6.9525 - mae: 6.9525\n",
            "Epoch 86/100\n",
            "1/1 [==============================] - 0s 13ms/step - loss: 6.9469 - mae: 6.9469\n",
            "Epoch 87/100\n",
            "1/1 [==============================] - 0s 13ms/step - loss: 6.9412 - mae: 6.9412\n",
            "Epoch 88/100\n",
            "1/1 [==============================] - 0s 12ms/step - loss: 6.9356 - mae: 6.9356\n",
            "Epoch 89/100\n",
            "1/1 [==============================] - 0s 12ms/step - loss: 6.9300 - mae: 6.9300\n",
            "Epoch 90/100\n",
            "1/1 [==============================] - 0s 12ms/step - loss: 6.9244 - mae: 6.9244\n",
            "Epoch 91/100\n",
            "1/1 [==============================] - 0s 12ms/step - loss: 6.9188 - mae: 6.9188\n",
            "Epoch 92/100\n",
            "1/1 [==============================] - 0s 13ms/step - loss: 6.9131 - mae: 6.9131\n",
            "Epoch 93/100\n",
            "1/1 [==============================] - 0s 15ms/step - loss: 6.9075 - mae: 6.9075\n",
            "Epoch 94/100\n",
            "1/1 [==============================] - 0s 12ms/step - loss: 6.9019 - mae: 6.9019\n",
            "Epoch 95/100\n",
            "1/1 [==============================] - 0s 12ms/step - loss: 6.8963 - mae: 6.8963\n",
            "Epoch 96/100\n",
            "1/1 [==============================] - 0s 12ms/step - loss: 6.8906 - mae: 6.8906\n",
            "Epoch 97/100\n",
            "1/1 [==============================] - 0s 12ms/step - loss: 6.8850 - mae: 6.8850\n",
            "Epoch 98/100\n",
            "1/1 [==============================] - 0s 11ms/step - loss: 6.8794 - mae: 6.8794\n",
            "Epoch 99/100\n",
            "1/1 [==============================] - 0s 12ms/step - loss: 6.8738 - mae: 6.8738\n",
            "Epoch 100/100\n",
            "1/1 [==============================] - 0s 10ms/step - loss: 6.8681 - mae: 6.8681\n"
          ]
        },
        {
          "output_type": "execute_result",
          "data": {
            "text/plain": [
              "<keras.src.callbacks.History at 0x798c09573be0>"
            ]
          },
          "metadata": {},
          "execution_count": 6
        }
      ]
    },
    {
      "cell_type": "code",
      "source": [
        "model.predict([17.0])\n",
        "# This is much better than earlier"
      ],
      "metadata": {
        "colab": {
          "base_uri": "https://localhost:8080/"
        },
        "id": "TbK7YznlVe_r",
        "outputId": "4828f530-16b5-491a-ec2b-759f999a7f88"
      },
      "execution_count": null,
      "outputs": [
        {
          "output_type": "stream",
          "name": "stdout",
          "text": [
            "1/1 [==============================] - 0s 93ms/step\n"
          ]
        },
        {
          "output_type": "execute_result",
          "data": {
            "text/plain": [
              "array([[29.937119]], dtype=float32)"
            ]
          },
          "metadata": {},
          "execution_count": 7
        }
      ]
    },
    {
      "cell_type": "code",
      "source": [
        "# Let's make it better\n",
        "model = tf.keras.Sequential([\n",
        "    tf.keras.layers.Dense(100, activation = 'relu'),\n",
        "    tf.keras.layers.Dense(1)\n",
        "])\n",
        "\n",
        "model.compile(loss=tf.keras.losses.mae,\n",
        "              optimizer=tf.keras.optimizers.Adam(learning_rate=0.01),\n",
        "              metrics = ['mae'])\n",
        "\n",
        "model.fit(tf.expand_dims(X, axis = -1), y, epochs = 100)"
      ],
      "metadata": {
        "colab": {
          "base_uri": "https://localhost:8080/"
        },
        "id": "27_Tovy9VwYI",
        "outputId": "559d9685-1dc6-4879-898e-37e63c0c355a"
      },
      "execution_count": null,
      "outputs": [
        {
          "output_type": "stream",
          "name": "stdout",
          "text": [
            "Epoch 1/100\n",
            "1/1 [==============================] - 1s 645ms/step - loss: 13.5741 - mae: 13.5741\n",
            "Epoch 2/100\n",
            "1/1 [==============================] - 0s 13ms/step - loss: 12.6862 - mae: 12.6862\n",
            "Epoch 3/100\n",
            "1/1 [==============================] - 0s 12ms/step - loss: 11.8042 - mae: 11.8042\n",
            "Epoch 4/100\n",
            "1/1 [==============================] - 0s 12ms/step - loss: 10.9469 - mae: 10.9469\n",
            "Epoch 5/100\n",
            "1/1 [==============================] - 0s 11ms/step - loss: 10.3214 - mae: 10.3214\n",
            "Epoch 6/100\n",
            "1/1 [==============================] - 0s 12ms/step - loss: 9.6865 - mae: 9.6865\n",
            "Epoch 7/100\n",
            "1/1 [==============================] - 0s 12ms/step - loss: 9.0531 - mae: 9.0531\n",
            "Epoch 8/100\n",
            "1/1 [==============================] - 0s 11ms/step - loss: 8.4135 - mae: 8.4135\n",
            "Epoch 9/100\n",
            "1/1 [==============================] - 0s 12ms/step - loss: 7.7636 - mae: 7.7636\n",
            "Epoch 10/100\n",
            "1/1 [==============================] - 0s 13ms/step - loss: 7.1019 - mae: 7.1019\n",
            "Epoch 11/100\n",
            "1/1 [==============================] - 0s 13ms/step - loss: 6.4247 - mae: 6.4247\n",
            "Epoch 12/100\n",
            "1/1 [==============================] - 0s 11ms/step - loss: 5.7271 - mae: 5.7271\n",
            "Epoch 13/100\n",
            "1/1 [==============================] - 0s 12ms/step - loss: 5.0059 - mae: 5.0059\n",
            "Epoch 14/100\n",
            "1/1 [==============================] - 0s 15ms/step - loss: 4.2585 - mae: 4.2585\n",
            "Epoch 15/100\n",
            "1/1 [==============================] - 0s 11ms/step - loss: 3.8196 - mae: 3.8196\n",
            "Epoch 16/100\n",
            "1/1 [==============================] - 0s 13ms/step - loss: 3.7500 - mae: 3.7500\n",
            "Epoch 17/100\n",
            "1/1 [==============================] - 0s 19ms/step - loss: 3.8749 - mae: 3.8749\n",
            "Epoch 18/100\n",
            "1/1 [==============================] - 0s 17ms/step - loss: 4.0147 - mae: 4.0147\n",
            "Epoch 19/100\n",
            "1/1 [==============================] - 0s 13ms/step - loss: 4.2540 - mae: 4.2540\n",
            "Epoch 20/100\n",
            "1/1 [==============================] - 0s 13ms/step - loss: 4.4031 - mae: 4.4031\n",
            "Epoch 21/100\n",
            "1/1 [==============================] - 0s 13ms/step - loss: 4.4698 - mae: 4.4698\n",
            "Epoch 22/100\n",
            "1/1 [==============================] - 0s 14ms/step - loss: 4.4654 - mae: 4.4654\n",
            "Epoch 23/100\n",
            "1/1 [==============================] - 0s 16ms/step - loss: 4.3994 - mae: 4.3994\n",
            "Epoch 24/100\n",
            "1/1 [==============================] - 0s 18ms/step - loss: 4.2798 - mae: 4.2798\n",
            "Epoch 25/100\n",
            "1/1 [==============================] - 0s 15ms/step - loss: 4.1161 - mae: 4.1161\n",
            "Epoch 26/100\n",
            "1/1 [==============================] - 0s 13ms/step - loss: 3.9173 - mae: 3.9173\n",
            "Epoch 27/100\n",
            "1/1 [==============================] - 0s 15ms/step - loss: 3.6846 - mae: 3.6846\n",
            "Epoch 28/100\n",
            "1/1 [==============================] - 0s 14ms/step - loss: 3.6068 - mae: 3.6068\n",
            "Epoch 29/100\n",
            "1/1 [==============================] - 0s 12ms/step - loss: 3.4921 - mae: 3.4921\n",
            "Epoch 30/100\n",
            "1/1 [==============================] - 0s 13ms/step - loss: 3.3404 - mae: 3.3404\n",
            "Epoch 31/100\n",
            "1/1 [==============================] - 0s 12ms/step - loss: 3.2421 - mae: 3.2421\n",
            "Epoch 32/100\n",
            "1/1 [==============================] - 0s 25ms/step - loss: 3.2201 - mae: 3.2201\n",
            "Epoch 33/100\n",
            "1/1 [==============================] - 0s 20ms/step - loss: 3.2351 - mae: 3.2351\n",
            "Epoch 34/100\n",
            "1/1 [==============================] - 0s 12ms/step - loss: 3.2171 - mae: 3.2171\n",
            "Epoch 35/100\n",
            "1/1 [==============================] - 0s 11ms/step - loss: 3.1710 - mae: 3.1710\n",
            "Epoch 36/100\n",
            "1/1 [==============================] - 0s 12ms/step - loss: 3.0937 - mae: 3.0937\n",
            "Epoch 37/100\n",
            "1/1 [==============================] - 0s 13ms/step - loss: 2.9827 - mae: 2.9827\n",
            "Epoch 38/100\n",
            "1/1 [==============================] - 0s 12ms/step - loss: 2.9050 - mae: 2.9050\n",
            "Epoch 39/100\n",
            "1/1 [==============================] - 0s 12ms/step - loss: 2.8531 - mae: 2.8531\n",
            "Epoch 40/100\n",
            "1/1 [==============================] - 0s 12ms/step - loss: 2.7746 - mae: 2.7746\n",
            "Epoch 41/100\n",
            "1/1 [==============================] - 0s 11ms/step - loss: 2.7350 - mae: 2.7350\n",
            "Epoch 42/100\n",
            "1/1 [==============================] - 0s 15ms/step - loss: 2.6770 - mae: 2.6770\n",
            "Epoch 43/100\n",
            "1/1 [==============================] - 0s 11ms/step - loss: 2.6041 - mae: 2.6041\n",
            "Epoch 44/100\n",
            "1/1 [==============================] - 0s 12ms/step - loss: 2.5187 - mae: 2.5187\n",
            "Epoch 45/100\n",
            "1/1 [==============================] - 0s 12ms/step - loss: 2.4185 - mae: 2.4185\n",
            "Epoch 46/100\n",
            "1/1 [==============================] - 0s 11ms/step - loss: 2.3039 - mae: 2.3039\n",
            "Epoch 47/100\n",
            "1/1 [==============================] - 0s 15ms/step - loss: 2.1708 - mae: 2.1708\n",
            "Epoch 48/100\n",
            "1/1 [==============================] - 0s 12ms/step - loss: 2.0605 - mae: 2.0605\n",
            "Epoch 49/100\n",
            "1/1 [==============================] - 0s 11ms/step - loss: 1.9544 - mae: 1.9544\n",
            "Epoch 50/100\n",
            "1/1 [==============================] - 0s 12ms/step - loss: 1.8543 - mae: 1.8543\n",
            "Epoch 51/100\n",
            "1/1 [==============================] - 0s 11ms/step - loss: 1.7521 - mae: 1.7521\n",
            "Epoch 52/100\n",
            "1/1 [==============================] - 0s 11ms/step - loss: 1.6343 - mae: 1.6343\n",
            "Epoch 53/100\n",
            "1/1 [==============================] - 0s 11ms/step - loss: 1.5004 - mae: 1.5004\n",
            "Epoch 54/100\n",
            "1/1 [==============================] - 0s 16ms/step - loss: 1.3450 - mae: 1.3450\n",
            "Epoch 55/100\n",
            "1/1 [==============================] - 0s 11ms/step - loss: 1.2395 - mae: 1.2395\n",
            "Epoch 56/100\n",
            "1/1 [==============================] - 0s 11ms/step - loss: 1.0687 - mae: 1.0687\n",
            "Epoch 57/100\n",
            "1/1 [==============================] - 0s 11ms/step - loss: 0.8976 - mae: 0.8976\n",
            "Epoch 58/100\n",
            "1/1 [==============================] - 0s 13ms/step - loss: 0.7525 - mae: 0.7525\n",
            "Epoch 59/100\n",
            "1/1 [==============================] - 0s 16ms/step - loss: 0.6088 - mae: 0.6088\n",
            "Epoch 60/100\n",
            "1/1 [==============================] - 0s 14ms/step - loss: 0.4016 - mae: 0.4016\n",
            "Epoch 61/100\n",
            "1/1 [==============================] - 0s 11ms/step - loss: 0.2375 - mae: 0.2375\n",
            "Epoch 62/100\n",
            "1/1 [==============================] - 0s 11ms/step - loss: 0.2247 - mae: 0.2247\n",
            "Epoch 63/100\n",
            "1/1 [==============================] - 0s 12ms/step - loss: 0.2942 - mae: 0.2942\n",
            "Epoch 64/100\n",
            "1/1 [==============================] - 0s 11ms/step - loss: 0.2823 - mae: 0.2823\n",
            "Epoch 65/100\n",
            "1/1 [==============================] - 0s 11ms/step - loss: 0.4931 - mae: 0.4931\n",
            "Epoch 66/100\n",
            "1/1 [==============================] - 0s 11ms/step - loss: 0.3746 - mae: 0.3746\n",
            "Epoch 67/100\n",
            "1/1 [==============================] - 0s 13ms/step - loss: 0.3736 - mae: 0.3736\n",
            "Epoch 68/100\n",
            "1/1 [==============================] - 0s 14ms/step - loss: 0.3972 - mae: 0.3972\n",
            "Epoch 69/100\n",
            "1/1 [==============================] - 0s 11ms/step - loss: 0.3654 - mae: 0.3654\n",
            "Epoch 70/100\n",
            "1/1 [==============================] - 0s 9ms/step - loss: 0.3777 - mae: 0.3777\n",
            "Epoch 71/100\n",
            "1/1 [==============================] - 0s 11ms/step - loss: 0.3270 - mae: 0.3270\n",
            "Epoch 72/100\n",
            "1/1 [==============================] - 0s 11ms/step - loss: 0.4428 - mae: 0.4428\n",
            "Epoch 73/100\n",
            "1/1 [==============================] - 0s 10ms/step - loss: 0.4652 - mae: 0.4652\n",
            "Epoch 74/100\n",
            "1/1 [==============================] - 0s 10ms/step - loss: 0.1976 - mae: 0.1976\n",
            "Epoch 75/100\n",
            "1/1 [==============================] - 0s 10ms/step - loss: 0.4432 - mae: 0.4432\n",
            "Epoch 76/100\n",
            "1/1 [==============================] - 0s 11ms/step - loss: 0.5171 - mae: 0.5171\n",
            "Epoch 77/100\n",
            "1/1 [==============================] - 0s 11ms/step - loss: 0.2871 - mae: 0.2871\n",
            "Epoch 78/100\n",
            "1/1 [==============================] - 0s 10ms/step - loss: 0.3313 - mae: 0.3313\n",
            "Epoch 79/100\n",
            "1/1 [==============================] - 0s 10ms/step - loss: 0.5198 - mae: 0.5198\n",
            "Epoch 80/100\n",
            "1/1 [==============================] - 0s 14ms/step - loss: 0.4158 - mae: 0.4158\n",
            "Epoch 81/100\n",
            "1/1 [==============================] - 0s 11ms/step - loss: 0.2902 - mae: 0.2902\n",
            "Epoch 82/100\n",
            "1/1 [==============================] - 0s 11ms/step - loss: 0.3311 - mae: 0.3311\n",
            "Epoch 83/100\n",
            "1/1 [==============================] - 0s 10ms/step - loss: 0.5245 - mae: 0.5245\n",
            "Epoch 84/100\n",
            "1/1 [==============================] - 0s 10ms/step - loss: 0.4096 - mae: 0.4096\n",
            "Epoch 85/100\n",
            "1/1 [==============================] - 0s 11ms/step - loss: 0.2590 - mae: 0.2590\n",
            "Epoch 86/100\n",
            "1/1 [==============================] - 0s 11ms/step - loss: 0.3752 - mae: 0.3752\n",
            "Epoch 87/100\n",
            "1/1 [==============================] - 0s 11ms/step - loss: 0.5493 - mae: 0.5493\n",
            "Epoch 88/100\n",
            "1/1 [==============================] - 0s 11ms/step - loss: 0.4463 - mae: 0.4463\n",
            "Epoch 89/100\n",
            "1/1 [==============================] - 0s 11ms/step - loss: 0.2621 - mae: 0.2621\n",
            "Epoch 90/100\n",
            "1/1 [==============================] - 0s 11ms/step - loss: 0.3433 - mae: 0.3433\n",
            "Epoch 91/100\n",
            "1/1 [==============================] - 0s 11ms/step - loss: 0.4080 - mae: 0.4080\n",
            "Epoch 92/100\n",
            "1/1 [==============================] - 0s 11ms/step - loss: 0.2541 - mae: 0.2541\n",
            "Epoch 93/100\n",
            "1/1 [==============================] - 0s 11ms/step - loss: 0.3530 - mae: 0.3530\n",
            "Epoch 94/100\n",
            "1/1 [==============================] - 0s 12ms/step - loss: 0.4733 - mae: 0.4733\n",
            "Epoch 95/100\n",
            "1/1 [==============================] - 0s 11ms/step - loss: 0.3733 - mae: 0.3733\n",
            "Epoch 96/100\n",
            "1/1 [==============================] - 0s 11ms/step - loss: 0.1861 - mae: 0.1861\n",
            "Epoch 97/100\n",
            "1/1 [==============================] - 0s 13ms/step - loss: 0.2655 - mae: 0.2655\n",
            "Epoch 98/100\n",
            "1/1 [==============================] - 0s 10ms/step - loss: 0.2443 - mae: 0.2443\n",
            "Epoch 99/100\n",
            "1/1 [==============================] - 0s 10ms/step - loss: 0.1617 - mae: 0.1617\n",
            "Epoch 100/100\n",
            "1/1 [==============================] - 0s 10ms/step - loss: 0.2490 - mae: 0.2490\n"
          ]
        },
        {
          "output_type": "execute_result",
          "data": {
            "text/plain": [
              "<keras.src.callbacks.History at 0x798c08c84760>"
            ]
          },
          "metadata": {},
          "execution_count": 8
        }
      ]
    },
    {
      "cell_type": "code",
      "source": [
        "model.predict([17.0])"
      ],
      "metadata": {
        "colab": {
          "base_uri": "https://localhost:8080/"
        },
        "id": "0_Wsd1XkXuc3",
        "outputId": "71d3b271-05aa-4e59-9518-06898ff79e20"
      },
      "execution_count": null,
      "outputs": [
        {
          "output_type": "stream",
          "name": "stdout",
          "text": [
            "1/1 [==============================] - 0s 84ms/step\n"
          ]
        },
        {
          "output_type": "execute_result",
          "data": {
            "text/plain": [
              "array([[27.667866]], dtype=float32)"
            ]
          },
          "metadata": {},
          "execution_count": 9
        }
      ]
    },
    {
      "cell_type": "code",
      "source": [
        "# Evaluating a model\n",
        "# Making a bigger dataset\n",
        "\n",
        "X = tf.range(-100, 100, 4)\n",
        "X"
      ],
      "metadata": {
        "id": "oOfciCvJYT72",
        "colab": {
          "base_uri": "https://localhost:8080/"
        },
        "outputId": "d10c75da-bcbe-47d2-c08d-8b897287516f"
      },
      "execution_count": null,
      "outputs": [
        {
          "output_type": "execute_result",
          "data": {
            "text/plain": [
              "<tf.Tensor: shape=(50,), dtype=int32, numpy=\n",
              "array([-100,  -96,  -92,  -88,  -84,  -80,  -76,  -72,  -68,  -64,  -60,\n",
              "        -56,  -52,  -48,  -44,  -40,  -36,  -32,  -28,  -24,  -20,  -16,\n",
              "        -12,   -8,   -4,    0,    4,    8,   12,   16,   20,   24,   28,\n",
              "         32,   36,   40,   44,   48,   52,   56,   60,   64,   68,   72,\n",
              "         76,   80,   84,   88,   92,   96], dtype=int32)>"
            ]
          },
          "metadata": {},
          "execution_count": 10
        }
      ]
    },
    {
      "cell_type": "code",
      "source": [
        "y = X + 10\n",
        "y"
      ],
      "metadata": {
        "colab": {
          "base_uri": "https://localhost:8080/"
        },
        "id": "hsjQ2DZxt2BL",
        "outputId": "e6d6936c-f254-4719-8ebd-8660109c46a8"
      },
      "execution_count": null,
      "outputs": [
        {
          "output_type": "execute_result",
          "data": {
            "text/plain": [
              "<tf.Tensor: shape=(50,), dtype=int32, numpy=\n",
              "array([-90, -86, -82, -78, -74, -70, -66, -62, -58, -54, -50, -46, -42,\n",
              "       -38, -34, -30, -26, -22, -18, -14, -10,  -6,  -2,   2,   6,  10,\n",
              "        14,  18,  22,  26,  30,  34,  38,  42,  46,  50,  54,  58,  62,\n",
              "        66,  70,  74,  78,  82,  86,  90,  94,  98, 102, 106], dtype=int32)>"
            ]
          },
          "metadata": {},
          "execution_count": 11
        }
      ]
    },
    {
      "cell_type": "code",
      "source": [
        "# Visualize\n",
        "\n",
        "plt.scatter(X, y)"
      ],
      "metadata": {
        "colab": {
          "base_uri": "https://localhost:8080/",
          "height": 447
        },
        "id": "41wGMrDbt4u1",
        "outputId": "fcf50643-71ea-4967-9b20-29ba9115679f"
      },
      "execution_count": null,
      "outputs": [
        {
          "output_type": "execute_result",
          "data": {
            "text/plain": [
              "<matplotlib.collections.PathCollection at 0x798c08bc2c20>"
            ]
          },
          "metadata": {},
          "execution_count": 12
        },
        {
          "output_type": "display_data",
          "data": {
            "text/plain": [
              "<Figure size 640x480 with 1 Axes>"
            ],
            "image/png": "[encoded data removed]"
          },
          "metadata": {}
        }
      ]
    },
    {
      "cell_type": "code",
      "source": [
        "# Spliting the data into 3 sets\n",
        "len(X)"
      ],
      "metadata": {
        "colab": {
          "base_uri": "https://localhost:8080/"
        },
        "id": "qtmPEJqEuAs7",
        "outputId": "818e9239-1d28-47d7-c48e-e2d49b78aad9"
      },
      "execution_count": null,
      "outputs": [
        {
          "output_type": "execute_result",
          "data": {
            "text/plain": [
              "50"
            ]
          },
          "metadata": {},
          "execution_count": 13
        }
      ]
    },
    {
      "cell_type": "code",
      "source": [
        "# 50 is pretty small so we do not use validation set\n",
        "X_train = X[:40]\n",
        "y_train = y[:40]\n",
        "\n",
        "X_test = X[40:]\n",
        "y_test = y[40:]\n",
        "\n",
        "len(X_train), len(X_test)"
      ],
      "metadata": {
        "colab": {
          "base_uri": "https://localhost:8080/"
        },
        "id": "vuUSpBd1upoV",
        "outputId": "0ad447eb-0dae-4736-e3b3-36a016bf0089"
      },
      "execution_count": null,
      "outputs": [
        {
          "output_type": "execute_result",
          "data": {
            "text/plain": [
              "(40, 10)"
            ]
          },
          "metadata": {},
          "execution_count": 14
        }
      ]
    },
    {
      "cell_type": "code",
      "source": [
        "plt.figure(figsize=(10, 7))\n",
        "\n",
        "plt.scatter(X_train, y_train, c='r', label='training data')\n",
        "\n",
        "plt.scatter(X_test, y_test, c='g', label='test data')"
      ],
      "metadata": {
        "colab": {
          "base_uri": "https://localhost:8080/",
          "height": 485
        },
        "id": "Chmnvl4mvByG",
        "outputId": "fc512f14-de58-426e-f460-244c71ea14d1"
      },
      "execution_count": null,
      "outputs": [
        {
          "output_type": "execute_result",
          "data": {
            "text/plain": [
              "<matplotlib.collections.PathCollection at 0x798c08558be0>"
            ]
          },
          "metadata": {},
          "execution_count": 15
        },
        {
          "output_type": "display_data",
          "data": {
            "text/plain": [
              "<Figure size 1000x700 with 1 Axes>"
            ],
            "image/png": "[encoded data removed]"
          },
          "metadata": {}
        }
      ]
    },
    {
      "cell_type": "code",
      "source": [
        "model = tf.keras.Sequential([\n",
        "    tf.keras.layers.Dense(10, input_shape=[1], name='input_layer'),\n",
        "    tf.keras.layers.Dense(1, name='output_layer')\n",
        "], name='model_1')\n",
        "\n",
        "model.compile(loss=tf.keras.losses.mae,\n",
        "              optimizer=tf.keras.optimizers.Adam(learning_rate=0.01),\n",
        "              metrics=['mae'])\n",
        "\n",
        "# model.fit(tf.expand_dims(X_train), y_train, epochs=100)"
      ],
      "metadata": {
        "id": "0TGWSlgrvkeR"
      },
      "execution_count": null,
      "outputs": []
    },
    {
      "cell_type": "code",
      "source": [
        "model.summary()"
      ],
      "metadata": {
        "colab": {
          "base_uri": "https://localhost:8080/"
        },
        "id": "3XO_zZWVw5qO",
        "outputId": "cb0e601f-cbc0-4069-8f13-0bd9be423e3d"
      },
      "execution_count": null,
      "outputs": [
        {
          "output_type": "stream",
          "name": "stdout",
          "text": [
            "Model: \"model_1\"\n",
            "_________________________________________________________________\n",
            " Layer (type)                Output Shape              Param #   \n",
            "=================================================================\n",
            " input_layer (Dense)         (None, 10)                20        \n",
            "                                                                 \n",
            " output_layer (Dense)        (None, 1)                 11        \n",
            "                                                                 \n",
            "=================================================================\n",
            "Total params: 31 (124.00 Byte)\n",
            "Trainable params: 31 (124.00 Byte)\n",
            "Non-trainable params: 0 (0.00 Byte)\n",
            "_________________________________________________________________\n"
          ]
        }
      ]
    },
    {
      "cell_type": "code",
      "source": [
        "model.fit(tf.expand_dims(X_train, axis=-1), y_train, epochs=100,verbose=0)\n"
      ],
      "metadata": {
        "colab": {
          "base_uri": "https://localhost:8080/"
        },
        "id": "0Dx52b0Jw9Bv",
        "outputId": "fe5e489a-7b6a-4b29-ee80-71312685d1d4"
      },
      "execution_count": null,
      "outputs": [
        {
          "output_type": "execute_result",
          "data": {
            "text/plain": [
              "<keras.src.callbacks.History at 0x798c085d1060>"
            ]
          },
          "metadata": {},
          "execution_count": 18
        }
      ]
    },
    {
      "cell_type": "code",
      "source": [
        "from tensorflow.keras.utils import plot_model"
      ],
      "metadata": {
        "id": "eGSb3hUxx9GC"
      },
      "execution_count": null,
      "outputs": []
    },
    {
      "cell_type": "code",
      "source": [
        "plot_model(model=model, show_shapes=True)"
      ],
      "metadata": {
        "colab": {
          "base_uri": "https://localhost:8080/",
          "height": 312
        },
        "id": "FUdIl9dKyvb1",
        "outputId": "bd8faabe-4cf1-421f-dd71-12754a5d7a0e"
      },
      "execution_count": null,
      "outputs": [
        {
          "output_type": "execute_result",
          "data": {
            "image/png": "[encoded data removed]",
            "text/plain": [
              "<IPython.core.display.Image object>"
            ]
          },
          "metadata": {},
          "execution_count": 20
        }
      ]
    },
    {
      "cell_type": "code",
      "source": [
        "# Visualize model predictions\n",
        "y_pred = model.predict(X_test)\n",
        "y_pred"
      ],
      "metadata": {
        "colab": {
          "base_uri": "https://localhost:8080/"
        },
        "id": "vd39W7Siy6-v",
        "outputId": "396f9d33-b68f-47d8-c9f4-fdf12898a125"
      },
      "execution_count": null,
      "outputs": [
        {
          "output_type": "stream",
          "name": "stdout",
          "text": [
            "1/1 [==============================] - 0s 75ms/step\n"
          ]
        },
        {
          "output_type": "execute_result",
          "data": {
            "text/plain": [
              "array([[ 68.85068 ],\n",
              "       [ 72.758316],\n",
              "       [ 76.66596 ],\n",
              "       [ 80.573616],\n",
              "       [ 84.48125 ],\n",
              "       [ 88.3889  ],\n",
              "       [ 92.29654 ],\n",
              "       [ 96.20419 ],\n",
              "       [100.11183 ],\n",
              "       [104.01947 ]], dtype=float32)"
            ]
          },
          "metadata": {},
          "execution_count": 21
        }
      ]
    },
    {
      "cell_type": "code",
      "source": [
        "y_test"
      ],
      "metadata": {
        "colab": {
          "base_uri": "https://localhost:8080/"
        },
        "id": "OH_sSDV2zoah",
        "outputId": "ac1a81e7-bf80-414a-9d48-e82198371d4f"
      },
      "execution_count": null,
      "outputs": [
        {
          "output_type": "execute_result",
          "data": {
            "text/plain": [
              "<tf.Tensor: shape=(10,), dtype=int32, numpy=array([ 70,  74,  78,  82,  86,  90,  94,  98, 102, 106], dtype=int32)>"
            ]
          },
          "metadata": {},
          "execution_count": 22
        }
      ]
    },
    {
      "cell_type": "code",
      "source": [
        "def plot_predictions(train_data=X_train,\n",
        "                     train_labels=y_train,\n",
        "                     test_data=X_test,\n",
        "                     test_labels=y_test,\n",
        "                     predictions=y_pred):\n",
        "  plt.figure(figsize=(10,7))\n",
        "  plt.scatter(train_data, train_labels, c='r', label='training data')\n",
        "  plt.scatter(test_data, test_labels, c='b', label='test data')\n",
        "  plt.scatter(test_data, predictions, c='g', label='predictions')\n",
        "  plt.legend()"
      ],
      "metadata": {
        "id": "9ubToDtsz-VA"
      },
      "execution_count": null,
      "outputs": []
    },
    {
      "cell_type": "code",
      "source": [
        "plot_predictions()"
      ],
      "metadata": {
        "colab": {
          "base_uri": "https://localhost:8080/",
          "height": 467
        },
        "id": "mEGmnyZS4ac1",
        "outputId": "e14b3c64-4d06-4ead-e6c9-71587c37cf92"
      },
      "execution_count": null,
      "outputs": [
        {
          "output_type": "display_data",
          "data": {
            "text/plain": [
              "<Figure size 1000x700 with 1 Axes>"
            ],
            "image/png": "[encoded data removed]"
          },
          "metadata": {}
        }
      ]
    },
    {
      "cell_type": "code",
      "source": [
        "# Two metrics -> 1. Mean absolute error --> great starter metric for any regression problem\n",
        "# 2. Mean squared error --> when larger errors are more significant than smaller errors\n",
        "# 3. Huber --> combination of MAE and MSE\n"
      ],
      "metadata": {
        "id": "l8Va-8qG4gBP"
      },
      "execution_count": null,
      "outputs": []
    },
    {
      "cell_type": "code",
      "source": [
        "model.evaluate(X_test, y_test)"
      ],
      "metadata": {
        "colab": {
          "base_uri": "https://localhost:8080/"
        },
        "id": "SUJs40GNdX6b",
        "outputId": "c3e91602-3016-40f6-9f7a-09cb6394023b"
      },
      "execution_count": null,
      "outputs": [
        {
          "output_type": "stream",
          "name": "stdout",
          "text": [
            "1/1 [==============================] - 0s 432ms/step - loss: 1.5649 - mae: 1.5649\n"
          ]
        },
        {
          "output_type": "execute_result",
          "data": {
            "text/plain": [
              "[1.5649268627166748, 1.5649268627166748]"
            ]
          },
          "metadata": {},
          "execution_count": 26
        }
      ]
    },
    {
      "cell_type": "code",
      "source": [
        "# Calculate mean abs error\n",
        "mae = tf.metrics.mean_absolute_error(y_test, tf.constant(y_pred))\n",
        "mae\n",
        "# Here the dimensions of y_test and y_pred are not the same"
      ],
      "metadata": {
        "colab": {
          "base_uri": "https://localhost:8080/"
        },
        "id": "TgN4kQlAddIK",
        "outputId": "db8dcb96-11bc-4c98-9171-23142e1f5ce5"
      },
      "execution_count": null,
      "outputs": [
        {
          "output_type": "execute_result",
          "data": {
            "text/plain": [
              "<tf.Tensor: shape=(10,), dtype=float32, numpy=\n",
              "array([19.149323, 15.793347, 13.200422, 11.370554, 10.303751, 10.      ,\n",
              "       10.459308, 11.681677, 13.667099, 16.415577], dtype=float32)>"
            ]
          },
          "metadata": {},
          "execution_count": 27
        }
      ]
    },
    {
      "cell_type": "code",
      "source": [
        "tf.squeeze(y_pred)"
      ],
      "metadata": {
        "colab": {
          "base_uri": "https://localhost:8080/"
        },
        "id": "Ir_gSr43eTAU",
        "outputId": "795831ca-69ad-4411-d799-de5143f6dd22"
      },
      "execution_count": null,
      "outputs": [
        {
          "output_type": "execute_result",
          "data": {
            "text/plain": [
              "<tf.Tensor: shape=(10,), dtype=float32, numpy=\n",
              "array([ 68.85068 ,  72.758316,  76.66596 ,  80.573616,  84.48125 ,\n",
              "        88.3889  ,  92.29654 ,  96.20419 , 100.11183 , 104.01947 ],\n",
              "      dtype=float32)>"
            ]
          },
          "metadata": {},
          "execution_count": 28
        }
      ]
    },
    {
      "cell_type": "code",
      "source": [
        "mae = tf.metrics.mean_absolute_error(y_test, tf.squeeze(y_pred))\n",
        "mae"
      ],
      "metadata": {
        "colab": {
          "base_uri": "https://localhost:8080/"
        },
        "id": "HJaqncmSe2Oz",
        "outputId": "46b88fc2-b967-4980-97ab-9fbdb6db03bd"
      },
      "execution_count": null,
      "outputs": [
        {
          "output_type": "execute_result",
          "data": {
            "text/plain": [
              "<tf.Tensor: shape=(), dtype=float32, numpy=1.5649246>"
            ]
          },
          "metadata": {},
          "execution_count": 29
        }
      ]
    },
    {
      "cell_type": "code",
      "source": [
        "# Calculate mean squared error\n",
        "mse = tf.metrics.mean_squared_error(y_test, tf.squeeze(y_pred))\n",
        "mse"
      ],
      "metadata": {
        "colab": {
          "base_uri": "https://localhost:8080/"
        },
        "id": "fKYY-2DQfGBp",
        "outputId": "12ce7da9-e881-4479-c79a-47920f64f0f5"
      },
      "execution_count": null,
      "outputs": [
        {
          "output_type": "execute_result",
          "data": {
            "text/plain": [
              "<tf.Tensor: shape=(), dtype=float32, numpy=2.5193582>"
            ]
          },
          "metadata": {},
          "execution_count": 30
        }
      ]
    },
    {
      "cell_type": "code",
      "source": [
        "def mae(y_true, y_pred):\n",
        "  return tf.metrics.mean_absolute_error(y_true, tf.squeeze(y_pred))\n",
        "\n",
        "def mse(y_true, y_pred):\n",
        "  return tf.metrics.mean_squared_error(y_true, tf.squeeze(y_pred))"
      ],
      "metadata": {
        "id": "q_ruiwbkfWfZ"
      },
      "execution_count": null,
      "outputs": []
    },
    {
      "cell_type": "code",
      "source": [
        "# Running some experiments to improve the model further.\n",
        "# 1. get more data.\n",
        "# 2. make the model larger.\n",
        "# 3. train for longer.\n",
        "\n",
        "tf.random.set_seed(10)\n",
        "\n",
        "model_1 = tf.keras.Sequential([\n",
        "    tf.keras.layers.Dense(1)\n",
        "])\n",
        "\n",
        "model_1.compile(loss=tf.keras.losses.mae,\n",
        "              optimizer=tf.keras.optimizers.SGD(),\n",
        "              metrics=['mae'])\n",
        "\n",
        "model_1.fit(tf.expand_dims(X_train, axis=-1), y_train, epochs=100)"
      ],
      "metadata": {
        "colab": {
          "base_uri": "https://localhost:8080/"
        },
        "id": "osUE22qGgXHI",
        "outputId": "8f3c69e9-b554-4818-bf68-9d383d3ff5ba"
      },
      "execution_count": null,
      "outputs": [
        {
          "output_type": "stream",
          "name": "stdout",
          "text": [
            "Epoch 1/100\n",
            "2/2 [==============================] - 2s 32ms/step - loss: 79.4140 - mae: 79.4140\n",
            "Epoch 2/100\n",
            "2/2 [==============================] - 0s 17ms/step - loss: 39.1213 - mae: 39.1213\n",
            "Epoch 3/100\n",
            "2/2 [==============================] - 0s 23ms/step - loss: 10.8674 - mae: 10.8674\n",
            "Epoch 4/100\n",
            "2/2 [==============================] - 0s 14ms/step - loss: 10.7977 - mae: 10.7977\n",
            "Epoch 5/100\n",
            "2/2 [==============================] - 0s 23ms/step - loss: 14.2047 - mae: 14.2047\n",
            "Epoch 6/100\n",
            "2/2 [==============================] - 0s 12ms/step - loss: 12.6143 - mae: 12.6143\n",
            "Epoch 7/100\n",
            "2/2 [==============================] - 0s 18ms/step - loss: 14.2682 - mae: 14.2682\n",
            "Epoch 8/100\n",
            "2/2 [==============================] - 0s 18ms/step - loss: 11.7885 - mae: 11.7885\n",
            "Epoch 9/100\n",
            "2/2 [==============================] - 0s 28ms/step - loss: 12.7147 - mae: 12.7147\n",
            "Epoch 10/100\n",
            "2/2 [==============================] - 0s 17ms/step - loss: 9.1150 - mae: 9.1150\n",
            "Epoch 11/100\n",
            "2/2 [==============================] - 0s 19ms/step - loss: 12.0297 - mae: 12.0297\n",
            "Epoch 12/100\n",
            "2/2 [==============================] - 0s 19ms/step - loss: 15.6704 - mae: 15.6704\n",
            "Epoch 13/100\n",
            "2/2 [==============================] - 0s 10ms/step - loss: 8.6951 - mae: 8.6951\n",
            "Epoch 14/100\n",
            "2/2 [==============================] - 0s 10ms/step - loss: 11.4703 - mae: 11.4703\n",
            "Epoch 15/100\n",
            "2/2 [==============================] - 0s 12ms/step - loss: 11.7090 - mae: 11.7090\n",
            "Epoch 16/100\n",
            "2/2 [==============================] - 0s 44ms/step - loss: 14.4595 - mae: 14.4595\n",
            "Epoch 17/100\n",
            "2/2 [==============================] - 0s 17ms/step - loss: 11.5786 - mae: 11.5786\n",
            "Epoch 18/100\n",
            "2/2 [==============================] - 0s 25ms/step - loss: 14.4915 - mae: 14.4915\n",
            "Epoch 19/100\n",
            "2/2 [==============================] - 0s 18ms/step - loss: 11.4502 - mae: 11.4502\n",
            "Epoch 20/100\n",
            "2/2 [==============================] - 0s 24ms/step - loss: 14.1496 - mae: 14.1496\n",
            "Epoch 21/100\n",
            "2/2 [==============================] - 0s 14ms/step - loss: 9.7078 - mae: 9.7078\n",
            "Epoch 22/100\n",
            "2/2 [==============================] - 0s 11ms/step - loss: 22.5573 - mae: 22.5573\n",
            "Epoch 23/100\n",
            "2/2 [==============================] - 0s 16ms/step - loss: 9.0573 - mae: 9.0573\n",
            "Epoch 24/100\n",
            "2/2 [==============================] - 0s 19ms/step - loss: 10.1599 - mae: 10.1599\n",
            "Epoch 25/100\n",
            "2/2 [==============================] - 0s 21ms/step - loss: 12.1269 - mae: 12.1269\n",
            "Epoch 26/100\n",
            "2/2 [==============================] - 0s 24ms/step - loss: 13.6743 - mae: 13.6743\n",
            "Epoch 27/100\n",
            "2/2 [==============================] - 0s 20ms/step - loss: 8.7807 - mae: 8.7807\n",
            "Epoch 28/100\n",
            "2/2 [==============================] - 0s 36ms/step - loss: 8.2166 - mae: 8.2166\n",
            "Epoch 29/100\n",
            "2/2 [==============================] - 0s 16ms/step - loss: 10.1052 - mae: 10.1052\n",
            "Epoch 30/100\n",
            "2/2 [==============================] - 0s 25ms/step - loss: 9.7490 - mae: 9.7490\n",
            "Epoch 31/100\n",
            "2/2 [==============================] - 0s 17ms/step - loss: 7.7232 - mae: 7.7232\n",
            "Epoch 32/100\n",
            "2/2 [==============================] - 0s 14ms/step - loss: 13.7755 - mae: 13.7755\n",
            "Epoch 33/100\n",
            "2/2 [==============================] - 0s 16ms/step - loss: 11.0191 - mae: 11.0191\n",
            "Epoch 34/100\n",
            "2/2 [==============================] - 0s 29ms/step - loss: 9.6345 - mae: 9.6345\n",
            "Epoch 35/100\n",
            "2/2 [==============================] - 0s 17ms/step - loss: 11.4924 - mae: 11.4924\n",
            "Epoch 36/100\n",
            "2/2 [==============================] - 0s 14ms/step - loss: 13.0633 - mae: 13.0633\n",
            "Epoch 37/100\n",
            "2/2 [==============================] - 0s 16ms/step - loss: 8.8633 - mae: 8.8633\n",
            "Epoch 38/100\n",
            "2/2 [==============================] - 0s 21ms/step - loss: 9.5253 - mae: 9.5253\n",
            "Epoch 39/100\n",
            "2/2 [==============================] - 0s 13ms/step - loss: 9.5735 - mae: 9.5735\n",
            "Epoch 40/100\n",
            "2/2 [==============================] - 0s 17ms/step - loss: 11.2109 - mae: 11.2109\n",
            "Epoch 41/100\n",
            "2/2 [==============================] - 0s 14ms/step - loss: 8.2272 - mae: 8.2272\n",
            "Epoch 42/100\n",
            "2/2 [==============================] - 0s 13ms/step - loss: 9.8540 - mae: 9.8540\n",
            "Epoch 43/100\n",
            "2/2 [==============================] - 0s 12ms/step - loss: 10.6650 - mae: 10.6650\n",
            "Epoch 44/100\n",
            "2/2 [==============================] - 0s 16ms/step - loss: 8.8270 - mae: 8.8270\n",
            "Epoch 45/100\n",
            "2/2 [==============================] - 0s 17ms/step - loss: 11.3109 - mae: 11.3109\n",
            "Epoch 46/100\n",
            "2/2 [==============================] - 0s 14ms/step - loss: 8.7601 - mae: 8.7601\n",
            "Epoch 47/100\n",
            "2/2 [==============================] - 0s 17ms/step - loss: 11.5881 - mae: 11.5881\n",
            "Epoch 48/100\n",
            "2/2 [==============================] - 0s 18ms/step - loss: 16.1430 - mae: 16.1430\n",
            "Epoch 49/100\n",
            "2/2 [==============================] - 0s 10ms/step - loss: 9.0052 - mae: 9.0052\n",
            "Epoch 50/100\n",
            "2/2 [==============================] - 0s 9ms/step - loss: 14.2669 - mae: 14.2669\n",
            "Epoch 51/100\n",
            "2/2 [==============================] - 0s 12ms/step - loss: 18.8786 - mae: 18.8786\n",
            "Epoch 52/100\n",
            "2/2 [==============================] - 0s 10ms/step - loss: 10.5335 - mae: 10.5335\n",
            "Epoch 53/100\n",
            "2/2 [==============================] - 0s 10ms/step - loss: 8.1254 - mae: 8.1254\n",
            "Epoch 54/100\n",
            "2/2 [==============================] - 0s 11ms/step - loss: 8.2659 - mae: 8.2659\n",
            "Epoch 55/100\n",
            "2/2 [==============================] - 0s 22ms/step - loss: 13.5841 - mae: 13.5841\n",
            "Epoch 56/100\n",
            "2/2 [==============================] - 0s 14ms/step - loss: 10.3380 - mae: 10.3380\n",
            "Epoch 57/100\n",
            "2/2 [==============================] - 0s 12ms/step - loss: 9.4005 - mae: 9.4005\n",
            "Epoch 58/100\n",
            "2/2 [==============================] - 0s 11ms/step - loss: 11.9347 - mae: 11.9347\n",
            "Epoch 59/100\n",
            "2/2 [==============================] - 0s 12ms/step - loss: 11.4653 - mae: 11.4653\n",
            "Epoch 60/100\n",
            "2/2 [==============================] - 0s 13ms/step - loss: 8.3436 - mae: 8.3436\n",
            "Epoch 61/100\n",
            "2/2 [==============================] - 0s 12ms/step - loss: 9.4871 - mae: 9.4871\n",
            "Epoch 62/100\n",
            "2/2 [==============================] - 0s 12ms/step - loss: 8.9723 - mae: 8.9723\n",
            "Epoch 63/100\n",
            "2/2 [==============================] - 0s 13ms/step - loss: 11.8091 - mae: 11.8091\n",
            "Epoch 64/100\n",
            "2/2 [==============================] - 0s 12ms/step - loss: 11.7021 - mae: 11.7021\n",
            "Epoch 65/100\n",
            "2/2 [==============================] - 0s 15ms/step - loss: 8.4683 - mae: 8.4683\n",
            "Epoch 66/100\n",
            "2/2 [==============================] - 0s 14ms/step - loss: 8.3971 - mae: 8.3971\n",
            "Epoch 67/100\n",
            "2/2 [==============================] - 0s 9ms/step - loss: 8.1339 - mae: 8.1339\n",
            "Epoch 68/100\n",
            "2/2 [==============================] - 0s 19ms/step - loss: 17.4424 - mae: 17.4424\n",
            "Epoch 69/100\n",
            "2/2 [==============================] - 0s 13ms/step - loss: 10.4226 - mae: 10.4226\n",
            "Epoch 70/100\n",
            "2/2 [==============================] - 0s 13ms/step - loss: 14.7666 - mae: 14.7666\n",
            "Epoch 71/100\n",
            "2/2 [==============================] - 0s 11ms/step - loss: 8.5733 - mae: 8.5733\n",
            "Epoch 72/100\n",
            "2/2 [==============================] - 0s 10ms/step - loss: 8.5779 - mae: 8.5779\n",
            "Epoch 73/100\n",
            "2/2 [==============================] - 0s 12ms/step - loss: 7.7827 - mae: 7.7827\n",
            "Epoch 74/100\n",
            "2/2 [==============================] - 0s 10ms/step - loss: 16.4351 - mae: 16.4351\n",
            "Epoch 75/100\n",
            "2/2 [==============================] - 0s 10ms/step - loss: 9.7227 - mae: 9.7227\n",
            "Epoch 76/100\n",
            "2/2 [==============================] - 0s 23ms/step - loss: 9.9034 - mae: 9.9034\n",
            "Epoch 77/100\n",
            "2/2 [==============================] - 0s 13ms/step - loss: 17.7348 - mae: 17.7348\n",
            "Epoch 78/100\n",
            "2/2 [==============================] - 0s 10ms/step - loss: 10.0998 - mae: 10.0998\n",
            "Epoch 79/100\n",
            "2/2 [==============================] - 0s 11ms/step - loss: 9.1815 - mae: 9.1815\n",
            "Epoch 80/100\n",
            "2/2 [==============================] - 0s 12ms/step - loss: 6.8433 - mae: 6.8433\n",
            "Epoch 81/100\n",
            "2/2 [==============================] - 0s 19ms/step - loss: 10.4945 - mae: 10.4945\n",
            "Epoch 82/100\n",
            "2/2 [==============================] - 0s 8ms/step - loss: 9.8352 - mae: 9.8352\n",
            "Epoch 83/100\n",
            "2/2 [==============================] - 0s 24ms/step - loss: 8.2774 - mae: 8.2774\n",
            "Epoch 84/100\n",
            "2/2 [==============================] - 0s 14ms/step - loss: 10.9034 - mae: 10.9034\n",
            "Epoch 85/100\n",
            "2/2 [==============================] - 0s 13ms/step - loss: 11.3182 - mae: 11.3182\n",
            "Epoch 86/100\n",
            "2/2 [==============================] - 0s 12ms/step - loss: 9.2420 - mae: 9.2420\n",
            "Epoch 87/100\n",
            "2/2 [==============================] - 0s 11ms/step - loss: 6.7801 - mae: 6.7801\n",
            "Epoch 88/100\n",
            "2/2 [==============================] - 0s 11ms/step - loss: 8.5725 - mae: 8.5725\n",
            "Epoch 89/100\n",
            "2/2 [==============================] - 0s 11ms/step - loss: 13.9663 - mae: 13.9663\n",
            "Epoch 90/100\n",
            "2/2 [==============================] - 0s 13ms/step - loss: 7.1125 - mae: 7.1125\n",
            "Epoch 91/100\n",
            "2/2 [==============================] - 0s 11ms/step - loss: 12.6252 - mae: 12.6252\n",
            "Epoch 92/100\n",
            "2/2 [==============================] - 0s 36ms/step - loss: 13.3314 - mae: 13.3314\n",
            "Epoch 93/100\n",
            "2/2 [==============================] - 0s 23ms/step - loss: 7.9014 - mae: 7.9014\n",
            "Epoch 94/100\n",
            "2/2 [==============================] - 0s 14ms/step - loss: 9.5938 - mae: 9.5938\n",
            "Epoch 95/100\n",
            "2/2 [==============================] - 0s 15ms/step - loss: 10.3549 - mae: 10.3549\n",
            "Epoch 96/100\n",
            "2/2 [==============================] - 0s 13ms/step - loss: 8.2607 - mae: 8.2607\n",
            "Epoch 97/100\n",
            "2/2 [==============================] - 0s 18ms/step - loss: 11.0718 - mae: 11.0718\n",
            "Epoch 98/100\n",
            "2/2 [==============================] - 0s 17ms/step - loss: 9.9948 - mae: 9.9948\n",
            "Epoch 99/100\n",
            "2/2 [==============================] - 0s 23ms/step - loss: 9.0317 - mae: 9.0317\n",
            "Epoch 100/100\n",
            "2/2 [==============================] - 0s 19ms/step - loss: 9.7931 - mae: 9.7931\n"
          ]
        },
        {
          "output_type": "execute_result",
          "data": {
            "text/plain": [
              "<keras.src.callbacks.History at 0x798c083b20b0>"
            ]
          },
          "metadata": {},
          "execution_count": 32
        }
      ]
    },
    {
      "cell_type": "code",
      "source": [
        "y_preds_1 = model_1.predict(X_test)"
      ],
      "metadata": {
        "colab": {
          "base_uri": "https://localhost:8080/"
        },
        "id": "2jHw-AS9h4LL",
        "outputId": "c381e89d-e56f-4cbc-d9a0-4702c113f6fb"
      },
      "execution_count": null,
      "outputs": [
        {
          "output_type": "stream",
          "name": "stderr",
          "text": [
            "WARNING:tensorflow:5 out of the last 5 calls to <function Model.make_predict_function.<locals>.predict_function at 0x798c0849dfc0> triggered tf.function retracing. Tracing is expensive and the excessive number of tracings could be due to (1) creating @tf.function repeatedly in a loop, (2) passing tensors with different shapes, (3) passing Python objects instead of tensors. For (1), please define your @tf.function outside of the loop. For (2), @tf.function has reduce_retracing=True option that can avoid unnecessary retracing. For (3), please refer to https://www.tensorflow.org/guide/function#controlling_retracing and https://www.tensorflow.org/api_docs/python/tf/function for  more details.\n"
          ]
        },
        {
          "output_type": "stream",
          "name": "stdout",
          "text": [
            "1/1 [==============================] - 0s 104ms/step\n"
          ]
        }
      ]
    },
    {
      "cell_type": "code",
      "source": [
        "plot_predictions(predictions=y_preds_1)"
      ],
      "metadata": {
        "colab": {
          "base_uri": "https://localhost:8080/",
          "height": 467
        },
        "id": "A_pMTB_HiGE9",
        "outputId": "6cb7d87e-4045-4cd1-bee2-1ca451e34fc2"
      },
      "execution_count": null,
      "outputs": [
        {
          "output_type": "display_data",
          "data": {
            "text/plain": [
              "<Figure size 1000x700 with 1 Axes>"
            ],
            "image/png": "[encoded data removed]"
          },
          "metadata": {}
        }
      ]
    },
    {
      "cell_type": "code",
      "source": [
        "mae_1 = mae(y_test, y_preds_1)\n",
        "mse_1 = mse(y_test, y_preds_1)\n",
        "mae_1, mse_1"
      ],
      "metadata": {
        "colab": {
          "base_uri": "https://localhost:8080/"
        },
        "id": "qGNxGiJAiWef",
        "outputId": "5caf010e-a2db-487e-be05-52a67802df06"
      },
      "execution_count": null,
      "outputs": [
        {
          "output_type": "execute_result",
          "data": {
            "text/plain": [
              "(<tf.Tensor: shape=(), dtype=float32, numpy=48.547432>,\n",
              " <tf.Tensor: shape=(), dtype=float32, numpy=2391.317>)"
            ]
          },
          "metadata": {},
          "execution_count": 35
        }
      ]
    },
    {
      "cell_type": "code",
      "source": [
        "tf.random.set_seed(10)\n",
        "\n",
        "model_2 = tf.keras.Sequential([\n",
        "    tf.keras.layers.Dense(100),\n",
        "    tf.keras.layers.Dense(1)\n",
        "])\n",
        "\n",
        "model_2.compile(loss=tf.keras.losses.mae,\n",
        "                optimizer=tf.keras.optimizers.SGD(),\n",
        "                metrics=['mse'])\n",
        "\n",
        "model_2.fit(tf.expand_dims(X_train, axis=-1), y_train, epochs=100)"
      ],
      "metadata": {
        "colab": {
          "base_uri": "https://localhost:8080/"
        },
        "id": "xGuAqSrbihbN",
        "outputId": "320c39af-2c19-4f83-94bf-fe176d81d5c1"
      },
      "execution_count": null,
      "outputs": [
        {
          "output_type": "stream",
          "name": "stdout",
          "text": [
            "Epoch 1/100\n",
            "2/2 [==============================] - 1s 34ms/step - loss: 40.9326 - mse: 2542.5864\n",
            "Epoch 2/100\n",
            "2/2 [==============================] - 0s 23ms/step - loss: 61.0541 - mse: 5651.7397\n",
            "Epoch 3/100\n",
            "2/2 [==============================] - 0s 13ms/step - loss: 16.8462 - mse: 400.8236\n",
            "Epoch 4/100\n",
            "2/2 [==============================] - 0s 12ms/step - loss: 12.9294 - mse: 221.9069\n",
            "Epoch 5/100\n",
            "2/2 [==============================] - 0s 11ms/step - loss: 24.7824 - mse: 929.5643\n",
            "Epoch 6/100\n",
            "2/2 [==============================] - 0s 11ms/step - loss: 11.9694 - mse: 197.0065\n",
            "Epoch 7/100\n",
            "2/2 [==============================] - 0s 11ms/step - loss: 31.5895 - mse: 1419.4385\n",
            "Epoch 8/100\n",
            "2/2 [==============================] - 0s 16ms/step - loss: 9.9656 - mse: 154.8671\n",
            "Epoch 9/100\n",
            "2/2 [==============================] - 0s 12ms/step - loss: 18.6278 - mse: 497.2613\n",
            "Epoch 10/100\n",
            "2/2 [==============================] - 0s 22ms/step - loss: 11.6668 - mse: 198.1102\n",
            "Epoch 11/100\n",
            "2/2 [==============================] - 0s 14ms/step - loss: 11.7437 - mse: 207.4091\n",
            "Epoch 12/100\n",
            "2/2 [==============================] - 0s 11ms/step - loss: 19.4967 - mse: 502.8475\n",
            "Epoch 13/100\n",
            "2/2 [==============================] - 0s 24ms/step - loss: 14.5495 - mse: 292.1602\n",
            "Epoch 14/100\n",
            "2/2 [==============================] - 0s 33ms/step - loss: 9.8375 - mse: 152.4801\n",
            "Epoch 15/100\n",
            "2/2 [==============================] - 0s 11ms/step - loss: 14.4078 - mse: 291.0807\n",
            "Epoch 16/100\n",
            "2/2 [==============================] - 0s 11ms/step - loss: 14.5285 - mse: 298.5958\n",
            "Epoch 17/100\n",
            "2/2 [==============================] - 0s 10ms/step - loss: 14.5022 - mse: 296.7310\n",
            "Epoch 18/100\n",
            "2/2 [==============================] - 0s 10ms/step - loss: 25.2697 - mse: 990.7350\n",
            "Epoch 19/100\n",
            "2/2 [==============================] - 0s 10ms/step - loss: 11.5509 - mse: 198.3475\n",
            "Epoch 20/100\n",
            "2/2 [==============================] - 0s 11ms/step - loss: 26.8365 - mse: 1041.5703\n",
            "Epoch 21/100\n",
            "2/2 [==============================] - 0s 13ms/step - loss: 11.1766 - mse: 180.3713\n",
            "Epoch 22/100\n",
            "2/2 [==============================] - 0s 14ms/step - loss: 29.9631 - mse: 1232.6844\n",
            "Epoch 23/100\n",
            "2/2 [==============================] - 0s 15ms/step - loss: 9.9490 - mse: 145.9133\n",
            "Epoch 24/100\n",
            "2/2 [==============================] - 0s 14ms/step - loss: 19.6707 - mse: 581.1138\n",
            "Epoch 25/100\n",
            "2/2 [==============================] - 0s 31ms/step - loss: 21.9995 - mse: 774.7300\n",
            "Epoch 26/100\n",
            "2/2 [==============================] - 0s 19ms/step - loss: 10.8040 - mse: 184.9139\n",
            "Epoch 27/100\n",
            "2/2 [==============================] - 0s 26ms/step - loss: 17.9096 - mse: 446.8267\n",
            "Epoch 28/100\n",
            "2/2 [==============================] - 0s 34ms/step - loss: 15.9725 - mse: 360.9682\n",
            "Epoch 29/100\n",
            "2/2 [==============================] - 0s 31ms/step - loss: 11.0105 - mse: 151.6177\n",
            "Epoch 30/100\n",
            "2/2 [==============================] - 0s 11ms/step - loss: 17.6242 - mse: 446.9128\n",
            "Epoch 31/100\n",
            "2/2 [==============================] - 0s 11ms/step - loss: 14.3614 - mse: 289.0921\n",
            "Epoch 32/100\n",
            "2/2 [==============================] - 0s 13ms/step - loss: 19.7351 - mse: 564.2783\n",
            "Epoch 33/100\n",
            "2/2 [==============================] - 0s 12ms/step - loss: 10.7577 - mse: 171.8737\n",
            "Epoch 34/100\n",
            "2/2 [==============================] - 0s 12ms/step - loss: 10.8875 - mse: 143.7105\n",
            "Epoch 35/100\n",
            "2/2 [==============================] - 0s 10ms/step - loss: 20.7609 - mse: 656.2972\n",
            "Epoch 36/100\n",
            "2/2 [==============================] - 0s 12ms/step - loss: 9.9971 - mse: 118.2340\n",
            "Epoch 37/100\n",
            "2/2 [==============================] - 0s 12ms/step - loss: 11.6955 - mse: 194.5654\n",
            "Epoch 38/100\n",
            "2/2 [==============================] - 0s 19ms/step - loss: 14.2599 - mse: 278.4232\n",
            "Epoch 39/100\n",
            "2/2 [==============================] - 0s 12ms/step - loss: 14.2752 - mse: 282.8262\n",
            "Epoch 40/100\n",
            "2/2 [==============================] - 0s 13ms/step - loss: 14.4178 - mse: 291.1137\n",
            "Epoch 41/100\n",
            "2/2 [==============================] - 0s 11ms/step - loss: 14.6724 - mse: 301.5825\n",
            "Epoch 42/100\n",
            "2/2 [==============================] - 0s 11ms/step - loss: 17.0857 - mse: 404.5420\n",
            "Epoch 43/100\n",
            "2/2 [==============================] - 0s 11ms/step - loss: 22.3733 - mse: 742.3337\n",
            "Epoch 44/100\n",
            "2/2 [==============================] - 0s 12ms/step - loss: 20.5023 - mse: 587.0553\n",
            "Epoch 45/100\n",
            "2/2 [==============================] - 0s 28ms/step - loss: 24.6867 - mse: 856.3084\n",
            "Epoch 46/100\n",
            "2/2 [==============================] - 0s 26ms/step - loss: 13.8930 - mse: 270.1330\n",
            "Epoch 47/100\n",
            "2/2 [==============================] - 0s 10ms/step - loss: 21.5557 - mse: 632.8421\n",
            "Epoch 48/100\n",
            "2/2 [==============================] - 0s 11ms/step - loss: 32.6212 - mse: 1599.7642\n",
            "Epoch 49/100\n",
            "2/2 [==============================] - 0s 26ms/step - loss: 7.2831 - mse: 73.5568\n",
            "Epoch 50/100\n",
            "2/2 [==============================] - 0s 22ms/step - loss: 18.2375 - mse: 521.9916\n",
            "Epoch 51/100\n",
            "2/2 [==============================] - 0s 14ms/step - loss: 12.3040 - mse: 205.9154\n",
            "Epoch 52/100\n",
            "2/2 [==============================] - 0s 11ms/step - loss: 11.8902 - mse: 167.9946\n",
            "Epoch 53/100\n",
            "2/2 [==============================] - 0s 15ms/step - loss: 19.5513 - mse: 539.7365\n",
            "Epoch 54/100\n",
            "2/2 [==============================] - 0s 17ms/step - loss: 9.4433 - mse: 104.1718\n",
            "Epoch 55/100\n",
            "2/2 [==============================] - 0s 17ms/step - loss: 22.8174 - mse: 766.1178\n",
            "Epoch 56/100\n",
            "2/2 [==============================] - 0s 10ms/step - loss: 10.9810 - mse: 181.8810\n",
            "Epoch 57/100\n",
            "2/2 [==============================] - 0s 22ms/step - loss: 13.3491 - mse: 240.3394\n",
            "Epoch 58/100\n",
            "2/2 [==============================] - 0s 15ms/step - loss: 23.0009 - mse: 806.6974\n",
            "Epoch 59/100\n",
            "2/2 [==============================] - 0s 10ms/step - loss: 8.3812 - mse: 99.4343\n",
            "Epoch 60/100\n",
            "2/2 [==============================] - 0s 27ms/step - loss: 15.5723 - mse: 333.4120\n",
            "Epoch 61/100\n",
            "2/2 [==============================] - 0s 19ms/step - loss: 16.3971 - mse: 381.0539\n",
            "Epoch 62/100\n",
            "2/2 [==============================] - 0s 22ms/step - loss: 9.3229 - mse: 128.8161\n",
            "Epoch 63/100\n",
            "2/2 [==============================] - 0s 36ms/step - loss: 13.8028 - mse: 305.6384\n",
            "Epoch 64/100\n",
            "2/2 [==============================] - 0s 24ms/step - loss: 9.5681 - mse: 127.9554\n",
            "Epoch 65/100\n",
            "2/2 [==============================] - 0s 21ms/step - loss: 10.2524 - mse: 121.0247\n",
            "Epoch 66/100\n",
            "2/2 [==============================] - 0s 26ms/step - loss: 9.1245 - mse: 124.6905\n",
            "Epoch 67/100\n",
            "2/2 [==============================] - 0s 21ms/step - loss: 7.0123 - mse: 70.1992\n",
            "Epoch 68/100\n",
            "2/2 [==============================] - 0s 22ms/step - loss: 38.5328 - mse: 2392.4795\n",
            "Epoch 69/100\n",
            "2/2 [==============================] - 0s 15ms/step - loss: 9.6957 - mse: 104.9547\n",
            "Epoch 70/100\n",
            "2/2 [==============================] - 0s 14ms/step - loss: 28.3832 - mse: 1280.6804\n",
            "Epoch 71/100\n",
            "2/2 [==============================] - 0s 19ms/step - loss: 8.4514 - mse: 106.1579\n",
            "Epoch 72/100\n",
            "2/2 [==============================] - 0s 15ms/step - loss: 14.5363 - mse: 288.7159\n",
            "Epoch 73/100\n",
            "2/2 [==============================] - 0s 19ms/step - loss: 15.4337 - mse: 317.0832\n",
            "Epoch 74/100\n",
            "2/2 [==============================] - 0s 11ms/step - loss: 25.0716 - mse: 865.7557\n",
            "Epoch 75/100\n",
            "2/2 [==============================] - 0s 35ms/step - loss: 17.9767 - mse: 455.6777\n",
            "Epoch 76/100\n",
            "2/2 [==============================] - 0s 18ms/step - loss: 9.3888 - mse: 102.1651\n",
            "Epoch 77/100\n",
            "2/2 [==============================] - 0s 18ms/step - loss: 25.2987 - mse: 1011.2548\n",
            "Epoch 78/100\n",
            "2/2 [==============================] - 0s 14ms/step - loss: 16.5161 - mse: 396.0117\n",
            "Epoch 79/100\n",
            "2/2 [==============================] - 0s 14ms/step - loss: 9.5648 - mse: 105.5569\n",
            "Epoch 80/100\n",
            "2/2 [==============================] - 0s 16ms/step - loss: 8.2239 - mse: 83.1842\n",
            "Epoch 81/100\n",
            "2/2 [==============================] - 0s 15ms/step - loss: 24.3949 - mse: 855.7518\n",
            "Epoch 82/100\n",
            "2/2 [==============================] - 0s 14ms/step - loss: 7.9606 - mse: 98.2940\n",
            "Epoch 83/100\n",
            "2/2 [==============================] - 0s 9ms/step - loss: 17.5714 - mse: 430.7130\n",
            "Epoch 84/100\n",
            "2/2 [==============================] - 0s 9ms/step - loss: 16.7200 - mse: 364.3438\n",
            "Epoch 85/100\n",
            "2/2 [==============================] - 0s 8ms/step - loss: 9.6950 - mse: 156.0572\n",
            "Epoch 86/100\n",
            "2/2 [==============================] - 0s 37ms/step - loss: 8.8736 - mse: 118.3729\n",
            "Epoch 87/100\n",
            "2/2 [==============================] - 0s 14ms/step - loss: 12.5504 - mse: 248.9098\n",
            "Epoch 88/100\n",
            "2/2 [==============================] - 0s 14ms/step - loss: 15.7190 - mse: 392.5495\n",
            "Epoch 89/100\n",
            "2/2 [==============================] - 0s 16ms/step - loss: 16.2189 - mse: 346.5328\n",
            "Epoch 90/100\n",
            "2/2 [==============================] - 0s 20ms/step - loss: 14.0234 - mse: 281.7106\n",
            "Epoch 91/100\n",
            "2/2 [==============================] - 0s 15ms/step - loss: 18.8329 - mse: 504.1745\n",
            "Epoch 92/100\n",
            "2/2 [==============================] - 0s 14ms/step - loss: 29.5504 - mse: 1305.3767\n",
            "Epoch 93/100\n",
            "2/2 [==============================] - 0s 25ms/step - loss: 10.7631 - mse: 137.4820\n",
            "Epoch 94/100\n",
            "2/2 [==============================] - 0s 14ms/step - loss: 11.8976 - mse: 184.6104\n",
            "Epoch 95/100\n",
            "2/2 [==============================] - 0s 23ms/step - loss: 13.6217 - mse: 267.7423\n",
            "Epoch 96/100\n",
            "2/2 [==============================] - 0s 14ms/step - loss: 11.1711 - mse: 152.6844\n",
            "Epoch 97/100\n",
            "2/2 [==============================] - 0s 21ms/step - loss: 19.4677 - mse: 559.5969\n",
            "Epoch 98/100\n",
            "2/2 [==============================] - 0s 15ms/step - loss: 11.4974 - mse: 167.4080\n",
            "Epoch 99/100\n",
            "2/2 [==============================] - 0s 16ms/step - loss: 11.0680 - mse: 147.0686\n",
            "Epoch 100/100\n",
            "2/2 [==============================] - 0s 16ms/step - loss: 12.4645 - mse: 214.3456\n"
          ]
        },
        {
          "output_type": "execute_result",
          "data": {
            "text/plain": [
              "<keras.src.callbacks.History at 0x798c09432200>"
            ]
          },
          "metadata": {},
          "execution_count": 36
        }
      ]
    },
    {
      "cell_type": "code",
      "source": [
        "y_preds_2 = model_2.predict(X_test)"
      ],
      "metadata": {
        "colab": {
          "base_uri": "https://localhost:8080/"
        },
        "id": "mMMyDA844MP4",
        "outputId": "01bf39bb-60b4-464f-ed19-1c39a2c942e1"
      },
      "execution_count": null,
      "outputs": [
        {
          "output_type": "stream",
          "name": "stderr",
          "text": [
            "WARNING:tensorflow:6 out of the last 6 calls to <function Model.make_predict_function.<locals>.predict_function at 0x798c082bf2e0> triggered tf.function retracing. Tracing is expensive and the excessive number of tracings could be due to (1) creating @tf.function repeatedly in a loop, (2) passing tensors with different shapes, (3) passing Python objects instead of tensors. For (1), please define your @tf.function outside of the loop. For (2), @tf.function has reduce_retracing=True option that can avoid unnecessary retracing. For (3), please refer to https://www.tensorflow.org/guide/function#controlling_retracing and https://www.tensorflow.org/api_docs/python/tf/function for  more details.\n"
          ]
        },
        {
          "output_type": "stream",
          "name": "stdout",
          "text": [
            "1/1 [==============================] - 0s 211ms/step\n"
          ]
        }
      ]
    },
    {
      "cell_type": "code",
      "source": [
        "plot_predictions(predictions=y_preds_2)"
      ],
      "metadata": {
        "colab": {
          "base_uri": "https://localhost:8080/",
          "height": 463
        },
        "id": "EsESQZoX4aoG",
        "outputId": "8aa36a41-6cbb-4663-ed32-e2ac87c0cbd2"
      },
      "execution_count": null,
      "outputs": [
        {
          "output_type": "display_data",
          "data": {
            "text/plain": [
              "<Figure size 1000x700 with 1 Axes>"
            ],
            "image/png": "[encoded data removed]"
          },
          "metadata": {}
        }
      ]
    },
    {
      "cell_type": "code",
      "source": [
        "mae_2 = mae(y_test, y_preds_2)\n",
        "mse_2 = mse(y_test, y_preds_2)\n",
        "mae_2, mse_2"
      ],
      "metadata": {
        "colab": {
          "base_uri": "https://localhost:8080/"
        },
        "id": "5yaTnkOP4g2K",
        "outputId": "6a6aee18-b5a9-473f-d522-235bbeb16622"
      },
      "execution_count": null,
      "outputs": [
        {
          "output_type": "execute_result",
          "data": {
            "text/plain": [
              "(<tf.Tensor: shape=(), dtype=float32, numpy=39.5338>,\n",
              " <tf.Tensor: shape=(), dtype=float32, numpy=1612.0952>)"
            ]
          },
          "metadata": {},
          "execution_count": 39
        }
      ]
    },
    {
      "cell_type": "code",
      "source": [
        "tf.random.set_seed(10)\n",
        "\n",
        "model_3 = tf.keras.Sequential([\n",
        "    tf.keras.layers.Dense(100),\n",
        "    tf.keras.layers.Dense(1)\n",
        "])\n",
        "\n",
        "model_3.compile(loss=tf.keras.losses.mae,\n",
        "                optimizer=tf.keras.optimizers.SGD(),\n",
        "                metrics=['mae'])\n",
        "\n",
        "model_3.fit(tf.expand_dims(X_train, axis=-1), y_train, epochs=500)"
      ],
      "metadata": {
        "colab": {
          "base_uri": "https://localhost:8080/"
        },
        "id": "mexmJlDS4obd",
        "outputId": "316b311f-88d5-4687-e3ab-12a611ce879d"
      },
      "execution_count": null,
      "outputs": [
        {
          "output_type": "stream",
          "name": "stdout",
          "text": [
            "Epoch 1/500\n",
            "2/2 [==============================] - 3s 34ms/step - loss: 28.8793 - mae: 28.8793\n",
            "Epoch 2/500\n",
            "2/2 [==============================] - 0s 24ms/step - loss: 50.3055 - mae: 50.3055\n",
            "Epoch 3/500\n",
            "2/2 [==============================] - 0s 27ms/step - loss: 17.3957 - mae: 17.3957\n",
            "Epoch 4/500\n",
            "2/2 [==============================] - 0s 16ms/step - loss: 11.8671 - mae: 11.8671\n",
            "Epoch 5/500\n",
            "2/2 [==============================] - 0s 12ms/step - loss: 20.5527 - mae: 20.5527\n",
            "Epoch 6/500\n",
            "2/2 [==============================] - 0s 15ms/step - loss: 11.9083 - mae: 11.9083\n",
            "Epoch 7/500\n",
            "2/2 [==============================] - 0s 38ms/step - loss: 31.1696 - mae: 31.1696\n",
            "Epoch 8/500\n",
            "2/2 [==============================] - 0s 24ms/step - loss: 9.9614 - mae: 9.9614\n",
            "Epoch 9/500\n",
            "2/2 [==============================] - 0s 13ms/step - loss: 18.6339 - mae: 18.6339\n",
            "Epoch 10/500\n",
            "2/2 [==============================] - 0s 22ms/step - loss: 11.7502 - mae: 11.7502\n",
            "Epoch 11/500\n",
            "2/2 [==============================] - 0s 24ms/step - loss: 11.7950 - mae: 11.7950\n",
            "Epoch 12/500\n",
            "2/2 [==============================] - 0s 17ms/step - loss: 19.5792 - mae: 19.5792\n",
            "Epoch 13/500\n",
            "2/2 [==============================] - 0s 17ms/step - loss: 14.6852 - mae: 14.6852\n",
            "Epoch 14/500\n",
            "2/2 [==============================] - 0s 11ms/step - loss: 9.0283 - mae: 9.0283\n",
            "Epoch 15/500\n",
            "2/2 [==============================] - 0s 10ms/step - loss: 19.8074 - mae: 19.8074\n",
            "Epoch 16/500\n",
            "2/2 [==============================] - 0s 42ms/step - loss: 10.9855 - mae: 10.9855\n",
            "Epoch 17/500\n",
            "2/2 [==============================] - 0s 20ms/step - loss: 19.1260 - mae: 19.1260\n",
            "Epoch 18/500\n",
            "2/2 [==============================] - 0s 19ms/step - loss: 19.2989 - mae: 19.2989\n",
            "Epoch 19/500\n",
            "2/2 [==============================] - 0s 22ms/step - loss: 10.6375 - mae: 10.6375\n",
            "Epoch 20/500\n",
            "2/2 [==============================] - 0s 24ms/step - loss: 20.9927 - mae: 20.9927\n",
            "Epoch 21/500\n",
            "2/2 [==============================] - 0s 26ms/step - loss: 12.9187 - mae: 12.9187\n",
            "Epoch 22/500\n",
            "2/2 [==============================] - 0s 20ms/step - loss: 29.5247 - mae: 29.5247\n",
            "Epoch 23/500\n",
            "2/2 [==============================] - 0s 45ms/step - loss: 7.9101 - mae: 7.9101\n",
            "Epoch 24/500\n",
            "2/2 [==============================] - 0s 19ms/step - loss: 23.2725 - mae: 23.2725\n",
            "Epoch 25/500\n",
            "2/2 [==============================] - 0s 24ms/step - loss: 20.8177 - mae: 20.8177\n",
            "Epoch 26/500\n",
            "2/2 [==============================] - 0s 21ms/step - loss: 11.4747 - mae: 11.4747\n",
            "Epoch 27/500\n",
            "2/2 [==============================] - 0s 14ms/step - loss: 17.7280 - mae: 17.7280\n",
            "Epoch 28/500\n",
            "2/2 [==============================] - 0s 20ms/step - loss: 15.6696 - mae: 15.6696\n",
            "Epoch 29/500\n",
            "2/2 [==============================] - 0s 19ms/step - loss: 11.2212 - mae: 11.2212\n",
            "Epoch 30/500\n",
            "2/2 [==============================] - 0s 21ms/step - loss: 12.3948 - mae: 12.3948\n",
            "Epoch 31/500\n",
            "2/2 [==============================] - 0s 11ms/step - loss: 9.4463 - mae: 9.4463\n",
            "Epoch 32/500\n",
            "2/2 [==============================] - 0s 19ms/step - loss: 19.3095 - mae: 19.3095\n",
            "Epoch 33/500\n",
            "2/2 [==============================] - 0s 18ms/step - loss: 10.6498 - mae: 10.6498\n",
            "Epoch 34/500\n",
            "2/2 [==============================] - 0s 26ms/step - loss: 10.8130 - mae: 10.8130\n",
            "Epoch 35/500\n",
            "2/2 [==============================] - 0s 25ms/step - loss: 20.4735 - mae: 20.4735\n",
            "Epoch 36/500\n",
            "2/2 [==============================] - 0s 18ms/step - loss: 9.8718 - mae: 9.8718\n",
            "Epoch 37/500\n",
            "2/2 [==============================] - 0s 26ms/step - loss: 11.7907 - mae: 11.7907\n",
            "Epoch 38/500\n",
            "2/2 [==============================] - 0s 16ms/step - loss: 14.3616 - mae: 14.3616\n",
            "Epoch 39/500\n",
            "2/2 [==============================] - 0s 15ms/step - loss: 14.3682 - mae: 14.3682\n",
            "Epoch 40/500\n",
            "2/2 [==============================] - 0s 12ms/step - loss: 14.5124 - mae: 14.5124\n",
            "Epoch 41/500\n",
            "2/2 [==============================] - 0s 13ms/step - loss: 14.7595 - mae: 14.7595\n",
            "Epoch 42/500\n",
            "2/2 [==============================] - 0s 18ms/step - loss: 17.1496 - mae: 17.1496\n",
            "Epoch 43/500\n",
            "2/2 [==============================] - 0s 14ms/step - loss: 22.5098 - mae: 22.5098\n",
            "Epoch 44/500\n",
            "2/2 [==============================] - 0s 14ms/step - loss: 20.2548 - mae: 20.2548\n",
            "Epoch 45/500\n",
            "2/2 [==============================] - 0s 21ms/step - loss: 24.2880 - mae: 24.2880\n",
            "Epoch 46/500\n",
            "2/2 [==============================] - 0s 16ms/step - loss: 13.9552 - mae: 13.9552\n",
            "Epoch 47/500\n",
            "2/2 [==============================] - 0s 11ms/step - loss: 21.7015 - mae: 21.7015\n",
            "Epoch 48/500\n",
            "2/2 [==============================] - 0s 11ms/step - loss: 32.1800 - mae: 32.1800\n",
            "Epoch 49/500\n",
            "2/2 [==============================] - 0s 25ms/step - loss: 7.8065 - mae: 7.8065\n",
            "Epoch 50/500\n",
            "2/2 [==============================] - 0s 11ms/step - loss: 17.5588 - mae: 17.5588\n",
            "Epoch 51/500\n",
            "2/2 [==============================] - 0s 12ms/step - loss: 27.7835 - mae: 27.7835\n",
            "Epoch 52/500\n",
            "2/2 [==============================] - 0s 15ms/step - loss: 10.5447 - mae: 10.5447\n",
            "Epoch 53/500\n",
            "2/2 [==============================] - 0s 18ms/step - loss: 18.5575 - mae: 18.5575\n",
            "Epoch 54/500\n",
            "2/2 [==============================] - 0s 14ms/step - loss: 9.6871 - mae: 9.6871\n",
            "Epoch 55/500\n",
            "2/2 [==============================] - 0s 16ms/step - loss: 24.4170 - mae: 24.4170\n",
            "Epoch 56/500\n",
            "2/2 [==============================] - 0s 17ms/step - loss: 11.5115 - mae: 11.5115\n",
            "Epoch 57/500\n",
            "2/2 [==============================] - 0s 17ms/step - loss: 15.1279 - mae: 15.1279\n",
            "Epoch 58/500\n",
            "2/2 [==============================] - 0s 16ms/step - loss: 21.3468 - mae: 21.3468\n",
            "Epoch 59/500\n",
            "2/2 [==============================] - 0s 15ms/step - loss: 7.8801 - mae: 7.8801\n",
            "Epoch 60/500\n",
            "2/2 [==============================] - 0s 23ms/step - loss: 16.4183 - mae: 16.4183\n",
            "Epoch 61/500\n",
            "2/2 [==============================] - 0s 24ms/step - loss: 17.2830 - mae: 17.2830\n",
            "Epoch 62/500\n",
            "2/2 [==============================] - 0s 21ms/step - loss: 7.0600 - mae: 7.0600\n",
            "Epoch 63/500\n",
            "2/2 [==============================] - 0s 17ms/step - loss: 18.8587 - mae: 18.8587\n",
            "Epoch 64/500\n",
            "2/2 [==============================] - 0s 21ms/step - loss: 15.0130 - mae: 15.0130\n",
            "Epoch 65/500\n",
            "2/2 [==============================] - 0s 33ms/step - loss: 15.7931 - mae: 15.7931\n",
            "Epoch 66/500\n",
            "2/2 [==============================] - 0s 26ms/step - loss: 11.1331 - mae: 11.1331\n",
            "Epoch 67/500\n",
            "2/2 [==============================] - 0s 28ms/step - loss: 12.9165 - mae: 12.9165\n",
            "Epoch 68/500\n",
            "2/2 [==============================] - 0s 17ms/step - loss: 31.5086 - mae: 31.5086\n",
            "Epoch 69/500\n",
            "2/2 [==============================] - 0s 16ms/step - loss: 13.5950 - mae: 13.5950\n",
            "Epoch 70/500\n",
            "2/2 [==============================] - 0s 14ms/step - loss: 28.3308 - mae: 28.3308\n",
            "Epoch 71/500\n",
            "2/2 [==============================] - 0s 15ms/step - loss: 8.4580 - mae: 8.4580\n",
            "Epoch 72/500\n",
            "2/2 [==============================] - 0s 11ms/step - loss: 17.7014 - mae: 17.7014\n",
            "Epoch 73/500\n",
            "2/2 [==============================] - 0s 11ms/step - loss: 12.7490 - mae: 12.7490\n",
            "Epoch 74/500\n",
            "2/2 [==============================] - 0s 12ms/step - loss: 21.9798 - mae: 21.9798\n",
            "Epoch 75/500\n",
            "2/2 [==============================] - 0s 24ms/step - loss: 25.6605 - mae: 25.6605\n",
            "Epoch 76/500\n",
            "2/2 [==============================] - 0s 13ms/step - loss: 9.9751 - mae: 9.9751\n",
            "Epoch 77/500\n",
            "2/2 [==============================] - 0s 20ms/step - loss: 24.5973 - mae: 24.5973\n",
            "Epoch 78/500\n",
            "2/2 [==============================] - 0s 13ms/step - loss: 16.0259 - mae: 16.0259\n",
            "Epoch 79/500\n",
            "2/2 [==============================] - 0s 17ms/step - loss: 9.3814 - mae: 9.3814\n",
            "Epoch 80/500\n",
            "2/2 [==============================] - 0s 11ms/step - loss: 8.2044 - mae: 8.2044\n",
            "Epoch 81/500\n",
            "2/2 [==============================] - 0s 11ms/step - loss: 33.5127 - mae: 33.5127\n",
            "Epoch 82/500\n",
            "2/2 [==============================] - 0s 11ms/step - loss: 9.4332 - mae: 9.4332\n",
            "Epoch 83/500\n",
            "2/2 [==============================] - 0s 10ms/step - loss: 8.2756 - mae: 8.2756\n",
            "Epoch 84/500\n",
            "2/2 [==============================] - 0s 10ms/step - loss: 14.2373 - mae: 14.2373\n",
            "Epoch 85/500\n",
            "2/2 [==============================] - 0s 9ms/step - loss: 15.9928 - mae: 15.9928\n",
            "Epoch 86/500\n",
            "2/2 [==============================] - 0s 10ms/step - loss: 12.2970 - mae: 12.2970\n",
            "Epoch 87/500\n",
            "2/2 [==============================] - 0s 11ms/step - loss: 13.3604 - mae: 13.3604\n",
            "Epoch 88/500\n",
            "2/2 [==============================] - 0s 11ms/step - loss: 15.8136 - mae: 15.8136\n",
            "Epoch 89/500\n",
            "2/2 [==============================] - 0s 12ms/step - loss: 8.8077 - mae: 8.8077\n",
            "Epoch 90/500\n",
            "2/2 [==============================] - 0s 12ms/step - loss: 8.8960 - mae: 8.8960\n",
            "Epoch 91/500\n",
            "2/2 [==============================] - 0s 11ms/step - loss: 20.2006 - mae: 20.2006\n",
            "Epoch 92/500\n",
            "2/2 [==============================] - 0s 11ms/step - loss: 21.2342 - mae: 21.2342\n",
            "Epoch 93/500\n",
            "2/2 [==============================] - 0s 15ms/step - loss: 8.5982 - mae: 8.5982\n",
            "Epoch 94/500\n",
            "2/2 [==============================] - 0s 13ms/step - loss: 6.9070 - mae: 6.9070\n",
            "Epoch 95/500\n",
            "2/2 [==============================] - 0s 17ms/step - loss: 27.5788 - mae: 27.5788\n",
            "Epoch 96/500\n",
            "2/2 [==============================] - 0s 23ms/step - loss: 10.6738 - mae: 10.6738\n",
            "Epoch 97/500\n",
            "2/2 [==============================] - 0s 15ms/step - loss: 17.8216 - mae: 17.8216\n",
            "Epoch 98/500\n",
            "2/2 [==============================] - 0s 13ms/step - loss: 11.6589 - mae: 11.6589\n",
            "Epoch 99/500\n",
            "2/2 [==============================] - 0s 19ms/step - loss: 11.2071 - mae: 11.2071\n",
            "Epoch 100/500\n",
            "2/2 [==============================] - 0s 13ms/step - loss: 13.1376 - mae: 13.1376\n",
            "Epoch 101/500\n",
            "2/2 [==============================] - 0s 10ms/step - loss: 20.4594 - mae: 20.4594\n",
            "Epoch 102/500\n",
            "2/2 [==============================] - 0s 9ms/step - loss: 30.0946 - mae: 30.0946\n",
            "Epoch 103/500\n",
            "2/2 [==============================] - 0s 36ms/step - loss: 9.2238 - mae: 9.2238\n",
            "Epoch 104/500\n",
            "2/2 [==============================] - 0s 29ms/step - loss: 21.0907 - mae: 21.0907\n",
            "Epoch 105/500\n",
            "2/2 [==============================] - 0s 18ms/step - loss: 16.6829 - mae: 16.6829\n",
            "Epoch 106/500\n",
            "2/2 [==============================] - 0s 11ms/step - loss: 13.2761 - mae: 13.2761\n",
            "Epoch 107/500\n",
            "2/2 [==============================] - 0s 9ms/step - loss: 24.4659 - mae: 24.4659\n",
            "Epoch 108/500\n",
            "2/2 [==============================] - 0s 10ms/step - loss: 18.7383 - mae: 18.7383\n",
            "Epoch 109/500\n",
            "2/2 [==============================] - 0s 12ms/step - loss: 13.0460 - mae: 13.0460\n",
            "Epoch 110/500\n",
            "2/2 [==============================] - 0s 14ms/step - loss: 18.5392 - mae: 18.5392\n",
            "Epoch 111/500\n",
            "2/2 [==============================] - 0s 14ms/step - loss: 17.3503 - mae: 17.3503\n",
            "Epoch 112/500\n",
            "2/2 [==============================] - 0s 19ms/step - loss: 19.4487 - mae: 19.4487\n",
            "Epoch 113/500\n",
            "2/2 [==============================] - 0s 16ms/step - loss: 9.7263 - mae: 9.7263\n",
            "Epoch 114/500\n",
            "2/2 [==============================] - 0s 10ms/step - loss: 17.5952 - mae: 17.5952\n",
            "Epoch 115/500\n",
            "2/2 [==============================] - 0s 12ms/step - loss: 8.8287 - mae: 8.8287\n",
            "Epoch 116/500\n",
            "2/2 [==============================] - 0s 13ms/step - loss: 6.8607 - mae: 6.8607\n",
            "Epoch 117/500\n",
            "2/2 [==============================] - 0s 13ms/step - loss: 20.0099 - mae: 20.0099\n",
            "Epoch 118/500\n",
            "2/2 [==============================] - 0s 12ms/step - loss: 17.3214 - mae: 17.3214\n",
            "Epoch 119/500\n",
            "2/2 [==============================] - 0s 12ms/step - loss: 14.8130 - mae: 14.8130\n",
            "Epoch 120/500\n",
            "2/2 [==============================] - 0s 12ms/step - loss: 8.2337 - mae: 8.2337\n",
            "Epoch 121/500\n",
            "2/2 [==============================] - 0s 14ms/step - loss: 36.4901 - mae: 36.4901\n",
            "Epoch 122/500\n",
            "2/2 [==============================] - 0s 24ms/step - loss: 11.4312 - mae: 11.4312\n",
            "Epoch 123/500\n",
            "2/2 [==============================] - 0s 10ms/step - loss: 20.1207 - mae: 20.1207\n",
            "Epoch 124/500\n",
            "2/2 [==============================] - 0s 18ms/step - loss: 16.4170 - mae: 16.4170\n",
            "Epoch 125/500\n",
            "2/2 [==============================] - 0s 15ms/step - loss: 9.1368 - mae: 9.1368\n",
            "Epoch 126/500\n",
            "2/2 [==============================] - 0s 15ms/step - loss: 16.9796 - mae: 16.9796\n",
            "Epoch 127/500\n",
            "2/2 [==============================] - 0s 15ms/step - loss: 9.2125 - mae: 9.2125\n",
            "Epoch 128/500\n",
            "2/2 [==============================] - 0s 10ms/step - loss: 15.7136 - mae: 15.7136\n",
            "Epoch 129/500\n",
            "2/2 [==============================] - 0s 20ms/step - loss: 10.5564 - mae: 10.5564\n",
            "Epoch 130/500\n",
            "2/2 [==============================] - 0s 15ms/step - loss: 18.2560 - mae: 18.2560\n",
            "Epoch 131/500\n",
            "2/2 [==============================] - 0s 22ms/step - loss: 9.7980 - mae: 9.7980\n",
            "Epoch 132/500\n",
            "2/2 [==============================] - 0s 22ms/step - loss: 14.7722 - mae: 14.7722\n",
            "Epoch 133/500\n",
            "2/2 [==============================] - 0s 13ms/step - loss: 11.6134 - mae: 11.6134\n",
            "Epoch 134/500\n",
            "2/2 [==============================] - 0s 16ms/step - loss: 18.8747 - mae: 18.8747\n",
            "Epoch 135/500\n",
            "2/2 [==============================] - 0s 15ms/step - loss: 12.8953 - mae: 12.8953\n",
            "Epoch 136/500\n",
            "2/2 [==============================] - 0s 23ms/step - loss: 19.5794 - mae: 19.5794\n",
            "Epoch 137/500\n",
            "2/2 [==============================] - 0s 17ms/step - loss: 21.9758 - mae: 21.9758\n",
            "Epoch 138/500\n",
            "2/2 [==============================] - 0s 22ms/step - loss: 9.8395 - mae: 9.8395\n",
            "Epoch 139/500\n",
            "2/2 [==============================] - 0s 15ms/step - loss: 11.8800 - mae: 11.8800\n",
            "Epoch 140/500\n",
            "2/2 [==============================] - 0s 7ms/step - loss: 7.8606 - mae: 7.8606\n",
            "Epoch 141/500\n",
            "2/2 [==============================] - 0s 11ms/step - loss: 18.9127 - mae: 18.9127\n",
            "Epoch 142/500\n",
            "2/2 [==============================] - 0s 13ms/step - loss: 16.1232 - mae: 16.1232\n",
            "Epoch 143/500\n",
            "2/2 [==============================] - 0s 8ms/step - loss: 14.6921 - mae: 14.6921\n",
            "Epoch 144/500\n",
            "2/2 [==============================] - 0s 16ms/step - loss: 11.0233 - mae: 11.0233\n",
            "Epoch 145/500\n",
            "2/2 [==============================] - 0s 14ms/step - loss: 11.5115 - mae: 11.5115\n",
            "Epoch 146/500\n",
            "2/2 [==============================] - 0s 13ms/step - loss: 23.8288 - mae: 23.8288\n",
            "Epoch 147/500\n",
            "2/2 [==============================] - 0s 21ms/step - loss: 7.7753 - mae: 7.7753\n",
            "Epoch 148/500\n",
            "2/2 [==============================] - 0s 20ms/step - loss: 9.2493 - mae: 9.2493\n",
            "Epoch 149/500\n",
            "2/2 [==============================] - 0s 13ms/step - loss: 11.6111 - mae: 11.6111\n",
            "Epoch 150/500\n",
            "2/2 [==============================] - 0s 12ms/step - loss: 16.5052 - mae: 16.5052\n",
            "Epoch 151/500\n",
            "2/2 [==============================] - 0s 10ms/step - loss: 7.8151 - mae: 7.8151\n",
            "Epoch 152/500\n",
            "2/2 [==============================] - 0s 11ms/step - loss: 17.5129 - mae: 17.5129\n",
            "Epoch 153/500\n",
            "2/2 [==============================] - 0s 11ms/step - loss: 16.5425 - mae: 16.5425\n",
            "Epoch 154/500\n",
            "2/2 [==============================] - 0s 11ms/step - loss: 10.8056 - mae: 10.8056\n",
            "Epoch 155/500\n",
            "2/2 [==============================] - 0s 13ms/step - loss: 11.4238 - mae: 11.4238\n",
            "Epoch 156/500\n",
            "2/2 [==============================] - 0s 14ms/step - loss: 6.7954 - mae: 6.7954\n",
            "Epoch 157/500\n",
            "2/2 [==============================] - 0s 15ms/step - loss: 13.0746 - mae: 13.0746\n",
            "Epoch 158/500\n",
            "2/2 [==============================] - 0s 9ms/step - loss: 22.1977 - mae: 22.1977\n",
            "Epoch 159/500\n",
            "2/2 [==============================] - 0s 10ms/step - loss: 9.5816 - mae: 9.5816\n",
            "Epoch 160/500\n",
            "2/2 [==============================] - 0s 9ms/step - loss: 10.7416 - mae: 10.7416\n",
            "Epoch 161/500\n",
            "2/2 [==============================] - 0s 9ms/step - loss: 11.5153 - mae: 11.5153\n",
            "Epoch 162/500\n",
            "2/2 [==============================] - 0s 15ms/step - loss: 8.6744 - mae: 8.6744\n",
            "Epoch 163/500\n",
            "2/2 [==============================] - 0s 19ms/step - loss: 19.1330 - mae: 19.1330\n",
            "Epoch 164/500\n",
            "2/2 [==============================] - 0s 14ms/step - loss: 7.4717 - mae: 7.4717\n",
            "Epoch 165/500\n",
            "2/2 [==============================] - 0s 38ms/step - loss: 8.2572 - mae: 8.2572\n",
            "Epoch 166/500\n",
            "2/2 [==============================] - 0s 13ms/step - loss: 22.8015 - mae: 22.8015\n",
            "Epoch 167/500\n",
            "2/2 [==============================] - 0s 12ms/step - loss: 8.2399 - mae: 8.2399\n",
            "Epoch 168/500\n",
            "2/2 [==============================] - 0s 16ms/step - loss: 9.2530 - mae: 9.2530\n",
            "Epoch 169/500\n",
            "2/2 [==============================] - 0s 17ms/step - loss: 23.3654 - mae: 23.3654\n",
            "Epoch 170/500\n",
            "2/2 [==============================] - 0s 14ms/step - loss: 8.6455 - mae: 8.6455\n",
            "Epoch 171/500\n",
            "2/2 [==============================] - 0s 27ms/step - loss: 17.8792 - mae: 17.8792\n",
            "Epoch 172/500\n",
            "2/2 [==============================] - 0s 13ms/step - loss: 10.7036 - mae: 10.7036\n",
            "Epoch 173/500\n",
            "2/2 [==============================] - 0s 32ms/step - loss: 21.1298 - mae: 21.1298\n",
            "Epoch 174/500\n",
            "2/2 [==============================] - 0s 34ms/step - loss: 12.9698 - mae: 12.9698\n",
            "Epoch 175/500\n",
            "2/2 [==============================] - 0s 33ms/step - loss: 8.2975 - mae: 8.2975\n",
            "Epoch 176/500\n",
            "2/2 [==============================] - 0s 21ms/step - loss: 8.7187 - mae: 8.7187\n",
            "Epoch 177/500\n",
            "2/2 [==============================] - 0s 20ms/step - loss: 28.9357 - mae: 28.9357\n",
            "Epoch 178/500\n",
            "2/2 [==============================] - 0s 16ms/step - loss: 12.1277 - mae: 12.1277\n",
            "Epoch 179/500\n",
            "2/2 [==============================] - 0s 22ms/step - loss: 13.5638 - mae: 13.5638\n",
            "Epoch 180/500\n",
            "2/2 [==============================] - 0s 12ms/step - loss: 8.9758 - mae: 8.9758\n",
            "Epoch 181/500\n",
            "2/2 [==============================] - 0s 13ms/step - loss: 11.9954 - mae: 11.9954\n",
            "Epoch 182/500\n",
            "2/2 [==============================] - 0s 22ms/step - loss: 10.5195 - mae: 10.5195\n",
            "Epoch 183/500\n",
            "2/2 [==============================] - 0s 30ms/step - loss: 16.6251 - mae: 16.6251\n",
            "Epoch 184/500\n",
            "2/2 [==============================] - 0s 31ms/step - loss: 5.9845 - mae: 5.9845\n",
            "Epoch 185/500\n",
            "2/2 [==============================] - 0s 11ms/step - loss: 15.6391 - mae: 15.6391\n",
            "Epoch 186/500\n",
            "2/2 [==============================] - 0s 15ms/step - loss: 11.8504 - mae: 11.8504\n",
            "Epoch 187/500\n",
            "2/2 [==============================] - 0s 20ms/step - loss: 18.4399 - mae: 18.4399\n",
            "Epoch 188/500\n",
            "2/2 [==============================] - 0s 14ms/step - loss: 13.0869 - mae: 13.0869\n",
            "Epoch 189/500\n",
            "2/2 [==============================] - 0s 27ms/step - loss: 12.6825 - mae: 12.6825\n",
            "Epoch 190/500\n",
            "2/2 [==============================] - 0s 21ms/step - loss: 5.8906 - mae: 5.8906\n",
            "Epoch 191/500\n",
            "2/2 [==============================] - 0s 23ms/step - loss: 12.6426 - mae: 12.6426\n",
            "Epoch 192/500\n",
            "2/2 [==============================] - 0s 21ms/step - loss: 26.4379 - mae: 26.4379\n",
            "Epoch 193/500\n",
            "2/2 [==============================] - 0s 33ms/step - loss: 13.0593 - mae: 13.0593\n",
            "Epoch 194/500\n",
            "2/2 [==============================] - 0s 21ms/step - loss: 12.2791 - mae: 12.2791\n",
            "Epoch 195/500\n",
            "2/2 [==============================] - 0s 27ms/step - loss: 10.7222 - mae: 10.7222\n",
            "Epoch 196/500\n",
            "2/2 [==============================] - 0s 21ms/step - loss: 22.7255 - mae: 22.7255\n",
            "Epoch 197/500\n",
            "2/2 [==============================] - 0s 23ms/step - loss: 8.2931 - mae: 8.2931\n",
            "Epoch 198/500\n",
            "2/2 [==============================] - 0s 23ms/step - loss: 14.2263 - mae: 14.2263\n",
            "Epoch 199/500\n",
            "2/2 [==============================] - 0s 23ms/step - loss: 8.6250 - mae: 8.6250\n",
            "Epoch 200/500\n",
            "2/2 [==============================] - 0s 16ms/step - loss: 21.5113 - mae: 21.5113\n",
            "Epoch 201/500\n",
            "2/2 [==============================] - 0s 21ms/step - loss: 9.1600 - mae: 9.1600\n",
            "Epoch 202/500\n",
            "2/2 [==============================] - 0s 18ms/step - loss: 22.8800 - mae: 22.8800\n",
            "Epoch 203/500\n",
            "2/2 [==============================] - 0s 13ms/step - loss: 11.0874 - mae: 11.0874\n",
            "Epoch 204/500\n",
            "2/2 [==============================] - 0s 19ms/step - loss: 10.8112 - mae: 10.8112\n",
            "Epoch 205/500\n",
            "2/2 [==============================] - 0s 17ms/step - loss: 11.9976 - mae: 11.9976\n",
            "Epoch 206/500\n",
            "2/2 [==============================] - 0s 10ms/step - loss: 8.2974 - mae: 8.2974\n",
            "Epoch 207/500\n",
            "2/2 [==============================] - 0s 10ms/step - loss: 14.7361 - mae: 14.7361\n",
            "Epoch 208/500\n",
            "2/2 [==============================] - 0s 10ms/step - loss: 10.2954 - mae: 10.2954\n",
            "Epoch 209/500\n",
            "2/2 [==============================] - 0s 22ms/step - loss: 13.6043 - mae: 13.6043\n",
            "Epoch 210/500\n",
            "2/2 [==============================] - 0s 10ms/step - loss: 17.6117 - mae: 17.6117\n",
            "Epoch 211/500\n",
            "2/2 [==============================] - 0s 9ms/step - loss: 10.9769 - mae: 10.9769\n",
            "Epoch 212/500\n",
            "2/2 [==============================] - 0s 23ms/step - loss: 23.8861 - mae: 23.8861\n",
            "Epoch 213/500\n",
            "2/2 [==============================] - 0s 29ms/step - loss: 20.4562 - mae: 20.4562\n",
            "Epoch 214/500\n",
            "2/2 [==============================] - 0s 22ms/step - loss: 8.9018 - mae: 8.9018\n",
            "Epoch 215/500\n",
            "2/2 [==============================] - 0s 22ms/step - loss: 18.0279 - mae: 18.0279\n",
            "Epoch 216/500\n",
            "2/2 [==============================] - 0s 17ms/step - loss: 9.1294 - mae: 9.1294\n",
            "Epoch 217/500\n",
            "2/2 [==============================] - 0s 19ms/step - loss: 13.3379 - mae: 13.3379\n",
            "Epoch 218/500\n",
            "2/2 [==============================] - 0s 19ms/step - loss: 8.7425 - mae: 8.7425\n",
            "Epoch 219/500\n",
            "2/2 [==============================] - 0s 18ms/step - loss: 17.6298 - mae: 17.6298\n",
            "Epoch 220/500\n",
            "2/2 [==============================] - 0s 19ms/step - loss: 12.4573 - mae: 12.4573\n",
            "Epoch 221/500\n",
            "2/2 [==============================] - 0s 18ms/step - loss: 16.7781 - mae: 16.7781\n",
            "Epoch 222/500\n",
            "2/2 [==============================] - 0s 19ms/step - loss: 13.3598 - mae: 13.3598\n",
            "Epoch 223/500\n",
            "2/2 [==============================] - 0s 14ms/step - loss: 23.7801 - mae: 23.7801\n",
            "Epoch 224/500\n",
            "2/2 [==============================] - 0s 17ms/step - loss: 15.3234 - mae: 15.3234\n",
            "Epoch 225/500\n",
            "2/2 [==============================] - 0s 25ms/step - loss: 20.5361 - mae: 20.5361\n",
            "Epoch 226/500\n",
            "2/2 [==============================] - 0s 14ms/step - loss: 9.4349 - mae: 9.4349\n",
            "Epoch 227/500\n",
            "2/2 [==============================] - 0s 17ms/step - loss: 10.0289 - mae: 10.0289\n",
            "Epoch 228/500\n",
            "2/2 [==============================] - 0s 10ms/step - loss: 11.3363 - mae: 11.3363\n",
            "Epoch 229/500\n",
            "2/2 [==============================] - 0s 18ms/step - loss: 4.9438 - mae: 4.9438\n",
            "Epoch 230/500\n",
            "2/2 [==============================] - 0s 19ms/step - loss: 6.4909 - mae: 6.4909\n",
            "Epoch 231/500\n",
            "2/2 [==============================] - 0s 16ms/step - loss: 34.9855 - mae: 34.9855\n",
            "Epoch 232/500\n",
            "2/2 [==============================] - 0s 19ms/step - loss: 23.3595 - mae: 23.3595\n",
            "Epoch 233/500\n",
            "2/2 [==============================] - 0s 14ms/step - loss: 6.2707 - mae: 6.2707\n",
            "Epoch 234/500\n",
            "2/2 [==============================] - 0s 13ms/step - loss: 11.3778 - mae: 11.3778\n",
            "Epoch 235/500\n",
            "2/2 [==============================] - 0s 8ms/step - loss: 25.6083 - mae: 25.6083\n",
            "Epoch 236/500\n",
            "2/2 [==============================] - 0s 8ms/step - loss: 18.5558 - mae: 18.5558\n",
            "Epoch 237/500\n",
            "2/2 [==============================] - 0s 12ms/step - loss: 16.1395 - mae: 16.1395\n",
            "Epoch 238/500\n",
            "2/2 [==============================] - 0s 9ms/step - loss: 7.4549 - mae: 7.4549\n",
            "Epoch 239/500\n",
            "2/2 [==============================] - 0s 8ms/step - loss: 10.4855 - mae: 10.4855\n",
            "Epoch 240/500\n",
            "2/2 [==============================] - 0s 20ms/step - loss: 24.2775 - mae: 24.2775\n",
            "Epoch 241/500\n",
            "2/2 [==============================] - 0s 12ms/step - loss: 14.6108 - mae: 14.6108\n",
            "Epoch 242/500\n",
            "2/2 [==============================] - 0s 13ms/step - loss: 6.6525 - mae: 6.6525\n",
            "Epoch 243/500\n",
            "2/2 [==============================] - 0s 12ms/step - loss: 12.7236 - mae: 12.7236\n",
            "Epoch 244/500\n",
            "2/2 [==============================] - 0s 13ms/step - loss: 7.2069 - mae: 7.2069\n",
            "Epoch 245/500\n",
            "2/2 [==============================] - 0s 21ms/step - loss: 19.1727 - mae: 19.1727\n",
            "Epoch 246/500\n",
            "2/2 [==============================] - 0s 13ms/step - loss: 18.7723 - mae: 18.7723\n",
            "Epoch 247/500\n",
            "2/2 [==============================] - 0s 12ms/step - loss: 4.9724 - mae: 4.9724\n",
            "Epoch 248/500\n",
            "2/2 [==============================] - 0s 12ms/step - loss: 6.7853 - mae: 6.7853\n",
            "Epoch 249/500\n",
            "2/2 [==============================] - 0s 14ms/step - loss: 11.7361 - mae: 11.7361\n",
            "Epoch 250/500\n",
            "2/2 [==============================] - 0s 15ms/step - loss: 7.0936 - mae: 7.0936\n",
            "Epoch 251/500\n",
            "2/2 [==============================] - 0s 13ms/step - loss: 8.0544 - mae: 8.0544\n",
            "Epoch 252/500\n",
            "2/2 [==============================] - 0s 13ms/step - loss: 21.1422 - mae: 21.1422\n",
            "Epoch 253/500\n",
            "2/2 [==============================] - 0s 14ms/step - loss: 14.8388 - mae: 14.8388\n",
            "Epoch 254/500\n",
            "2/2 [==============================] - 0s 17ms/step - loss: 18.3612 - mae: 18.3612\n",
            "Epoch 255/500\n",
            "2/2 [==============================] - 0s 17ms/step - loss: 30.1884 - mae: 30.1884\n",
            "Epoch 256/500\n",
            "2/2 [==============================] - 0s 33ms/step - loss: 19.1445 - mae: 19.1445\n",
            "Epoch 257/500\n",
            "2/2 [==============================] - 0s 12ms/step - loss: 5.7333 - mae: 5.7333\n",
            "Epoch 258/500\n",
            "2/2 [==============================] - 0s 29ms/step - loss: 24.2932 - mae: 24.2932\n",
            "Epoch 259/500\n",
            "2/2 [==============================] - 0s 14ms/step - loss: 15.7838 - mae: 15.7838\n",
            "Epoch 260/500\n",
            "2/2 [==============================] - 0s 22ms/step - loss: 7.7572 - mae: 7.7572\n",
            "Epoch 261/500\n",
            "2/2 [==============================] - 0s 19ms/step - loss: 6.6356 - mae: 6.6356\n",
            "Epoch 262/500\n",
            "2/2 [==============================] - 0s 28ms/step - loss: 8.1640 - mae: 8.1640\n",
            "Epoch 263/500\n",
            "2/2 [==============================] - 0s 9ms/step - loss: 25.2814 - mae: 25.2814\n",
            "Epoch 264/500\n",
            "2/2 [==============================] - 0s 16ms/step - loss: 7.1412 - mae: 7.1412\n",
            "Epoch 265/500\n",
            "2/2 [==============================] - 0s 16ms/step - loss: 19.3395 - mae: 19.3395\n",
            "Epoch 266/500\n",
            "2/2 [==============================] - 0s 16ms/step - loss: 34.2697 - mae: 34.2697\n",
            "Epoch 267/500\n",
            "2/2 [==============================] - 0s 12ms/step - loss: 19.7447 - mae: 19.7447\n",
            "Epoch 268/500\n",
            "2/2 [==============================] - 0s 16ms/step - loss: 6.8819 - mae: 6.8819\n",
            "Epoch 269/500\n",
            "2/2 [==============================] - 0s 20ms/step - loss: 9.4163 - mae: 9.4163\n",
            "Epoch 270/500\n",
            "2/2 [==============================] - 0s 18ms/step - loss: 7.1871 - mae: 7.1871\n",
            "Epoch 271/500\n",
            "2/2 [==============================] - 0s 48ms/step - loss: 23.4576 - mae: 23.4576\n",
            "Epoch 272/500\n",
            "2/2 [==============================] - 0s 27ms/step - loss: 7.6080 - mae: 7.6080\n",
            "Epoch 273/500\n",
            "2/2 [==============================] - 0s 22ms/step - loss: 19.4979 - mae: 19.4979\n",
            "Epoch 274/500\n",
            "2/2 [==============================] - 0s 23ms/step - loss: 11.6852 - mae: 11.6852\n",
            "Epoch 275/500\n",
            "2/2 [==============================] - 0s 15ms/step - loss: 23.7005 - mae: 23.7005\n",
            "Epoch 276/500\n",
            "2/2 [==============================] - 0s 17ms/step - loss: 17.1913 - mae: 17.1913\n",
            "Epoch 277/500\n",
            "2/2 [==============================] - 0s 16ms/step - loss: 14.1833 - mae: 14.1833\n",
            "Epoch 278/500\n",
            "2/2 [==============================] - 0s 18ms/step - loss: 14.0644 - mae: 14.0644\n",
            "Epoch 279/500\n",
            "2/2 [==============================] - 0s 20ms/step - loss: 20.6416 - mae: 20.6416\n",
            "Epoch 280/500\n",
            "2/2 [==============================] - 0s 17ms/step - loss: 34.7570 - mae: 34.7570\n",
            "Epoch 281/500\n",
            "2/2 [==============================] - 0s 20ms/step - loss: 14.2097 - mae: 14.2097\n",
            "Epoch 282/500\n",
            "2/2 [==============================] - 0s 21ms/step - loss: 16.0900 - mae: 16.0900\n",
            "Epoch 283/500\n",
            "2/2 [==============================] - 0s 16ms/step - loss: 21.6348 - mae: 21.6348\n",
            "Epoch 284/500\n",
            "2/2 [==============================] - 0s 16ms/step - loss: 29.9141 - mae: 29.9141\n",
            "Epoch 285/500\n",
            "2/2 [==============================] - 0s 13ms/step - loss: 13.0115 - mae: 13.0115\n",
            "Epoch 286/500\n",
            "2/2 [==============================] - 0s 29ms/step - loss: 10.4129 - mae: 10.4129\n",
            "Epoch 287/500\n",
            "2/2 [==============================] - 0s 19ms/step - loss: 8.4748 - mae: 8.4748\n",
            "Epoch 288/500\n",
            "2/2 [==============================] - 0s 18ms/step - loss: 12.8924 - mae: 12.8924\n",
            "Epoch 289/500\n",
            "2/2 [==============================] - 0s 15ms/step - loss: 7.0006 - mae: 7.0006\n",
            "Epoch 290/500\n",
            "2/2 [==============================] - 0s 20ms/step - loss: 29.1826 - mae: 29.1826\n",
            "Epoch 291/500\n",
            "2/2 [==============================] - 0s 19ms/step - loss: 16.2781 - mae: 16.2781\n",
            "Epoch 292/500\n",
            "2/2 [==============================] - 0s 22ms/step - loss: 7.6988 - mae: 7.6988\n",
            "Epoch 293/500\n",
            "2/2 [==============================] - 0s 24ms/step - loss: 31.5205 - mae: 31.5205\n",
            "Epoch 294/500\n",
            "2/2 [==============================] - 0s 16ms/step - loss: 16.7068 - mae: 16.7068\n",
            "Epoch 295/500\n",
            "2/2 [==============================] - 0s 25ms/step - loss: 4.4900 - mae: 4.4900\n",
            "Epoch 296/500\n",
            "2/2 [==============================] - 0s 27ms/step - loss: 11.0562 - mae: 11.0562\n",
            "Epoch 297/500\n",
            "2/2 [==============================] - 0s 16ms/step - loss: 7.6660 - mae: 7.6660\n",
            "Epoch 298/500\n",
            "2/2 [==============================] - 0s 19ms/step - loss: 5.9761 - mae: 5.9761\n",
            "Epoch 299/500\n",
            "2/2 [==============================] - 0s 15ms/step - loss: 34.2304 - mae: 34.2304\n",
            "Epoch 300/500\n",
            "2/2 [==============================] - 0s 14ms/step - loss: 9.0633 - mae: 9.0633\n",
            "Epoch 301/500\n",
            "2/2 [==============================] - 0s 21ms/step - loss: 14.0205 - mae: 14.0205\n",
            "Epoch 302/500\n",
            "2/2 [==============================] - 0s 16ms/step - loss: 7.5995 - mae: 7.5995\n",
            "Epoch 303/500\n",
            "2/2 [==============================] - 0s 21ms/step - loss: 22.5042 - mae: 22.5042\n",
            "Epoch 304/500\n",
            "2/2 [==============================] - 0s 21ms/step - loss: 7.8462 - mae: 7.8462\n",
            "Epoch 305/500\n",
            "2/2 [==============================] - 0s 17ms/step - loss: 7.3792 - mae: 7.3792\n",
            "Epoch 306/500\n",
            "2/2 [==============================] - 0s 21ms/step - loss: 39.5084 - mae: 39.5084\n",
            "Epoch 307/500\n",
            "2/2 [==============================] - 0s 20ms/step - loss: 10.8697 - mae: 10.8697\n",
            "Epoch 308/500\n",
            "2/2 [==============================] - 0s 21ms/step - loss: 9.0169 - mae: 9.0169\n",
            "Epoch 309/500\n",
            "2/2 [==============================] - 0s 16ms/step - loss: 15.1584 - mae: 15.1584\n",
            "Epoch 310/500\n",
            "2/2 [==============================] - 0s 23ms/step - loss: 13.6382 - mae: 13.6382\n",
            "Epoch 311/500\n",
            "2/2 [==============================] - 0s 19ms/step - loss: 18.1699 - mae: 18.1699\n",
            "Epoch 312/500\n",
            "2/2 [==============================] - 0s 17ms/step - loss: 22.6686 - mae: 22.6686\n",
            "Epoch 313/500\n",
            "2/2 [==============================] - 0s 23ms/step - loss: 8.2893 - mae: 8.2893\n",
            "Epoch 314/500\n",
            "2/2 [==============================] - 0s 14ms/step - loss: 9.1025 - mae: 9.1025\n",
            "Epoch 315/500\n",
            "2/2 [==============================] - 0s 13ms/step - loss: 8.8231 - mae: 8.8231\n",
            "Epoch 316/500\n",
            "2/2 [==============================] - 0s 20ms/step - loss: 9.7375 - mae: 9.7375\n",
            "Epoch 317/500\n",
            "2/2 [==============================] - 0s 18ms/step - loss: 21.1999 - mae: 21.1999\n",
            "Epoch 318/500\n",
            "2/2 [==============================] - 0s 47ms/step - loss: 25.6073 - mae: 25.6073\n",
            "Epoch 319/500\n",
            "2/2 [==============================] - 0s 41ms/step - loss: 11.1977 - mae: 11.1977\n",
            "Epoch 320/500\n",
            "2/2 [==============================] - 0s 16ms/step - loss: 21.4593 - mae: 21.4593\n",
            "Epoch 321/500\n",
            "2/2 [==============================] - 0s 16ms/step - loss: 7.7978 - mae: 7.7978\n",
            "Epoch 322/500\n",
            "2/2 [==============================] - 0s 15ms/step - loss: 17.6178 - mae: 17.6178\n",
            "Epoch 323/500\n",
            "2/2 [==============================] - 0s 13ms/step - loss: 9.9959 - mae: 9.9959\n",
            "Epoch 324/500\n",
            "2/2 [==============================] - 0s 20ms/step - loss: 17.1614 - mae: 17.1614\n",
            "Epoch 325/500\n",
            "2/2 [==============================] - 0s 18ms/step - loss: 16.3685 - mae: 16.3685\n",
            "Epoch 326/500\n",
            "2/2 [==============================] - 0s 19ms/step - loss: 14.3323 - mae: 14.3323\n",
            "Epoch 327/500\n",
            "2/2 [==============================] - 0s 14ms/step - loss: 11.9741 - mae: 11.9741\n",
            "Epoch 328/500\n",
            "2/2 [==============================] - 0s 31ms/step - loss: 20.7547 - mae: 20.7547\n",
            "Epoch 329/500\n",
            "2/2 [==============================] - 0s 16ms/step - loss: 24.3137 - mae: 24.3137\n",
            "Epoch 330/500\n",
            "2/2 [==============================] - 0s 17ms/step - loss: 21.0237 - mae: 21.0237\n",
            "Epoch 331/500\n",
            "2/2 [==============================] - 0s 22ms/step - loss: 9.6867 - mae: 9.6867\n",
            "Epoch 332/500\n",
            "2/2 [==============================] - 0s 30ms/step - loss: 13.0549 - mae: 13.0549\n",
            "Epoch 333/500\n",
            "2/2 [==============================] - 0s 47ms/step - loss: 14.5302 - mae: 14.5302\n",
            "Epoch 334/500\n",
            "2/2 [==============================] - 0s 20ms/step - loss: 13.5565 - mae: 13.5565\n",
            "Epoch 335/500\n",
            "2/2 [==============================] - 0s 17ms/step - loss: 19.4465 - mae: 19.4465\n",
            "Epoch 336/500\n",
            "2/2 [==============================] - 0s 25ms/step - loss: 18.0942 - mae: 18.0942\n",
            "Epoch 337/500\n",
            "2/2 [==============================] - 0s 22ms/step - loss: 13.7252 - mae: 13.7252\n",
            "Epoch 338/500\n",
            "2/2 [==============================] - 0s 29ms/step - loss: 29.1436 - mae: 29.1436\n",
            "Epoch 339/500\n",
            "2/2 [==============================] - 0s 18ms/step - loss: 7.3319 - mae: 7.3319\n",
            "Epoch 340/500\n",
            "2/2 [==============================] - 0s 19ms/step - loss: 38.4730 - mae: 38.4730\n",
            "Epoch 341/500\n",
            "2/2 [==============================] - 0s 16ms/step - loss: 14.7044 - mae: 14.7044\n",
            "Epoch 342/500\n",
            "2/2 [==============================] - 0s 23ms/step - loss: 11.6296 - mae: 11.6296\n",
            "Epoch 343/500\n",
            "2/2 [==============================] - 0s 14ms/step - loss: 15.5826 - mae: 15.5826\n",
            "Epoch 344/500\n",
            "2/2 [==============================] - 0s 16ms/step - loss: 14.7775 - mae: 14.7775\n",
            "Epoch 345/500\n",
            "2/2 [==============================] - 0s 27ms/step - loss: 19.4977 - mae: 19.4977\n",
            "Epoch 346/500\n",
            "2/2 [==============================] - 0s 17ms/step - loss: 18.2675 - mae: 18.2675\n",
            "Epoch 347/500\n",
            "2/2 [==============================] - 0s 50ms/step - loss: 10.8416 - mae: 10.8416\n",
            "Epoch 348/500\n",
            "2/2 [==============================] - 0s 15ms/step - loss: 20.5283 - mae: 20.5283\n",
            "Epoch 349/500\n",
            "2/2 [==============================] - 0s 25ms/step - loss: 18.7920 - mae: 18.7920\n",
            "Epoch 350/500\n",
            "2/2 [==============================] - 0s 27ms/step - loss: 4.9929 - mae: 4.9929\n",
            "Epoch 351/500\n",
            "2/2 [==============================] - 0s 19ms/step - loss: 26.5461 - mae: 26.5461\n",
            "Epoch 352/500\n",
            "2/2 [==============================] - 0s 15ms/step - loss: 12.8651 - mae: 12.8651\n",
            "Epoch 353/500\n",
            "2/2 [==============================] - 0s 14ms/step - loss: 16.2629 - mae: 16.2629\n",
            "Epoch 354/500\n",
            "2/2 [==============================] - 0s 9ms/step - loss: 12.2074 - mae: 12.2074\n",
            "Epoch 355/500\n",
            "2/2 [==============================] - 0s 8ms/step - loss: 15.7670 - mae: 15.7670\n",
            "Epoch 356/500\n",
            "2/2 [==============================] - 0s 19ms/step - loss: 28.6507 - mae: 28.6507\n",
            "Epoch 357/500\n",
            "2/2 [==============================] - 0s 17ms/step - loss: 7.5370 - mae: 7.5370\n",
            "Epoch 358/500\n",
            "2/2 [==============================] - 0s 23ms/step - loss: 15.4653 - mae: 15.4653\n",
            "Epoch 359/500\n",
            "2/2 [==============================] - 0s 19ms/step - loss: 9.1372 - mae: 9.1372\n",
            "Epoch 360/500\n",
            "2/2 [==============================] - 0s 28ms/step - loss: 17.7129 - mae: 17.7129\n",
            "Epoch 361/500\n",
            "2/2 [==============================] - 0s 47ms/step - loss: 18.9719 - mae: 18.9719\n",
            "Epoch 362/500\n",
            "2/2 [==============================] - 0s 15ms/step - loss: 15.7922 - mae: 15.7922\n",
            "Epoch 363/500\n",
            "2/2 [==============================] - 0s 13ms/step - loss: 11.6199 - mae: 11.6199\n",
            "Epoch 364/500\n",
            "2/2 [==============================] - 0s 8ms/step - loss: 24.8197 - mae: 24.8197\n",
            "Epoch 365/500\n",
            "2/2 [==============================] - 0s 9ms/step - loss: 12.2413 - mae: 12.2413\n",
            "Epoch 366/500\n",
            "2/2 [==============================] - 0s 7ms/step - loss: 6.0583 - mae: 6.0583\n",
            "Epoch 367/500\n",
            "2/2 [==============================] - 0s 7ms/step - loss: 17.7058 - mae: 17.7058\n",
            "Epoch 368/500\n",
            "2/2 [==============================] - 0s 8ms/step - loss: 21.5877 - mae: 21.5877\n",
            "Epoch 369/500\n",
            "2/2 [==============================] - 0s 7ms/step - loss: 16.0708 - mae: 16.0708\n",
            "Epoch 370/500\n",
            "2/2 [==============================] - 0s 8ms/step - loss: 11.8234 - mae: 11.8234\n",
            "Epoch 371/500\n",
            "2/2 [==============================] - 0s 9ms/step - loss: 19.7918 - mae: 19.7918\n",
            "Epoch 372/500\n",
            "2/2 [==============================] - 0s 9ms/step - loss: 13.4894 - mae: 13.4894\n",
            "Epoch 373/500\n",
            "2/2 [==============================] - 0s 8ms/step - loss: 11.1919 - mae: 11.1919\n",
            "Epoch 374/500\n",
            "2/2 [==============================] - 0s 11ms/step - loss: 20.8472 - mae: 20.8472\n",
            "Epoch 375/500\n",
            "2/2 [==============================] - 0s 8ms/step - loss: 15.9533 - mae: 15.9533\n",
            "Epoch 376/500\n",
            "2/2 [==============================] - 0s 8ms/step - loss: 8.8373 - mae: 8.8373\n",
            "Epoch 377/500\n",
            "2/2 [==============================] - 0s 9ms/step - loss: 13.9277 - mae: 13.9277\n",
            "Epoch 378/500\n",
            "2/2 [==============================] - 0s 9ms/step - loss: 22.9059 - mae: 22.9059\n",
            "Epoch 379/500\n",
            "2/2 [==============================] - 0s 8ms/step - loss: 21.2095 - mae: 21.2095\n",
            "Epoch 380/500\n",
            "2/2 [==============================] - 0s 7ms/step - loss: 16.4703 - mae: 16.4703\n",
            "Epoch 381/500\n",
            "2/2 [==============================] - 0s 7ms/step - loss: 12.9455 - mae: 12.9455\n",
            "Epoch 382/500\n",
            "2/2 [==============================] - 0s 7ms/step - loss: 13.9075 - mae: 13.9075\n",
            "Epoch 383/500\n",
            "2/2 [==============================] - 0s 7ms/step - loss: 21.8842 - mae: 21.8842\n",
            "Epoch 384/500\n",
            "2/2 [==============================] - 0s 8ms/step - loss: 21.3187 - mae: 21.3187\n",
            "Epoch 385/500\n",
            "2/2 [==============================] - 0s 9ms/step - loss: 16.0792 - mae: 16.0792\n",
            "Epoch 386/500\n",
            "2/2 [==============================] - 0s 7ms/step - loss: 6.8308 - mae: 6.8308\n",
            "Epoch 387/500\n",
            "2/2 [==============================] - 0s 7ms/step - loss: 24.8424 - mae: 24.8424\n",
            "Epoch 388/500\n",
            "2/2 [==============================] - 0s 8ms/step - loss: 8.6503 - mae: 8.6503\n",
            "Epoch 389/500\n",
            "2/2 [==============================] - 0s 8ms/step - loss: 9.7529 - mae: 9.7529\n",
            "Epoch 390/500\n",
            "2/2 [==============================] - 0s 12ms/step - loss: 19.7712 - mae: 19.7712\n",
            "Epoch 391/500\n",
            "2/2 [==============================] - 0s 9ms/step - loss: 23.9353 - mae: 23.9353\n",
            "Epoch 392/500\n",
            "2/2 [==============================] - 0s 9ms/step - loss: 18.2442 - mae: 18.2442\n",
            "Epoch 393/500\n",
            "2/2 [==============================] - 0s 8ms/step - loss: 11.8243 - mae: 11.8243\n",
            "Epoch 394/500\n",
            "2/2 [==============================] - 0s 16ms/step - loss: 6.5035 - mae: 6.5035\n",
            "Epoch 395/500\n",
            "2/2 [==============================] - 0s 9ms/step - loss: 20.4312 - mae: 20.4312\n",
            "Epoch 396/500\n",
            "2/2 [==============================] - 0s 10ms/step - loss: 11.7532 - mae: 11.7532\n",
            "Epoch 397/500\n",
            "2/2 [==============================] - 0s 7ms/step - loss: 17.4091 - mae: 17.4091\n",
            "Epoch 398/500\n",
            "2/2 [==============================] - 0s 11ms/step - loss: 14.7398 - mae: 14.7398\n",
            "Epoch 399/500\n",
            "2/2 [==============================] - 0s 9ms/step - loss: 16.5068 - mae: 16.5068\n",
            "Epoch 400/500\n",
            "2/2 [==============================] - 0s 11ms/step - loss: 21.8614 - mae: 21.8614\n",
            "Epoch 401/500\n",
            "2/2 [==============================] - 0s 8ms/step - loss: 12.9570 - mae: 12.9570\n",
            "Epoch 402/500\n",
            "2/2 [==============================] - 0s 10ms/step - loss: 11.9914 - mae: 11.9914\n",
            "Epoch 403/500\n",
            "2/2 [==============================] - 0s 10ms/step - loss: 15.8501 - mae: 15.8501\n",
            "Epoch 404/500\n",
            "2/2 [==============================] - 0s 11ms/step - loss: 12.9267 - mae: 12.9267\n",
            "Epoch 405/500\n",
            "2/2 [==============================] - 0s 9ms/step - loss: 20.2309 - mae: 20.2309\n",
            "Epoch 406/500\n",
            "2/2 [==============================] - 0s 9ms/step - loss: 26.9040 - mae: 26.9040\n",
            "Epoch 407/500\n",
            "2/2 [==============================] - 0s 8ms/step - loss: 7.9571 - mae: 7.9571\n",
            "Epoch 408/500\n",
            "2/2 [==============================] - 0s 8ms/step - loss: 17.3015 - mae: 17.3015\n",
            "Epoch 409/500\n",
            "2/2 [==============================] - 0s 11ms/step - loss: 10.1833 - mae: 10.1833\n",
            "Epoch 410/500\n",
            "2/2 [==============================] - 0s 10ms/step - loss: 6.0758 - mae: 6.0758\n",
            "Epoch 411/500\n",
            "2/2 [==============================] - 0s 9ms/step - loss: 18.8766 - mae: 18.8766\n",
            "Epoch 412/500\n",
            "2/2 [==============================] - 0s 12ms/step - loss: 11.8404 - mae: 11.8404\n",
            "Epoch 413/500\n",
            "2/2 [==============================] - 0s 10ms/step - loss: 20.5922 - mae: 20.5922\n",
            "Epoch 414/500\n",
            "2/2 [==============================] - 0s 15ms/step - loss: 30.3178 - mae: 30.3178\n",
            "Epoch 415/500\n",
            "2/2 [==============================] - 0s 13ms/step - loss: 7.2254 - mae: 7.2254\n",
            "Epoch 416/500\n",
            "2/2 [==============================] - 0s 13ms/step - loss: 17.5957 - mae: 17.5957\n",
            "Epoch 417/500\n",
            "2/2 [==============================] - 0s 13ms/step - loss: 13.0453 - mae: 13.0453\n",
            "Epoch 418/500\n",
            "2/2 [==============================] - 0s 8ms/step - loss: 26.1862 - mae: 26.1862\n",
            "Epoch 419/500\n",
            "2/2 [==============================] - 0s 7ms/step - loss: 13.4196 - mae: 13.4196\n",
            "Epoch 420/500\n",
            "2/2 [==============================] - 0s 8ms/step - loss: 10.4651 - mae: 10.4651\n",
            "Epoch 421/500\n",
            "2/2 [==============================] - 0s 7ms/step - loss: 3.4521 - mae: 3.4521\n",
            "Epoch 422/500\n",
            "2/2 [==============================] - 0s 9ms/step - loss: 11.9497 - mae: 11.9497\n",
            "Epoch 423/500\n",
            "2/2 [==============================] - 0s 9ms/step - loss: 12.0837 - mae: 12.0837\n",
            "Epoch 424/500\n",
            "2/2 [==============================] - 0s 12ms/step - loss: 12.0641 - mae: 12.0641\n",
            "Epoch 425/500\n",
            "2/2 [==============================] - 0s 8ms/step - loss: 6.6351 - mae: 6.6351\n",
            "Epoch 426/500\n",
            "2/2 [==============================] - 0s 12ms/step - loss: 6.6314 - mae: 6.6314\n",
            "Epoch 427/500\n",
            "2/2 [==============================] - 0s 11ms/step - loss: 23.9041 - mae: 23.9041\n",
            "Epoch 428/500\n",
            "2/2 [==============================] - 0s 9ms/step - loss: 22.2320 - mae: 22.2320\n",
            "Epoch 429/500\n",
            "2/2 [==============================] - 0s 9ms/step - loss: 7.9453 - mae: 7.9453\n",
            "Epoch 430/500\n",
            "2/2 [==============================] - 0s 9ms/step - loss: 17.8673 - mae: 17.8673\n",
            "Epoch 431/500\n",
            "2/2 [==============================] - 0s 9ms/step - loss: 11.8748 - mae: 11.8748\n",
            "Epoch 432/500\n",
            "2/2 [==============================] - 0s 10ms/step - loss: 29.1547 - mae: 29.1547\n",
            "Epoch 433/500\n",
            "2/2 [==============================] - 0s 11ms/step - loss: 6.0377 - mae: 6.0377\n",
            "Epoch 434/500\n",
            "2/2 [==============================] - 0s 12ms/step - loss: 21.2257 - mae: 21.2257\n",
            "Epoch 435/500\n",
            "2/2 [==============================] - 0s 16ms/step - loss: 6.3627 - mae: 6.3627\n",
            "Epoch 436/500\n",
            "2/2 [==============================] - 0s 13ms/step - loss: 16.4623 - mae: 16.4623\n",
            "Epoch 437/500\n",
            "2/2 [==============================] - 0s 8ms/step - loss: 4.2316 - mae: 4.2316\n",
            "Epoch 438/500\n",
            "2/2 [==============================] - 0s 10ms/step - loss: 23.5476 - mae: 23.5476\n",
            "Epoch 439/500\n",
            "2/2 [==============================] - 0s 13ms/step - loss: 11.2058 - mae: 11.2058\n",
            "Epoch 440/500\n",
            "2/2 [==============================] - 0s 11ms/step - loss: 5.9949 - mae: 5.9949\n",
            "Epoch 441/500\n",
            "2/2 [==============================] - 0s 11ms/step - loss: 24.0362 - mae: 24.0362\n",
            "Epoch 442/500\n",
            "2/2 [==============================] - 0s 9ms/step - loss: 7.0729 - mae: 7.0729\n",
            "Epoch 443/500\n",
            "2/2 [==============================] - 0s 12ms/step - loss: 15.7446 - mae: 15.7446\n",
            "Epoch 444/500\n",
            "2/2 [==============================] - 0s 10ms/step - loss: 13.1501 - mae: 13.1501\n",
            "Epoch 445/500\n",
            "2/2 [==============================] - 0s 14ms/step - loss: 20.2626 - mae: 20.2626\n",
            "Epoch 446/500\n",
            "2/2 [==============================] - 0s 12ms/step - loss: 21.6621 - mae: 21.6621\n",
            "Epoch 447/500\n",
            "2/2 [==============================] - 0s 14ms/step - loss: 12.2969 - mae: 12.2969\n",
            "Epoch 448/500\n",
            "2/2 [==============================] - 0s 14ms/step - loss: 12.0830 - mae: 12.0830\n",
            "Epoch 449/500\n",
            "2/2 [==============================] - 0s 14ms/step - loss: 8.3285 - mae: 8.3285\n",
            "Epoch 450/500\n",
            "2/2 [==============================] - 0s 11ms/step - loss: 13.7379 - mae: 13.7379\n",
            "Epoch 451/500\n",
            "2/2 [==============================] - 0s 9ms/step - loss: 26.6461 - mae: 26.6461\n",
            "Epoch 452/500\n",
            "2/2 [==============================] - 0s 10ms/step - loss: 16.6457 - mae: 16.6457\n",
            "Epoch 453/500\n",
            "2/2 [==============================] - 0s 12ms/step - loss: 10.4624 - mae: 10.4624\n",
            "Epoch 454/500\n",
            "2/2 [==============================] - 0s 13ms/step - loss: 14.9562 - mae: 14.9562\n",
            "Epoch 455/500\n",
            "2/2 [==============================] - 0s 15ms/step - loss: 24.7435 - mae: 24.7435\n",
            "Epoch 456/500\n",
            "2/2 [==============================] - 0s 13ms/step - loss: 23.4158 - mae: 23.4158\n",
            "Epoch 457/500\n",
            "2/2 [==============================] - 0s 11ms/step - loss: 10.7487 - mae: 10.7487\n",
            "Epoch 458/500\n",
            "2/2 [==============================] - 0s 15ms/step - loss: 19.7287 - mae: 19.7287\n",
            "Epoch 459/500\n",
            "2/2 [==============================] - 0s 14ms/step - loss: 33.4266 - mae: 33.4266\n",
            "Epoch 460/500\n",
            "2/2 [==============================] - 0s 15ms/step - loss: 10.0511 - mae: 10.0511\n",
            "Epoch 461/500\n",
            "2/2 [==============================] - 0s 12ms/step - loss: 12.9945 - mae: 12.9945\n",
            "Epoch 462/500\n",
            "2/2 [==============================] - 0s 13ms/step - loss: 24.4402 - mae: 24.4402\n",
            "Epoch 463/500\n",
            "2/2 [==============================] - 0s 11ms/step - loss: 20.6465 - mae: 20.6465\n",
            "Epoch 464/500\n",
            "2/2 [==============================] - 0s 12ms/step - loss: 6.7612 - mae: 6.7612\n",
            "Epoch 465/500\n",
            "2/2 [==============================] - 0s 13ms/step - loss: 11.6829 - mae: 11.6829\n",
            "Epoch 466/500\n",
            "2/2 [==============================] - 0s 8ms/step - loss: 23.8896 - mae: 23.8896\n",
            "Epoch 467/500\n",
            "2/2 [==============================] - 0s 8ms/step - loss: 17.3205 - mae: 17.3205\n",
            "Epoch 468/500\n",
            "2/2 [==============================] - 0s 12ms/step - loss: 11.2447 - mae: 11.2447\n",
            "Epoch 469/500\n",
            "2/2 [==============================] - 0s 12ms/step - loss: 28.8032 - mae: 28.8032\n",
            "Epoch 470/500\n",
            "2/2 [==============================] - 0s 12ms/step - loss: 5.7606 - mae: 5.7606\n",
            "Epoch 471/500\n",
            "2/2 [==============================] - 0s 10ms/step - loss: 16.0241 - mae: 16.0241\n",
            "Epoch 472/500\n",
            "2/2 [==============================] - 0s 9ms/step - loss: 10.4477 - mae: 10.4477\n",
            "Epoch 473/500\n",
            "2/2 [==============================] - 0s 10ms/step - loss: 10.7183 - mae: 10.7183\n",
            "Epoch 474/500\n",
            "2/2 [==============================] - 0s 14ms/step - loss: 13.3611 - mae: 13.3611\n",
            "Epoch 475/500\n",
            "2/2 [==============================] - 0s 10ms/step - loss: 24.5176 - mae: 24.5176\n",
            "Epoch 476/500\n",
            "2/2 [==============================] - 0s 11ms/step - loss: 14.7985 - mae: 14.7985\n",
            "Epoch 477/500\n",
            "2/2 [==============================] - 0s 8ms/step - loss: 6.1516 - mae: 6.1516\n",
            "Epoch 478/500\n",
            "2/2 [==============================] - 0s 7ms/step - loss: 5.6549 - mae: 5.6549\n",
            "Epoch 479/500\n",
            "2/2 [==============================] - 0s 9ms/step - loss: 10.3702 - mae: 10.3702\n",
            "Epoch 480/500\n",
            "2/2 [==============================] - 0s 9ms/step - loss: 10.8155 - mae: 10.8155\n",
            "Epoch 481/500\n",
            "2/2 [==============================] - 0s 9ms/step - loss: 20.7272 - mae: 20.7272\n",
            "Epoch 482/500\n",
            "2/2 [==============================] - 0s 8ms/step - loss: 9.9836 - mae: 9.9836\n",
            "Epoch 483/500\n",
            "2/2 [==============================] - 0s 7ms/step - loss: 11.5830 - mae: 11.5830\n",
            "Epoch 484/500\n",
            "2/2 [==============================] - 0s 8ms/step - loss: 15.9685 - mae: 15.9685\n",
            "Epoch 485/500\n",
            "2/2 [==============================] - 0s 8ms/step - loss: 16.2450 - mae: 16.2450\n",
            "Epoch 486/500\n",
            "2/2 [==============================] - 0s 9ms/step - loss: 14.2257 - mae: 14.2257\n",
            "Epoch 487/500\n",
            "2/2 [==============================] - 0s 12ms/step - loss: 15.1884 - mae: 15.1884\n",
            "Epoch 488/500\n",
            "2/2 [==============================] - 0s 12ms/step - loss: 22.3904 - mae: 22.3904\n",
            "Epoch 489/500\n",
            "2/2 [==============================] - 0s 8ms/step - loss: 24.2856 - mae: 24.2856\n",
            "Epoch 490/500\n",
            "2/2 [==============================] - 0s 12ms/step - loss: 11.8942 - mae: 11.8942\n",
            "Epoch 491/500\n",
            "2/2 [==============================] - 0s 8ms/step - loss: 18.2245 - mae: 18.2245\n",
            "Epoch 492/500\n",
            "2/2 [==============================] - 0s 9ms/step - loss: 10.4117 - mae: 10.4117\n",
            "Epoch 493/500\n",
            "2/2 [==============================] - 0s 9ms/step - loss: 8.5122 - mae: 8.5122\n",
            "Epoch 494/500\n",
            "2/2 [==============================] - 0s 13ms/step - loss: 19.9385 - mae: 19.9385\n",
            "Epoch 495/500\n",
            "2/2 [==============================] - 0s 11ms/step - loss: 9.7094 - mae: 9.7094\n",
            "Epoch 496/500\n",
            "2/2 [==============================] - 0s 8ms/step - loss: 10.7011 - mae: 10.7011\n",
            "Epoch 497/500\n",
            "2/2 [==============================] - 0s 8ms/step - loss: 14.0528 - mae: 14.0528\n",
            "Epoch 498/500\n",
            "2/2 [==============================] - 0s 8ms/step - loss: 22.7168 - mae: 22.7168\n",
            "Epoch 499/500\n",
            "2/2 [==============================] - 0s 8ms/step - loss: 19.3608 - mae: 19.3608\n",
            "Epoch 500/500\n",
            "2/2 [==============================] - 0s 7ms/step - loss: 10.9525 - mae: 10.9525\n"
          ]
        },
        {
          "output_type": "execute_result",
          "data": {
            "text/plain": [
              "<keras.src.callbacks.History at 0x798c0939d8a0>"
            ]
          },
          "metadata": {},
          "execution_count": 40
        }
      ]
    },
    {
      "cell_type": "code",
      "source": [
        "y_preds_3 = model_3.predict(X_test)\n",
        "plot_predictions(predictions=y_preds_3)"
      ],
      "metadata": {
        "colab": {
          "base_uri": "https://localhost:8080/",
          "height": 485
        },
        "id": "3GSvQzqX5Xnj",
        "outputId": "dc7e3705-ef89-4cd2-d832-93b12cfe8756"
      },
      "execution_count": null,
      "outputs": [
        {
          "output_type": "stream",
          "name": "stdout",
          "text": [
            "1/1 [==============================] - 0s 60ms/step\n"
          ]
        },
        {
          "output_type": "display_data",
          "data": {
            "text/plain": [
              "<Figure size 1000x700 with 1 Axes>"
            ],
            "image/png": "[encoded data removed]"
          },
          "metadata": {}
        }
      ]
    },
    {
      "cell_type": "code",
      "source": [
        "mae_3 = mae(y_test, y_preds_3)\n",
        "mse_3 = mse(y_test, y_preds_3)\n",
        "mae_3, mse_3"
      ],
      "metadata": {
        "colab": {
          "base_uri": "https://localhost:8080/"
        },
        "id": "rFu6YfeX5vJ9",
        "outputId": "67026bf8-a0c1-4e78-e94b-5cc9d0847d42"
      },
      "execution_count": null,
      "outputs": [
        {
          "output_type": "execute_result",
          "data": {
            "text/plain": [
              "(<tf.Tensor: shape=(), dtype=float32, numpy=11.442938>,\n",
              " <tf.Tensor: shape=(), dtype=float32, numpy=132.17087>)"
            ]
          },
          "metadata": {},
          "execution_count": 42
        }
      ]
    },
    {
      "cell_type": "code",
      "source": [
        "# Comparing the models using pandas df\n",
        "\n",
        "import pandas as pd\n",
        "\n",
        "model_results = [['model_1', mae_1.numpy(), mse_1.numpy()],\n",
        "                 ['model_2', mae_2.numpy(), mse_2.numpy()],\n",
        "                 ['model_3', mae_3.numpy(), mse_3.numpy()]]\n",
        "\n",
        "all_results = pd.DataFrame(model_results, columns=['model', 'mae', 'mse'])\n",
        "all_results"
      ],
      "metadata": {
        "colab": {
          "base_uri": "https://localhost:8080/",
          "height": 143
        },
        "id": "OKmk-tA658zh",
        "outputId": "6717b988-b40f-4dad-ca37-4ea7493e2d7c"
      },
      "execution_count": null,
      "outputs": [
        {
          "output_type": "execute_result",
          "data": {
            "text/plain": [
              "     model        mae          mse\n",
              "0  model_1  48.547432  2391.316895\n",
              "1  model_2  39.533798  1612.095215\n",
              "2  model_3  11.442938   132.170868"
            ],
            "text/html": [
              "\n",
              "  <div id=\"df-7f56b03b-1cbe-4f3d-b696-f3f0a4bf4521\" class=\"colab-df-container\">\n",
              "    <div>\n",
              "<style scoped>\n",
              "    .dataframe tbody tr th:only-of-type {\n",
              "        vertical-align: middle;\n",
              "    }\n",
              "\n",
              "    .dataframe tbody tr th {\n",
              "        vertical-align: top;\n",
              "    }\n",
              "\n",
              "    .dataframe thead th {\n",
              "        text-align: right;\n",
              "    }\n",
              "</style>\n",
              "<table border=\"1\" class=\"dataframe\">\n",
              "  <thead>\n",
              "    <tr style=\"text-align: right;\">\n",
              "      <th></th>\n",
              "      <th>model</th>\n",
              "      <th>mae</th>\n",
              "      <th>mse</th>\n",
              "    </tr>\n",
              "  </thead>\n",
              "  <tbody>\n",
              "    <tr>\n",
              "      <th>0</th>\n",
              "      <td>model_1</td>\n",
              "      <td>48.547432</td>\n",
              "      <td>2391.316895</td>\n",
              "    </tr>\n",
              "    <tr>\n",
              "      <th>1</th>\n",
              "      <td>model_2</td>\n",
              "      <td>39.533798</td>\n",
              "      <td>1612.095215</td>\n",
              "    </tr>\n",
              "    <tr>\n",
              "      <th>2</th>\n",
              "      <td>model_3</td>\n",
              "      <td>11.442938</td>\n",
              "      <td>132.170868</td>\n",
              "    </tr>\n",
              "  </tbody>\n",
              "</table>\n",
              "</div>\n",
              "    <div class=\"colab-df-buttons\">\n",
              "\n",
              "  <div class=\"colab-df-container\">\n",
              "    <button class=\"colab-df-convert\" onclick=\"convertToInteractive('df-7f56b03b-1cbe-4f3d-b696-f3f0a4bf4521')\"\n",
              "            title=\"Convert this dataframe to an interactive table.\"\n",
              "            style=\"display:none;\">\n",
              "\n",
              "  <svg xmlns=\"http://www.w3.org/2000/svg\" height=\"24px\" viewBox=\"0 -960 960 960\">\n",
              "    <path d=\"M120-120v-720h720v720H120Zm60-500h600v-160H180v160Zm220 220h160v-160H400v160Zm0 220h160v-160H400v160ZM180-400h160v-160H180v160Zm440 0h160v-160H620v160ZM180-180h160v-160H180v160Zm440 0h160v-160H620v160Z\"/>\n",
              "  </svg>\n",
              "    </button>\n",
              "\n",
              "  <style>\n",
              "    .colab-df-container {\n",
              "      display:flex;\n",
              "      gap: 12px;\n",
              "    }\n",
              "\n",
              "    .colab-df-convert {\n",
              "      background-color: #E8F0FE;\n",
              "      border: none;\n",
              "      border-radius: 50%;\n",
              "      cursor: pointer;\n",
              "      display: none;\n",
              "      fill: #1967D2;\n",
              "      height: 32px;\n",
              "      padding: 0 0 0 0;\n",
              "      width: 32px;\n",
              "    }\n",
              "\n",
              "    .colab-df-convert:hover {\n",
              "      background-color: #E2EBFA;\n",
              "      box-shadow: 0px 1px 2px rgba(60, 64, 67, 0.3), 0px 1px 3px 1px rgba(60, 64, 67, 0.15);\n",
              "      fill: #174EA6;\n",
              "    }\n",
              "\n",
              "    .colab-df-buttons div {\n",
              "      margin-bottom: 4px;\n",
              "    }\n",
              "\n",
              "    [theme=dark] .colab-df-convert {\n",
              "      background-color: #3B4455;\n",
              "      fill: #D2E3FC;\n",
              "    }\n",
              "\n",
              "    [theme=dark] .colab-df-convert:hover {\n",
              "      background-color: #434B5C;\n",
              "      box-shadow: 0px 1px 3px 1px rgba(0, 0, 0, 0.15);\n",
              "      filter: drop-shadow(0px 1px 2px rgba(0, 0, 0, 0.3));\n",
              "      fill: #FFFFFF;\n",
              "    }\n",
              "  </style>\n",
              "\n",
              "    <script>\n",
              "      const buttonEl =\n",
              "        document.querySelector('#df-7f56b03b-1cbe-4f3d-b696-f3f0a4bf4521 button.colab-df-convert');\n",
              "      buttonEl.style.display =\n",
              "        google.colab.kernel.accessAllowed ? 'block' : 'none';\n",
              "\n",
              "      async function convertToInteractive(key) {\n",
              "        const element = document.querySelector('#df-7f56b03b-1cbe-4f3d-b696-f3f0a4bf4521');\n",
              "        const dataTable =\n",
              "          await google.colab.kernel.invokeFunction('convertToInteractive',\n",
              "                                                    [key], {});\n",
              "        if (!dataTable) return;\n",
              "\n",
              "        const docLinkHtml = 'Like what you see? Visit the ' +\n",
              "          '<a target=\"_blank\" href=https://colab.research.google.com/notebooks/data_table.ipynb>data table notebook</a>'\n",
              "          + ' to learn more about interactive tables.';\n",
              "        element.innerHTML = '';\n",
              "        dataTable['output_type'] = 'display_data';\n",
              "        await google.colab.output.renderOutput(dataTable, element);\n",
              "        const docLink = document.createElement('div');\n",
              "        docLink.innerHTML = docLinkHtml;\n",
              "        element.appendChild(docLink);\n",
              "      }\n",
              "    </script>\n",
              "  </div>\n",
              "\n",
              "\n",
              "<div id=\"df-02b41a95-d017-46e5-aaa6-185fba584e0a\">\n",
              "  <button class=\"colab-df-quickchart\" onclick=\"quickchart('df-02b41a95-d017-46e5-aaa6-185fba584e0a')\"\n",
              "            title=\"Suggest charts\"\n",
              "            style=\"display:none;\">\n",
              "\n",
              "<svg xmlns=\"http://www.w3.org/2000/svg\" height=\"24px\"viewBox=\"0 0 24 24\"\n",
              "     width=\"24px\">\n",
              "    <g>\n",
              "        <path d=\"M19 3H5c-1.1 0-2 .9-2 2v14c0 1.1.9 2 2 2h14c1.1 0 2-.9 2-2V5c0-1.1-.9-2-2-2zM9 17H7v-7h2v7zm4 0h-2V7h2v10zm4 0h-2v-4h2v4z\"/>\n",
              "    </g>\n",
              "</svg>\n",
              "  </button>\n",
              "\n",
              "<style>\n",
              "  .colab-df-quickchart {\n",
              "      --bg-color: #E8F0FE;\n",
              "      --fill-color: #1967D2;\n",
              "      --hover-bg-color: #E2EBFA;\n",
              "      --hover-fill-color: #174EA6;\n",
              "      --disabled-fill-color: #AAA;\n",
              "      --disabled-bg-color: #DDD;\n",
              "  }\n",
              "\n",
              "  [theme=dark] .colab-df-quickchart {\n",
              "      --bg-color: #3B4455;\n",
              "      --fill-color: #D2E3FC;\n",
              "      --hover-bg-color: #434B5C;\n",
              "      --hover-fill-color: #FFFFFF;\n",
              "      --disabled-bg-color: #3B4455;\n",
              "      --disabled-fill-color: #666;\n",
              "  }\n",
              "\n",
              "  .colab-df-quickchart {\n",
              "    background-color: var(--bg-color);\n",
              "    border: none;\n",
              "    border-radius: 50%;\n",
              "    cursor: pointer;\n",
              "    display: none;\n",
              "    fill: var(--fill-color);\n",
              "    height: 32px;\n",
              "    padding: 0;\n",
              "    width: 32px;\n",
              "  }\n",
              "\n",
              "  .colab-df-quickchart:hover {\n",
              "    background-color: var(--hover-bg-color);\n",
              "    box-shadow: 0 1px 2px rgba(60, 64, 67, 0.3), 0 1px 3px 1px rgba(60, 64, 67, 0.15);\n",
              "    fill: var(--button-hover-fill-color);\n",
              "  }\n",
              "\n",
              "  .colab-df-quickchart-complete:disabled,\n",
              "  .colab-df-quickchart-complete:disabled:hover {\n",
              "    background-color: var(--disabled-bg-color);\n",
              "    fill: var(--disabled-fill-color);\n",
              "    box-shadow: none;\n",
              "  }\n",
              "\n",
              "  .colab-df-spinner {\n",
              "    border: 2px solid var(--fill-color);\n",
              "    border-color: transparent;\n",
              "    border-bottom-color: var(--fill-color);\n",
              "    animation:\n",
              "      spin 1s steps(1) infinite;\n",
              "  }\n",
              "\n",
              "  @keyframes spin {\n",
              "    0% {\n",
              "      border-color: transparent;\n",
              "      border-bottom-color: var(--fill-color);\n",
              "      border-left-color: var(--fill-color);\n",
              "    }\n",
              "    20% {\n",
              "      border-color: transparent;\n",
              "      border-left-color: var(--fill-color);\n",
              "      border-top-color: var(--fill-color);\n",
              "    }\n",
              "    30% {\n",
              "      border-color: transparent;\n",
              "      border-left-color: var(--fill-color);\n",
              "      border-top-color: var(--fill-color);\n",
              "      border-right-color: var(--fill-color);\n",
              "    }\n",
              "    40% {\n",
              "      border-color: transparent;\n",
              "      border-right-color: var(--fill-color);\n",
              "      border-top-color: var(--fill-color);\n",
              "    }\n",
              "    60% {\n",
              "      border-color: transparent;\n",
              "      border-right-color: var(--fill-color);\n",
              "    }\n",
              "    80% {\n",
              "      border-color: transparent;\n",
              "      border-right-color: var(--fill-color);\n",
              "      border-bottom-color: var(--fill-color);\n",
              "    }\n",
              "    90% {\n",
              "      border-color: transparent;\n",
              "      border-bottom-color: var(--fill-color);\n",
              "    }\n",
              "  }\n",
              "</style>\n",
              "\n",
              "  <script>\n",
              "    async function quickchart(key) {\n",
              "      const quickchartButtonEl =\n",
              "        document.querySelector('#' + key + ' button');\n",
              "      quickchartButtonEl.disabled = true;  // To prevent multiple clicks.\n",
              "      quickchartButtonEl.classList.add('colab-df-spinner');\n",
              "      try {\n",
              "        const charts = await google.colab.kernel.invokeFunction(\n",
              "            'suggestCharts', [key], {});\n",
              "      } catch (error) {\n",
              "        console.error('Error during call to suggestCharts:', error);\n",
              "      }\n",
              "      quickchartButtonEl.classList.remove('colab-df-spinner');\n",
              "      quickchartButtonEl.classList.add('colab-df-quickchart-complete');\n",
              "    }\n",
              "    (() => {\n",
              "      let quickchartButtonEl =\n",
              "        document.querySelector('#df-02b41a95-d017-46e5-aaa6-185fba584e0a button');\n",
              "      quickchartButtonEl.style.display =\n",
              "        google.colab.kernel.accessAllowed ? 'block' : 'none';\n",
              "    })();\n",
              "  </script>\n",
              "</div>\n",
              "\n",
              "  <div id=\"id_82d0cfb4-620e-4093-9ae3-25c9f5611c47\">\n",
              "    <style>\n",
              "      .colab-df-generate {\n",
              "        background-color: #E8F0FE;\n",
              "        border: none;\n",
              "        border-radius: 50%;\n",
              "        cursor: pointer;\n",
              "        display: none;\n",
              "        fill: #1967D2;\n",
              "        height: 32px;\n",
              "        padding: 0 0 0 0;\n",
              "        width: 32px;\n",
              "      }\n",
              "\n",
              "      .colab-df-generate:hover {\n",
              "        background-color: #E2EBFA;\n",
              "        box-shadow: 0px 1px 2px rgba(60, 64, 67, 0.3), 0px 1px 3px 1px rgba(60, 64, 67, 0.15);\n",
              "        fill: #174EA6;\n",
              "      }\n",
              "\n",
              "      [theme=dark] .colab-df-generate {\n",
              "        background-color: #3B4455;\n",
              "        fill: #D2E3FC;\n",
              "      }\n",
              "\n",
              "      [theme=dark] .colab-df-generate:hover {\n",
              "        background-color: #434B5C;\n",
              "        box-shadow: 0px 1px 3px 1px rgba(0, 0, 0, 0.15);\n",
              "        filter: drop-shadow(0px 1px 2px rgba(0, 0, 0, 0.3));\n",
              "        fill: #FFFFFF;\n",
              "      }\n",
              "    </style>\n",
              "    <button class=\"colab-df-generate\" onclick=\"generateWithVariable('all_results')\"\n",
              "            title=\"Generate code using this dataframe.\"\n",
              "            style=\"display:none;\">\n",
              "\n",
              "  <svg xmlns=\"http://www.w3.org/2000/svg\" height=\"24px\"viewBox=\"0 0 24 24\"\n",
              "       width=\"24px\">\n",
              "    <path d=\"M7,19H8.4L18.45,9,17,7.55,7,17.6ZM5,21V16.75L18.45,3.32a2,2,0,0,1,2.83,0l1.4,1.43a1.91,1.91,0,0,1,.58,1.4,1.91,1.91,0,0,1-.58,1.4L9.25,21ZM18.45,9,17,7.55Zm-12,3A5.31,5.31,0,0,0,4.9,8.1,5.31,5.31,0,0,0,1,6.5,5.31,5.31,0,0,0,4.9,4.9,5.31,5.31,0,0,0,6.5,1,5.31,5.31,0,0,0,8.1,4.9,5.31,5.31,0,0,0,12,6.5,5.46,5.46,0,0,0,6.5,12Z\"/>\n",
              "  </svg>\n",
              "    </button>\n",
              "    <script>\n",
              "      (() => {\n",
              "      const buttonEl =\n",
              "        document.querySelector('#id_82d0cfb4-620e-4093-9ae3-25c9f5611c47 button.colab-df-generate');\n",
              "      buttonEl.style.display =\n",
              "        google.colab.kernel.accessAllowed ? 'block' : 'none';\n",
              "\n",
              "      buttonEl.onclick = () => {\n",
              "        google.colab.notebook.generateWithVariable('all_results');\n",
              "      }\n",
              "      })();\n",
              "    </script>\n",
              "  </div>\n",
              "\n",
              "    </div>\n",
              "  </div>\n"
            ],
            "application/vnd.google.colaboratory.intrinsic+json": {
              "type": "dataframe",
              "variable_name": "all_results",
              "summary": "{\n  \"name\": \"all_results\",\n  \"rows\": 3,\n  \"fields\": [\n    {\n      \"column\": \"model\",\n      \"properties\": {\n        \"dtype\": \"string\",\n        \"num_unique_values\": 3,\n        \"samples\": [\n          \"model_1\",\n          \"model_2\",\n          \"model_3\"\n        ],\n        \"semantic_type\": \"\",\n        \"description\": \"\"\n      }\n    },\n    {\n      \"column\": \"mae\",\n      \"properties\": {\n        \"dtype\": \"float32\",\n        \"num_unique_values\": 3,\n        \"samples\": [\n          48.54743194580078,\n          39.53379821777344,\n          11.442937850952148\n        ],\n        \"semantic_type\": \"\",\n        \"description\": \"\"\n      }\n    },\n    {\n      \"column\": \"mse\",\n      \"properties\": {\n        \"dtype\": \"float32\",\n        \"num_unique_values\": 3,\n        \"samples\": [\n          2391.31689453125,\n          1612.09521484375,\n          132.17086791992188\n        ],\n        \"semantic_type\": \"\",\n        \"description\": \"\"\n      }\n    }\n  ]\n}"
            }
          },
          "metadata": {},
          "execution_count": 43
        }
      ]
    },
    {
      "cell_type": "code",
      "source": [
        "model_3.summary()"
      ],
      "metadata": {
        "colab": {
          "base_uri": "https://localhost:8080/"
        },
        "id": "qlDs9yTs7eA1",
        "outputId": "7f66a1d5-a392-4719-86fa-7489630ae9d1"
      },
      "execution_count": null,
      "outputs": [
        {
          "output_type": "stream",
          "name": "stdout",
          "text": [
            "Model: \"sequential_5\"\n",
            "_________________________________________________________________\n",
            " Layer (type)                Output Shape              Param #   \n",
            "=================================================================\n",
            " dense_7 (Dense)             (None, 100)               200       \n",
            "                                                                 \n",
            " dense_8 (Dense)             (None, 1)                 101       \n",
            "                                                                 \n",
            "=================================================================\n",
            "Total params: 301 (1.18 KB)\n",
            "Trainable params: 301 (1.18 KB)\n",
            "Non-trainable params: 0 (0.00 Byte)\n",
            "_________________________________________________________________\n"
          ]
        }
      ]
    },
    {
      "cell_type": "code",
      "source": [
        "# TensorBoard can be useful for model tracking\n",
        "\n",
        "model.summary()"
      ],
      "metadata": {
        "colab": {
          "base_uri": "https://localhost:8080/"
        },
        "id": "B_JDhlhX7kdh",
        "outputId": "99d5d64a-e1c0-4d82-c016-912fe885cd4f"
      },
      "execution_count": null,
      "outputs": [
        {
          "output_type": "stream",
          "name": "stdout",
          "text": [
            "Model: \"model_1\"\n",
            "_________________________________________________________________\n",
            " Layer (type)                Output Shape              Param #   \n",
            "=================================================================\n",
            " input_layer (Dense)         (None, 10)                20        \n",
            "                                                                 \n",
            " output_layer (Dense)        (None, 1)                 11        \n",
            "                                                                 \n",
            "=================================================================\n",
            "Total params: 31 (124.00 Byte)\n",
            "Trainable params: 31 (124.00 Byte)\n",
            "Non-trainable params: 0 (0.00 Byte)\n",
            "_________________________________________________________________\n"
          ]
        }
      ]
    },
    {
      "cell_type": "code",
      "source": [
        "# Saving a model\n",
        "# 2 formats: 1. SavedModel, 2. HDF5 format\n",
        "\n",
        "model.save('best_model_SavedModel_format')"
      ],
      "metadata": {
        "id": "1JiHXj4G9H3L"
      },
      "execution_count": null,
      "outputs": []
    },
    {
      "cell_type": "code",
      "source": [
        "model.save('best_model_HDF5_format.h5')"
      ],
      "metadata": {
        "colab": {
          "base_uri": "https://localhost:8080/"
        },
        "id": "Hg3O6g43_FU1",
        "outputId": "22447d40-f116-4b20-e296-87230d8b14d2"
      },
      "execution_count": null,
      "outputs": [
        {
          "output_type": "stream",
          "name": "stderr",
          "text": [
            "/usr/local/lib/python3.10/dist-packages/keras/src/engine/training.py:3103: UserWarning: You are saving your model as an HDF5 file via `model.save()`. This file format is considered legacy. We recommend using instead the native Keras format, e.g. `model.save('my_model.keras')`.\n",
            "  saving_api.save_model(\n"
          ]
        }
      ]
    },
    {
      "cell_type": "code",
      "source": [
        "# Loading a saved model\n",
        "loaded_model_1 = tf.keras.models.load_model('/content/best_model_SavedModel_format')\n",
        "loaded_model_1.summary()"
      ],
      "metadata": {
        "colab": {
          "base_uri": "https://localhost:8080/"
        },
        "id": "Oqfn0aiV_s_J",
        "outputId": "e6863cd7-6891-4999-ef9c-6acd12614180"
      },
      "execution_count": null,
      "outputs": [
        {
          "output_type": "stream",
          "name": "stdout",
          "text": [
            "Model: \"model_1\"\n",
            "_________________________________________________________________\n",
            " Layer (type)                Output Shape              Param #   \n",
            "=================================================================\n",
            " input_layer (Dense)         (None, 10)                20        \n",
            "                                                                 \n",
            " output_layer (Dense)        (None, 1)                 11        \n",
            "                                                                 \n",
            "=================================================================\n",
            "Total params: 31 (124.00 Byte)\n",
            "Trainable params: 31 (124.00 Byte)\n",
            "Non-trainable params: 0 (0.00 Byte)\n",
            "_________________________________________________________________\n"
          ]
        }
      ]
    },
    {
      "cell_type": "code",
      "source": [
        "model_preds = model.predict(X_test)\n",
        "loaded_model_1_preds = loaded_model_1.predict(X_test)"
      ],
      "metadata": {
        "colab": {
          "base_uri": "https://localhost:8080/"
        },
        "id": "I1SMG-DfBV7x",
        "outputId": "0feea056-0e54-45aa-ca4e-d211ec655544"
      },
      "execution_count": null,
      "outputs": [
        {
          "output_type": "stream",
          "name": "stdout",
          "text": [
            "1/1 [==============================] - 0s 54ms/step\n",
            "1/1 [==============================] - 0s 92ms/step\n"
          ]
        }
      ]
    },
    {
      "cell_type": "code",
      "source": [
        "model_preds == loaded_model_1_preds"
      ],
      "metadata": {
        "colab": {
          "base_uri": "https://localhost:8080/"
        },
        "id": "DI-fty0IxQZB",
        "outputId": "3721bba4-4a78-4a65-af8b-34c286a40b9e"
      },
      "execution_count": null,
      "outputs": [
        {
          "output_type": "execute_result",
          "data": {
            "text/plain": [
              "array([[ True],\n",
              "       [ True],\n",
              "       [ True],\n",
              "       [ True],\n",
              "       [ True],\n",
              "       [ True],\n",
              "       [ True],\n",
              "       [ True],\n",
              "       [ True],\n",
              "       [ True]])"
            ]
          },
          "metadata": {},
          "execution_count": 50
        }
      ]
    },
    {
      "cell_type": "code",
      "source": [
        "# Download from google colab\n",
        "\n",
        "# from google.colab import files\n",
        "# files.download('/content/best_model_HDF5_format.h5')\n",
        "\n"
      ],
      "metadata": {
        "id": "L7Yo41hTxVDx"
      },
      "execution_count": null,
      "outputs": []
    },
    {
      "cell_type": "code",
      "source": [],
      "metadata": {
        "id": "BYHxTkG-yZyu"
      },
      "execution_count": null,
      "outputs": []
    }
  ]
}